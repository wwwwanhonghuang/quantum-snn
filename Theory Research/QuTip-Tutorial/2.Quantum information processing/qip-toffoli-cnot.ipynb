{
 "cells": [
  {
   "cell_type": "markdown",
   "id": "9809eff7",
   "metadata": {},
   "source": [
    "# Decomposition of the Toffoli gate in terms of CNOT and single-qubit rotations"
   ]
  },
  {
   "cell_type": "markdown",
   "id": "3cccdbd1",
   "metadata": {},
   "source": [
    "Copyright (C) 2011 and later, Paul D. Nation & Robert J. Johansson"
   ]
  },
  {
   "cell_type": "markdown",
   "id": "e69d72ca",
   "metadata": {},
   "source": [
    "This notebooks demonstrates how a toffoli gate can be rewritten in terms of CNOT gates and single qubit gates, and verifies the equivalence of the two gate sequences by comparing their matrix representations. For more information about the toffoli decomposition, see Nielsen & Chuang, Sec. 4.3, p178.\n",
    "\n",
    "\n",
    "**Note: The circuit image visualizations require [ImageMagick](https://imagemagick.org/index.php) for display.**\n",
    "\n",
    "ImageMagick can be easily installed with the command `conda install imagemagick` if you have conda installed.\n",
    "Otherwise, please follow the installation instructions on the ImageMagick documentation."
   ]
  },
  {
   "cell_type": "code",
   "execution_count": 1,
   "id": "0ae2b87f",
   "metadata": {
    "execution": {
     "iopub.execute_input": "2024-06-12T07:38:29.791884Z",
     "iopub.status.busy": "2024-06-12T07:38:29.791397Z",
     "iopub.status.idle": "2024-06-12T07:38:30.554783Z",
     "shell.execute_reply": "2024-06-12T07:38:30.554171Z"
    }
   },
   "outputs": [],
   "source": [
    "from qutip import about\n",
    "from qutip_qip.operations import gate_sequence_product\n",
    "from qutip_qip.circuit import QubitCircuit"
   ]
  },
  {
   "cell_type": "code",
   "execution_count": 2,
   "id": "557b5c30",
   "metadata": {
    "execution": {
     "iopub.execute_input": "2024-06-12T07:38:30.557316Z",
     "iopub.status.busy": "2024-06-12T07:38:30.557091Z",
     "iopub.status.idle": "2024-06-12T07:38:30.560226Z",
     "shell.execute_reply": "2024-06-12T07:38:30.559723Z"
    }
   },
   "outputs": [],
   "source": [
    "q = QubitCircuit(3, reverse_states=False)\n",
    "q.add_gate(\"TOFFOLI\", controls=[0, 2], targets=[1])"
   ]
  },
  {
   "cell_type": "code",
   "execution_count": 3,
   "id": "f96908d4",
   "metadata": {
    "execution": {
     "iopub.execute_input": "2024-06-12T07:38:30.561923Z",
     "iopub.status.busy": "2024-06-12T07:38:30.561758Z",
     "iopub.status.idle": "2024-06-12T07:38:30.727983Z",
     "shell.execute_reply": "2024-06-12T07:38:30.727405Z"
    }
   },
   "outputs": [
    {
     "name": "stderr",
     "output_type": "stream",
     "text": [
      "/usr/share/miniconda3/envs/test-environment/lib/python3.10/site-packages/qutip_qip/circuit/circuit_latex.py:95: UserWarning: Could not locate system 'pdfcrop': image output may have additional margins.\n",
      "  warnings.warn(\n"
     ]
    },
    {
     "data": {
      "image/png": "[encoded data removed]",
      "text/plain": [
       "<IPython.core.display.Image object>"
      ]
     },
     "execution_count": 3,
     "metadata": {},
     "output_type": "execute_result"
    }
   ],
   "source": [
    "q.png"
   ]
  },
  {
   "cell_type": "code",
   "execution_count": 4,
   "id": "f2a91132",
   "metadata": {
    "execution": {
     "iopub.execute_input": "2024-06-12T07:38:30.729958Z",
     "iopub.status.busy": "2024-06-12T07:38:30.729772Z",
     "iopub.status.idle": "2024-06-12T07:38:30.734908Z",
     "shell.execute_reply": "2024-06-12T07:38:30.734379Z"
    }
   },
   "outputs": [
    {
     "data": {
      "text/latex": [
       "Quantum object: dims=[[2, 2, 2], [2, 2, 2]], shape=(8, 8), type='oper', dtype=CSR, isherm=True$$\\left(\\begin{array}{cc}1 & 0 & 0 & 0 & 0 & 0 & 0 & 0\\\\0 & 1 & 0 & 0 & 0 & 0 & 0 & 0\\\\0 & 0 & 1 & 0 & 0 & 0 & 0 & 0\\\\0 & 0 & 0 & 1 & 0 & 0 & 0 & 0\\\\0 & 0 & 0 & 0 & 1 & 0 & 0 & 0\\\\0 & 0 & 0 & 0 & 0 & 0 & 0 & 1\\\\0 & 0 & 0 & 0 & 0 & 0 & 1 & 0\\\\0 & 0 & 0 & 0 & 0 & 1 & 0 & 0\\end{array}\\right)$$"
      ],
      "text/plain": [
       "Quantum object: dims=[[2, 2, 2], [2, 2, 2]], shape=(8, 8), type='oper', dtype=CSR, isherm=True\n",
       "Qobj data =\n",
       "[[1. 0. 0. 0. 0. 0. 0. 0.]\n",
       " [0. 1. 0. 0. 0. 0. 0. 0.]\n",
       " [0. 0. 1. 0. 0. 0. 0. 0.]\n",
       " [0. 0. 0. 1. 0. 0. 0. 0.]\n",
       " [0. 0. 0. 0. 1. 0. 0. 0.]\n",
       " [0. 0. 0. 0. 0. 0. 0. 1.]\n",
       " [0. 0. 0. 0. 0. 0. 1. 0.]\n",
       " [0. 0. 0. 0. 0. 1. 0. 0.]]"
      ]
     },
     "execution_count": 4,
     "metadata": {},
     "output_type": "execute_result"
    }
   ],
   "source": [
    "U = gate_sequence_product(q.propagators())\n",
    "\n",
    "U.tidyup()"
   ]
  },
  {
   "cell_type": "code",
   "execution_count": 5,
   "id": "a66fdb6b",
   "metadata": {
    "execution": {
     "iopub.execute_input": "2024-06-12T07:38:30.736975Z",
     "iopub.status.busy": "2024-06-12T07:38:30.736621Z",
     "iopub.status.idle": "2024-06-12T07:38:30.739592Z",
     "shell.execute_reply": "2024-06-12T07:38:30.739140Z"
    }
   },
   "outputs": [],
   "source": [
    "q2 = q.resolve_gates()"
   ]
  },
  {
   "cell_type": "code",
   "execution_count": 6,
   "id": "ca6c0da4",
   "metadata": {
    "execution": {
     "iopub.execute_input": "2024-06-12T07:38:30.741616Z",
     "iopub.status.busy": "2024-06-12T07:38:30.741276Z",
     "iopub.status.idle": "2024-06-12T07:38:31.082422Z",
     "shell.execute_reply": "2024-06-12T07:38:31.081819Z"
    }
   },
   "outputs": [
    {
     "name": "stderr",
     "output_type": "stream",
     "text": [
      "/usr/share/miniconda3/envs/test-environment/lib/python3.10/site-packages/qutip_qip/circuit/circuit_latex.py:95: UserWarning: Could not locate system 'pdfcrop': image output may have additional margins.\n",
      "  warnings.warn(\n"
     ]
    },
    {
     "data": {
      "image/png": "[encoded data removed]",
      "text/plain": [
       "<IPython.core.display.Image object>"
      ]
     },
     "execution_count": 6,
     "metadata": {},
     "output_type": "execute_result"
    }
   ],
   "source": [
    "q2.png"
   ]
  },
  {
   "cell_type": "code",
   "execution_count": 7,
   "id": "b1ccee18",
   "metadata": {
    "execution": {
     "iopub.execute_input": "2024-06-12T07:38:31.084678Z",
     "iopub.status.busy": "2024-06-12T07:38:31.084313Z",
     "iopub.status.idle": "2024-06-12T07:38:31.093352Z",
     "shell.execute_reply": "2024-06-12T07:38:31.092836Z"
    }
   },
   "outputs": [
    {
     "data": {
      "text/latex": [
       "Quantum object: dims=[[2, 2, 2], [2, 2, 2]], shape=(8, 8), type='oper', dtype=CSR, isherm=True$$\\left(\\begin{array}{cc}1.000 & 0 & 0 & 0 & 0 & 0 & 0 & 0\\\\0 & 1.000 & 0 & 0 & 0 & 0 & 0 & 0\\\\0 & 0 & 1.000 & 0 & 0 & 0 & 0 & 0\\\\0 & 0 & 0 & 1.000 & 0 & 0 & 0 & 0\\\\0 & 0 & 0 & 0 & 1.000 & 0 & 0 & 0\\\\0 & 0 & 0 & 0 & 0 & 0 & 0 & 1.000\\\\0 & 0 & 0 & 0 & 0 & 0 & 1.000 & 0\\\\0 & 0 & 0 & 0 & 0 & 1.000 & 0 & 0\\end{array}\\right)$$"
      ],
      "text/plain": [
       "Quantum object: dims=[[2, 2, 2], [2, 2, 2]], shape=(8, 8), type='oper', dtype=CSR, isherm=True\n",
       "Qobj data =\n",
       "[[1. 0. 0. 0. 0. 0. 0. 0.]\n",
       " [0. 1. 0. 0. 0. 0. 0. 0.]\n",
       " [0. 0. 1. 0. 0. 0. 0. 0.]\n",
       " [0. 0. 0. 1. 0. 0. 0. 0.]\n",
       " [0. 0. 0. 0. 1. 0. 0. 0.]\n",
       " [0. 0. 0. 0. 0. 0. 0. 1.]\n",
       " [0. 0. 0. 0. 0. 0. 1. 0.]\n",
       " [0. 0. 0. 0. 0. 1. 0. 0.]]"
      ]
     },
     "execution_count": 7,
     "metadata": {},
     "output_type": "execute_result"
    }
   ],
   "source": [
    "U2 = gate_sequence_product(q2.propagators())\n",
    "\n",
    "U2.tidyup()"
   ]
  },
  {
   "cell_type": "code",
   "execution_count": 8,
   "id": "a1656199",
   "metadata": {
    "execution": {
     "iopub.execute_input": "2024-06-12T07:38:31.095363Z",
     "iopub.status.busy": "2024-06-12T07:38:31.095052Z",
     "iopub.status.idle": "2024-06-12T07:38:31.098677Z",
     "shell.execute_reply": "2024-06-12T07:38:31.098215Z"
    }
   },
   "outputs": [
    {
     "data": {
      "text/plain": [
       "True"
      ]
     },
     "execution_count": 8,
     "metadata": {},
     "output_type": "execute_result"
    }
   ],
   "source": [
    "U == U2"
   ]
  },
  {
   "cell_type": "markdown",
   "id": "4bc6b705",
   "metadata": {},
   "source": [
    "## Versions"
   ]
  },
  {
   "cell_type": "code",
   "execution_count": 9,
   "id": "c4e22fcc",
   "metadata": {
    "execution": {
     "iopub.execute_input": "2024-06-12T07:38:31.100618Z",
     "iopub.status.busy": "2024-06-12T07:38:31.100282Z",
     "iopub.status.idle": "2024-06-12T07:38:31.103450Z",
     "shell.execute_reply": "2024-06-12T07:38:31.102915Z"
    }
   },
   "outputs": [
    {
     "name": "stdout",
     "output_type": "stream",
     "text": [
      "\n",
      "QuTiP: Quantum Toolbox in Python\n",
      "================================\n",
      "Copyright (c) QuTiP team 2011 and later.\n",
      "Current admin team: Alexander Pitchford, Nathan Shammah, Shahnawaz Ahmed, Neill Lambert, Eric Giguère, Boxi Li, Jake Lishman, Simon Cross, Asier Galicia, Paul Menczel, and Patrick Hopf.\n",
      "Board members: Daniel Burgarth, Robert Johansson, Anton F. Kockum, Franco Nori and Will Zeng.\n",
      "Original developers: R. J. Johansson & P. D. Nation.\n",
      "Previous lead developers: Chris Granade & A. Grimsmo.\n",
      "Currently developed through wide collaboration. See https://github.com/qutip for details.\n",
      "\n",
      "QuTiP Version:      5.1.0.dev0+c874c4a\n",
      "Numpy Version:      1.22.4\n",
      "Scipy Version:      1.13.1\n",
      "Cython Version:     3.0.10\n",
      "Matplotlib Version: 3.5.2\n",
      "Python Version:     3.10.4\n",
      "Number of CPUs:     4\n",
      "BLAS Info:          Generic\n",
      "INTEL MKL Ext:      False\n",
      "Platform Info:      Linux (x86_64)\n",
      "Installation path:  /usr/share/miniconda3/envs/test-environment/lib/python3.10/site-packages/qutip\n",
      "================================================================================\n",
      "Please cite QuTiP in your publication.\n",
      "================================================================================\n",
      "For your convenience a bibtex reference can be easily generated using `qutip.cite()`\n"
     ]
    }
   ],
   "source": [
    "about()"
   ]
  }
 ],
 "metadata": {
  "jupytext": {
   "cell_metadata_filter": "-all",
   "notebook_metadata_filter": "-jupytext.cell_metadata_filter,-jupytext.notebook_metadata_filter"
  },
  "kernelspec": {
   "display_name": "Python 3 (ipykernel)",
   "language": "python",
   "name": "python3"
  },
  "language_info": {
   "codemirror_mode": {
    "name": "ipython",
    "version": 3
   },
   "file_extension": ".py",
   "mimetype": "text/x-python",
   "name": "python",
   "nbconvert_exporter": "python",
   "pygments_lexer": "ipython3",
   "version": "3.10.4"
  }
 },
 "nbformat": 4,
 "nbformat_minor": 5
}
