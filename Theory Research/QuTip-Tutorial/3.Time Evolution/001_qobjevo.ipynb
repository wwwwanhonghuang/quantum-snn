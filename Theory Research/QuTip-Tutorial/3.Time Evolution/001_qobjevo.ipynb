{
 "cells": [
  {
   "cell_type": "markdown",
   "id": "60811476",
   "metadata": {},
   "source": [
    "# <code>QobjEvo</code>: time-dependent quantum objects\n",
    "Made by Eric Giguere, updated by Jake Lishman"
   ]
  },
  {
   "cell_type": "code",
   "execution_count": 1,
   "id": "b3c4ee0e",
   "metadata": {
    "execution": {
     "iopub.execute_input": "2024-06-12T07:12:53.016438Z",
     "iopub.status.busy": "2024-06-12T07:12:53.016274Z",
     "iopub.status.idle": "2024-06-12T07:12:53.768862Z",
     "shell.execute_reply": "2024-06-12T07:12:53.768256Z"
    }
   },
   "outputs": [],
   "source": [
    "# Basic setup\n",
    "import numpy as np\n",
    "import qutip\n",
    "\n",
    "size = 4\n",
    "t = 1.0\n",
    "a = qutip.destroy(size)\n",
    "ad = qutip.create(size)\n",
    "n = qutip.num(size)\n",
    "Id = qutip.qeye(size)"
   ]
  },
  {
   "cell_type": "markdown",
   "id": "2aaffe3c",
   "metadata": {},
   "source": [
    "## Contents\n",
    "\n",
    "- [Motivation](#Motivation)\n",
    "- [Instantiation](#Instantiation)\n",
    "    * [Functional time dependence](#Function-time-dependence)\n",
    "    * [String time dependence](#String-time-dependence)\n",
    "    * [Array dependence](#Array-dependence)\n",
    "- [Evaluation](#Evaluation)\n",
    "- [Compilation](#Compilation)\n",
    "- [Arguments](#Arguments)\n",
    "    * [Function form](#Function-form)\n",
    "    * [String form](#String-form)\n",
    "    * [Using objects](#Using-objects)\n",
    "    * [Dynamic arguments](#Dynamic-arguments)\n",
    "- [Mathematics](#Mathematics)\n",
    "- [Superoperators](#Superoperators)"
   ]
  },
  {
   "cell_type": "markdown",
   "id": "2ba7e233",
   "metadata": {},
   "source": [
    "## Motivation\n",
    "A `Qobj` is a generic quantum object, but it only represents constant objects.  When we need to represent time-dependent objects, the relevant functions take a list of `(Qobj, <time-dependence>)` tuples, where the time dependence is a function, a string or an array.  Inside the function, this is then converted into a new, time-dependent class `QobjEvo`.  We then use this for several compilation and optimisation steps to ensure that the solvers run quickly.\n",
    "\n",
    "You do not _need_ to use `QobjEvo`, but if you are planning to reuse some large operators for a long-running integration, you can instantiate one yourself and manually call the C compilation methods.  This will have a one-off start-up cost of a couple of seconds, but will make all uses of it faster afterwards.  This trade-off is often worthwhile if the integration will take over around 15 minutes, even if you do not reuse the object."
   ]
  },
  {
   "cell_type": "markdown",
   "id": "da7120ee",
   "metadata": {},
   "source": [
    "## Instantiation\n",
    "\n",
    "`QobjEvo` is instantiated with the same time-dependent list that is passed to, say, `mesolve`.  This doesn't even _have_ to be time dependent, but constant ones will not have significant benefits over varying ones.  The three types of scalar time dependence are:\n",
    "  - function\n",
    "  - string\n",
    "  - array\n",
    "\n",
    "This can represent objects of the form\n",
    "$$\n",
    "A(t) = \\sum_k f_k(t) A_k\n",
    "$$\n",
    "where the $f_k(t)$ are time-dependent scalars, and the $A_k$ are constant `Qobj` objects.  The list then looks like\n",
    "```\n",
    "[A0, [A1, f1], [A2, f2], ...]\n",
    "```\n",
    "where all the `Ak` are constant `Qobj`s, and the `fk` are time dependences in one of the available forms.\n",
    "\n",
    "Alternatively, `QobjEvo` can be created by multiplication of `Qobj` with wrapped time dependences:\n",
    "```\n",
    "A0 + A1 * qutip.coefficient(f1, ...) + ...\n",
    "```"
   ]
  },
  {
   "cell_type": "code",
   "execution_count": 2,
   "id": "6a58aab3",
   "metadata": {
    "execution": {
     "iopub.execute_input": "2024-06-12T07:12:53.771357Z",
     "iopub.status.busy": "2024-06-12T07:12:53.771129Z",
     "iopub.status.idle": "2024-06-12T07:12:53.774109Z",
     "shell.execute_reply": "2024-06-12T07:12:53.773584Z"
    }
   },
   "outputs": [],
   "source": [
    "constant_form = qutip.QobjEvo([n])"
   ]
  },
  {
   "cell_type": "markdown",
   "id": "5289132d",
   "metadata": {},
   "source": [
    "### Function time dependence\n",
    "\n",
    "This should be a valid Python function with the signature\n",
    "```python\n",
    "(t: float, ...) -> complex\n",
    "```\n",
    "where `t` is the time. Additional arguments that can be changed without needing a new `QobjEvo` can be added. The return value is the complex value of $f_k$.  We'll look more at extra arguments later."
   ]
  },
  {
   "cell_type": "code",
   "execution_count": 3,
   "id": "528f42ff",
   "metadata": {
    "execution": {
     "iopub.execute_input": "2024-06-12T07:12:53.776181Z",
     "iopub.status.busy": "2024-06-12T07:12:53.775810Z",
     "iopub.status.idle": "2024-06-12T07:12:53.778736Z",
     "shell.execute_reply": "2024-06-12T07:12:53.778303Z"
    }
   },
   "outputs": [],
   "source": [
    "def cos_t(t):\n",
    "    return np.cos(t)\n",
    "\n",
    "\n",
    "function_form = n + (a + ad) * qutip.coefficient(cos_t)"
   ]
  },
  {
   "cell_type": "markdown",
   "id": "063a540d",
   "metadata": {},
   "source": [
    "If you need something more complex, such as a state with memory or to build a parametrised set of functions where the arguments will not change once set, you can use a class which implements `__call__`."
   ]
  },
  {
   "cell_type": "code",
   "execution_count": 4,
   "id": "dd501ad5",
   "metadata": {
    "execution": {
     "iopub.execute_input": "2024-06-12T07:12:53.780539Z",
     "iopub.status.busy": "2024-06-12T07:12:53.780365Z",
     "iopub.status.idle": "2024-06-12T07:12:53.783713Z",
     "shell.execute_reply": "2024-06-12T07:12:53.783262Z"
    }
   },
   "outputs": [],
   "source": [
    "class callable_time_dependence:\n",
    "    def __init__(self, add):\n",
    "        self.add = add\n",
    "\n",
    "    def __call__(self, t, args):\n",
    "        return self.add + np.cos(t)\n",
    "\n",
    "\n",
    "callable_form = qutip.QobjEvo([n, [a + ad, callable_time_dependence(2)]])"
   ]
  },
  {
   "cell_type": "markdown",
   "id": "10352721",
   "metadata": {},
   "source": [
    "### String time dependence\n",
    "\n",
    "This should be a valid single Python expression that evaluates to a `complex`.  Roughly, if you could do `eval(x)` and get a valid `complex`, you will be fine.  In addition to `t` being the time, the following symbols are also defined in scope with their usual definitions:\n",
    "```\n",
    "sin  cos  tan   asin  acos  atan\n",
    "sinh cosh tanh  asinh acosh atanh  \n",
    "exp  log  log10 erf   zerf  sqrt  \n",
    "real imag conj  abs   norm  arg\n",
    "proj pi\n",
    "```\n",
    "In addition, `np` refers to `numpy` and `spe` to `scipy.special`."
   ]
  },
  {
   "cell_type": "code",
   "execution_count": 5,
   "id": "e443d2c7",
   "metadata": {
    "execution": {
     "iopub.execute_input": "2024-06-12T07:12:53.785602Z",
     "iopub.status.busy": "2024-06-12T07:12:53.785430Z",
     "iopub.status.idle": "2024-06-12T07:12:53.788946Z",
     "shell.execute_reply": "2024-06-12T07:12:53.788479Z"
    }
   },
   "outputs": [
    {
     "name": "stderr",
     "output_type": "stream",
     "text": [
      "/usr/share/miniconda3/envs/test-environment/lib/python3.10/site-packages/qutip/core/coefficient.py:400: UserWarning: Both `cython` and `filelock` are required for compilation of string coefficents. Falling back on `eval`.\n",
      "  warnings.warn(\n"
     ]
    }
   ],
   "source": [
    "string_form = qutip.QobjEvo([n, [a + ad, \"cos(t)\"]])"
   ]
  },
  {
   "cell_type": "markdown",
   "id": "41cab486",
   "metadata": {},
   "source": [
    "### Array dependence\n",
    "\n",
    "If the time dependence is particularly costly to compute, you may pass an array containing the value of the functions evaluated at different times, and separately pass the corresponding list of times to the `tlist` keyword argument of the `QobjEvo` constructor.  All times inbetween will be interpolated with cubic splines.\n",
    "\n",
    "The times in `tlist` must be sorted, but they don't need to be evenly distributed.  If you use this for more than one entry, all entries must have the same values for `tlist` (you can only pass one)."
   ]
  },
  {
   "cell_type": "code",
   "execution_count": 6,
   "id": "4122395f",
   "metadata": {
    "execution": {
     "iopub.execute_input": "2024-06-12T07:12:53.790867Z",
     "iopub.status.busy": "2024-06-12T07:12:53.790561Z",
     "iopub.status.idle": "2024-06-12T07:12:53.794595Z",
     "shell.execute_reply": "2024-06-12T07:12:53.794071Z"
    }
   },
   "outputs": [],
   "source": [
    "tlist = np.linspace(0, 10, 101)\n",
    "values = np.cos(tlist)\n",
    "\n",
    "array_form = n + (a + ad) * qutip.coefficient(values, tlist=tlist)"
   ]
  },
  {
   "cell_type": "markdown",
   "id": "ec2236dd",
   "metadata": {},
   "source": [
    "## Evaluation\n",
    "\n",
    "No matter what type of time dependence was used, or even if only a constant was created, you can always call your `QobjEvo` instance like a function to get the value at that time.  This will return a `Qobj`."
   ]
  },
  {
   "cell_type": "code",
   "execution_count": 7,
   "id": "37e4aee7",
   "metadata": {
    "execution": {
     "iopub.execute_input": "2024-06-12T07:12:53.796727Z",
     "iopub.status.busy": "2024-06-12T07:12:53.796417Z",
     "iopub.status.idle": "2024-06-12T07:12:53.801928Z",
     "shell.execute_reply": "2024-06-12T07:12:53.801420Z"
    }
   },
   "outputs": [
    {
     "data": {
      "text/latex": [
       "Quantum object: dims=[[4], [4]], shape=(4, 4), type='oper', dtype=Dia, isherm=True$$\\left(\\begin{array}{cc}0 & 0 & 0 & 0\\\\0 & 1 & 0 & 0\\\\0 & 0 & 2 & 0\\\\0 & 0 & 0 & 3\\end{array}\\right)$$"
      ],
      "text/plain": [
       "Quantum object: dims=[[4], [4]], shape=(4, 4), type='oper', dtype=Dia, isherm=True\n",
       "Qobj data =\n",
       "[[0. 0. 0. 0.]\n",
       " [0. 1. 0. 0.]\n",
       " [0. 0. 2. 0.]\n",
       " [0. 0. 0. 3.]]"
      ]
     },
     "execution_count": 7,
     "metadata": {},
     "output_type": "execute_result"
    }
   ],
   "source": [
    "constant_form(2)"
   ]
  },
  {
   "cell_type": "code",
   "execution_count": 8,
   "id": "66184d12",
   "metadata": {
    "execution": {
     "iopub.execute_input": "2024-06-12T07:12:53.803886Z",
     "iopub.status.busy": "2024-06-12T07:12:53.803557Z",
     "iopub.status.idle": "2024-06-12T07:12:53.807413Z",
     "shell.execute_reply": "2024-06-12T07:12:53.806954Z"
    }
   },
   "outputs": [
    {
     "data": {
      "text/latex": [
       "Quantum object: dims=[[4], [4]], shape=(4, 4), type='oper', dtype=Dia, isherm=True$$\\left(\\begin{array}{cc}0 & -0.416 & 0 & 0\\\\-0.416 & 1 & -0.589 & 0\\\\0 & -0.589 & 2 & -0.721\\\\0 & 0 & -0.721 & 3\\end{array}\\right)$$"
      ],
      "text/plain": [
       "Quantum object: dims=[[4], [4]], shape=(4, 4), type='oper', dtype=Dia, isherm=True\n",
       "Qobj data =\n",
       "[[ 0.         -0.41614684  0.          0.        ]\n",
       " [-0.41614684  1.         -0.5885205   0.        ]\n",
       " [ 0.         -0.5885205   2.         -0.72078746]\n",
       " [ 0.          0.         -0.72078746  3.        ]]"
      ]
     },
     "execution_count": 8,
     "metadata": {},
     "output_type": "execute_result"
    }
   ],
   "source": [
    "function_form(2)"
   ]
  },
  {
   "cell_type": "code",
   "execution_count": 9,
   "id": "be559b34",
   "metadata": {
    "execution": {
     "iopub.execute_input": "2024-06-12T07:12:53.809433Z",
     "iopub.status.busy": "2024-06-12T07:12:53.809107Z",
     "iopub.status.idle": "2024-06-12T07:12:53.812760Z",
     "shell.execute_reply": "2024-06-12T07:12:53.812234Z"
    }
   },
   "outputs": [
    {
     "data": {
      "text/latex": [
       "Quantum object: dims=[[4], [4]], shape=(4, 4), type='oper', dtype=Dia, isherm=True$$\\left(\\begin{array}{cc}0 & 1.584 & 0 & 0\\\\1.584 & 1 & 2.240 & 0\\\\0 & 2.240 & 2 & 2.743\\\\0 & 0 & 2.743 & 3\\end{array}\\right)$$"
      ],
      "text/plain": [
       "Quantum object: dims=[[4], [4]], shape=(4, 4), type='oper', dtype=Dia, isherm=True\n",
       "Qobj data =\n",
       "[[0.         1.58385316 0.         0.        ]\n",
       " [1.58385316 1.         2.23990662 0.        ]\n",
       " [0.         2.23990662 2.         2.74331415]\n",
       " [0.         0.         2.74331415 3.        ]]"
      ]
     },
     "execution_count": 9,
     "metadata": {},
     "output_type": "execute_result"
    }
   ],
   "source": [
    "callable_form(2)"
   ]
  },
  {
   "cell_type": "code",
   "execution_count": 10,
   "id": "85b50b04",
   "metadata": {
    "execution": {
     "iopub.execute_input": "2024-06-12T07:12:53.814475Z",
     "iopub.status.busy": "2024-06-12T07:12:53.814315Z",
     "iopub.status.idle": "2024-06-12T07:12:53.818316Z",
     "shell.execute_reply": "2024-06-12T07:12:53.817752Z"
    }
   },
   "outputs": [
    {
     "data": {
      "text/latex": [
       "Quantum object: dims=[[4], [4]], shape=(4, 4), type='oper', dtype=Dia, isherm=True$$\\left(\\begin{array}{cc}0 & -0.416 & 0 & 0\\\\-0.416 & 1 & -0.589 & 0\\\\0 & -0.589 & 2 & -0.721\\\\0 & 0 & -0.721 & 3\\end{array}\\right)$$"
      ],
      "text/plain": [
       "Quantum object: dims=[[4], [4]], shape=(4, 4), type='oper', dtype=Dia, isherm=True\n",
       "Qobj data =\n",
       "[[ 0.         -0.41614684  0.          0.        ]\n",
       " [-0.41614684  1.         -0.5885205   0.        ]\n",
       " [ 0.         -0.5885205   2.         -0.72078746]\n",
       " [ 0.          0.         -0.72078746  3.        ]]"
      ]
     },
     "execution_count": 10,
     "metadata": {},
     "output_type": "execute_result"
    }
   ],
   "source": [
    "string_form(2)"
   ]
  },
  {
   "cell_type": "code",
   "execution_count": 11,
   "id": "92fc3b00",
   "metadata": {
    "execution": {
     "iopub.execute_input": "2024-06-12T07:12:53.820372Z",
     "iopub.status.busy": "2024-06-12T07:12:53.819910Z",
     "iopub.status.idle": "2024-06-12T07:12:53.823728Z",
     "shell.execute_reply": "2024-06-12T07:12:53.823288Z"
    },
    "lines_to_next_cell": 2
   },
   "outputs": [
    {
     "data": {
      "text/latex": [
       "Quantum object: dims=[[4], [4]], shape=(4, 4), type='oper', dtype=Dia, isherm=True$$\\left(\\begin{array}{cc}0 & -0.416 & 0 & 0\\\\-0.416 & 1 & -0.589 & 0\\\\0 & -0.589 & 2 & -0.721\\\\0 & 0 & -0.721 & 3\\end{array}\\right)$$"
      ],
      "text/plain": [
       "Quantum object: dims=[[4], [4]], shape=(4, 4), type='oper', dtype=Dia, isherm=True\n",
       "Qobj data =\n",
       "[[ 0.         -0.41614684  0.          0.        ]\n",
       " [-0.41614684  1.         -0.5885205   0.        ]\n",
       " [ 0.         -0.5885205   2.         -0.72078746]\n",
       " [ 0.          0.         -0.72078746  3.        ]]"
      ]
     },
     "execution_count": 11,
     "metadata": {},
     "output_type": "execute_result"
    }
   ],
   "source": [
    "array_form(2)"
   ]
  },
  {
   "cell_type": "code",
   "execution_count": 12,
   "id": "d5a7ab43",
   "metadata": {
    "execution": {
     "iopub.execute_input": "2024-06-12T07:12:53.825484Z",
     "iopub.status.busy": "2024-06-12T07:12:53.825318Z",
     "iopub.status.idle": "2024-06-12T07:12:53.829210Z",
     "shell.execute_reply": "2024-06-12T07:12:53.828750Z"
    }
   },
   "outputs": [
    {
     "data": {
      "text/latex": [
       "Quantum object: dims=[[4], [4]], shape=(4, 4), type='oper', dtype=Dia, isherm=True$$\\left(\\begin{array}{cc}0 & -0.654 & 0 & 0\\\\-0.654 & 1 & -0.924 & 0\\\\0 & -0.924 & 2 & -1.132\\\\0 & 0 & -1.132 & 3\\end{array}\\right)$$"
      ],
      "text/plain": [
       "Quantum object: dims=[[4], [4]], shape=(4, 4), type='oper', dtype=Dia, isherm=True\n",
       "Qobj data =\n",
       "[[ 0.         -0.65364362  0.          0.        ]\n",
       " [-0.65364362  1.         -0.92439167  0.        ]\n",
       " [ 0.         -0.92439167  2.         -1.13214396]\n",
       " [ 0.          0.         -1.13214396  3.        ]]"
      ]
     },
     "execution_count": 12,
     "metadata": {},
     "output_type": "execute_result"
    }
   ],
   "source": [
    "string_form(4)"
   ]
  },
  {
   "cell_type": "markdown",
   "id": "781a2f14",
   "metadata": {},
   "source": [
    "## Arguments\n",
    "\n",
    "Data can be passed to the coefficient functions or strings using an `args` dictionary.  In the functional form, this is passed as an explicit parameter.  In the string form, `args` acts like additional variable definitions for the scope of the function.  In other words, `'x + 2'` will work and return a value if, for example, `args` is `{'x': 1}`.  \n",
    "The keys of `args` should always be strings representing valid Python identifiers (variable names), and they should not begin with an underscore (\\_).\n",
    "\n",
    "Values _can_ be any type, but if Cython compilation is used with string dependence, there will be a large performance penalty for using anything other than valid C numeric types (including `complex`), `numpy` arrays, or any object that Cython cannot call natively.\n",
    "\n",
    "You can pass `args` directly at instantiation, and these will be used in every call, unless you specifically override them using the `args` keyword argument in the call.  The overriding is temporary, and all subsequent calls will use the values given at initialisation."
   ]
  },
  {
   "cell_type": "markdown",
   "id": "111a0e71",
   "metadata": {},
   "source": [
    "### Function form"
   ]
  },
  {
   "cell_type": "code",
   "execution_count": 13,
   "id": "92956e46",
   "metadata": {
    "execution": {
     "iopub.execute_input": "2024-06-12T07:12:53.830915Z",
     "iopub.status.busy": "2024-06-12T07:12:53.830746Z",
     "iopub.status.idle": "2024-06-12T07:12:53.835067Z",
     "shell.execute_reply": "2024-06-12T07:12:53.834522Z"
    }
   },
   "outputs": [
    {
     "data": {
      "text/latex": [
       "Quantum object: dims=[[4], [4]], shape=(4, 4), type='oper', dtype=Dia, isherm=True$$\\left(\\begin{array}{cc}3 & 0 & 0 & 0\\\\0 & 3 & 0 & 0\\\\0 & 0 & 3 & 0\\\\0 & 0 & 0 & 3\\end{array}\\right)$$"
      ],
      "text/plain": [
       "Quantum object: dims=[[4], [4]], shape=(4, 4), type='oper', dtype=Dia, isherm=True\n",
       "Qobj data =\n",
       "[[3. 0. 0. 0.]\n",
       " [0. 3. 0. 0.]\n",
       " [0. 0. 3. 0.]\n",
       " [0. 0. 0. 3.]]"
      ]
     },
     "execution_count": 13,
     "metadata": {},
     "output_type": "execute_result"
    }
   ],
   "source": [
    "def coeff_with_args(t, args):\n",
    "    return t + args[\"delta\"]\n",
    "\n",
    "\n",
    "td_args = Id * qutip.coefficient(coeff_with_args, args={\"delta\": 1.0})\n",
    "td_args(2)"
   ]
  },
  {
   "cell_type": "code",
   "execution_count": 14,
   "id": "aba4d245",
   "metadata": {
    "execution": {
     "iopub.execute_input": "2024-06-12T07:12:53.836901Z",
     "iopub.status.busy": "2024-06-12T07:12:53.836726Z",
     "iopub.status.idle": "2024-06-12T07:12:53.840621Z",
     "shell.execute_reply": "2024-06-12T07:12:53.840167Z"
    }
   },
   "outputs": [
    {
     "data": {
      "text/latex": [
       "Quantum object: dims=[[4], [4]], shape=(4, 4), type='oper', dtype=Dia, isherm=True$$\\left(\\begin{array}{cc}12 & 0 & 0 & 0\\\\0 & 12 & 0 & 0\\\\0 & 0 & 12 & 0\\\\0 & 0 & 0 & 12\\end{array}\\right)$$"
      ],
      "text/plain": [
       "Quantum object: dims=[[4], [4]], shape=(4, 4), type='oper', dtype=Dia, isherm=True\n",
       "Qobj data =\n",
       "[[12.  0.  0.  0.]\n",
       " [ 0. 12.  0.  0.]\n",
       " [ 0.  0. 12.  0.]\n",
       " [ 0.  0.  0. 12.]]"
      ]
     },
     "execution_count": 14,
     "metadata": {},
     "output_type": "execute_result"
    }
   ],
   "source": [
    "# Temporarily overriding the arguments.\n",
    "td_args(2, delta=10)"
   ]
  },
  {
   "cell_type": "code",
   "execution_count": 15,
   "id": "2f09057a",
   "metadata": {
    "execution": {
     "iopub.execute_input": "2024-06-12T07:12:53.842355Z",
     "iopub.status.busy": "2024-06-12T07:12:53.842198Z",
     "iopub.status.idle": "2024-06-12T07:12:53.845852Z",
     "shell.execute_reply": "2024-06-12T07:12:53.845340Z"
    }
   },
   "outputs": [
    {
     "data": {
      "text/latex": [
       "Quantum object: dims=[[4], [4]], shape=(4, 4), type='oper', dtype=Dia, isherm=True$$\\left(\\begin{array}{cc}3 & 0 & 0 & 0\\\\0 & 3 & 0 & 0\\\\0 & 0 & 3 & 0\\\\0 & 0 & 0 & 3\\end{array}\\right)$$"
      ],
      "text/plain": [
       "Quantum object: dims=[[4], [4]], shape=(4, 4), type='oper', dtype=Dia, isherm=True\n",
       "Qobj data =\n",
       "[[3. 0. 0. 0.]\n",
       " [0. 3. 0. 0.]\n",
       " [0. 0. 3. 0.]\n",
       " [0. 0. 0. 3.]]"
      ]
     },
     "execution_count": 15,
     "metadata": {},
     "output_type": "execute_result"
    }
   ],
   "source": [
    "# A subsequent regular call will still use the args given at initialisation.\n",
    "td_args(2)"
   ]
  },
  {
   "cell_type": "markdown",
   "id": "d29949ee",
   "metadata": {},
   "source": [
    "### String form"
   ]
  },
  {
   "cell_type": "code",
   "execution_count": 16,
   "id": "63a0d913",
   "metadata": {
    "execution": {
     "iopub.execute_input": "2024-06-12T07:12:53.847584Z",
     "iopub.status.busy": "2024-06-12T07:12:53.847423Z",
     "iopub.status.idle": "2024-06-12T07:12:53.851554Z",
     "shell.execute_reply": "2024-06-12T07:12:53.851100Z"
    }
   },
   "outputs": [
    {
     "data": {
      "text/latex": [
       "Quantum object: dims=[[4], [4]], shape=(4, 4), type='oper', dtype=Dia, isherm=True$$\\left(\\begin{array}{cc}3 & 0 & 0 & 0\\\\0 & 3 & 0 & 0\\\\0 & 0 & 3 & 0\\\\0 & 0 & 0 & 3\\end{array}\\right)$$"
      ],
      "text/plain": [
       "Quantum object: dims=[[4], [4]], shape=(4, 4), type='oper', dtype=Dia, isherm=True\n",
       "Qobj data =\n",
       "[[3. 0. 0. 0.]\n",
       " [0. 3. 0. 0.]\n",
       " [0. 0. 3. 0.]\n",
       " [0. 0. 0. 3.]]"
      ]
     },
     "execution_count": 16,
     "metadata": {},
     "output_type": "execute_result"
    }
   ],
   "source": [
    "td_args_str = qutip.QobjEvo([Id, \"t + delta\"], args={\"delta\": 1.0})\n",
    "td_args_str(2)"
   ]
  },
  {
   "cell_type": "code",
   "execution_count": 17,
   "id": "001ebb68",
   "metadata": {
    "execution": {
     "iopub.execute_input": "2024-06-12T07:12:53.853288Z",
     "iopub.status.busy": "2024-06-12T07:12:53.853134Z",
     "iopub.status.idle": "2024-06-12T07:12:53.856917Z",
     "shell.execute_reply": "2024-06-12T07:12:53.856393Z"
    }
   },
   "outputs": [
    {
     "data": {
      "text/latex": [
       "Quantum object: dims=[[4], [4]], shape=(4, 4), type='oper', dtype=Dia, isherm=True$$\\left(\\begin{array}{cc}12 & 0 & 0 & 0\\\\0 & 12 & 0 & 0\\\\0 & 0 & 12 & 0\\\\0 & 0 & 0 & 12\\end{array}\\right)$$"
      ],
      "text/plain": [
       "Quantum object: dims=[[4], [4]], shape=(4, 4), type='oper', dtype=Dia, isherm=True\n",
       "Qobj data =\n",
       "[[12.  0.  0.  0.]\n",
       " [ 0. 12.  0.  0.]\n",
       " [ 0.  0. 12.  0.]\n",
       " [ 0.  0.  0. 12.]]"
      ]
     },
     "execution_count": 17,
     "metadata": {},
     "output_type": "execute_result"
    }
   ],
   "source": [
    "td_args_str(2, {\"delta\": 10})"
   ]
  },
  {
   "cell_type": "markdown",
   "id": "d7c75b9c",
   "metadata": {},
   "source": [
    "### Multiple arguments\n",
    "\n",
    "Each term in the `QobjEvo` has its own arguments even if they share the variable name:"
   ]
  },
  {
   "cell_type": "code",
   "execution_count": 18,
   "id": "455b02e7",
   "metadata": {
    "execution": {
     "iopub.execute_input": "2024-06-12T07:12:53.858882Z",
     "iopub.status.busy": "2024-06-12T07:12:53.858468Z",
     "iopub.status.idle": "2024-06-12T07:12:53.863569Z",
     "shell.execute_reply": "2024-06-12T07:12:53.863024Z"
    }
   },
   "outputs": [
    {
     "data": {
      "text/latex": [
       "Quantum object: dims=[[4], [4]], shape=(4, 4), type='oper', dtype=Dia, isherm=True$$\\left(\\begin{array}{cc}0 & 1j & 0 & 0\\\\-1j & 1 & 1.414j & 0\\\\0 & -1.414j & 2 & 1.732j\\\\0 & 0 & -1.732j & 3\\end{array}\\right)$$"
      ],
      "text/plain": [
       "Quantum object: dims=[[4], [4]], shape=(4, 4), type='oper', dtype=Dia, isherm=True\n",
       "Qobj data =\n",
       "[[0.+0.j         0.+1.j         0.+0.j         0.+0.j        ]\n",
       " [0.-1.j         1.+0.j         0.+1.41421356j 0.+0.j        ]\n",
       " [0.+0.j         0.-1.41421356j 2.+0.j         0.+1.73205081j]\n",
       " [0.+0.j         0.+0.j         0.-1.73205081j 3.+0.j        ]]"
      ]
     },
     "execution_count": 18,
     "metadata": {},
     "output_type": "execute_result"
    }
   ],
   "source": [
    "def f(t, w):\n",
    "    return np.exp(1j * np.pi * w * t)\n",
    "\n",
    "\n",
    "qevo = (\n",
    "    n\n",
    "    + a * qutip.coefficient(f, args={\"w\": 0.5})\n",
    "    + a.dag() * qutip.coefficient(f, args={\"w\": -0.5})\n",
    ")\n",
    "qevo(1)"
   ]
  },
  {
   "cell_type": "code",
   "execution_count": 19,
   "id": "883e9446",
   "metadata": {
    "execution": {
     "iopub.execute_input": "2024-06-12T07:12:53.865497Z",
     "iopub.status.busy": "2024-06-12T07:12:53.865183Z",
     "iopub.status.idle": "2024-06-12T07:12:53.869086Z",
     "shell.execute_reply": "2024-06-12T07:12:53.868541Z"
    }
   },
   "outputs": [
    {
     "data": {
      "text/latex": [
       "Quantum object: dims=[[4], [4]], shape=(4, 4), type='oper', dtype=Dia, isherm=True$$\\left(\\begin{array}{cc}0 & -1 & 0 & 0\\\\-1 & 1 & -1.414 & 0\\\\0 & -1.414 & 2 & -1.732\\\\0 & 0 & -1.732 & 3\\end{array}\\right)$$"
      ],
      "text/plain": [
       "Quantum object: dims=[[4], [4]], shape=(4, 4), type='oper', dtype=Dia, isherm=True\n",
       "Qobj data =\n",
       "[[ 0.         -1.          0.          0.        ]\n",
       " [-1.          1.         -1.41421356  0.        ]\n",
       " [ 0.         -1.41421356  2.         -1.73205081]\n",
       " [ 0.          0.         -1.73205081  3.        ]]"
      ]
     },
     "execution_count": 19,
     "metadata": {},
     "output_type": "execute_result"
    }
   ],
   "source": [
    "# However overwritting the args with change them all:\n",
    "qevo(1, w=1)"
   ]
  },
  {
   "cell_type": "markdown",
   "id": "d9ba7ad8",
   "metadata": {},
   "source": [
    "### Using objects\n",
    "\n",
    "The argument value need not just be a number. Even strings can accept functions which Cython can call natively, such as the core `numpy` functions."
   ]
  },
  {
   "cell_type": "code",
   "execution_count": 20,
   "id": "30bd701e",
   "metadata": {
    "execution": {
     "iopub.execute_input": "2024-06-12T07:12:53.870952Z",
     "iopub.status.busy": "2024-06-12T07:12:53.870638Z",
     "iopub.status.idle": "2024-06-12T07:12:53.874789Z",
     "shell.execute_reply": "2024-06-12T07:12:53.874251Z"
    }
   },
   "outputs": [
    {
     "data": {
      "text/latex": [
       "Quantum object: dims=[[4], [4]], shape=(4, 4), type='oper', dtype=Dia, isherm=True$$\\left(\\begin{array}{cc}1 & 0 & 0 & 0\\\\0 & 1 & 0 & 0\\\\0 & 0 & 1 & 0\\\\0 & 0 & 0 & 1\\end{array}\\right)$$"
      ],
      "text/plain": [
       "Quantum object: dims=[[4], [4]], shape=(4, 4), type='oper', dtype=Dia, isherm=True\n",
       "Qobj data =\n",
       "[[1. 0. 0. 0.]\n",
       " [0. 1. 0. 0.]\n",
       " [0. 0. 1. 0.]\n",
       " [0. 0. 0. 1.]]"
      ]
     },
     "execution_count": 20,
     "metadata": {},
     "output_type": "execute_result"
    }
   ],
   "source": [
    "td_args_str = qutip.QobjEvo([Id, \"f(t)\"], args={\"f\": np.cos})\n",
    "td_args_str(0.0)"
   ]
  },
  {
   "cell_type": "code",
   "execution_count": 21,
   "id": "a21d95f6",
   "metadata": {
    "execution": {
     "iopub.execute_input": "2024-06-12T07:12:53.876658Z",
     "iopub.status.busy": "2024-06-12T07:12:53.876340Z",
     "iopub.status.idle": "2024-06-12T07:12:53.880123Z",
     "shell.execute_reply": "2024-06-12T07:12:53.879582Z"
    }
   },
   "outputs": [
    {
     "data": {
      "text/latex": [
       "Quantum object: dims=[[4], [4]], shape=(4, 4), type='oper', dtype=Dia, isherm=True$$\\left(\\begin{array}{cc}-1 & 0 & 0 & 0\\\\0 & -1 & 0 & 0\\\\0 & 0 & -1 & 0\\\\0 & 0 & 0 & -1\\end{array}\\right)$$"
      ],
      "text/plain": [
       "Quantum object: dims=[[4], [4]], shape=(4, 4), type='oper', dtype=Dia, isherm=True\n",
       "Qobj data =\n",
       "[[-1.  0.  0.  0.]\n",
       " [ 0. -1.  0.  0.]\n",
       " [ 0.  0. -1.  0.]\n",
       " [ 0.  0.  0. -1.]]"
      ]
     },
     "execution_count": 21,
     "metadata": {},
     "output_type": "execute_result"
    }
   ],
   "source": [
    "td_args_str(np.pi)"
   ]
  },
  {
   "cell_type": "markdown",
   "id": "befe43a1",
   "metadata": {},
   "source": [
    "### Dynamic arguments\n",
    "\n",
    "When `QobjEvo` is used in the solvers, the solver states, derivated values or other internal values can be made available as arguments.\n",
    "\n",
    "These values are set from method to the solver classes:\n",
    "\n",
    "Most solver support:\n",
    "\n",
    "  - `StateFeedback`: state as a `Qobj` or qutip `Data`.\n",
    "  - `ExpectFeedback`: Expectation value computed from the state.\n",
    "\n",
    "Additionnally `mcsolve` has `CollapseFeedback` to get the collaspe list and stochastic solvers have `WienerFeedback` that returns the Wiener function along the trajectory.\n",
    "\n",
    "They all take a `default` input that specifies the value to be used when the `QobjEvo` is accessed outside of a solver. This value must be a valid input for the `QobjEvo` -- it will be used during solver setup."
   ]
  },
  {
   "cell_type": "code",
   "execution_count": 22,
   "id": "6a882738",
   "metadata": {
    "execution": {
     "iopub.execute_input": "2024-06-12T07:12:53.882042Z",
     "iopub.status.busy": "2024-06-12T07:12:53.881727Z",
     "iopub.status.idle": "2024-06-12T07:12:53.888722Z",
     "shell.execute_reply": "2024-06-12T07:12:53.888189Z"
    }
   },
   "outputs": [
    {
     "name": "stdout",
     "output_type": "stream",
     "text": [
      "'state':\n",
      "Quantum object: dims=[[4], [4]], shape=(4, 4), type='oper', dtype=Dia, isherm=True\n",
      "Qobj data =\n",
      "[[0. 0. 0. 0.]\n",
      " [0. 0. 0. 0.]\n",
      " [0. 0. 1. 0.]\n",
      " [0. 0. 0. 0.]]\n",
      "'state':\n",
      "Quantum object: dims=[[4], [4]], shape=(4, 4), type='oper', dtype=Dia, isherm=True\n",
      "Qobj data =\n",
      "[[0. 0. 0. 0.]\n",
      " [0. 0. 0. 0.]\n",
      " [0. 0. 1. 0.]\n",
      " [0. 0. 0. 0.]]\n"
     ]
    },
    {
     "data": {
      "text/latex": [
       "Quantum object: dims=[[4], [4]], shape=(4, 4), type='oper', dtype=Dia, isherm=True$$\\left(\\begin{array}{cc}1.500 & 0 & 0 & 0\\\\0 & 1.500 & 0 & 0\\\\0 & 0 & 1.500 & 0\\\\0 & 0 & 0 & 1.500\\end{array}\\right)$$"
      ],
      "text/plain": [
       "Quantum object: dims=[[4], [4]], shape=(4, 4), type='oper', dtype=Dia, isherm=True\n",
       "Qobj data =\n",
       "[[1.50000001 0.         0.         0.        ]\n",
       " [0.         1.50000001 0.         0.        ]\n",
       " [0.         0.         1.50000001 0.        ]\n",
       " [0.         0.         0.         1.50000001]]"
      ]
     },
     "execution_count": 22,
     "metadata": {},
     "output_type": "execute_result"
    }
   ],
   "source": [
    "args = {\"state\": qutip.MESolver.StateFeedback(default=qutip.fock_dm(4, 2))}\n",
    "\n",
    "\n",
    "def print_args(t, state):\n",
    "    print(f\"'state':\\n{state}\")\n",
    "    return t + state.norm()\n",
    "\n",
    "\n",
    "td_args = qutip.QobjEvo([Id, print_args], args=args)\n",
    "td_args(0.5)"
   ]
  },
  {
   "cell_type": "markdown",
   "id": "6a048a63",
   "metadata": {},
   "source": [
    "## Mathematics\n",
    "\n",
    "`QobjEvo` supports the basic mathematical operations which make sense for time-dependent quantum objects:\n",
    "  - addition of `QobjEvo` and `Qobj`\n",
    "  - subtraction of `QobjEvo` and `Qobj`\n",
    "  - product with `QobjEvo`, `Qobj` or scalars\n",
    "  - division by a scalar\n",
    "  - negation: `-x`\n",
    "  - conjugation: `QobjEvo.conj()`\n",
    "  - adjoint (dagger): `QobjEvo.dag()`\n",
    "  - transpose: `QobjEvo.trans`"
   ]
  },
  {
   "cell_type": "code",
   "execution_count": 23,
   "id": "fb9c3c31",
   "metadata": {
    "execution": {
     "iopub.execute_input": "2024-06-12T07:12:53.890822Z",
     "iopub.status.busy": "2024-06-12T07:12:53.890486Z",
     "iopub.status.idle": "2024-06-12T07:12:53.894292Z",
     "shell.execute_reply": "2024-06-12T07:12:53.893782Z"
    }
   },
   "outputs": [
    {
     "data": {
      "text/latex": [
       "Quantum object: dims=[[4], [4]], shape=(4, 4), type='oper', dtype=Dia, isherm=True$$\\left(\\begin{array}{cc}0 & 2 & 0 & 0\\\\2 & 2 & 2.828 & 0\\\\0 & 2.828 & 4 & 3.464\\\\0 & 0 & 3.464 & 6\\end{array}\\right)$$"
      ],
      "text/plain": [
       "Quantum object: dims=[[4], [4]], shape=(4, 4), type='oper', dtype=Dia, isherm=True\n",
       "Qobj data =\n",
       "[[0.         2.         0.         0.        ]\n",
       " [2.         2.         2.82842712 0.        ]\n",
       " [0.         2.82842712 4.         3.46410162]\n",
       " [0.         0.         3.46410162 6.        ]]"
      ]
     },
     "execution_count": 23,
     "metadata": {},
     "output_type": "execute_result"
    }
   ],
   "source": [
    "(array_form * 2)(0)"
   ]
  },
  {
   "cell_type": "code",
   "execution_count": 24,
   "id": "0375596a",
   "metadata": {
    "execution": {
     "iopub.execute_input": "2024-06-12T07:12:53.896334Z",
     "iopub.status.busy": "2024-06-12T07:12:53.895901Z",
     "iopub.status.idle": "2024-06-12T07:12:53.899957Z",
     "shell.execute_reply": "2024-06-12T07:12:53.899423Z"
    }
   },
   "outputs": [
    {
     "data": {
      "text/latex": [
       "Quantum object: dims=[[4], [4]], shape=(4, 4), type='oper', dtype=Dia, isherm=False$$\\left(\\begin{array}{cc}1 & 2 & 0 & 0\\\\1 & 2 & 2.828 & 0\\\\0 & 1.414 & 3 & 3.464\\\\0 & 0 & 1.732 & 4\\end{array}\\right)$$"
      ],
      "text/plain": [
       "Quantum object: dims=[[4], [4]], shape=(4, 4), type='oper', dtype=Dia, isherm=False\n",
       "Qobj data =\n",
       "[[1.         2.         0.         0.        ]\n",
       " [1.         2.         2.82842712 0.        ]\n",
       " [0.         1.41421356 3.         3.46410162]\n",
       " [0.         0.         1.73205081 4.        ]]"
      ]
     },
     "execution_count": 24,
     "metadata": {},
     "output_type": "execute_result"
    }
   ],
   "source": [
    "(array_form + 1 + a)(0)"
   ]
  },
  {
   "cell_type": "markdown",
   "id": "939fc194",
   "metadata": {},
   "source": [
    "## Superoperators\n",
    "\n",
    "The functions in `qutip.superoperator` can also be used for `QobjEvo`.  Of particular importance is `liouvillian`, as `mesolve` can take the Liouvillian as its first argument (and will be faster this way), in place of separated Hamiltonians and collapse operators."
   ]
  },
  {
   "cell_type": "code",
   "execution_count": 25,
   "id": "08776deb",
   "metadata": {
    "execution": {
     "iopub.execute_input": "2024-06-12T07:12:53.901842Z",
     "iopub.status.busy": "2024-06-12T07:12:53.901525Z",
     "iopub.status.idle": "2024-06-12T07:12:53.908587Z",
     "shell.execute_reply": "2024-06-12T07:12:53.908135Z"
    }
   },
   "outputs": [
    {
     "data": {
      "text/latex": [
       "Quantum object: dims=[[[4], [4]], [[4], [4]]], shape=(16, 16), type='super', dtype=Dia, isherm=False$$\\left(\\begin{array}{cc}0 & -1j & 0 & 0 & 1j & \\cdots & 0 & 0 & 0 & 0 & 0\\\\-1j & (-0.500-1j) & -1.414j & 0 & 0 & \\cdots & 0 & 0 & 0 & 0 & 0\\\\0 & -1.414j & (-2-2j) & -1.732j & 0 & \\cdots & 0 & 0 & 0 & 0 & 0\\\\0 & 0 & -1.732j & (-4.500-3j) & 0 & \\cdots & 0 & 0 & 0 & 0 & 0\\\\1j & 0 & 0 & 0 & (-0.500+1j) & \\cdots & 0 & 0 & 0 & 0 & 0\\\\\\vdots & \\vdots & \\vdots & \\vdots & \\vdots & \\ddots & \\vdots & \\vdots & \\vdots & \\vdots & \\vdots\\\\0 & 0 & 0 & 0 & 0 & \\cdots & (-0.500-1j) & 0 & 0 & 0 & 1.732j\\\\0 & 0 & 0 & 0 & 0 & \\cdots & 0 & (-4.500+3j) & -1j & 0 & 0\\\\0 & 0 & 0 & 0 & 0 & \\cdots & 0 & -1j & (-2+2j) & -1.414j & 0\\\\0 & 0 & 0 & 0 & 0 & \\cdots & 0 & 0 & -1.414j & (-0.500+1j) & -1.732j\\\\0 & 0 & 0 & 0 & 0 & \\cdots & 1.732j & 0 & 0 & -1.732j & 0\\end{array}\\right)$$"
      ],
      "text/plain": [
       "Quantum object: dims=[[[4], [4]], [[4], [4]]], shape=(16, 16), type='super', dtype=Dia, isherm=False\n",
       "Qobj data =\n",
       "[[ 0. +0.j          0. -1.j          0. +0.j          0. +0.j\n",
       "   0. +1.j          0. +0.j          0. +0.j          0. +0.j\n",
       "   0. +0.j          0. +0.j          0. +0.j          0. +0.j\n",
       "   0. +0.j          0. +0.j          0. +0.j          0. +0.j        ]\n",
       " [ 0. -1.j         -0.5-1.j          0. -1.41421356j  0. +0.j\n",
       "   0. +0.j          0. +1.j          0. +0.j          0. +0.j\n",
       "   0. +0.j          0. +0.j          0. +0.j          0. +0.j\n",
       "   0. +0.j          0. +0.j          0. +0.j          0. +0.j        ]\n",
       " [ 0. +0.j          0. -1.41421356j -2. -2.j          0. -1.73205081j\n",
       "   0. +0.j          0. +0.j          0. +1.j          0. +0.j\n",
       "   0. +0.j          0. +0.j          0. +0.j          0. +0.j\n",
       "   0. +0.j          0. +0.j          0. +0.j          0. +0.j        ]\n",
       " [ 0. +0.j          0. +0.j          0. -1.73205081j -4.5-3.j\n",
       "   0. +0.j          0. +0.j          0. +0.j          0. +1.j\n",
       "   0. +0.j          0. +0.j          0. +0.j          0. +0.j\n",
       "   0. +0.j          0. +0.j          0. +0.j          0. +0.j        ]\n",
       " [ 0. +1.j          0. +0.j          0. +0.j          0. +0.j\n",
       "  -0.5+1.j          0. -1.j          0. +0.j          0. +0.j\n",
       "   0. +1.41421356j  0. +0.j          0. +0.j          0. +0.j\n",
       "   0. +0.j          0. +0.j          0. +0.j          0. +0.j        ]\n",
       " [ 0. +0.j          0. +1.j          0. +0.j          0. +0.j\n",
       "   0. -1.j          0. +0.j          0. -1.41421356j  0. +0.j\n",
       "   0. +0.j          0. +1.41421356j  0. +0.j          0. +0.j\n",
       "   0. +0.j          0. +0.j          0. +0.j          0. +0.j        ]\n",
       " [ 0. +0.j          0. +0.j          0. +1.j          0. +0.j\n",
       "   0. +0.j          0. -1.41421356j -0.5-1.j          0. -1.73205081j\n",
       "   0. +0.j          0. +0.j          0. +1.41421356j  0. +0.j\n",
       "   0. +0.j          0. +0.j          0. +0.j          0. +0.j        ]\n",
       " [ 0. +0.j          0. +0.j          0. +0.j          0. +1.j\n",
       "   0. +0.j          0. +0.j          0. -1.73205081j -2. -2.j\n",
       "   0. +0.j          0. +0.j          0. +0.j          0. +1.41421356j\n",
       "   0. +0.j          0. +0.j          0. +0.j          0. +0.j        ]\n",
       " [ 0. +0.j          0. +0.j          0. +0.j          0. +0.j\n",
       "   0. +1.41421356j  0. +0.j          0. +0.j          0. +0.j\n",
       "  -2. +2.j          0. -1.j          0. +0.j          0. +0.j\n",
       "   0. +1.73205081j  0. +0.j          0. +0.j          0. +0.j        ]\n",
       " [ 0. +0.j          0. +0.j          0. +0.j          0. +0.j\n",
       "   0. +0.j          0. +1.41421356j  0. +0.j          0. +0.j\n",
       "   0. -1.j         -0.5+1.j          0. -1.41421356j  0. +0.j\n",
       "   0. +0.j          0. +1.73205081j  0. +0.j          0. +0.j        ]\n",
       " [ 0. +0.j          0. +0.j          0. +0.j          0. +0.j\n",
       "   0. +0.j          0. +0.j          0. +1.41421356j  0. +0.j\n",
       "   0. +0.j          0. -1.41421356j  0. +0.j          0. -1.73205081j\n",
       "   0. +0.j          0. +0.j          0. +1.73205081j  0. +0.j        ]\n",
       " [ 0. +0.j          0. +0.j          0. +0.j          0. +0.j\n",
       "   0. +0.j          0. +0.j          0. +0.j          0. +1.41421356j\n",
       "   0. +0.j          0. +0.j          0. -1.73205081j -0.5-1.j\n",
       "   0. +0.j          0. +0.j          0. +0.j          0. +1.73205081j]\n",
       " [ 0. +0.j          0. +0.j          0. +0.j          0. +0.j\n",
       "   0. +0.j          0. +0.j          0. +0.j          0. +0.j\n",
       "   0. +1.73205081j  0. +0.j          0. +0.j          0. +0.j\n",
       "  -4.5+3.j          0. -1.j          0. +0.j          0. +0.j        ]\n",
       " [ 0. +0.j          0. +0.j          0. +0.j          0. +0.j\n",
       "   0. +0.j          0. +0.j          0. +0.j          0. +0.j\n",
       "   0. +0.j          0. +1.73205081j  0. +0.j          0. +0.j\n",
       "   0. -1.j         -2. +2.j          0. -1.41421356j  0. +0.j        ]\n",
       " [ 0. +0.j          0. +0.j          0. +0.j          0. +0.j\n",
       "   0. +0.j          0. +0.j          0. +0.j          0. +0.j\n",
       "   0. +0.j          0. +0.j          0. +1.73205081j  0. +0.j\n",
       "   0. +0.j          0. -1.41421356j -0.5+1.j          0. -1.73205081j]\n",
       " [ 0. +0.j          0. +0.j          0. +0.j          0. +0.j\n",
       "   0. +0.j          0. +0.j          0. +0.j          0. +0.j\n",
       "   0. +0.j          0. +0.j          0. +0.j          0. +1.73205081j\n",
       "   0. +0.j          0. +0.j          0. -1.73205081j  0. +0.j        ]]"
      ]
     },
     "execution_count": 25,
     "metadata": {},
     "output_type": "execute_result"
    }
   ],
   "source": [
    "liouv = qutip.liouvillian(array_form, c_ops=[constant_form])\n",
    "liouv(0)"
   ]
  },
  {
   "cell_type": "markdown",
   "id": "3298ba4d",
   "metadata": {},
   "source": [
    "## Epilogue"
   ]
  },
  {
   "cell_type": "code",
   "execution_count": 26,
   "id": "d882a788",
   "metadata": {
    "execution": {
     "iopub.execute_input": "2024-06-12T07:12:53.910497Z",
     "iopub.status.busy": "2024-06-12T07:12:53.910182Z",
     "iopub.status.idle": "2024-06-12T07:12:53.912978Z",
     "shell.execute_reply": "2024-06-12T07:12:53.912446Z"
    }
   },
   "outputs": [
    {
     "name": "stdout",
     "output_type": "stream",
     "text": [
      "\n",
      "QuTiP: Quantum Toolbox in Python\n",
      "================================\n",
      "Copyright (c) QuTiP team 2011 and later.\n",
      "Current admin team: Alexander Pitchford, Nathan Shammah, Shahnawaz Ahmed, Neill Lambert, Eric Giguère, Boxi Li, Jake Lishman, Simon Cross, Asier Galicia, Paul Menczel, and Patrick Hopf.\n",
      "Board members: Daniel Burgarth, Robert Johansson, Anton F. Kockum, Franco Nori and Will Zeng.\n",
      "Original developers: R. J. Johansson & P. D. Nation.\n",
      "Previous lead developers: Chris Granade & A. Grimsmo.\n",
      "Currently developed through wide collaboration. See https://github.com/qutip for details.\n",
      "\n",
      "QuTiP Version:      5.1.0.dev0+c874c4a\n",
      "Numpy Version:      1.22.4\n",
      "Scipy Version:      1.13.1\n",
      "Cython Version:     3.0.10\n",
      "Matplotlib Version: 3.5.2\n",
      "Python Version:     3.10.4\n",
      "Number of CPUs:     4\n",
      "BLAS Info:          Generic\n",
      "INTEL MKL Ext:      False\n",
      "Platform Info:      Linux (x86_64)\n",
      "Installation path:  /usr/share/miniconda3/envs/test-environment/lib/python3.10/site-packages/qutip\n",
      "================================================================================\n",
      "Please cite QuTiP in your publication.\n",
      "================================================================================\n",
      "For your convenience a bibtex reference can be easily generated using `qutip.cite()`\n"
     ]
    }
   ],
   "source": [
    "qutip.about()"
   ]
  },
  {
   "cell_type": "code",
   "execution_count": null,
   "id": "a9cf0b92",
   "metadata": {},
   "outputs": [],
   "source": []
  }
 ],
 "metadata": {
  "jupytext": {
   "cell_metadata_filter": "-all",
   "notebook_metadata_filter": "-jupytext.cell_metadata_filter,-jupytext.notebook_metadata_filter"
  },
  "kernelspec": {
   "display_name": "Python 3 (ipykernel)",
   "language": "python",
   "name": "python3"
  },
  "language_info": {
   "codemirror_mode": {
    "name": "ipython",
    "version": 3
   },
   "file_extension": ".py",
   "mimetype": "text/x-python",
   "name": "python",
   "nbconvert_exporter": "python",
   "pygments_lexer": "ipython3",
   "version": "3.10.4"
  }
 },
 "nbformat": 4,
 "nbformat_minor": 5
}
