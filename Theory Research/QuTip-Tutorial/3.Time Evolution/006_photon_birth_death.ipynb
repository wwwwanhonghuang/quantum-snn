{
 "cells": [
  {
   "cell_type": "markdown",
   "id": "96d01336",
   "metadata": {},
   "source": [
    "# Monte Carlo Solver: Birth and Death of Photons in a Cavity"
   ]
  },
  {
   "cell_type": "markdown",
   "id": "b698f988",
   "metadata": {},
   "source": [
    "Authors: J.R. Johansson and P.D. Nation\n",
    "\n",
    "Modifications: C. Staufenbiel (2022)\n",
    "\n",
    "### Introduction\n",
    "\n",
    "In this tutorial we demonstrate the *Monte Carlo Solver* functionality implemented in `qutip.mcsolve()`. For more information on the *MC Solver* refer to the [QuTiP documentation](https://qutip.readthedocs.io/en/latest/guide/dynamics/dynamics-monte.html). \n",
    "\n",
    "We aim to reproduce the experimental results from:\n",
    "\n",
    "\n",
    "\n",
    ">  Gleyzes et al., \"Quantum jumps of light recording the birth and death of a photon in a cavity\", [Nature **446**,297 (2007)](http://dx.doi.org/10.1038/nature05589).\n",
    "\n",
    "\n",
    "In particular, we will simulate the creation and annihilation of photons inside an optical cavity due to the thermal environment when the initial cavity is a single-photon Fock state $ |1\\rangle$, as presented in Fig. 3 from the article.\n",
    "\n",
    "## Imports\n",
    "First we import the relevant functionalities:"
   ]
  },
  {
   "cell_type": "code",
   "execution_count": 1,
   "id": "529ac1bc",
   "metadata": {
    "execution": {
     "iopub.execute_input": "2024-06-12T07:14:04.098220Z",
     "iopub.status.busy": "2024-06-12T07:14:04.097817Z",
     "iopub.status.idle": "2024-06-12T07:14:04.843164Z",
     "shell.execute_reply": "2024-06-12T07:14:04.842573Z"
    }
   },
   "outputs": [],
   "source": [
    "import matplotlib.pyplot as plt\n",
    "import numpy as np\n",
    "from qutip import about, basis, destroy, mcsolve, mesolve\n",
    "\n",
    "%matplotlib inline"
   ]
  },
  {
   "cell_type": "markdown",
   "id": "cc025f0f",
   "metadata": {},
   "source": [
    "## System Setup\n",
    "In this example, we consider a simple oscillator Hamiltonian $H = a^\\dagger a$ and one initial photon in the cavity."
   ]
  },
  {
   "cell_type": "code",
   "execution_count": 2,
   "id": "76ac2511",
   "metadata": {
    "execution": {
     "iopub.execute_input": "2024-06-12T07:14:04.845795Z",
     "iopub.status.busy": "2024-06-12T07:14:04.845349Z",
     "iopub.status.idle": "2024-06-12T07:14:04.848748Z",
     "shell.execute_reply": "2024-06-12T07:14:04.848283Z"
    }
   },
   "outputs": [],
   "source": [
    "N = 5  # number of modes in the\n",
    "a = destroy(N)  # Destroy operator\n",
    "H = a.dag() * a  # oscillator Hamiltonian\n",
    "psi0 = basis(N, 1)  # Initial Fock state with one photon"
   ]
  },
  {
   "cell_type": "markdown",
   "id": "54209297",
   "metadata": {},
   "source": [
    "The coupling to the external heat bath is described by a coupling constant $\\kappa$ and the temperature of the heat bath is defined via the average photon number $\\langle n \\rangle$. In QuTiP the interaction between the system and heat bath is defined via the collapse operators. For this example, there are two collapse operators. One for photon annihilation ($C_1$) and one for photon creation ($C_2$): \n",
    "\n",
    "$C_1 = \\sqrt{\\kappa (1 + \\langle n \\rangle)} \\; a$\n",
    "\n",
    "$C_2 = \\sqrt{\\kappa \\langle n \\rangle} \\; a^\\dagger$\n",
    "\n",
    "We give some numerical values to the coupling constant $\\kappa$ and the average photon number of the heat bath $\\langle n \\rangle$."
   ]
  },
  {
   "cell_type": "code",
   "execution_count": 3,
   "id": "dba27593",
   "metadata": {
    "execution": {
     "iopub.execute_input": "2024-06-12T07:14:04.850645Z",
     "iopub.status.busy": "2024-06-12T07:14:04.850311Z",
     "iopub.status.idle": "2024-06-12T07:14:04.853292Z",
     "shell.execute_reply": "2024-06-12T07:14:04.852857Z"
    }
   },
   "outputs": [],
   "source": [
    "kappa = 1.0 / 0.129  # Coupling rate to heat bath\n",
    "nth = 0.063  # Temperature with <n>=0.063\n",
    "\n",
    "# collapse operators for the thermal bath\n",
    "c_ops = []\n",
    "c_ops.append(np.sqrt(kappa * (1 + nth)) * a)\n",
    "c_ops.append(np.sqrt(kappa * nth) * a.dag())"
   ]
  },
  {
   "cell_type": "markdown",
   "id": "fd9aabf5",
   "metadata": {},
   "source": [
    "## Monte Carlo Simulation\n",
    "The *Monte Carlo Solver* allows simulating an individual realization of the system dynamics. This is in contrast to e.g. the *Master Equation Solver*, which solves for the ensemble average over many identical realizations of the system. `qutip.mcsolve()` also offers to average over many runs of identical system setups by passing the *number of trajectories* `ntraj` to the function. If we choose `ntraj = 1` the system is only simulated once and we see it's dynamics. If we choose a large value for `ntraj`, the predictions will be averaged and therefore converge to the solution from `qutip.mesolve()`. \n",
    "\n",
    "We can also pass a list to `ntraj`. `qutip.mcsolve()` will calculate the results for the specified number of trajectories. Note that the entries need to be in ascending order, as the previous results are reused.\n",
    "\n",
    "Here we are interested in the time evolution of $a^\\dagger a$ for different numbers of `ntraj`. We will compare the results to the predictions by `qutip.mesolve()."
   ]
  },
  {
   "cell_type": "code",
   "execution_count": 4,
   "id": "6ff1713d",
   "metadata": {
    "execution": {
     "iopub.execute_input": "2024-06-12T07:14:04.855235Z",
     "iopub.status.busy": "2024-06-12T07:14:04.854912Z",
     "iopub.status.idle": "2024-06-12T07:14:10.972712Z",
     "shell.execute_reply": "2024-06-12T07:14:10.972120Z"
    }
   },
   "outputs": [
    {
     "name": "stdout",
     "output_type": "stream",
     "text": [
      "100.0%. Run time:   0.00s. Est. time left: 00:00:00:00\n"
     ]
    },
    {
     "name": "stdout",
     "output_type": "stream",
     "text": [
      "Total run time:   0.01s\n",
      "20.0%. Run time:   0.00s. Est. time left: 00:00:00:00\n"
     ]
    },
    {
     "name": "stdout",
     "output_type": "stream",
     "text": [
      "40.0%. Run time:   0.01s. Est. time left: 00:00:00:00\n"
     ]
    },
    {
     "name": "stdout",
     "output_type": "stream",
     "text": [
      "60.0%. Run time:   0.02s. Est. time left: 00:00:00:00\n"
     ]
    },
    {
     "name": "stdout",
     "output_type": "stream",
     "text": [
      "80.0%. Run time:   0.03s. Est. time left: 00:00:00:00\n"
     ]
    },
    {
     "name": "stdout",
     "output_type": "stream",
     "text": [
      "100.0%. Run time:   0.03s. Est. time left: 00:00:00:00\n"
     ]
    },
    {
     "name": "stdout",
     "output_type": "stream",
     "text": [
      "Total run time:   0.04s\n",
      "13.3%. Run time:   0.01s. Est. time left: 00:00:00:00\n"
     ]
    },
    {
     "name": "stdout",
     "output_type": "stream",
     "text": [
      "20.0%. Run time:   0.01s. Est. time left: 00:00:00:00\n"
     ]
    },
    {
     "name": "stdout",
     "output_type": "stream",
     "text": [
      "33.3%. Run time:   0.03s. Est. time left: 00:00:00:00\n"
     ]
    },
    {
     "name": "stdout",
     "output_type": "stream",
     "text": [
      "40.0%. Run time:   0.03s. Est. time left: 00:00:00:00\n"
     ]
    },
    {
     "name": "stdout",
     "output_type": "stream",
     "text": [
      "53.3%. Run time:   0.05s. Est. time left: 00:00:00:00\n"
     ]
    },
    {
     "name": "stdout",
     "output_type": "stream",
     "text": [
      "60.0%. Run time:   0.06s. Est. time left: 00:00:00:00\n"
     ]
    },
    {
     "name": "stdout",
     "output_type": "stream",
     "text": [
      "73.3%. Run time:   0.07s. Est. time left: 00:00:00:00\n"
     ]
    },
    {
     "name": "stdout",
     "output_type": "stream",
     "text": [
      "80.0%. Run time:   0.08s. Est. time left: 00:00:00:00\n"
     ]
    },
    {
     "name": "stdout",
     "output_type": "stream",
     "text": [
      "93.3%. Run time:   0.09s. Est. time left: 00:00:00:00\n"
     ]
    },
    {
     "name": "stdout",
     "output_type": "stream",
     "text": [
      "100.0%. Run time:   0.10s. Est. time left: 00:00:00:00\n"
     ]
    },
    {
     "name": "stdout",
     "output_type": "stream",
     "text": [
      "Total run time:   0.11s\n"
     ]
    },
    {
     "name": "stdout",
     "output_type": "stream",
     "text": [
      "10.1%. Run time:   0.60s. Est. time left: 00:00:00:05\n"
     ]
    },
    {
     "name": "stdout",
     "output_type": "stream",
     "text": [
      "20.0%. Run time:   1.19s. Est. time left: 00:00:00:04\n"
     ]
    },
    {
     "name": "stdout",
     "output_type": "stream",
     "text": [
      "30.1%. Run time:   1.79s. Est. time left: 00:00:00:04\n"
     ]
    },
    {
     "name": "stdout",
     "output_type": "stream",
     "text": [
      "40.0%. Run time:   2.38s. Est. time left: 00:00:00:03\n"
     ]
    },
    {
     "name": "stdout",
     "output_type": "stream",
     "text": [
      "50.0%. Run time:   2.98s. Est. time left: 00:00:00:02\n"
     ]
    },
    {
     "name": "stdout",
     "output_type": "stream",
     "text": [
      "60.1%. Run time:   3.57s. Est. time left: 00:00:00:02\n"
     ]
    },
    {
     "name": "stdout",
     "output_type": "stream",
     "text": [
      "70.0%. Run time:   4.16s. Est. time left: 00:00:00:01\n"
     ]
    },
    {
     "name": "stdout",
     "output_type": "stream",
     "text": [
      "80.1%. Run time:   4.75s. Est. time left: 00:00:00:01\n"
     ]
    },
    {
     "name": "stdout",
     "output_type": "stream",
     "text": [
      "90.0%. Run time:   5.34s. Est. time left: 00:00:00:00\n"
     ]
    },
    {
     "name": "stdout",
     "output_type": "stream",
     "text": [
      "100.0%. Run time:   5.93s. Est. time left: 00:00:00:00\n"
     ]
    },
    {
     "name": "stdout",
     "output_type": "stream",
     "text": [
      "Total run time:   5.94s\n"
     ]
    }
   ],
   "source": [
    "ntraj = [1, 5, 15, 904]  # number of MC trajectories\n",
    "mc = []  # MC results\n",
    "tlist = np.linspace(0, 0.8, 100)\n",
    "\n",
    "# Solve using MCSolve for different ntraj\n",
    "for n in ntraj:\n",
    "    result = mcsolve(H, psi0, tlist, c_ops, [a.dag() * a], ntraj=n)\n",
    "    mc.append(result)\n",
    "me = mesolve(H, psi0, tlist, c_ops, [a.dag() * a])"
   ]
  },
  {
   "cell_type": "markdown",
   "id": "3f83a2e2",
   "metadata": {},
   "source": [
    "## Reproduce plot from article\n",
    "Using the above results we can reproduce Fig. 3 from the article mentioned above. The individual figures plot the time evolution of $\\langle a^\\dagger a \\rangle$ for the system we set up above. The effect of using different `ntraj` for the simulation using `mcsolve` is shown. When choosing `ntraj = 1` we see the dynamics of one particular quantum system. If `ntraj > 1` the output is averaged over the number of realizations. "
   ]
  },
  {
   "cell_type": "code",
   "execution_count": 5,
   "id": "585cef06",
   "metadata": {
    "execution": {
     "iopub.execute_input": "2024-06-12T07:14:10.975047Z",
     "iopub.status.busy": "2024-06-12T07:14:10.974604Z",
     "iopub.status.idle": "2024-06-12T07:14:11.361489Z",
     "shell.execute_reply": "2024-06-12T07:14:11.360914Z"
    }
   },
   "outputs": [
    {
     "data": {
      "image/png": "[encoded data removed]",
      "text/plain": [
       "<Figure size 800x800 with 4 Axes>"
      ]
     },
     "metadata": {},
     "output_type": "display_data"
    }
   ],
   "source": [
    "fig = plt.figure(figsize=(8, 8), frameon=False)\n",
    "plt.subplots_adjust(hspace=0.0)\n",
    "\n",
    "for i in range(len(ntraj)):\n",
    "    ax = plt.subplot(4, 1, i + 1)\n",
    "    ax.plot(\n",
    "        tlist, mc[i].expect[0], \"b\", lw=2,\n",
    "        label=\"#trajectories={}\".format(ntraj[i])\n",
    "    )\n",
    "    ax.plot(tlist, me.expect[0], \"r--\", lw=2)\n",
    "    ax.set_yticks([0, 0.5, 1])\n",
    "    ax.set_ylim([-0.1, 1.1])\n",
    "    ax.set_ylabel(r\"$\\langle P_{1}(t)\\rangle$\")\n",
    "    ax.legend()\n",
    "\n",
    "ax.set_xlabel(r\"Time (s)\");"
   ]
  },
  {
   "cell_type": "markdown",
   "id": "c8ebea27",
   "metadata": {},
   "source": [
    "## About"
   ]
  },
  {
   "cell_type": "code",
   "execution_count": 6,
   "id": "77e1da6b",
   "metadata": {
    "execution": {
     "iopub.execute_input": "2024-06-12T07:14:11.363611Z",
     "iopub.status.busy": "2024-06-12T07:14:11.363311Z",
     "iopub.status.idle": "2024-06-12T07:14:11.366450Z",
     "shell.execute_reply": "2024-06-12T07:14:11.365920Z"
    }
   },
   "outputs": [
    {
     "name": "stdout",
     "output_type": "stream",
     "text": [
      "\n",
      "QuTiP: Quantum Toolbox in Python\n",
      "================================\n",
      "Copyright (c) QuTiP team 2011 and later.\n",
      "Current admin team: Alexander Pitchford, Nathan Shammah, Shahnawaz Ahmed, Neill Lambert, Eric Giguère, Boxi Li, Jake Lishman, Simon Cross, Asier Galicia, Paul Menczel, and Patrick Hopf.\n",
      "Board members: Daniel Burgarth, Robert Johansson, Anton F. Kockum, Franco Nori and Will Zeng.\n",
      "Original developers: R. J. Johansson & P. D. Nation.\n",
      "Previous lead developers: Chris Granade & A. Grimsmo.\n",
      "Currently developed through wide collaboration. See https://github.com/qutip for details.\n",
      "\n",
      "QuTiP Version:      5.1.0.dev0+c874c4a\n",
      "Numpy Version:      1.22.4\n",
      "Scipy Version:      1.13.1\n",
      "Cython Version:     3.0.10\n",
      "Matplotlib Version: 3.5.2\n",
      "Python Version:     3.10.4\n",
      "Number of CPUs:     4\n",
      "BLAS Info:          Generic\n",
      "INTEL MKL Ext:      False\n",
      "Platform Info:      Linux (x86_64)\n",
      "Installation path:  /usr/share/miniconda3/envs/test-environment/lib/python3.10/site-packages/qutip\n",
      "================================================================================\n",
      "Please cite QuTiP in your publication.\n",
      "================================================================================\n",
      "For your convenience a bibtex reference can be easily generated using `qutip.cite()`\n"
     ]
    }
   ],
   "source": [
    "about()"
   ]
  },
  {
   "cell_type": "markdown",
   "id": "5b957fe9",
   "metadata": {},
   "source": [
    "## Testing"
   ]
  },
  {
   "cell_type": "code",
   "execution_count": 7,
   "id": "830e810d",
   "metadata": {
    "execution": {
     "iopub.execute_input": "2024-06-12T07:14:11.368548Z",
     "iopub.status.busy": "2024-06-12T07:14:11.368065Z",
     "iopub.status.idle": "2024-06-12T07:14:11.375630Z",
     "shell.execute_reply": "2024-06-12T07:14:11.375092Z"
    }
   },
   "outputs": [],
   "source": [
    "np.testing.assert_allclose(me.expect[0], mc[3].expect[0], atol=10**-1)\n",
    "assert np.all(np.diff(me.expect[0]) <= 0)"
   ]
  }
 ],
 "metadata": {
  "jupytext": {
   "cell_metadata_filter": "-all",
   "notebook_metadata_filter": "-jupytext.cell_metadata_filter,-jupytext.notebook_metadata_filter"
  },
  "kernelspec": {
   "display_name": "Python 3 (ipykernel)",
   "language": "python",
   "name": "python3"
  },
  "language_info": {
   "codemirror_mode": {
    "name": "ipython",
    "version": 3
   },
   "file_extension": ".py",
   "mimetype": "text/x-python",
   "name": "python",
   "nbconvert_exporter": "python",
   "pygments_lexer": "ipython3",
   "version": "3.10.4"
  }
 },
 "nbformat": 4,
 "nbformat_minor": 5
}
