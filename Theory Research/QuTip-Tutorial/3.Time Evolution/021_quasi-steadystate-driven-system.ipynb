{
 "cells": [
  {
   "cell_type": "markdown",
   "id": "e67b53b4",
   "metadata": {},
   "source": [
    "# Steady-State: Time-dependent (periodic) quantum system\n",
    "\n",
    "Authors: J.R. Johansson and P.D. Nation\n",
    "\n",
    "Updated by: M. Gobbo (2024)\n",
    "\n",
    "### Introduction\n",
    "In this notebook, we will find the steady-state of a driven qubit using the `steadystate()`, `propagator_steadystate()`, and `steadystate_floquet()` solver methods. The results will be compared with the master equation solver `mesolve()` implemented in QuTiP.\n",
    "\n",
    "You can also find more on solving for steady-state solutions with QuTiP [here](https://qutip.readthedocs.io/en/latest/guide/guide-steady.html).\n",
    "\n",
    "### Imports\n",
    "Here we import the required modules for this example."
   ]
  },
  {
   "cell_type": "code",
   "execution_count": 1,
   "id": "33a19463",
   "metadata": {
    "execution": {
     "iopub.execute_input": "2024-06-12T07:17:37.569417Z",
     "iopub.status.busy": "2024-06-12T07:17:37.569252Z",
     "iopub.status.idle": "2024-06-12T07:17:38.359212Z",
     "shell.execute_reply": "2024-06-12T07:17:38.358744Z"
    }
   },
   "outputs": [],
   "source": [
    "import matplotlib.pyplot as plt\n",
    "import numpy as np\n",
    "from mpl_toolkits.axes_grid1.inset_locator import inset_axes, mark_inset\n",
    "from qutip import (\n",
    "    about,\n",
    "    basis,\n",
    "    destroy,\n",
    "    expect,\n",
    "    mesolve,\n",
    "    steadystate,\n",
    "    propagator,\n",
    "    propagator_steadystate,\n",
    "    sigmax,\n",
    "    sigmaz,\n",
    "    steadystate_floquet,\n",
    ")"
   ]
  },
  {
   "cell_type": "markdown",
   "id": "696f16e8",
   "metadata": {},
   "source": [
    "### System setup\n",
    "We consider a driven system with the following Hamiltonian: \n",
    "\n",
    "$$ H = - \\frac{\\Delta}{2} \\sigma_x - \\frac{\\epsilon_0}{2} \\sigma_z + \\frac{A}{2} \\sigma_z \\sin(\\omega t) $$\n",
    "\n",
    "We also assume a coupling with the external heat bath described by a coupling constant $\\kappa_1$, the temperature of the heat bath is defined via the average photon number $\\langle n \\rangle$. In addition, we assume a variation in the phase of the qubit described by a collapse operator with a constant $\\kappa_2$."
   ]
  },
  {
   "cell_type": "code",
   "execution_count": 2,
   "id": "001449ac",
   "metadata": {
    "execution": {
     "iopub.execute_input": "2024-06-12T07:17:38.361667Z",
     "iopub.status.busy": "2024-06-12T07:17:38.361277Z",
     "iopub.status.idle": "2024-06-12T07:17:38.367028Z",
     "shell.execute_reply": "2024-06-12T07:17:38.366530Z"
    }
   },
   "outputs": [],
   "source": [
    "# Parameters\n",
    "delta = (2 * np.pi) * 0.3\n",
    "eps_0 = (2 * np.pi) * 1.0\n",
    "A = (2 * np.pi) * 0.05\n",
    "w = (2 * np.pi) * 1.0\n",
    "kappa_1 = 0.15\n",
    "kappa_2 = 0.05\n",
    "\n",
    "# Operators\n",
    "sx = sigmax()\n",
    "sz = sigmaz()\n",
    "sm = destroy(2)\n",
    "\n",
    "# Non-driving Hamiltonian\n",
    "H0 = -delta / 2.0 * sx - eps_0 / 2.0 * sz\n",
    "\n",
    "# Driving Hamiltonian\n",
    "H1 = A / 2.0 * sz\n",
    "args = {\"w\": w}\n",
    "\n",
    "# Total Hamiltonian\n",
    "H = [H0, [H1, \"np.sin(w*t)\"]]\n",
    "\n",
    "# Collapse operators\n",
    "c_op_list = []\n",
    "\n",
    "# Thermal population\n",
    "n_th = 0.5\n",
    "\n",
    "# Relaxation\n",
    "rate = kappa_1 * (1 + n_th)\n",
    "\n",
    "if rate > 0.0:\n",
    "    c_op_list.append(np.sqrt(rate) * sm)\n",
    "\n",
    "# Excitation\n",
    "rate = kappa_1 * n_th\n",
    "\n",
    "if rate > 0.0:\n",
    "    c_op_list.append(np.sqrt(rate) * sm.dag())\n",
    "\n",
    "# Dephasing\n",
    "rate = kappa_2\n",
    "if rate > 0.0:\n",
    "    c_op_list.append(np.sqrt(rate) * sz)"
   ]
  },
  {
   "cell_type": "markdown",
   "id": "ef419ca1",
   "metadata": {},
   "source": [
    "### Time evolution"
   ]
  },
  {
   "cell_type": "code",
   "execution_count": 3,
   "id": "1937275e",
   "metadata": {
    "execution": {
     "iopub.execute_input": "2024-06-12T07:17:38.369043Z",
     "iopub.status.busy": "2024-06-12T07:17:38.368710Z",
     "iopub.status.idle": "2024-06-12T07:17:38.371756Z",
     "shell.execute_reply": "2024-06-12T07:17:38.371305Z"
    }
   },
   "outputs": [],
   "source": [
    "# Period\n",
    "T = 2 * np.pi / w\n",
    "\n",
    "# Simulation time\n",
    "t_list = np.linspace(0, 50, 500)\n",
    "\n",
    "# Initial state\n",
    "psi_0 = basis(2, 0)\n",
    "psi_1 = basis(2, 1)"
   ]
  },
  {
   "cell_type": "markdown",
   "id": "cbb3166b",
   "metadata": {},
   "source": [
    "### Master equation"
   ]
  },
  {
   "cell_type": "code",
   "execution_count": 4,
   "id": "9aab3f41",
   "metadata": {
    "execution": {
     "iopub.execute_input": "2024-06-12T07:17:38.373682Z",
     "iopub.status.busy": "2024-06-12T07:17:38.373348Z",
     "iopub.status.idle": "2024-06-12T07:17:38.423463Z",
     "shell.execute_reply": "2024-06-12T07:17:38.423001Z"
    }
   },
   "outputs": [
    {
     "name": "stderr",
     "output_type": "stream",
     "text": [
      "/usr/share/miniconda3/envs/test-environment/lib/python3.10/site-packages/qutip/core/coefficient.py:400: UserWarning: Both `cython` and `filelock` are required for compilation of string coefficents. Falling back on `eval`.\n",
      "  warnings.warn(\n"
     ]
    }
   ],
   "source": [
    "# Solve with the Master equation\n",
    "output = mesolve(H, psi_0, t_list, c_op_list, [psi_1 * psi_1.dag()], args)\n",
    "prob_me = output.expect[0]"
   ]
  },
  {
   "cell_type": "markdown",
   "id": "f0b90c58",
   "metadata": {},
   "source": [
    "### Steady-state method\n",
    "This function implements several different methods for finding the steady-state, each with their pros and cons. For this case, we use the default parametrization, `method=\"direct\"` and `solver=\"solve\"` which solves for\n",
    "\n",
    "$$\n",
    "\\frac{d\\hat \\rho_{ss}}{dt} = \\mathcal{L}\\hat \\rho_{ss} = 0\n",
    "$$\n",
    "\n",
    "`H0` is the quantum object representing the non-driving Hamiltonian, and `c_ops` is a list of quantum objects for the system collapse operators. The output, labeled as `rho_ss`, is the steady-state solution for the systems. When the default direct method is used, it is generated a solution that is exact to machine precision at the expense of a large memory requirement. The large amount of memory needed for the direct LU decomposition method stems from the large bandwidth of the system Liouvillian and the correspondingly large fill-in (extra nonzero elements) generated in the LU factors.\n",
    "\n",
    "More details for the steady-state methods and solvers can be found in [Steady-state solution methods for open quantum optical systems](https://arxiv.org/abs/1504.06768) by P. D. Nation."
   ]
  },
  {
   "cell_type": "code",
   "execution_count": 5,
   "id": "bd3e4a6a",
   "metadata": {
    "execution": {
     "iopub.execute_input": "2024-06-12T07:17:38.425444Z",
     "iopub.status.busy": "2024-06-12T07:17:38.425105Z",
     "iopub.status.idle": "2024-06-12T07:17:38.428796Z",
     "shell.execute_reply": "2024-06-12T07:17:38.428308Z"
    }
   },
   "outputs": [],
   "source": [
    "# Evaluate the steady-state using the steadystate method\n",
    "rho_ss = steadystate(H0, c_op_list, method=\"direct\", solver=\"solve\")\n",
    "prob_ss = expect(psi_1 * psi_1.dag(), rho_ss)"
   ]
  },
  {
   "cell_type": "markdown",
   "id": "6e6c72c1",
   "metadata": {},
   "source": [
    "### Propagator method\n",
    "In this case, with the `propagator` method, we evaluate the propagator $U(t)$ for the density matrix or wave function such that\n",
    "$$\n",
    "\\psi(t) = U(t)\\psi(0) \\qquad \\text{or} \\qquad \\rho_\\text{vec}(t) = U(t)\\rho_\\text{vec}(0)\n",
    "$$\n",
    "where $\\rho_\\text{vec}$ is the vector representation of the density matrix.\n",
    "\n",
    "`H` is the time-dependent system Hamiltonian, `T` represents the time for which to evaluate the propagator. If a single time is passed, the propagator from $0$ to $T$ is computed, `c_ops` is a list of quantum objects for the system collapse operators, and `args` are the parameters to callback functions for time-dependent Hamiltonians and collapse operators.\n",
    "Afterward, the `propagator_steadystate` method takes the propagator evaluated before and finds the steady-state for successive applications of the propagator. Computationally, evaluates the eigenvalues and eigenstates for $U(t)$, identifies the closest value to $1$ defined as the steady-state, and builds the normalized density matrix `rho_pss`."
   ]
  },
  {
   "cell_type": "code",
   "execution_count": 6,
   "id": "f8f4fc4d",
   "metadata": {
    "execution": {
     "iopub.execute_input": "2024-06-12T07:17:38.430577Z",
     "iopub.status.busy": "2024-06-12T07:17:38.430419Z",
     "iopub.status.idle": "2024-06-12T07:17:38.436318Z",
     "shell.execute_reply": "2024-06-12T07:17:38.435870Z"
    }
   },
   "outputs": [],
   "source": [
    "# Evaluate the steady-state using the propagator method\n",
    "U = propagator(H, T, c_op_list, args)\n",
    "rho_pss = propagator_steadystate(U)\n",
    "prob_pss = expect(psi_1 * psi_1.dag(), rho_pss)"
   ]
  },
  {
   "cell_type": "markdown",
   "id": "07c76ecb",
   "metadata": {},
   "source": [
    "### Floquet method\n",
    "In this last case, the `steadystate_floquet` method computes the effective-steady state for a driven system with a time-dependent sinusoidal term. From `H0` using `c_ops` and `H1` we build their respective Liouvillian superoperator: $\\mathcal{L}_0$, $\\mathcal{L}_m$ and $\\mathcal{L}_p$. The first term is associated with the non-driving Hamiltonian while the last two terms are the positive and negative frequency of the driving Hamiltonian. Overall we have\n",
    "$$\n",
    "\\mathcal{M} = \\mathcal{L}_0 + \\mathcal{L}_m e^{-i\\omega t} + \\mathcal{L}_p e^{i\\omega t}\n",
    "$$\n",
    "where $\\omega$ is the drive frequency. Finally, the $\\mathcal{M}$ superoperator is used to evaluate the steady-state using the `steadystate` method presented previously."
   ]
  },
  {
   "cell_type": "code",
   "execution_count": 7,
   "id": "c0306999",
   "metadata": {
    "execution": {
     "iopub.execute_input": "2024-06-12T07:17:38.438124Z",
     "iopub.status.busy": "2024-06-12T07:17:38.437851Z",
     "iopub.status.idle": "2024-06-12T07:17:38.443049Z",
     "shell.execute_reply": "2024-06-12T07:17:38.442538Z"
    }
   },
   "outputs": [],
   "source": [
    "# Evaluate the steady-state using the Floquet method\n",
    "rho_fss = steadystate_floquet(H0, c_op_list, H1, w)\n",
    "prob_fss = expect(psi_1 * psi_1.dag(), rho_fss)"
   ]
  },
  {
   "cell_type": "markdown",
   "id": "9e199518",
   "metadata": {},
   "source": [
    "### Results"
   ]
  },
  {
   "cell_type": "code",
   "execution_count": 8,
   "id": "9f6d6652",
   "metadata": {
    "execution": {
     "iopub.execute_input": "2024-06-12T07:17:38.445650Z",
     "iopub.status.busy": "2024-06-12T07:17:38.445287Z",
     "iopub.status.idle": "2024-06-12T07:17:38.739435Z",
     "shell.execute_reply": "2024-06-12T07:17:38.738879Z"
    }
   },
   "outputs": [
    {
     "data": {
      "image/png": "[encoded data removed]",
      "text/plain": [
       "<Figure size 1200x600 with 2 Axes>"
      ]
     },
     "metadata": {},
     "output_type": "display_data"
    }
   ],
   "source": [
    "# Figure\n",
    "fig, ax = plt.subplots(figsize=(12, 6))\n",
    "\n",
    "# Plot\n",
    "ax.plot(t_list, prob_me, label=\"Master equation\")\n",
    "ax.plot(t_list, prob_ss * np.ones(t_list.shape[0]), label=\"Steady state\")\n",
    "ax.plot(t_list, prob_pss * np.ones(t_list.shape[0]), label=\"Propagator steady state\")\n",
    "ax.plot(t_list, prob_fss * np.ones(t_list.shape[0]), label=\"Floquet steady state\")\n",
    "ax.set_ylim(0, 1)\n",
    "\n",
    "# Inset\n",
    "ax_inset = inset_axes(\n",
    "    ax,\n",
    "    width=\"60%\",\n",
    "    height=\"80%\",\n",
    "    loc=\"center\",\n",
    "    bbox_to_anchor=(0.2, 0.45, 0.5, 0.45),\n",
    "    bbox_transform=ax.transAxes,\n",
    ")\n",
    "ax_inset.plot(t_list, prob_me, label=\"Master Equation\")\n",
    "ax_inset.plot(t_list, prob_ss * np.ones(t_list.shape[0]), label=\"Steady state\")\n",
    "ax_inset.plot(\n",
    "    t_list, prob_pss * np.ones(t_list.shape[0]), label=\"Propagator steady state\"\n",
    ")\n",
    "ax_inset.plot(t_list, prob_fss * np.ones(t_list.shape[0]), label=\"Floquet steady state\")\n",
    "ax_inset.set_xlim(40, 50)\n",
    "ax_inset.set_ylim(0.25, 0.3)\n",
    "ax_inset.set_xticks([40, 45, 50])\n",
    "ax_inset.set_yticks([0.25, 0.27, 0.3])\n",
    "mark_inset(ax, ax_inset, loc1=3, loc2=4, fc=\"none\", ec=\"0.5\")\n",
    "\n",
    "# Labels\n",
    "ax.set_xlabel(\"Time\")\n",
    "ax.set_ylabel(\"$P(|1\\\\rangle)$\")\n",
    "ax.set_title(\"Excitation probabilty of qubit\")\n",
    "ax.legend()\n",
    "plt.show()"
   ]
  },
  {
   "cell_type": "markdown",
   "id": "8d0773c0",
   "metadata": {},
   "source": [
    "### About"
   ]
  },
  {
   "cell_type": "code",
   "execution_count": 9,
   "id": "26832959",
   "metadata": {
    "execution": {
     "iopub.execute_input": "2024-06-12T07:17:38.741370Z",
     "iopub.status.busy": "2024-06-12T07:17:38.741202Z",
     "iopub.status.idle": "2024-06-12T07:17:38.744445Z",
     "shell.execute_reply": "2024-06-12T07:17:38.743961Z"
    }
   },
   "outputs": [
    {
     "name": "stdout",
     "output_type": "stream",
     "text": [
      "\n",
      "QuTiP: Quantum Toolbox in Python\n",
      "================================\n",
      "Copyright (c) QuTiP team 2011 and later.\n",
      "Current admin team: Alexander Pitchford, Nathan Shammah, Shahnawaz Ahmed, Neill Lambert, Eric Giguère, Boxi Li, Jake Lishman, Simon Cross, Asier Galicia, Paul Menczel, and Patrick Hopf.\n",
      "Board members: Daniel Burgarth, Robert Johansson, Anton F. Kockum, Franco Nori and Will Zeng.\n",
      "Original developers: R. J. Johansson & P. D. Nation.\n",
      "Previous lead developers: Chris Granade & A. Grimsmo.\n",
      "Currently developed through wide collaboration. See https://github.com/qutip for details.\n",
      "\n",
      "QuTiP Version:      5.1.0.dev0+c874c4a\n",
      "Numpy Version:      1.22.4\n",
      "Scipy Version:      1.13.1\n",
      "Cython Version:     3.0.10\n",
      "Matplotlib Version: 3.5.2\n",
      "Python Version:     3.10.4\n",
      "Number of CPUs:     4\n",
      "BLAS Info:          Generic\n",
      "INTEL MKL Ext:      False\n",
      "Platform Info:      Linux (x86_64)\n",
      "Installation path:  /usr/share/miniconda3/envs/test-environment/lib/python3.10/site-packages/qutip\n",
      "================================================================================\n",
      "Please cite QuTiP in your publication.\n",
      "================================================================================\n",
      "For your convenience a bibtex reference can be easily generated using `qutip.cite()`\n"
     ]
    }
   ],
   "source": [
    "about()"
   ]
  },
  {
   "cell_type": "markdown",
   "id": "24fc80b6",
   "metadata": {},
   "source": [
    "### Testing"
   ]
  },
  {
   "cell_type": "code",
   "execution_count": 10,
   "id": "8155fb96",
   "metadata": {
    "execution": {
     "iopub.execute_input": "2024-06-12T07:17:38.746220Z",
     "iopub.status.busy": "2024-06-12T07:17:38.746057Z",
     "iopub.status.idle": "2024-06-12T07:17:38.754447Z",
     "shell.execute_reply": "2024-06-12T07:17:38.753897Z"
    }
   },
   "outputs": [],
   "source": [
    "np.testing.assert_allclose(prob_ss, np.mean(prob_me[200:]), atol=1e-2)\n",
    "np.testing.assert_allclose(prob_pss, np.mean(prob_me[200:]), atol=1e-2)\n",
    "np.testing.assert_allclose(prob_fss, np.mean(prob_me[200:]), atol=1e-2)\n",
    "np.testing.assert_allclose(prob_ss, prob_pss, atol=1e-2)\n",
    "np.testing.assert_allclose(prob_ss, prob_fss, atol=1e-2)\n",
    "np.testing.assert_allclose(prob_pss, prob_fss, atol=1e-2)"
   ]
  }
 ],
 "metadata": {
  "jupytext": {
   "cell_metadata_filter": "-all",
   "notebook_metadata_filter": "-jupytext.cell_metadata_filter,-jupytext.notebook_metadata_filter"
  },
  "kernelspec": {
   "display_name": "Python 3 (ipykernel)",
   "language": "python",
   "name": "python3"
  },
  "language_info": {
   "codemirror_mode": {
    "name": "ipython",
    "version": 3
   },
   "file_extension": ".py",
   "mimetype": "text/x-python",
   "name": "python",
   "nbconvert_exporter": "python",
   "pygments_lexer": "ipython3",
   "version": "3.10.4"
  }
 },
 "nbformat": 4,
 "nbformat_minor": 5
}
