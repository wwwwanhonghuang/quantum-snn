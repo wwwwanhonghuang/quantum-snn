{
 "cells": [
  {
   "cell_type": "markdown",
   "id": "38b94b64",
   "metadata": {},
   "source": [
    "# Floquet Solvers\n",
    "\n",
    "Author: C. Staufenbiel, 2022\n",
    "\n",
    "### Introduction\n",
    "\n",
    "The *Floquet formalism* deals with periodic time-dependent systems. The Floquet approach can be more efficient for such problems than using the standard master equation solver `qutip.mesolve()` and it has a broader range of validity for periodic driving.\n",
    "\n",
    "In this notebook, we will discuss the solver functionality of the Floquet formalism implemented in QuTiP using an example quantum system. A more detailed introduction into the Floquet formalism can be found in the [documentation](https://qutip.readthedocs.io/en/latest/guide/dynamics/dynamics-floquet.html).\n",
    "\n",
    "A more in depth introduction into the internal functions of the Floquet formalism, used also by the solvers `fsesolve` and `fmmesolve`, is given in the [*floquet formalism notebook*](012_floquet_formalism.md).\n",
    "\n",
    "### Imports"
   ]
  },
  {
   "cell_type": "code",
   "execution_count": 1,
   "id": "d1248f82",
   "metadata": {
    "execution": {
     "iopub.execute_input": "2024-06-12T07:12:48.640803Z",
     "iopub.status.busy": "2024-06-12T07:12:48.640643Z",
     "iopub.status.idle": "2024-06-12T07:12:49.386982Z",
     "shell.execute_reply": "2024-06-12T07:12:49.386432Z"
    }
   },
   "outputs": [],
   "source": [
    "import numpy as np\n",
    "from qutip import (about, basis, fmmesolve, fsesolve,\n",
    "                   plot_expectation_values, sigmax, sigmaz)"
   ]
  },
  {
   "cell_type": "markdown",
   "id": "53eaebe8",
   "metadata": {},
   "source": [
    "In this example we will consider a strongly driven two level system, described by the time-dependent Hamiltonian:\n",
    "\n",
    "$$ H(t) = -\\frac{\\Delta}{2} \\sigma_x - \\frac{\\epsilon_0}{2} \\sigma_z + \\frac{A}{2} sin(\\omega t) \\sigma_z$$"
   ]
  },
  {
   "cell_type": "code",
   "execution_count": 2,
   "id": "29e8d637",
   "metadata": {
    "execution": {
     "iopub.execute_input": "2024-06-12T07:12:49.389394Z",
     "iopub.status.busy": "2024-06-12T07:12:49.389151Z",
     "iopub.status.idle": "2024-06-12T07:12:49.393041Z",
     "shell.execute_reply": "2024-06-12T07:12:49.392584Z"
    }
   },
   "outputs": [],
   "source": [
    "# define constants\n",
    "delta = 0.2 * 2 * np.pi\n",
    "eps0 = 2 * np.pi\n",
    "A = 2.5 * 2 * np.pi\n",
    "omega = 2 * np.pi\n",
    "\n",
    "# Non driving hamiltoninan\n",
    "H0 = -delta / 2.0 * sigmax() - eps0 / 2.0 * sigmaz()\n",
    "\n",
    "# Driving Hamiltonian\n",
    "H1 = [A / 2.0 * sigmaz(), \"sin(w*t)\"]\n",
    "args = {\"w\": omega}\n",
    "\n",
    "# combined hamiltonian\n",
    "H = [H0, H1]\n",
    "\n",
    "# initial state\n",
    "psi0 = basis(2, 0)"
   ]
  },
  {
   "cell_type": "markdown",
   "id": "e9f7a7cf",
   "metadata": {},
   "source": [
    "### Floquet Schrödinger Equation\n",
    "\n",
    "We can now use the `qutip.fsesolve()` function to solve the dynamics of the system using the Floquet formalism for the Schrödinger equation. The arguments are similar to the ones passed to `qutip.sesolve()`. There is an optional parameter `T` which defines the period of the time-dependence. If `T` is not given it is assumed that the passed `tlist` spans one period. Therefore we always pass `T` in this tutorial."
   ]
  },
  {
   "cell_type": "code",
   "execution_count": 3,
   "id": "7b808880",
   "metadata": {
    "execution": {
     "iopub.execute_input": "2024-06-12T07:12:49.395104Z",
     "iopub.status.busy": "2024-06-12T07:12:49.394751Z",
     "iopub.status.idle": "2024-06-12T07:12:49.522661Z",
     "shell.execute_reply": "2024-06-12T07:12:49.522076Z"
    }
   },
   "outputs": [
    {
     "name": "stderr",
     "output_type": "stream",
     "text": [
      "/usr/share/miniconda3/envs/test-environment/lib/python3.10/site-packages/qutip/core/coefficient.py:400: UserWarning: Both `cython` and `filelock` are required for compilation of string coefficents. Falling back on `eval`.\n",
      "  warnings.warn(\n"
     ]
    },
    {
     "data": {
      "image/png": "[encoded data removed]",
      "text/plain": [
       "<Figure size 640x480 with 1 Axes>"
      ]
     },
     "metadata": {},
     "output_type": "display_data"
    }
   ],
   "source": [
    "# period time\n",
    "T = 2 * np.pi / omega\n",
    "# simulation time\n",
    "tlist = np.linspace(0, 2.5 * T, 101)\n",
    "# simulation\n",
    "result = fsesolve(H, psi0, tlist, T=T, e_ops=[sigmaz()], args=args)\n",
    "\n",
    "plot_expectation_values([result], ylabels=[\"<Z>\"]);"
   ]
  },
  {
   "cell_type": "markdown",
   "id": "a4be5912",
   "metadata": {},
   "source": [
    "### Floquet Markov Master Equation\n",
    "\n",
    "Similar to `mesolve()` we can also use the Floquet formalism to solve a master equation  for a dissipative quantum system. The corresponding function is `fmmesolve()`. However, the dissipation process is here described as a noise spectral-density function.\n",
    "\n",
    "For example we can define a linear noise spectral-density as:\n",
    "\n",
    "$$ S(\\omega) = \\frac{\\gamma \\cdot \\omega}{4 \\pi} $$\n",
    "\n",
    "where $\\gamma$ is the dissipation rate. The system-bath interaction is described by coupling operators, e.g. here we use $\\sigma_x$ as a coupling operator.\n",
    "\n",
    "Each spectral function callable should accept a numpy array of frequencies and return an array of spectral densities. The frequencies passed in correspond to differences in the Floque quasi-energies and may be negative. One can return zero power for negative frequencies by multiplying the spectral density function by `(omega > 0)`, as   we do in the code below."
   ]
  },
  {
   "cell_type": "code",
   "execution_count": 4,
   "id": "f7e87fa0",
   "metadata": {
    "execution": {
     "iopub.execute_input": "2024-06-12T07:12:49.524948Z",
     "iopub.status.busy": "2024-06-12T07:12:49.524742Z",
     "iopub.status.idle": "2024-06-12T07:12:49.571097Z",
     "shell.execute_reply": "2024-06-12T07:12:49.570622Z"
    }
   },
   "outputs": [
    {
     "name": "stdout",
     "output_type": "stream",
     "text": [
      "10.0%. Run time:   0.00s. Est. time left: 00:00:00:00\n"
     ]
    },
    {
     "name": "stdout",
     "output_type": "stream",
     "text": [
      "20.0%. Run time:   0.00s. Est. time left: 00:00:00:00\n"
     ]
    },
    {
     "name": "stdout",
     "output_type": "stream",
     "text": [
      "30.0%. Run time:   0.01s. Est. time left: 00:00:00:00\n"
     ]
    },
    {
     "name": "stdout",
     "output_type": "stream",
     "text": [
      "40.0%. Run time:   0.01s. Est. time left: 00:00:00:00\n"
     ]
    },
    {
     "name": "stdout",
     "output_type": "stream",
     "text": [
      "50.0%. Run time:   0.01s. Est. time left: 00:00:00:00\n"
     ]
    },
    {
     "name": "stdout",
     "output_type": "stream",
     "text": [
      "60.0%. Run time:   0.01s. Est. time left: 00:00:00:00\n"
     ]
    },
    {
     "name": "stdout",
     "output_type": "stream",
     "text": [
      "70.0%. Run time:   0.01s. Est. time left: 00:00:00:00\n"
     ]
    },
    {
     "name": "stdout",
     "output_type": "stream",
     "text": [
      "80.0%. Run time:   0.02s. Est. time left: 00:00:00:00\n"
     ]
    },
    {
     "name": "stdout",
     "output_type": "stream",
     "text": [
      "90.0%. Run time:   0.02s. Est. time left: 00:00:00:00\n"
     ]
    },
    {
     "name": "stdout",
     "output_type": "stream",
     "text": [
      "100.0%. Run time:   0.02s. Est. time left: 00:00:00:00\n"
     ]
    },
    {
     "name": "stdout",
     "output_type": "stream",
     "text": [
      "Total run time:   0.02s\n"
     ]
    }
   ],
   "source": [
    "# Noise Spectral Density\n",
    "gamma = 0.5\n",
    "\n",
    "\n",
    "def noise_spectrum(omega):\n",
    "    return (omega > 0) * gamma * omega / (4 * np.pi)\n",
    "\n",
    "\n",
    "# Coupling operator and noise spectrum\n",
    "c_ops = [sigmax()]\n",
    "spectra_cb = [noise_spectrum]\n",
    "\n",
    "# Solve using Fmmesolve\n",
    "fme_result = fmmesolve(\n",
    "    H,\n",
    "    psi0,\n",
    "    tlist,\n",
    "    c_ops=c_ops,\n",
    "    spectra_cb=spectra_cb,\n",
    "    e_ops=[sigmaz()],\n",
    "    T=T,\n",
    "    args=args,\n",
    ")"
   ]
  },
  {
   "cell_type": "markdown",
   "id": "33305b90",
   "metadata": {},
   "source": [
    "We can observe the dissipation dynamics when comparing the results to the expectation values obtained from `fsesolve()`."
   ]
  },
  {
   "cell_type": "code",
   "execution_count": 5,
   "id": "dda35fde",
   "metadata": {
    "execution": {
     "iopub.execute_input": "2024-06-12T07:12:49.573064Z",
     "iopub.status.busy": "2024-06-12T07:12:49.572718Z",
     "iopub.status.idle": "2024-06-12T07:12:49.683111Z",
     "shell.execute_reply": "2024-06-12T07:12:49.682587Z"
    }
   },
   "outputs": [
    {
     "data": {
      "image/png": "[encoded data removed]",
      "text/plain": [
       "<Figure size 640x480 with 1 Axes>"
      ]
     },
     "metadata": {},
     "output_type": "display_data"
    }
   ],
   "source": [
    "fig, axes = plot_expectation_values([result, fme_result], ylabels=[\"<Z>\"])\n",
    "axes[0].legend(['fsesolve', 'fmmesolve'], loc='upper right');"
   ]
  },
  {
   "cell_type": "markdown",
   "id": "81bfe40e",
   "metadata": {},
   "source": [
    "### About"
   ]
  },
  {
   "cell_type": "code",
   "execution_count": 6,
   "id": "1d63eefa",
   "metadata": {
    "execution": {
     "iopub.execute_input": "2024-06-12T07:12:49.685501Z",
     "iopub.status.busy": "2024-06-12T07:12:49.685301Z",
     "iopub.status.idle": "2024-06-12T07:12:49.688471Z",
     "shell.execute_reply": "2024-06-12T07:12:49.687966Z"
    }
   },
   "outputs": [
    {
     "name": "stdout",
     "output_type": "stream",
     "text": [
      "\n",
      "QuTiP: Quantum Toolbox in Python\n",
      "================================\n",
      "Copyright (c) QuTiP team 2011 and later.\n",
      "Current admin team: Alexander Pitchford, Nathan Shammah, Shahnawaz Ahmed, Neill Lambert, Eric Giguère, Boxi Li, Jake Lishman, Simon Cross, Asier Galicia, Paul Menczel, and Patrick Hopf.\n",
      "Board members: Daniel Burgarth, Robert Johansson, Anton F. Kockum, Franco Nori and Will Zeng.\n",
      "Original developers: R. J. Johansson & P. D. Nation.\n",
      "Previous lead developers: Chris Granade & A. Grimsmo.\n",
      "Currently developed through wide collaboration. See https://github.com/qutip for details.\n",
      "\n",
      "QuTiP Version:      5.1.0.dev0+c874c4a\n",
      "Numpy Version:      1.22.4\n",
      "Scipy Version:      1.13.1\n",
      "Cython Version:     3.0.10\n",
      "Matplotlib Version: 3.5.2\n",
      "Python Version:     3.10.4\n",
      "Number of CPUs:     4\n",
      "BLAS Info:          Generic\n",
      "INTEL MKL Ext:      False\n",
      "Platform Info:      Linux (x86_64)\n",
      "Installation path:  /usr/share/miniconda3/envs/test-environment/lib/python3.10/site-packages/qutip\n",
      "================================================================================\n",
      "Please cite QuTiP in your publication.\n",
      "================================================================================\n",
      "For your convenience a bibtex reference can be easily generated using `qutip.cite()`\n"
     ]
    }
   ],
   "source": [
    "about()"
   ]
  },
  {
   "cell_type": "markdown",
   "id": "7d97578c",
   "metadata": {},
   "source": [
    "### Testing"
   ]
  },
  {
   "cell_type": "code",
   "execution_count": 7,
   "id": "a067e7f8",
   "metadata": {
    "execution": {
     "iopub.execute_input": "2024-06-12T07:12:49.690681Z",
     "iopub.status.busy": "2024-06-12T07:12:49.690296Z",
     "iopub.status.idle": "2024-06-12T07:12:49.732073Z",
     "shell.execute_reply": "2024-06-12T07:12:49.731591Z"
    }
   },
   "outputs": [
    {
     "name": "stdout",
     "output_type": "stream",
     "text": [
      "10.0%. Run time:   0.00s. Est. time left: 00:00:00:00\n"
     ]
    },
    {
     "name": "stdout",
     "output_type": "stream",
     "text": [
      "20.0%. Run time:   0.00s. Est. time left: 00:00:00:00\n"
     ]
    },
    {
     "name": "stdout",
     "output_type": "stream",
     "text": [
      "30.0%. Run time:   0.01s. Est. time left: 00:00:00:00\n"
     ]
    },
    {
     "name": "stdout",
     "output_type": "stream",
     "text": [
      "40.0%. Run time:   0.01s. Est. time left: 00:00:00:00\n"
     ]
    },
    {
     "name": "stdout",
     "output_type": "stream",
     "text": [
      "50.0%. Run time:   0.01s. Est. time left: 00:00:00:00\n"
     ]
    },
    {
     "name": "stdout",
     "output_type": "stream",
     "text": [
      "60.0%. Run time:   0.01s. Est. time left: 00:00:00:00\n"
     ]
    },
    {
     "name": "stdout",
     "output_type": "stream",
     "text": [
      "70.0%. Run time:   0.01s. Est. time left: 00:00:00:00\n"
     ]
    },
    {
     "name": "stdout",
     "output_type": "stream",
     "text": [
      "80.0%. Run time:   0.02s. Est. time left: 00:00:00:00\n"
     ]
    },
    {
     "name": "stdout",
     "output_type": "stream",
     "text": [
      "90.0%. Run time:   0.02s. Est. time left: 00:00:00:00\n"
     ]
    },
    {
     "name": "stdout",
     "output_type": "stream",
     "text": [
      "100.0%. Run time:   0.02s. Est. time left: 00:00:00:00\n"
     ]
    },
    {
     "name": "stdout",
     "output_type": "stream",
     "text": [
      "Total run time:   0.02s\n"
     ]
    }
   ],
   "source": [
    "fme_result_nodis = fmmesolve(\n",
    "    H,\n",
    "    psi0,\n",
    "    tlist,\n",
    "    c_ops=c_ops,\n",
    "    spectra_cb=[lambda w: np.zeros_like(w)],\n",
    "    e_ops=[sigmaz()],\n",
    "    T=T,\n",
    "    args=args,\n",
    ")"
   ]
  },
  {
   "cell_type": "code",
   "execution_count": 8,
   "id": "49891b8d",
   "metadata": {
    "execution": {
     "iopub.execute_input": "2024-06-12T07:12:49.733982Z",
     "iopub.status.busy": "2024-06-12T07:12:49.733640Z",
     "iopub.status.idle": "2024-06-12T07:12:49.736650Z",
     "shell.execute_reply": "2024-06-12T07:12:49.736181Z"
    }
   },
   "outputs": [],
   "source": [
    "assert np.allclose(result.expect[0], fme_result_nodis.expect[0], atol=0.1)\n",
    "assert not np.allclose(fme_result.expect[0],\n",
    "                       fme_result_nodis.expect[0], atol=0.1)"
   ]
  }
 ],
 "metadata": {
  "jupytext": {
   "cell_metadata_filter": "-all",
   "notebook_metadata_filter": "-jupytext.cell_metadata_filter,-jupytext.notebook_metadata_filter"
  },
  "kernelspec": {
   "display_name": "Python 3 (ipykernel)",
   "language": "python",
   "name": "python3"
  },
  "language_info": {
   "codemirror_mode": {
    "name": "ipython",
    "version": 3
   },
   "file_extension": ".py",
   "mimetype": "text/x-python",
   "name": "python",
   "nbconvert_exporter": "python",
   "pygments_lexer": "ipython3",
   "version": "3.10.4"
  }
 },
 "nbformat": 4,
 "nbformat_minor": 5
}
