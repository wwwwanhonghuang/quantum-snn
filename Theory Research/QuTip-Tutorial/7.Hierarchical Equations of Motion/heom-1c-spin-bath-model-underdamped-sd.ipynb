{
 "cells": [
  {
   "cell_type": "markdown",
   "id": "47823065",
   "metadata": {},
   "source": [
    "# HEOM 1c: Spin-Bath model (Underdamped Case)"
   ]
  },
  {
   "cell_type": "markdown",
   "id": "c242c9ec",
   "metadata": {},
   "source": [
    "## Introduction\n",
    "\n",
    "The HEOM method solves the dynamics and steady state of a system and its environment, the latter of which is encoded in a set of auxiliary density matrices.\n",
    "\n",
    "In this example we show the evolution of a single two-level system in contact with a single Bosonic environment.  The properties of the system are encoded in Hamiltonian, and a coupling operator which describes how it is coupled to the environment.\n",
    "\n",
    "The Bosonic environment is implicitly assumed to obey a particular Hamiltonian ([see paper](https://arxiv.org/abs/2010.10806)), the parameters of which are encoded in the spectral density, and subsequently the free-bath correlation functions.\n",
    "\n",
    "In the example below we show how to model the underdamped Brownian motion Spectral Density.\n",
    "\n",
    "Note that in the following, we set $\\hbar = k_\\mathrm{B} = 1$.\n",
    "\n",
    "###  Brownian motion (underdamped) spectral density\n",
    "The underdamped spectral density is:\n",
    "\n",
    "$$J_U = \\frac{\\alpha^2 \\Gamma \\omega}{(\\omega_c^2 - \\omega^2)^2 + \\Gamma^2 \\omega^2)}.$$\n",
    "\n",
    "Here $\\alpha$  scales the coupling strength, $\\Gamma$ is the cut-off frequency, and $\\omega_c$ defines a resonance frequency.  With the HEOM we must use an exponential decomposition:\n",
    "\n",
    "The Matsubara decomposition of this spectral density is, in real and imaginary parts:\n",
    "\n",
    "\n",
    "\n",
    "\\begin{equation*}\n",
    "    c_k^R = \\begin{cases}\n",
    "               \\alpha^2 \\coth(\\beta( \\Omega + i\\Gamma/2)/2)/4\\Omega & k = 0\\\\\n",
    "               \\alpha^2 \\coth(\\beta( \\Omega - i\\Gamma/2)/2)/4\\Omega & k = 0\\\\\n",
    "              -2\\alpha^2\\Gamma/\\beta \\frac{\\epsilon_k }{((\\Omega + i\\Gamma/2)^2 + \\epsilon_k^2)(\\Omega - i\\Gamma/2)^2 + \\epsilon_k^2)}      & k \\geq 1\\\\\n",
    "           \\end{cases}\n",
    "\\end{equation*}\n",
    "\n",
    "\\begin{equation*}\n",
    "    \\nu_k^R = \\begin{cases}\n",
    "               -i\\Omega  + \\Gamma/2, i\\Omega  +\\Gamma/2,             & k = 0\\\\\n",
    "               {2 \\pi k} / {\\beta }  & k \\geq 1\\\\\n",
    "           \\end{cases}\n",
    "\\end{equation*}\n",
    "\n",
    "\n",
    "\n",
    "\n",
    "\\begin{equation*}\n",
    "    c_k^I = \\begin{cases}\n",
    "               i\\alpha^2 /4\\Omega & k = 0\\\\\n",
    "                -i\\alpha^2 /4\\Omega & k = 0\\\\\n",
    "           \\end{cases}\n",
    "\\end{equation*}\n",
    "\n",
    "\\begin{equation*}\n",
    "    \\nu_k^I = \\begin{cases}\n",
    "               i\\Omega  + \\Gamma/2, -i\\Omega  + \\Gamma/2,             & k = 0\\\\\n",
    "           \\end{cases}\n",
    "\\end{equation*}\n",
    "\n",
    "Note that in the above, and the following, we set $\\hbar = k_\\mathrm{B} = 1$."
   ]
  },
  {
   "cell_type": "markdown",
   "id": "e50e5237",
   "metadata": {},
   "source": [
    "## Setup"
   ]
  },
  {
   "cell_type": "code",
   "execution_count": 1,
   "id": "5430b946",
   "metadata": {
    "execution": {
     "iopub.execute_input": "2024-06-12T07:05:04.379725Z",
     "iopub.status.busy": "2024-06-12T07:05:04.379306Z",
     "iopub.status.idle": "2024-06-12T07:05:05.135049Z",
     "shell.execute_reply": "2024-06-12T07:05:05.134581Z"
    }
   },
   "outputs": [],
   "source": [
    "import contextlib\n",
    "import time\n",
    "\n",
    "import numpy as np\n",
    "from matplotlib import pyplot as plt\n",
    "\n",
    "import qutip\n",
    "from qutip import (\n",
    "    basis,\n",
    "    brmesolve,\n",
    "    destroy,\n",
    "    expect,\n",
    "    qeye,\n",
    "    sigmax,\n",
    "    sigmaz,\n",
    "    tensor,\n",
    ")\n",
    "from qutip.solver.heom import (\n",
    "    HEOMSolver,\n",
    "    BosonicBath,\n",
    "    UnderDampedBath,\n",
    ")\n",
    "\n",
    "%matplotlib inline"
   ]
  },
  {
   "cell_type": "markdown",
   "id": "519cc431",
   "metadata": {},
   "source": [
    "## Helper functions\n",
    "\n",
    "Let's define some helper functions for calculating correlation function expansions, plotting results and timing how long operations take:"
   ]
  },
  {
   "cell_type": "code",
   "execution_count": 2,
   "id": "6cca9d20",
   "metadata": {
    "execution": {
     "iopub.execute_input": "2024-06-12T07:05:05.137367Z",
     "iopub.status.busy": "2024-06-12T07:05:05.137146Z",
     "iopub.status.idle": "2024-06-12T07:05:05.140175Z",
     "shell.execute_reply": "2024-06-12T07:05:05.139628Z"
    }
   },
   "outputs": [],
   "source": [
    "def cot(x):\n",
    "    \"\"\" Vectorized cotangent of x. \"\"\"\n",
    "    return 1. / np.tan(x)"
   ]
  },
  {
   "cell_type": "code",
   "execution_count": 3,
   "id": "60b687b1",
   "metadata": {
    "execution": {
     "iopub.execute_input": "2024-06-12T07:05:05.142360Z",
     "iopub.status.busy": "2024-06-12T07:05:05.141942Z",
     "iopub.status.idle": "2024-06-12T07:05:05.144731Z",
     "shell.execute_reply": "2024-06-12T07:05:05.144323Z"
    }
   },
   "outputs": [],
   "source": [
    "def coth(x):\n",
    "    \"\"\" Vectorized hyperbolic cotangent of x. \"\"\"\n",
    "    return 1. / np.tanh(x)"
   ]
  },
  {
   "cell_type": "code",
   "execution_count": 4,
   "id": "98b3a9d6",
   "metadata": {
    "execution": {
     "iopub.execute_input": "2024-06-12T07:05:05.146650Z",
     "iopub.status.busy": "2024-06-12T07:05:05.146342Z",
     "iopub.status.idle": "2024-06-12T07:05:05.151807Z",
     "shell.execute_reply": "2024-06-12T07:05:05.151380Z"
    }
   },
   "outputs": [],
   "source": [
    "def underdamped_matsubara_params(lam, gamma, T, nk):\n",
    "    \"\"\" Calculation of the real and imaginary expansions of the\n",
    "        underdamped correlation functions.\n",
    "    \"\"\"\n",
    "    Om = np.sqrt(w0**2 - (gamma / 2)**2)\n",
    "    Gamma = gamma / 2.\n",
    "    beta = 1. / T\n",
    "\n",
    "    ckAR = [\n",
    "        (lam**2 / (4*Om)) * coth(beta * (Om + 1.0j * Gamma) / 2),\n",
    "        (lam**2 / (4*Om)) * coth(beta * (Om - 1.0j * Gamma) / 2),\n",
    "    ]\n",
    "    ckAR.extend(\n",
    "        (-2 * lam**2 * gamma / beta) * (2 * np.pi * k / beta) /\n",
    "        (((Om + 1.0j * Gamma)**2 + (2 * np.pi * k / beta)**2) *\n",
    "         ((Om - 1.0j * Gamma)**2 + (2 * np.pi * k / beta)**2)) + 0.j\n",
    "        for k in range(1, nk + 1)\n",
    "    )\n",
    "    vkAR = [\n",
    "        -1.0j * Om + Gamma,\n",
    "        1.0j * Om + Gamma,\n",
    "    ]\n",
    "    vkAR.extend(\n",
    "        2 * np.pi * k * T + 0.j\n",
    "        for k in range(1, nk + 1)\n",
    "    )\n",
    "\n",
    "    factor = 1. / 4\n",
    "\n",
    "    ckAI = [\n",
    "        -factor * lam**2 * 1.0j / Om,\n",
    "        factor * lam**2 * 1.0j / Om,\n",
    "    ]\n",
    "    vkAI = [\n",
    "        -(-1.0j * Om - Gamma),\n",
    "        -(1.0j * Om - Gamma),\n",
    "    ]\n",
    "\n",
    "    return ckAR, vkAR, ckAI, vkAI"
   ]
  },
  {
   "cell_type": "code",
   "execution_count": 5,
   "id": "adc8b4d3",
   "metadata": {
    "execution": {
     "iopub.execute_input": "2024-06-12T07:05:05.153844Z",
     "iopub.status.busy": "2024-06-12T07:05:05.153446Z",
     "iopub.status.idle": "2024-06-12T07:05:05.157801Z",
     "shell.execute_reply": "2024-06-12T07:05:05.157248Z"
    }
   },
   "outputs": [],
   "source": [
    "def plot_result_expectations(plots, axes=None):\n",
    "    \"\"\" Plot the expectation values of operators as functions of time.\n",
    "\n",
    "        Each plot in plots consists of: (solver_result, measurement_operation,\n",
    "        color, label).\n",
    "    \"\"\"\n",
    "    if axes is None:\n",
    "        fig, axes = plt.subplots(1, 1, sharex=True, figsize=(8, 8))\n",
    "        fig_created = True\n",
    "    else:\n",
    "        fig = None\n",
    "        fig_created = False\n",
    "\n",
    "    # add kw arguments to each plot if missing\n",
    "    plots = [p if len(p) == 5 else p + ({},) for p in plots]\n",
    "    for result, m_op, color, label, kw in plots:\n",
    "        exp = np.real(expect(result.states, m_op))\n",
    "        kw.setdefault(\"linewidth\", 2)\n",
    "        axes.plot(result.times, exp, color, label=label, **kw)\n",
    "\n",
    "    if fig_created:\n",
    "        axes.legend(loc=0, fontsize=12)\n",
    "        axes.set_xlabel(\"t\", fontsize=28)\n",
    "\n",
    "    return fig"
   ]
  },
  {
   "cell_type": "code",
   "execution_count": 6,
   "id": "c68c0a74",
   "metadata": {
    "execution": {
     "iopub.execute_input": "2024-06-12T07:05:05.159780Z",
     "iopub.status.busy": "2024-06-12T07:05:05.159365Z",
     "iopub.status.idle": "2024-06-12T07:05:05.162415Z",
     "shell.execute_reply": "2024-06-12T07:05:05.161876Z"
    }
   },
   "outputs": [],
   "source": [
    "@contextlib.contextmanager\n",
    "def timer(label):\n",
    "    \"\"\" Simple utility for timing functions:\n",
    "\n",
    "        with timer(\"name\"):\n",
    "            ... code to time ...\n",
    "    \"\"\"\n",
    "    start = time.time()\n",
    "    yield\n",
    "    end = time.time()\n",
    "    print(f\"{label}: {end - start}\")"
   ]
  },
  {
   "cell_type": "code",
   "execution_count": 7,
   "id": "c1fccdfb",
   "metadata": {
    "execution": {
     "iopub.execute_input": "2024-06-12T07:05:05.164601Z",
     "iopub.status.busy": "2024-06-12T07:05:05.164182Z",
     "iopub.status.idle": "2024-06-12T07:05:05.167203Z",
     "shell.execute_reply": "2024-06-12T07:05:05.166747Z"
    }
   },
   "outputs": [],
   "source": [
    "# Solver options:\n",
    "\n",
    "options = {\n",
    "    \"nsteps\": 15000,\n",
    "    \"store_states\": True,\n",
    "    \"rtol\": 1e-14,\n",
    "    \"atol\": 1e-14,\n",
    "    \"method\": \"vern9\",\n",
    "    \"progress_bar\": \"enhanced\",\n",
    "}"
   ]
  },
  {
   "cell_type": "markdown",
   "id": "35c7777c",
   "metadata": {},
   "source": [
    "## System and bath definition\n",
    "\n",
    "And let us set up the system Hamiltonian, bath and system measurement operators:"
   ]
  },
  {
   "cell_type": "code",
   "execution_count": 8,
   "id": "b9740b39",
   "metadata": {
    "execution": {
     "iopub.execute_input": "2024-06-12T07:05:05.169216Z",
     "iopub.status.busy": "2024-06-12T07:05:05.168783Z",
     "iopub.status.idle": "2024-06-12T07:05:05.171762Z",
     "shell.execute_reply": "2024-06-12T07:05:05.171204Z"
    }
   },
   "outputs": [],
   "source": [
    "# Defining the system Hamiltonian\n",
    "eps = .5     # Energy of the 2-level system.\n",
    "Del = 1.0    # Tunnelling term\n",
    "Hsys = 0.5 * eps * sigmaz() + 0.5 * Del * sigmax()"
   ]
  },
  {
   "cell_type": "code",
   "execution_count": 9,
   "id": "ed5132fa",
   "metadata": {
    "execution": {
     "iopub.execute_input": "2024-06-12T07:05:05.173736Z",
     "iopub.status.busy": "2024-06-12T07:05:05.173422Z",
     "iopub.status.idle": "2024-06-12T07:05:05.176403Z",
     "shell.execute_reply": "2024-06-12T07:05:05.175862Z"
    }
   },
   "outputs": [],
   "source": [
    "# Initial state of the system.\n",
    "rho0 = basis(2, 0) * basis(2, 0).dag()"
   ]
  },
  {
   "cell_type": "code",
   "execution_count": 10,
   "id": "3a00a057",
   "metadata": {
    "execution": {
     "iopub.execute_input": "2024-06-12T07:05:05.178275Z",
     "iopub.status.busy": "2024-06-12T07:05:05.177960Z",
     "iopub.status.idle": "2024-06-12T07:05:05.181260Z",
     "shell.execute_reply": "2024-06-12T07:05:05.180711Z"
    }
   },
   "outputs": [],
   "source": [
    "# System-bath coupling (underdamed spectral density)\n",
    "Q = sigmaz()  # coupling operator\n",
    "\n",
    "# Bath properties:\n",
    "gamma = .1  # cut off frequency\n",
    "lam = .5  # coupling strength\n",
    "w0 = 1.  # resonance frequency\n",
    "T = 1.\n",
    "beta = 1. / T\n",
    "\n",
    "# HEOM parameters:\n",
    "\n",
    "# number of exponents to retain in the Matsubara expansion of the\n",
    "# bath correlation function:\n",
    "Nk = 2\n",
    "\n",
    "# Number of levels of the hierarchy to retain:\n",
    "NC = 10\n",
    "\n",
    "# Times to solve for:\n",
    "tlist = np.linspace(0, 50, 1000)"
   ]
  },
  {
   "cell_type": "code",
   "execution_count": 11,
   "id": "b9a933ae",
   "metadata": {
    "execution": {
     "iopub.execute_input": "2024-06-12T07:05:05.183165Z",
     "iopub.status.busy": "2024-06-12T07:05:05.182839Z",
     "iopub.status.idle": "2024-06-12T07:05:05.185946Z",
     "shell.execute_reply": "2024-06-12T07:05:05.185498Z"
    }
   },
   "outputs": [],
   "source": [
    "# Define some operators with which we will measure the system\n",
    "# 1,1 element of density matrix - corresonding to groundstate\n",
    "P11p = basis(2, 0) * basis(2, 0).dag()\n",
    "P22p = basis(2, 1) * basis(2, 1).dag()\n",
    "# 1,2 element of density matrix  - corresonding to coherence\n",
    "P12p = basis(2, 0) * basis(2, 1).dag()"
   ]
  },
  {
   "cell_type": "markdown",
   "id": "70c6799d",
   "metadata": {},
   "source": [
    "### First let us look at what the underdamped spectral density looks like:"
   ]
  },
  {
   "cell_type": "code",
   "execution_count": 12,
   "id": "b4846517",
   "metadata": {
    "execution": {
     "iopub.execute_input": "2024-06-12T07:05:05.187918Z",
     "iopub.status.busy": "2024-06-12T07:05:05.187589Z",
     "iopub.status.idle": "2024-06-12T07:05:05.399827Z",
     "shell.execute_reply": "2024-06-12T07:05:05.399252Z"
    }
   },
   "outputs": [
    {
     "data": {
      "image/png": "[encoded data removed]",
      "text/plain": [
       "<Figure size 800x800 with 1 Axes>"
      ]
     },
     "metadata": {},
     "output_type": "display_data"
    }
   ],
   "source": [
    "def plot_spectral_density():\n",
    "    \"\"\" Plot the underdamped spectral density \"\"\"\n",
    "    w = np.linspace(0, 5, 1000)\n",
    "    J = lam**2 * gamma * w / ((w0**2 - w**2)**2 + (gamma**2) * (w**2))\n",
    "\n",
    "    fig, axes = plt.subplots(1, 1, sharex=True, figsize=(8, 8))\n",
    "    axes.plot(w, J, 'r', linewidth=2)\n",
    "    axes.set_xlabel(r'$\\omega$', fontsize=28)\n",
    "    axes.set_ylabel(r'J', fontsize=28)\n",
    "\n",
    "\n",
    "plot_spectral_density()"
   ]
  },
  {
   "cell_type": "markdown",
   "id": "3817fcca",
   "metadata": {},
   "source": [
    "The correlation functions are now very oscillatory, because of the Lorentzian peak in the spectral density."
   ]
  },
  {
   "cell_type": "markdown",
   "id": "230b04ab",
   "metadata": {},
   "source": [
    "### So next, let us plot the correlation functions themselves:"
   ]
  },
  {
   "cell_type": "code",
   "execution_count": 13,
   "id": "791177b4",
   "metadata": {
    "execution": {
     "iopub.execute_input": "2024-06-12T07:05:05.401893Z",
     "iopub.status.busy": "2024-06-12T07:05:05.401709Z",
     "iopub.status.idle": "2024-06-12T07:05:05.545386Z",
     "shell.execute_reply": "2024-06-12T07:05:05.544872Z"
    }
   },
   "outputs": [
    {
     "data": {
      "image/png": "[encoded data removed]",
      "text/plain": [
       "<Figure size 800x800 with 1 Axes>"
      ]
     },
     "metadata": {},
     "output_type": "display_data"
    }
   ],
   "source": [
    "def Mk(t, k, gamma, w0, beta):\n",
    "    \"\"\" Calculate the Matsubara terms for a given t and k. \"\"\"\n",
    "    Om = np.sqrt(w0**2 - (gamma / 2)**2)\n",
    "    Gamma = gamma / 2.\n",
    "    ek = 2 * np.pi * k / beta\n",
    "\n",
    "    return (\n",
    "        (-2 * lam**2 * gamma / beta) * ek * np.exp(-ek * np.abs(t))\n",
    "        / (((Om + 1.0j * Gamma)**2 + ek**2) * ((Om - 1.0j * Gamma)**2 + ek**2))\n",
    "    )\n",
    "\n",
    "\n",
    "def c(t, Nk, lam, gamma, w0, beta):\n",
    "    \"\"\" Calculate the correlation function for a vector of times, t. \"\"\"\n",
    "    Om = np.sqrt(w0**2 - (gamma / 2)**2)\n",
    "    Gamma = gamma / 2.\n",
    "\n",
    "    Cr = (\n",
    "        coth(beta * (Om + 1.0j * Gamma) / 2) * np.exp(1.0j * Om * t)\n",
    "        + coth(beta * (Om - 1.0j * Gamma) / 2) * np.exp(-1.0j * Om * t)\n",
    "    )\n",
    "\n",
    "    Ci = np.exp(-1.0j * Om * t) - np.exp(1.0j * Om * t)\n",
    "\n",
    "    return (\n",
    "        (lam**2 / (4 * Om)) * np.exp(-Gamma * np.abs(t)) * (Cr + Ci) +\n",
    "        np.sum([\n",
    "            Mk(t, k, gamma=gamma, w0=w0, beta=beta)\n",
    "            for k in range(1, Nk + 1)\n",
    "        ], 0)\n",
    "    )\n",
    "\n",
    "\n",
    "def plot_correlation_function():\n",
    "    \"\"\" Plot the underdamped correlation function. \"\"\"\n",
    "    t = np.linspace(0, 20, 1000)\n",
    "    corr = c(t, Nk=3, lam=lam, gamma=gamma, w0=w0, beta=beta)\n",
    "\n",
    "    fig, axes = plt.subplots(1, 1, sharex=True, figsize=(8, 8))\n",
    "    axes.plot(t, np.real(corr), '-', color=\"black\", label=\"Re[C(t)]\")\n",
    "    axes.plot(t, np.imag(corr), '-', color=\"red\", label=\"Im[C(t)]\")\n",
    "    axes.set_xlabel(r't', fontsize=28)\n",
    "    axes.set_ylabel(r'C', fontsize=28)\n",
    "    axes.legend(loc=0, fontsize=12)\n",
    "\n",
    "\n",
    "plot_correlation_function()"
   ]
  },
  {
   "cell_type": "markdown",
   "id": "b4879465",
   "metadata": {},
   "source": [
    "It is useful to look at what the Matsubara contributions do to this spectral density. We see that they modify the real part around $t=0$:"
   ]
  },
  {
   "cell_type": "code",
   "execution_count": 14,
   "id": "87b47b76",
   "metadata": {
    "execution": {
     "iopub.execute_input": "2024-06-12T07:05:05.547522Z",
     "iopub.status.busy": "2024-06-12T07:05:05.547204Z",
     "iopub.status.idle": "2024-06-12T07:05:05.663310Z",
     "shell.execute_reply": "2024-06-12T07:05:05.662688Z"
    }
   },
   "outputs": [
    {
     "data": {
      "image/png": "[encoded data removed]",
      "text/plain": [
       "<Figure size 800x800 with 1 Axes>"
      ]
     },
     "metadata": {},
     "output_type": "display_data"
    }
   ],
   "source": [
    "def plot_matsubara_correlation_function_contributions():\n",
    "    \"\"\" Plot the underdamped correlation function. \"\"\"\n",
    "    t = np.linspace(0, 20, 1000)\n",
    "\n",
    "    M_Nk2 = np.sum([\n",
    "        Mk(t, k, gamma=gamma, w0=w0, beta=beta)\n",
    "        for k in range(1, 2 + 1)\n",
    "    ], 0)\n",
    "\n",
    "    M_Nk100 = np.sum([\n",
    "        Mk(t, k, gamma=gamma, w0=w0, beta=beta)\n",
    "        for k in range(1, 100 + 1)\n",
    "    ], 0)\n",
    "\n",
    "    fig, axes = plt.subplots(1, 1, sharex=True, figsize=(8, 8))\n",
    "    axes.plot(t, np.real(M_Nk2), '-', color=\"black\", label=\"Re[M(t)] Nk=2\")\n",
    "    axes.plot(t, np.real(M_Nk100), '--', color=\"red\", label=\"Re[M(t)] Nk=100\")\n",
    "    axes.set_xlabel(r't', fontsize=28)\n",
    "    axes.set_ylabel(r'M', fontsize=28)\n",
    "    axes.legend(loc=0, fontsize=12)\n",
    "\n",
    "\n",
    "plot_matsubara_correlation_function_contributions()"
   ]
  },
  {
   "cell_type": "markdown",
   "id": "7ce8ae58",
   "metadata": {},
   "source": [
    "## Solving for the dynamics as a function of time"
   ]
  },
  {
   "cell_type": "markdown",
   "id": "21bfe9f0",
   "metadata": {},
   "source": [
    "Next we calculate the exponents using the Matsubara decompositions. Here we split them into real and imaginary parts.\n",
    "\n",
    "The HEOM code will optimize these, and reduce the number of exponents when real and imaginary parts have the same exponent. This is clearly the case for the first term in the vkAI and vkAR lists."
   ]
  },
  {
   "cell_type": "code",
   "execution_count": 15,
   "id": "f93a2ee1",
   "metadata": {
    "execution": {
     "iopub.execute_input": "2024-06-12T07:05:05.665890Z",
     "iopub.status.busy": "2024-06-12T07:05:05.665342Z",
     "iopub.status.idle": "2024-06-12T07:05:05.668790Z",
     "shell.execute_reply": "2024-06-12T07:05:05.668238Z"
    }
   },
   "outputs": [],
   "source": [
    "ckAR, vkAR, ckAI, vkAI = underdamped_matsubara_params(\n",
    "    lam=lam, gamma=gamma, T=T, nk=Nk,\n",
    ")"
   ]
  },
  {
   "cell_type": "markdown",
   "id": "a7c54b63",
   "metadata": {},
   "source": [
    "Having created the lists which specify the bath correlation functions, we create a `BosonicBath` from them and pass the bath to the `HEOMSolver` class.\n",
    "\n",
    "The solver constructs the \"right hand side\" (RHS) determinining how the system and auxiliary density operators evolve in time. This can then be used to solve for dynamics or steady-state.\n",
    "\n",
    "Below we create the bath and solver and then solve for the dynamics by calling `.run(rho0, tlist)`."
   ]
  },
  {
   "cell_type": "code",
   "execution_count": 16,
   "id": "9e11da68",
   "metadata": {
    "execution": {
     "iopub.execute_input": "2024-06-12T07:05:05.670963Z",
     "iopub.status.busy": "2024-06-12T07:05:05.670600Z",
     "iopub.status.idle": "2024-06-12T07:05:08.699971Z",
     "shell.execute_reply": "2024-06-12T07:05:08.699383Z"
    }
   },
   "outputs": [
    {
     "name": "stdout",
     "output_type": "stream",
     "text": [
      "RHS construction time: 0.02245020866394043\n",
      "\r",
      " [          0%           ] Elapsed 0.00s / Remaining 00:00:00:00"
     ]
    },
    {
     "name": "stdout",
     "output_type": "stream",
     "text": [
      "\r",
      " [          0%           ] Elapsed 0.01s / Remaining 00:00:00:00"
     ]
    },
    {
     "name": "stdout",
     "output_type": "stream",
     "text": [
      "\r",
      " [          0%           ] Elapsed 0.01s / Remaining 00:00:00:00"
     ]
    },
    {
     "name": "stdout",
     "output_type": "stream",
     "text": [
      "\r",
      " [          0%           ] Elapsed 0.01s / Remaining 00:00:00:00"
     ]
    },
    {
     "name": "stdout",
     "output_type": "stream",
     "text": [
      "\r",
      " [          1%           ] Elapsed 0.01s / Remaining 00:00:00:01"
     ]
    },
    {
     "name": "stdout",
     "output_type": "stream",
     "text": [
      "\r",
      " [          1%           ] Elapsed 0.02s / Remaining 00:00:00:01"
     ]
    },
    {
     "name": "stdout",
     "output_type": "stream",
     "text": [
      "\r",
      " [          1%           ] Elapsed 0.02s / Remaining 00:00:00:01"
     ]
    },
    {
     "name": "stdout",
     "output_type": "stream",
     "text": [
      "\r",
      " [          1%           ] Elapsed 0.02s / Remaining 00:00:00:01"
     ]
    },
    {
     "name": "stdout",
     "output_type": "stream",
     "text": [
      "\r",
      " [          1%           ] Elapsed 0.02s / Remaining 00:00:00:02"
     ]
    },
    {
     "name": "stdout",
     "output_type": "stream",
     "text": [
      "\r",
      " [          1%           ] Elapsed 0.02s / Remaining 00:00:00:02"
     ]
    },
    {
     "name": "stdout",
     "output_type": "stream",
     "text": [
      "\r",
      " [          1%           ] Elapsed 0.03s / Remaining 00:00:00:02"
     ]
    },
    {
     "name": "stdout",
     "output_type": "stream",
     "text": [
      "\r",
      " [          1%           ] Elapsed 0.03s / Remaining 00:00:00:02"
     ]
    },
    {
     "name": "stdout",
     "output_type": "stream",
     "text": [
      "\r",
      " [          1%           ] Elapsed 0.03s / Remaining 00:00:00:03"
     ]
    },
    {
     "name": "stdout",
     "output_type": "stream",
     "text": [
      "\r",
      " [          1%           ] Elapsed 0.03s / Remaining 00:00:00:03"
     ]
    },
    {
     "name": "stdout",
     "output_type": "stream",
     "text": [
      "\r",
      " [          2%           ] Elapsed 0.04s / Remaining 00:00:00:01"
     ]
    },
    {
     "name": "stdout",
     "output_type": "stream",
     "text": [
      "\r",
      " [          2%           ] Elapsed 0.04s / Remaining 00:00:00:01"
     ]
    },
    {
     "name": "stdout",
     "output_type": "stream",
     "text": [
      "\r",
      " [          2%           ] Elapsed 0.04s / Remaining 00:00:00:02"
     ]
    },
    {
     "name": "stdout",
     "output_type": "stream",
     "text": [
      "\r",
      " [          2%           ] Elapsed 0.04s / Remaining 00:00:00:02"
     ]
    },
    {
     "name": "stdout",
     "output_type": "stream",
     "text": [
      "\r",
      " [          2%           ] Elapsed 0.05s / Remaining 00:00:00:02"
     ]
    },
    {
     "name": "stdout",
     "output_type": "stream",
     "text": [
      "\r",
      " [          2%           ] Elapsed 0.05s / Remaining 00:00:00:02"
     ]
    },
    {
     "name": "stdout",
     "output_type": "stream",
     "text": [
      "\r",
      " [          2%           ] Elapsed 0.06s / Remaining 00:00:00:02"
     ]
    },
    {
     "name": "stdout",
     "output_type": "stream",
     "text": [
      "\r",
      " [          2%           ] Elapsed 0.06s / Remaining 00:00:00:02"
     ]
    },
    {
     "name": "stdout",
     "output_type": "stream",
     "text": [
      "\r",
      " [          2%           ] Elapsed 0.06s / Remaining 00:00:00:03"
     ]
    },
    {
     "name": "stdout",
     "output_type": "stream",
     "text": [
      "\r",
      " [          2%           ] Elapsed 0.06s / Remaining 00:00:00:03"
     ]
    },
    {
     "name": "stdout",
     "output_type": "stream",
     "text": [
      "\r",
      " [*         3%           ] Elapsed 0.07s / Remaining 00:00:00:02"
     ]
    },
    {
     "name": "stdout",
     "output_type": "stream",
     "text": [
      "\r",
      " [*         3%           ] Elapsed 0.07s / Remaining 00:00:00:02"
     ]
    },
    {
     "name": "stdout",
     "output_type": "stream",
     "text": [
      "\r",
      " [*         3%           ] Elapsed 0.07s / Remaining 00:00:00:02"
     ]
    },
    {
     "name": "stdout",
     "output_type": "stream",
     "text": [
      "\r",
      " [*         3%           ] Elapsed 0.08s / Remaining 00:00:00:02"
     ]
    },
    {
     "name": "stdout",
     "output_type": "stream",
     "text": [
      "\r",
      " [*         3%           ] Elapsed 0.08s / Remaining 00:00:00:02"
     ]
    },
    {
     "name": "stdout",
     "output_type": "stream",
     "text": [
      "\r",
      " [*         3%           ] Elapsed 0.08s / Remaining 00:00:00:02"
     ]
    },
    {
     "name": "stdout",
     "output_type": "stream",
     "text": [
      "\r",
      " [*         3%           ] Elapsed 0.09s / Remaining 00:00:00:02"
     ]
    },
    {
     "name": "stdout",
     "output_type": "stream",
     "text": [
      "\r",
      " [*         3%           ] Elapsed 0.09s / Remaining 00:00:00:02"
     ]
    },
    {
     "name": "stdout",
     "output_type": "stream",
     "text": [
      "\r",
      " [*         3%           ] Elapsed 0.09s / Remaining 00:00:00:02"
     ]
    },
    {
     "name": "stdout",
     "output_type": "stream",
     "text": [
      "\r",
      " [*         3%           ] Elapsed 0.09s / Remaining 00:00:00:03"
     ]
    },
    {
     "name": "stdout",
     "output_type": "stream",
     "text": [
      "\r",
      " [*         4%           ] Elapsed 0.10s / Remaining 00:00:00:02"
     ]
    },
    {
     "name": "stdout",
     "output_type": "stream",
     "text": [
      "\r",
      " [*         4%           ] Elapsed 0.10s / Remaining 00:00:00:02"
     ]
    },
    {
     "name": "stdout",
     "output_type": "stream",
     "text": [
      "\r",
      " [*         4%           ] Elapsed 0.10s / Remaining 00:00:00:02"
     ]
    },
    {
     "name": "stdout",
     "output_type": "stream",
     "text": [
      "\r",
      " [*         4%           ] Elapsed 0.11s / Remaining 00:00:00:02"
     ]
    },
    {
     "name": "stdout",
     "output_type": "stream",
     "text": [
      "\r",
      " [*         4%           ] Elapsed 0.11s / Remaining 00:00:00:02"
     ]
    },
    {
     "name": "stdout",
     "output_type": "stream",
     "text": [
      "\r",
      " [*         4%           ] Elapsed 0.11s / Remaining 00:00:00:02"
     ]
    },
    {
     "name": "stdout",
     "output_type": "stream",
     "text": [
      "\r",
      " [*         4%           ] Elapsed 0.12s / Remaining 00:00:00:02"
     ]
    },
    {
     "name": "stdout",
     "output_type": "stream",
     "text": [
      "\r",
      " [*         4%           ] Elapsed 0.12s / Remaining 00:00:00:02"
     ]
    },
    {
     "name": "stdout",
     "output_type": "stream",
     "text": [
      "\r",
      " [*         4%           ] Elapsed 0.12s / Remaining 00:00:00:02"
     ]
    },
    {
     "name": "stdout",
     "output_type": "stream",
     "text": [
      "\r",
      " [*         4%           ] Elapsed 0.13s / Remaining 00:00:00:03"
     ]
    },
    {
     "name": "stdout",
     "output_type": "stream",
     "text": [
      "\r",
      " [*         5%           ] Elapsed 0.13s / Remaining 00:00:00:02"
     ]
    },
    {
     "name": "stdout",
     "output_type": "stream",
     "text": [
      "\r",
      " [*         5%           ] Elapsed 0.13s / Remaining 00:00:00:02"
     ]
    },
    {
     "name": "stdout",
     "output_type": "stream",
     "text": [
      "\r",
      " [*         5%           ] Elapsed 0.14s / Remaining 00:00:00:02"
     ]
    },
    {
     "name": "stdout",
     "output_type": "stream",
     "text": [
      "\r",
      " [*         5%           ] Elapsed 0.14s / Remaining 00:00:00:02"
     ]
    },
    {
     "name": "stdout",
     "output_type": "stream",
     "text": [
      "\r",
      " [*         5%           ] Elapsed 0.14s / Remaining 00:00:00:02"
     ]
    },
    {
     "name": "stdout",
     "output_type": "stream",
     "text": [
      "\r",
      " [*         5%           ] Elapsed 0.15s / Remaining 00:00:00:02"
     ]
    },
    {
     "name": "stdout",
     "output_type": "stream",
     "text": [
      "\r",
      " [*         5%           ] Elapsed 0.15s / Remaining 00:00:00:02"
     ]
    },
    {
     "name": "stdout",
     "output_type": "stream",
     "text": [
      "\r",
      " [*         5%           ] Elapsed 0.15s / Remaining 00:00:00:02"
     ]
    },
    {
     "name": "stdout",
     "output_type": "stream",
     "text": [
      "\r",
      " [*         5%           ] Elapsed 0.15s / Remaining 00:00:00:02"
     ]
    },
    {
     "name": "stdout",
     "output_type": "stream",
     "text": [
      "\r",
      " [*         5%           ] Elapsed 0.16s / Remaining 00:00:00:03"
     ]
    },
    {
     "name": "stdout",
     "output_type": "stream",
     "text": [
      "\r",
      " [*         6%           ] Elapsed 0.16s / Remaining 00:00:00:02"
     ]
    },
    {
     "name": "stdout",
     "output_type": "stream",
     "text": [
      "\r",
      " [*         6%           ] Elapsed 0.16s / Remaining 00:00:00:02"
     ]
    },
    {
     "name": "stdout",
     "output_type": "stream",
     "text": [
      "\r",
      " [*         6%           ] Elapsed 0.17s / Remaining 00:00:00:02"
     ]
    },
    {
     "name": "stdout",
     "output_type": "stream",
     "text": [
      "\r",
      " [*         6%           ] Elapsed 0.17s / Remaining 00:00:00:02"
     ]
    },
    {
     "name": "stdout",
     "output_type": "stream",
     "text": [
      "\r",
      " [*         6%           ] Elapsed 0.17s / Remaining 00:00:00:02"
     ]
    },
    {
     "name": "stdout",
     "output_type": "stream",
     "text": [
      "\r",
      " [*         6%           ] Elapsed 0.18s / Remaining 00:00:00:02"
     ]
    },
    {
     "name": "stdout",
     "output_type": "stream",
     "text": [
      "\r",
      " [*         6%           ] Elapsed 0.18s / Remaining 00:00:00:02"
     ]
    },
    {
     "name": "stdout",
     "output_type": "stream",
     "text": [
      "\r",
      " [*         6%           ] Elapsed 0.18s / Remaining 00:00:00:02"
     ]
    },
    {
     "name": "stdout",
     "output_type": "stream",
     "text": [
      "\r",
      " [*         6%           ] Elapsed 0.18s / Remaining 00:00:00:02"
     ]
    },
    {
     "name": "stdout",
     "output_type": "stream",
     "text": [
      "\r",
      " [*         6%           ] Elapsed 0.19s / Remaining 00:00:00:02"
     ]
    },
    {
     "name": "stdout",
     "output_type": "stream",
     "text": [
      "\r",
      " [**        7%           ] Elapsed 0.19s / Remaining 00:00:00:02"
     ]
    },
    {
     "name": "stdout",
     "output_type": "stream",
     "text": [
      "\r",
      " [**        7%           ] Elapsed 0.19s / Remaining 00:00:00:02"
     ]
    },
    {
     "name": "stdout",
     "output_type": "stream",
     "text": [
      "\r",
      " [**        7%           ] Elapsed 0.20s / Remaining 00:00:00:02"
     ]
    },
    {
     "name": "stdout",
     "output_type": "stream",
     "text": [
      "\r",
      " [**        7%           ] Elapsed 0.20s / Remaining 00:00:00:02"
     ]
    },
    {
     "name": "stdout",
     "output_type": "stream",
     "text": [
      "\r",
      " [**        7%           ] Elapsed 0.20s / Remaining 00:00:00:02"
     ]
    },
    {
     "name": "stdout",
     "output_type": "stream",
     "text": [
      "\r",
      " [**        7%           ] Elapsed 0.21s / Remaining 00:00:00:02"
     ]
    },
    {
     "name": "stdout",
     "output_type": "stream",
     "text": [
      "\r",
      " [**        7%           ] Elapsed 0.21s / Remaining 00:00:00:02"
     ]
    },
    {
     "name": "stdout",
     "output_type": "stream",
     "text": [
      "\r",
      " [**        7%           ] Elapsed 0.21s / Remaining 00:00:00:02"
     ]
    },
    {
     "name": "stdout",
     "output_type": "stream",
     "text": [
      "\r",
      " [**        7%           ] Elapsed 0.21s / Remaining 00:00:00:02"
     ]
    },
    {
     "name": "stdout",
     "output_type": "stream",
     "text": [
      "\r",
      " [**        7%           ] Elapsed 0.22s / Remaining 00:00:00:02"
     ]
    },
    {
     "name": "stdout",
     "output_type": "stream",
     "text": [
      "\r",
      " [**        8%           ] Elapsed 0.22s / Remaining 00:00:00:02"
     ]
    },
    {
     "name": "stdout",
     "output_type": "stream",
     "text": [
      "\r",
      " [**        8%           ] Elapsed 0.22s / Remaining 00:00:00:02"
     ]
    },
    {
     "name": "stdout",
     "output_type": "stream",
     "text": [
      "\r",
      " [**        8%           ] Elapsed 0.23s / Remaining 00:00:00:02"
     ]
    },
    {
     "name": "stdout",
     "output_type": "stream",
     "text": [
      "\r",
      " [**        8%           ] Elapsed 0.23s / Remaining 00:00:00:02"
     ]
    },
    {
     "name": "stdout",
     "output_type": "stream",
     "text": [
      "\r",
      " [**        8%           ] Elapsed 0.23s / Remaining 00:00:00:02"
     ]
    },
    {
     "name": "stdout",
     "output_type": "stream",
     "text": [
      "\r",
      " [**        8%           ] Elapsed 0.23s / Remaining 00:00:00:02"
     ]
    },
    {
     "name": "stdout",
     "output_type": "stream",
     "text": [
      "\r",
      " [**        8%           ] Elapsed 0.24s / Remaining 00:00:00:02"
     ]
    },
    {
     "name": "stdout",
     "output_type": "stream",
     "text": [
      "\r",
      " [**        8%           ] Elapsed 0.24s / Remaining 00:00:00:02"
     ]
    },
    {
     "name": "stdout",
     "output_type": "stream",
     "text": [
      "\r",
      " [**        8%           ] Elapsed 0.24s / Remaining 00:00:00:02"
     ]
    },
    {
     "name": "stdout",
     "output_type": "stream",
     "text": [
      "\r",
      " [**        8%           ] Elapsed 0.25s / Remaining 00:00:00:02"
     ]
    },
    {
     "name": "stdout",
     "output_type": "stream",
     "text": [
      "\r",
      " [**        9%           ] Elapsed 0.25s / Remaining 00:00:00:02"
     ]
    },
    {
     "name": "stdout",
     "output_type": "stream",
     "text": [
      "\r",
      " [**        9%           ] Elapsed 0.25s / Remaining 00:00:00:02"
     ]
    },
    {
     "name": "stdout",
     "output_type": "stream",
     "text": [
      "\r",
      " [**        9%           ] Elapsed 0.26s / Remaining 00:00:00:02"
     ]
    },
    {
     "name": "stdout",
     "output_type": "stream",
     "text": [
      "\r",
      " [**        9%           ] Elapsed 0.26s / Remaining 00:00:00:02"
     ]
    },
    {
     "name": "stdout",
     "output_type": "stream",
     "text": [
      "\r",
      " [**        9%           ] Elapsed 0.26s / Remaining 00:00:00:02"
     ]
    },
    {
     "name": "stdout",
     "output_type": "stream",
     "text": [
      "\r",
      " [**        9%           ] Elapsed 0.26s / Remaining 00:00:00:02"
     ]
    },
    {
     "name": "stdout",
     "output_type": "stream",
     "text": [
      "\r",
      " [**        9%           ] Elapsed 0.27s / Remaining 00:00:00:02"
     ]
    },
    {
     "name": "stdout",
     "output_type": "stream",
     "text": [
      "\r",
      " [**        9%           ] Elapsed 0.27s / Remaining 00:00:00:02"
     ]
    },
    {
     "name": "stdout",
     "output_type": "stream",
     "text": [
      "\r",
      " [**        9%           ] Elapsed 0.27s / Remaining 00:00:00:02"
     ]
    },
    {
     "name": "stdout",
     "output_type": "stream",
     "text": [
      "\r",
      " [**        9%           ] Elapsed 0.28s / Remaining 00:00:00:02"
     ]
    },
    {
     "name": "stdout",
     "output_type": "stream",
     "text": [
      "\r",
      " [**       10%           ] Elapsed 0.28s / Remaining 00:00:00:02"
     ]
    },
    {
     "name": "stdout",
     "output_type": "stream",
     "text": [
      "\r",
      " [**       10%           ] Elapsed 0.28s / Remaining 00:00:00:02"
     ]
    },
    {
     "name": "stdout",
     "output_type": "stream",
     "text": [
      "\r",
      " [**       10%           ] Elapsed 0.28s / Remaining 00:00:00:02"
     ]
    },
    {
     "name": "stdout",
     "output_type": "stream",
     "text": [
      "\r",
      " [**       10%           ] Elapsed 0.29s / Remaining 00:00:00:02"
     ]
    },
    {
     "name": "stdout",
     "output_type": "stream",
     "text": [
      "\r",
      " [**       10%           ] Elapsed 0.29s / Remaining 00:00:00:02"
     ]
    },
    {
     "name": "stdout",
     "output_type": "stream",
     "text": [
      "\r",
      " [**       10%           ] Elapsed 0.30s / Remaining 00:00:00:02"
     ]
    },
    {
     "name": "stdout",
     "output_type": "stream",
     "text": [
      "\r",
      " [**       10%           ] Elapsed 0.30s / Remaining 00:00:00:02"
     ]
    },
    {
     "name": "stdout",
     "output_type": "stream",
     "text": [
      "\r",
      " [**       10%           ] Elapsed 0.30s / Remaining 00:00:00:02"
     ]
    },
    {
     "name": "stdout",
     "output_type": "stream",
     "text": [
      "\r",
      " [**       10%           ] Elapsed 0.31s / Remaining 00:00:00:02"
     ]
    },
    {
     "name": "stdout",
     "output_type": "stream",
     "text": [
      "\r",
      " [**       10%           ] Elapsed 0.31s / Remaining 00:00:00:02"
     ]
    },
    {
     "name": "stdout",
     "output_type": "stream",
     "text": [
      "\r",
      " [***      11%           ] Elapsed 0.31s / Remaining 00:00:00:02"
     ]
    },
    {
     "name": "stdout",
     "output_type": "stream",
     "text": [
      "\r",
      " [***      11%           ] Elapsed 0.31s / Remaining 00:00:00:02"
     ]
    },
    {
     "name": "stdout",
     "output_type": "stream",
     "text": [
      "\r",
      " [***      11%           ] Elapsed 0.32s / Remaining 00:00:00:02"
     ]
    },
    {
     "name": "stdout",
     "output_type": "stream",
     "text": [
      "\r",
      " [***      11%           ] Elapsed 0.32s / Remaining 00:00:00:02"
     ]
    },
    {
     "name": "stdout",
     "output_type": "stream",
     "text": [
      "\r",
      " [***      11%           ] Elapsed 0.32s / Remaining 00:00:00:02"
     ]
    },
    {
     "name": "stdout",
     "output_type": "stream",
     "text": [
      "\r",
      " [***      11%           ] Elapsed 0.33s / Remaining 00:00:00:02"
     ]
    },
    {
     "name": "stdout",
     "output_type": "stream",
     "text": [
      "\r",
      " [***      11%           ] Elapsed 0.33s / Remaining 00:00:00:02"
     ]
    },
    {
     "name": "stdout",
     "output_type": "stream",
     "text": [
      "\r",
      " [***      11%           ] Elapsed 0.33s / Remaining 00:00:00:02"
     ]
    },
    {
     "name": "stdout",
     "output_type": "stream",
     "text": [
      "\r",
      " [***      11%           ] Elapsed 0.34s / Remaining 00:00:00:02"
     ]
    },
    {
     "name": "stdout",
     "output_type": "stream",
     "text": [
      "\r",
      " [***      11%           ] Elapsed 0.34s / Remaining 00:00:00:02"
     ]
    },
    {
     "name": "stdout",
     "output_type": "stream",
     "text": [
      "\r",
      " [***      12%           ] Elapsed 0.34s / Remaining 00:00:00:02"
     ]
    },
    {
     "name": "stdout",
     "output_type": "stream",
     "text": [
      "\r",
      " [***      12%           ] Elapsed 0.35s / Remaining 00:00:00:02"
     ]
    },
    {
     "name": "stdout",
     "output_type": "stream",
     "text": [
      "\r",
      " [***      12%           ] Elapsed 0.35s / Remaining 00:00:00:02"
     ]
    },
    {
     "name": "stdout",
     "output_type": "stream",
     "text": [
      "\r",
      " [***      12%           ] Elapsed 0.35s / Remaining 00:00:00:02"
     ]
    },
    {
     "name": "stdout",
     "output_type": "stream",
     "text": [
      "\r",
      " [***      12%           ] Elapsed 0.36s / Remaining 00:00:00:02"
     ]
    },
    {
     "name": "stdout",
     "output_type": "stream",
     "text": [
      "\r",
      " [***      12%           ] Elapsed 0.36s / Remaining 00:00:00:02"
     ]
    },
    {
     "name": "stdout",
     "output_type": "stream",
     "text": [
      "\r",
      " [***      12%           ] Elapsed 0.36s / Remaining 00:00:00:02"
     ]
    },
    {
     "name": "stdout",
     "output_type": "stream",
     "text": [
      "\r",
      " [***      12%           ] Elapsed 0.36s / Remaining 00:00:00:02"
     ]
    },
    {
     "name": "stdout",
     "output_type": "stream",
     "text": [
      "\r",
      " [***      12%           ] Elapsed 0.37s / Remaining 00:00:00:02"
     ]
    },
    {
     "name": "stdout",
     "output_type": "stream",
     "text": [
      "\r",
      " [***      12%           ] Elapsed 0.37s / Remaining 00:00:00:02"
     ]
    },
    {
     "name": "stdout",
     "output_type": "stream",
     "text": [
      "\r",
      " [***      13%           ] Elapsed 0.37s / Remaining 00:00:00:02"
     ]
    },
    {
     "name": "stdout",
     "output_type": "stream",
     "text": [
      "\r",
      " [***      13%           ] Elapsed 0.38s / Remaining 00:00:00:02"
     ]
    },
    {
     "name": "stdout",
     "output_type": "stream",
     "text": [
      "\r",
      " [***      13%           ] Elapsed 0.38s / Remaining 00:00:00:02"
     ]
    },
    {
     "name": "stdout",
     "output_type": "stream",
     "text": [
      "\r",
      " [***      13%           ] Elapsed 0.38s / Remaining 00:00:00:02"
     ]
    },
    {
     "name": "stdout",
     "output_type": "stream",
     "text": [
      "\r",
      " [***      13%           ] Elapsed 0.39s / Remaining 00:00:00:02"
     ]
    },
    {
     "name": "stdout",
     "output_type": "stream",
     "text": [
      "\r",
      " [***      13%           ] Elapsed 0.39s / Remaining 00:00:00:02"
     ]
    },
    {
     "name": "stdout",
     "output_type": "stream",
     "text": [
      "\r",
      " [***      13%           ] Elapsed 0.39s / Remaining 00:00:00:02"
     ]
    },
    {
     "name": "stdout",
     "output_type": "stream",
     "text": [
      "\r",
      " [***      13%           ] Elapsed 0.40s / Remaining 00:00:00:02"
     ]
    },
    {
     "name": "stdout",
     "output_type": "stream",
     "text": [
      "\r",
      " [***      13%           ] Elapsed 0.40s / Remaining 00:00:00:02"
     ]
    },
    {
     "name": "stdout",
     "output_type": "stream",
     "text": [
      "\r",
      " [***      13%           ] Elapsed 0.40s / Remaining 00:00:00:02"
     ]
    },
    {
     "name": "stdout",
     "output_type": "stream",
     "text": [
      "\r",
      " [***      14%           ] Elapsed 0.40s / Remaining 00:00:00:02"
     ]
    },
    {
     "name": "stdout",
     "output_type": "stream",
     "text": [
      "\r",
      " [***      14%           ] Elapsed 0.41s / Remaining 00:00:00:02"
     ]
    },
    {
     "name": "stdout",
     "output_type": "stream",
     "text": [
      "\r",
      " [***      14%           ] Elapsed 0.41s / Remaining 00:00:00:02"
     ]
    },
    {
     "name": "stdout",
     "output_type": "stream",
     "text": [
      "\r",
      " [***      14%           ] Elapsed 0.41s / Remaining 00:00:00:02"
     ]
    },
    {
     "name": "stdout",
     "output_type": "stream",
     "text": [
      "\r",
      " [***      14%           ] Elapsed 0.42s / Remaining 00:00:00:02"
     ]
    },
    {
     "name": "stdout",
     "output_type": "stream",
     "text": [
      "\r",
      " [***      14%           ] Elapsed 0.42s / Remaining 00:00:00:02"
     ]
    },
    {
     "name": "stdout",
     "output_type": "stream",
     "text": [
      "\r",
      " [***      14%           ] Elapsed 0.42s / Remaining 00:00:00:02"
     ]
    },
    {
     "name": "stdout",
     "output_type": "stream",
     "text": [
      "\r",
      " [***      14%           ] Elapsed 0.42s / Remaining 00:00:00:02"
     ]
    },
    {
     "name": "stdout",
     "output_type": "stream",
     "text": [
      "\r",
      " [***      14%           ] Elapsed 0.43s / Remaining 00:00:00:02"
     ]
    },
    {
     "name": "stdout",
     "output_type": "stream",
     "text": [
      "\r",
      " [***      14%           ] Elapsed 0.43s / Remaining 00:00:00:02"
     ]
    },
    {
     "name": "stdout",
     "output_type": "stream",
     "text": [
      "\r",
      " [***      15%           ] Elapsed 0.43s / Remaining 00:00:00:02"
     ]
    },
    {
     "name": "stdout",
     "output_type": "stream",
     "text": [
      "\r",
      " [***      15%           ] Elapsed 0.44s / Remaining 00:00:00:02"
     ]
    },
    {
     "name": "stdout",
     "output_type": "stream",
     "text": [
      "\r",
      " [***      15%           ] Elapsed 0.44s / Remaining 00:00:00:02"
     ]
    },
    {
     "name": "stdout",
     "output_type": "stream",
     "text": [
      "\r",
      " [***      15%           ] Elapsed 0.44s / Remaining 00:00:00:02"
     ]
    },
    {
     "name": "stdout",
     "output_type": "stream",
     "text": [
      "\r",
      " [***      15%           ] Elapsed 0.44s / Remaining 00:00:00:02"
     ]
    },
    {
     "name": "stdout",
     "output_type": "stream",
     "text": [
      "\r",
      " [***      15%           ] Elapsed 0.45s / Remaining 00:00:00:02"
     ]
    },
    {
     "name": "stdout",
     "output_type": "stream",
     "text": [
      "\r",
      " [***      15%           ] Elapsed 0.45s / Remaining 00:00:00:02"
     ]
    },
    {
     "name": "stdout",
     "output_type": "stream",
     "text": [
      "\r",
      " [***      15%           ] Elapsed 0.45s / Remaining 00:00:00:02"
     ]
    },
    {
     "name": "stdout",
     "output_type": "stream",
     "text": [
      "\r",
      " [***      15%           ] Elapsed 0.46s / Remaining 00:00:00:02"
     ]
    },
    {
     "name": "stdout",
     "output_type": "stream",
     "text": [
      "\r",
      " [***      15%           ] Elapsed 0.46s / Remaining 00:00:00:02"
     ]
    },
    {
     "name": "stdout",
     "output_type": "stream",
     "text": [
      "\r",
      " [****     16%           ] Elapsed 0.46s / Remaining 00:00:00:02"
     ]
    },
    {
     "name": "stdout",
     "output_type": "stream",
     "text": [
      "\r",
      " [****     16%           ] Elapsed 0.47s / Remaining 00:00:00:02"
     ]
    },
    {
     "name": "stdout",
     "output_type": "stream",
     "text": [
      "\r",
      " [****     16%           ] Elapsed 0.47s / Remaining 00:00:00:02"
     ]
    },
    {
     "name": "stdout",
     "output_type": "stream",
     "text": [
      "\r",
      " [****     16%           ] Elapsed 0.47s / Remaining 00:00:00:02"
     ]
    },
    {
     "name": "stdout",
     "output_type": "stream",
     "text": [
      "\r",
      " [****     16%           ] Elapsed 0.47s / Remaining 00:00:00:02"
     ]
    },
    {
     "name": "stdout",
     "output_type": "stream",
     "text": [
      "\r",
      " [****     16%           ] Elapsed 0.48s / Remaining 00:00:00:02"
     ]
    },
    {
     "name": "stdout",
     "output_type": "stream",
     "text": [
      "\r",
      " [****     16%           ] Elapsed 0.48s / Remaining 00:00:00:02"
     ]
    },
    {
     "name": "stdout",
     "output_type": "stream",
     "text": [
      "\r",
      " [****     16%           ] Elapsed 0.48s / Remaining 00:00:00:02"
     ]
    },
    {
     "name": "stdout",
     "output_type": "stream",
     "text": [
      "\r",
      " [****     16%           ] Elapsed 0.49s / Remaining 00:00:00:02"
     ]
    },
    {
     "name": "stdout",
     "output_type": "stream",
     "text": [
      "\r",
      " [****     16%           ] Elapsed 0.49s / Remaining 00:00:00:02"
     ]
    },
    {
     "name": "stdout",
     "output_type": "stream",
     "text": [
      "\r",
      " [****     17%           ] Elapsed 0.49s / Remaining 00:00:00:02"
     ]
    },
    {
     "name": "stdout",
     "output_type": "stream",
     "text": [
      "\r",
      " [****     17%           ] Elapsed 0.50s / Remaining 00:00:00:02"
     ]
    },
    {
     "name": "stdout",
     "output_type": "stream",
     "text": [
      "\r",
      " [****     17%           ] Elapsed 0.50s / Remaining 00:00:00:02"
     ]
    },
    {
     "name": "stdout",
     "output_type": "stream",
     "text": [
      "\r",
      " [****     17%           ] Elapsed 0.50s / Remaining 00:00:00:02"
     ]
    },
    {
     "name": "stdout",
     "output_type": "stream",
     "text": [
      "\r",
      " [****     17%           ] Elapsed 0.51s / Remaining 00:00:00:02"
     ]
    },
    {
     "name": "stdout",
     "output_type": "stream",
     "text": [
      "\r",
      " [****     17%           ] Elapsed 0.51s / Remaining 00:00:00:02"
     ]
    },
    {
     "name": "stdout",
     "output_type": "stream",
     "text": [
      "\r",
      " [****     17%           ] Elapsed 0.51s / Remaining 00:00:00:02"
     ]
    },
    {
     "name": "stdout",
     "output_type": "stream",
     "text": [
      "\r",
      " [****     17%           ] Elapsed 0.52s / Remaining 00:00:00:02"
     ]
    },
    {
     "name": "stdout",
     "output_type": "stream",
     "text": [
      "\r",
      " [****     17%           ] Elapsed 0.52s / Remaining 00:00:00:02"
     ]
    },
    {
     "name": "stdout",
     "output_type": "stream",
     "text": [
      "\r",
      " [****     17%           ] Elapsed 0.52s / Remaining 00:00:00:02"
     ]
    },
    {
     "name": "stdout",
     "output_type": "stream",
     "text": [
      "\r",
      " [****     18%           ] Elapsed 0.53s / Remaining 00:00:00:02"
     ]
    },
    {
     "name": "stdout",
     "output_type": "stream",
     "text": [
      "\r",
      " [****     18%           ] Elapsed 0.53s / Remaining 00:00:00:02"
     ]
    },
    {
     "name": "stdout",
     "output_type": "stream",
     "text": [
      "\r",
      " [****     18%           ] Elapsed 0.53s / Remaining 00:00:00:02"
     ]
    },
    {
     "name": "stdout",
     "output_type": "stream",
     "text": [
      "\r",
      " [****     18%           ] Elapsed 0.53s / Remaining 00:00:00:02"
     ]
    },
    {
     "name": "stdout",
     "output_type": "stream",
     "text": [
      "\r",
      " [****     18%           ] Elapsed 0.54s / Remaining 00:00:00:02"
     ]
    },
    {
     "name": "stdout",
     "output_type": "stream",
     "text": [
      "\r",
      " [****     18%           ] Elapsed 0.54s / Remaining 00:00:00:02"
     ]
    },
    {
     "name": "stdout",
     "output_type": "stream",
     "text": [
      "\r",
      " [****     18%           ] Elapsed 0.55s / Remaining 00:00:00:02"
     ]
    },
    {
     "name": "stdout",
     "output_type": "stream",
     "text": [
      "\r",
      " [****     18%           ] Elapsed 0.55s / Remaining 00:00:00:02"
     ]
    },
    {
     "name": "stdout",
     "output_type": "stream",
     "text": [
      "\r",
      " [****     18%           ] Elapsed 0.55s / Remaining 00:00:00:02"
     ]
    },
    {
     "name": "stdout",
     "output_type": "stream",
     "text": [
      "\r",
      " [****     18%           ] Elapsed 0.56s / Remaining 00:00:00:02"
     ]
    },
    {
     "name": "stdout",
     "output_type": "stream",
     "text": [
      "\r",
      " [****     19%           ] Elapsed 0.56s / Remaining 00:00:00:02"
     ]
    },
    {
     "name": "stdout",
     "output_type": "stream",
     "text": [
      "\r",
      " [****     19%           ] Elapsed 0.56s / Remaining 00:00:00:02"
     ]
    },
    {
     "name": "stdout",
     "output_type": "stream",
     "text": [
      "\r",
      " [****     19%           ] Elapsed 0.56s / Remaining 00:00:00:02"
     ]
    },
    {
     "name": "stdout",
     "output_type": "stream",
     "text": [
      "\r",
      " [****     19%           ] Elapsed 0.57s / Remaining 00:00:00:02"
     ]
    },
    {
     "name": "stdout",
     "output_type": "stream",
     "text": [
      "\r",
      " [****     19%           ] Elapsed 0.57s / Remaining 00:00:00:02"
     ]
    },
    {
     "name": "stdout",
     "output_type": "stream",
     "text": [
      "\r",
      " [****     19%           ] Elapsed 0.57s / Remaining 00:00:00:02"
     ]
    },
    {
     "name": "stdout",
     "output_type": "stream",
     "text": [
      "\r",
      " [****     19%           ] Elapsed 0.58s / Remaining 00:00:00:02"
     ]
    },
    {
     "name": "stdout",
     "output_type": "stream",
     "text": [
      "\r",
      " [****     19%           ] Elapsed 0.58s / Remaining 00:00:00:02"
     ]
    },
    {
     "name": "stdout",
     "output_type": "stream",
     "text": [
      "\r",
      " [****     19%           ] Elapsed 0.58s / Remaining 00:00:00:02"
     ]
    },
    {
     "name": "stdout",
     "output_type": "stream",
     "text": [
      "\r",
      " [****     19%           ] Elapsed 0.59s / Remaining 00:00:00:02"
     ]
    },
    {
     "name": "stdout",
     "output_type": "stream",
     "text": [
      "\r",
      " [*****    20%           ] Elapsed 0.59s / Remaining 00:00:00:02"
     ]
    },
    {
     "name": "stdout",
     "output_type": "stream",
     "text": [
      "\r",
      " [*****    20%           ] Elapsed 0.59s / Remaining 00:00:00:02"
     ]
    },
    {
     "name": "stdout",
     "output_type": "stream",
     "text": [
      "\r",
      " [*****    20%           ] Elapsed 0.60s / Remaining 00:00:00:02"
     ]
    },
    {
     "name": "stdout",
     "output_type": "stream",
     "text": [
      "\r",
      " [*****    20%           ] Elapsed 0.60s / Remaining 00:00:00:02"
     ]
    },
    {
     "name": "stdout",
     "output_type": "stream",
     "text": [
      "\r",
      " [*****    20%           ] Elapsed 0.60s / Remaining 00:00:00:02"
     ]
    },
    {
     "name": "stdout",
     "output_type": "stream",
     "text": [
      "\r",
      " [*****    20%           ] Elapsed 0.60s / Remaining 00:00:00:02"
     ]
    },
    {
     "name": "stdout",
     "output_type": "stream",
     "text": [
      "\r",
      " [*****    20%           ] Elapsed 0.61s / Remaining 00:00:00:02"
     ]
    },
    {
     "name": "stdout",
     "output_type": "stream",
     "text": [
      "\r",
      " [*****    20%           ] Elapsed 0.61s / Remaining 00:00:00:02"
     ]
    },
    {
     "name": "stdout",
     "output_type": "stream",
     "text": [
      "\r",
      " [*****    20%           ] Elapsed 0.61s / Remaining 00:00:00:02"
     ]
    },
    {
     "name": "stdout",
     "output_type": "stream",
     "text": [
      "\r",
      " [*****    20%           ] Elapsed 0.62s / Remaining 00:00:00:02"
     ]
    },
    {
     "name": "stdout",
     "output_type": "stream",
     "text": [
      "\r",
      " [*****    21%           ] Elapsed 0.62s / Remaining 00:00:00:02"
     ]
    },
    {
     "name": "stdout",
     "output_type": "stream",
     "text": [
      "\r",
      " [*****    21%           ] Elapsed 0.62s / Remaining 00:00:00:02"
     ]
    },
    {
     "name": "stdout",
     "output_type": "stream",
     "text": [
      "\r",
      " [*****    21%           ] Elapsed 0.62s / Remaining 00:00:00:02"
     ]
    },
    {
     "name": "stdout",
     "output_type": "stream",
     "text": [
      "\r",
      " [*****    21%           ] Elapsed 0.63s / Remaining 00:00:00:02"
     ]
    },
    {
     "name": "stdout",
     "output_type": "stream",
     "text": [
      "\r",
      " [*****    21%           ] Elapsed 0.63s / Remaining 00:00:00:02"
     ]
    },
    {
     "name": "stdout",
     "output_type": "stream",
     "text": [
      "\r",
      " [*****    21%           ] Elapsed 0.63s / Remaining 00:00:00:02"
     ]
    },
    {
     "name": "stdout",
     "output_type": "stream",
     "text": [
      "\r",
      " [*****    21%           ] Elapsed 0.64s / Remaining 00:00:00:02"
     ]
    },
    {
     "name": "stdout",
     "output_type": "stream",
     "text": [
      "\r",
      " [*****    21%           ] Elapsed 0.64s / Remaining 00:00:00:02"
     ]
    },
    {
     "name": "stdout",
     "output_type": "stream",
     "text": [
      "\r",
      " [*****    21%           ] Elapsed 0.64s / Remaining 00:00:00:02"
     ]
    },
    {
     "name": "stdout",
     "output_type": "stream",
     "text": [
      "\r",
      " [*****    21%           ] Elapsed 0.65s / Remaining 00:00:00:02"
     ]
    },
    {
     "name": "stdout",
     "output_type": "stream",
     "text": [
      "\r",
      " [*****    22%           ] Elapsed 0.65s / Remaining 00:00:00:02"
     ]
    },
    {
     "name": "stdout",
     "output_type": "stream",
     "text": [
      "\r",
      " [*****    22%           ] Elapsed 0.65s / Remaining 00:00:00:02"
     ]
    },
    {
     "name": "stdout",
     "output_type": "stream",
     "text": [
      "\r",
      " [*****    22%           ] Elapsed 0.65s / Remaining 00:00:00:02"
     ]
    },
    {
     "name": "stdout",
     "output_type": "stream",
     "text": [
      "\r",
      " [*****    22%           ] Elapsed 0.66s / Remaining 00:00:00:02"
     ]
    },
    {
     "name": "stdout",
     "output_type": "stream",
     "text": [
      "\r",
      " [*****    22%           ] Elapsed 0.66s / Remaining 00:00:00:02"
     ]
    },
    {
     "name": "stdout",
     "output_type": "stream",
     "text": [
      "\r",
      " [*****    22%           ] Elapsed 0.66s / Remaining 00:00:00:02"
     ]
    },
    {
     "name": "stdout",
     "output_type": "stream",
     "text": [
      "\r",
      " [*****    22%           ] Elapsed 0.66s / Remaining 00:00:00:02"
     ]
    },
    {
     "name": "stdout",
     "output_type": "stream",
     "text": [
      "\r",
      " [*****    22%           ] Elapsed 0.67s / Remaining 00:00:00:02"
     ]
    },
    {
     "name": "stdout",
     "output_type": "stream",
     "text": [
      "\r",
      " [*****    22%           ] Elapsed 0.67s / Remaining 00:00:00:02"
     ]
    },
    {
     "name": "stdout",
     "output_type": "stream",
     "text": [
      "\r",
      " [*****    22%           ] Elapsed 0.67s / Remaining 00:00:00:02"
     ]
    },
    {
     "name": "stdout",
     "output_type": "stream",
     "text": [
      "\r",
      " [*****    23%           ] Elapsed 0.68s / Remaining 00:00:00:02"
     ]
    },
    {
     "name": "stdout",
     "output_type": "stream",
     "text": [
      "\r",
      " [*****    23%           ] Elapsed 0.68s / Remaining 00:00:00:02"
     ]
    },
    {
     "name": "stdout",
     "output_type": "stream",
     "text": [
      "\r",
      " [*****    23%           ] Elapsed 0.68s / Remaining 00:00:00:02"
     ]
    },
    {
     "name": "stdout",
     "output_type": "stream",
     "text": [
      "\r",
      " [*****    23%           ] Elapsed 0.69s / Remaining 00:00:00:02"
     ]
    },
    {
     "name": "stdout",
     "output_type": "stream",
     "text": [
      "\r",
      " [*****    23%           ] Elapsed 0.69s / Remaining 00:00:00:02"
     ]
    },
    {
     "name": "stdout",
     "output_type": "stream",
     "text": [
      "\r",
      " [*****    23%           ] Elapsed 0.69s / Remaining 00:00:00:02"
     ]
    },
    {
     "name": "stdout",
     "output_type": "stream",
     "text": [
      "\r",
      " [*****    23%           ] Elapsed 0.69s / Remaining 00:00:00:02"
     ]
    },
    {
     "name": "stdout",
     "output_type": "stream",
     "text": [
      "\r",
      " [*****    23%           ] Elapsed 0.70s / Remaining 00:00:00:02"
     ]
    },
    {
     "name": "stdout",
     "output_type": "stream",
     "text": [
      "\r",
      " [*****    23%           ] Elapsed 0.70s / Remaining 00:00:00:02"
     ]
    },
    {
     "name": "stdout",
     "output_type": "stream",
     "text": [
      "\r",
      " [*****    23%           ] Elapsed 0.70s / Remaining 00:00:00:02"
     ]
    },
    {
     "name": "stdout",
     "output_type": "stream",
     "text": [
      "\r",
      " [******   24%           ] Elapsed 0.71s / Remaining 00:00:00:02"
     ]
    },
    {
     "name": "stdout",
     "output_type": "stream",
     "text": [
      "\r",
      " [******   24%           ] Elapsed 0.71s / Remaining 00:00:00:02"
     ]
    },
    {
     "name": "stdout",
     "output_type": "stream",
     "text": [
      "\r",
      " [******   24%           ] Elapsed 0.71s / Remaining 00:00:00:02"
     ]
    },
    {
     "name": "stdout",
     "output_type": "stream",
     "text": [
      "\r",
      " [******   24%           ] Elapsed 0.72s / Remaining 00:00:00:02"
     ]
    },
    {
     "name": "stdout",
     "output_type": "stream",
     "text": [
      "\r",
      " [******   24%           ] Elapsed 0.72s / Remaining 00:00:00:02"
     ]
    },
    {
     "name": "stdout",
     "output_type": "stream",
     "text": [
      "\r",
      " [******   24%           ] Elapsed 0.72s / Remaining 00:00:00:02"
     ]
    },
    {
     "name": "stdout",
     "output_type": "stream",
     "text": [
      "\r",
      " [******   24%           ] Elapsed 0.73s / Remaining 00:00:00:02"
     ]
    },
    {
     "name": "stdout",
     "output_type": "stream",
     "text": [
      "\r",
      " [******   24%           ] Elapsed 0.73s / Remaining 00:00:00:02"
     ]
    },
    {
     "name": "stdout",
     "output_type": "stream",
     "text": [
      "\r",
      " [******   24%           ] Elapsed 0.73s / Remaining 00:00:00:02"
     ]
    },
    {
     "name": "stdout",
     "output_type": "stream",
     "text": [
      "\r",
      " [******   24%           ] Elapsed 0.73s / Remaining 00:00:00:02"
     ]
    },
    {
     "name": "stdout",
     "output_type": "stream",
     "text": [
      "\r",
      " [******   25%           ] Elapsed 0.74s / Remaining 00:00:00:02"
     ]
    },
    {
     "name": "stdout",
     "output_type": "stream",
     "text": [
      "\r",
      " [******   25%           ] Elapsed 0.74s / Remaining 00:00:00:02"
     ]
    },
    {
     "name": "stdout",
     "output_type": "stream",
     "text": [
      "\r",
      " [******   25%           ] Elapsed 0.74s / Remaining 00:00:00:02"
     ]
    },
    {
     "name": "stdout",
     "output_type": "stream",
     "text": [
      "\r",
      " [******   25%           ] Elapsed 0.75s / Remaining 00:00:00:02"
     ]
    },
    {
     "name": "stdout",
     "output_type": "stream",
     "text": [
      "\r",
      " [******   25%           ] Elapsed 0.75s / Remaining 00:00:00:02"
     ]
    },
    {
     "name": "stdout",
     "output_type": "stream",
     "text": [
      "\r",
      " [******   25%           ] Elapsed 0.75s / Remaining 00:00:00:02"
     ]
    },
    {
     "name": "stdout",
     "output_type": "stream",
     "text": [
      "\r",
      " [******   25%           ] Elapsed 0.76s / Remaining 00:00:00:02"
     ]
    },
    {
     "name": "stdout",
     "output_type": "stream",
     "text": [
      "\r",
      " [******   25%           ] Elapsed 0.76s / Remaining 00:00:00:02"
     ]
    },
    {
     "name": "stdout",
     "output_type": "stream",
     "text": [
      "\r",
      " [******   25%           ] Elapsed 0.76s / Remaining 00:00:00:02"
     ]
    },
    {
     "name": "stdout",
     "output_type": "stream",
     "text": [
      "\r",
      " [******   25%           ] Elapsed 0.77s / Remaining 00:00:00:02"
     ]
    },
    {
     "name": "stdout",
     "output_type": "stream",
     "text": [
      "\r",
      " [******   26%           ] Elapsed 0.77s / Remaining 00:00:00:02"
     ]
    },
    {
     "name": "stdout",
     "output_type": "stream",
     "text": [
      "\r",
      " [******   26%           ] Elapsed 0.77s / Remaining 00:00:00:02"
     ]
    },
    {
     "name": "stdout",
     "output_type": "stream",
     "text": [
      "\r",
      " [******   26%           ] Elapsed 0.78s / Remaining 00:00:00:02"
     ]
    },
    {
     "name": "stdout",
     "output_type": "stream",
     "text": [
      "\r",
      " [******   26%           ] Elapsed 0.78s / Remaining 00:00:00:02"
     ]
    },
    {
     "name": "stdout",
     "output_type": "stream",
     "text": [
      "\r",
      " [******   26%           ] Elapsed 0.78s / Remaining 00:00:00:02"
     ]
    },
    {
     "name": "stdout",
     "output_type": "stream",
     "text": [
      "\r",
      " [******   26%           ] Elapsed 0.79s / Remaining 00:00:00:02"
     ]
    },
    {
     "name": "stdout",
     "output_type": "stream",
     "text": [
      "\r",
      " [******   26%           ] Elapsed 0.79s / Remaining 00:00:00:02"
     ]
    },
    {
     "name": "stdout",
     "output_type": "stream",
     "text": [
      "\r",
      " [******   26%           ] Elapsed 0.79s / Remaining 00:00:00:02"
     ]
    },
    {
     "name": "stdout",
     "output_type": "stream",
     "text": [
      "\r",
      " [******   26%           ] Elapsed 0.79s / Remaining 00:00:00:02"
     ]
    },
    {
     "name": "stdout",
     "output_type": "stream",
     "text": [
      "\r",
      " [******   26%           ] Elapsed 0.80s / Remaining 00:00:00:02"
     ]
    },
    {
     "name": "stdout",
     "output_type": "stream",
     "text": [
      "\r",
      " [******   27%           ] Elapsed 0.80s / Remaining 00:00:00:02"
     ]
    },
    {
     "name": "stdout",
     "output_type": "stream",
     "text": [
      "\r",
      " [******   27%           ] Elapsed 0.80s / Remaining 00:00:00:02"
     ]
    },
    {
     "name": "stdout",
     "output_type": "stream",
     "text": [
      "\r",
      " [******   27%           ] Elapsed 0.81s / Remaining 00:00:00:02"
     ]
    },
    {
     "name": "stdout",
     "output_type": "stream",
     "text": [
      "\r",
      " [******   27%           ] Elapsed 0.81s / Remaining 00:00:00:02"
     ]
    },
    {
     "name": "stdout",
     "output_type": "stream",
     "text": [
      "\r",
      " [******   27%           ] Elapsed 0.81s / Remaining 00:00:00:02"
     ]
    },
    {
     "name": "stdout",
     "output_type": "stream",
     "text": [
      "\r",
      " [******   27%           ] Elapsed 0.82s / Remaining 00:00:00:02"
     ]
    },
    {
     "name": "stdout",
     "output_type": "stream",
     "text": [
      "\r",
      " [******   27%           ] Elapsed 0.82s / Remaining 00:00:00:02"
     ]
    },
    {
     "name": "stdout",
     "output_type": "stream",
     "text": [
      "\r",
      " [******   27%           ] Elapsed 0.82s / Remaining 00:00:00:02"
     ]
    },
    {
     "name": "stdout",
     "output_type": "stream",
     "text": [
      "\r",
      " [******   27%           ] Elapsed 0.82s / Remaining 00:00:00:02"
     ]
    },
    {
     "name": "stdout",
     "output_type": "stream",
     "text": [
      "\r",
      " [******   27%           ] Elapsed 0.83s / Remaining 00:00:00:02"
     ]
    },
    {
     "name": "stdout",
     "output_type": "stream",
     "text": [
      "\r",
      " [******   28%           ] Elapsed 0.83s / Remaining 00:00:00:02"
     ]
    },
    {
     "name": "stdout",
     "output_type": "stream",
     "text": [
      "\r",
      " [******   28%           ] Elapsed 0.83s / Remaining 00:00:00:02"
     ]
    },
    {
     "name": "stdout",
     "output_type": "stream",
     "text": [
      "\r",
      " [******   28%           ] Elapsed 0.84s / Remaining 00:00:00:02"
     ]
    },
    {
     "name": "stdout",
     "output_type": "stream",
     "text": [
      "\r",
      " [******   28%           ] Elapsed 0.84s / Remaining 00:00:00:02"
     ]
    },
    {
     "name": "stdout",
     "output_type": "stream",
     "text": [
      "\r",
      " [******   28%           ] Elapsed 0.84s / Remaining 00:00:00:02"
     ]
    },
    {
     "name": "stdout",
     "output_type": "stream",
     "text": [
      "\r",
      " [******   28%           ] Elapsed 0.84s / Remaining 00:00:00:02"
     ]
    },
    {
     "name": "stdout",
     "output_type": "stream",
     "text": [
      "\r",
      " [******   28%           ] Elapsed 0.85s / Remaining 00:00:00:02"
     ]
    },
    {
     "name": "stdout",
     "output_type": "stream",
     "text": [
      "\r",
      " [******   28%           ] Elapsed 0.85s / Remaining 00:00:00:02"
     ]
    },
    {
     "name": "stdout",
     "output_type": "stream",
     "text": [
      "\r",
      " [******   28%           ] Elapsed 0.85s / Remaining 00:00:00:02"
     ]
    },
    {
     "name": "stdout",
     "output_type": "stream",
     "text": [
      "\r",
      " [******   28%           ] Elapsed 0.86s / Remaining 00:00:00:02"
     ]
    },
    {
     "name": "stdout",
     "output_type": "stream",
     "text": [
      "\r",
      " [*******  29%           ] Elapsed 0.86s / Remaining 00:00:00:02"
     ]
    },
    {
     "name": "stdout",
     "output_type": "stream",
     "text": [
      "\r",
      " [*******  29%           ] Elapsed 0.86s / Remaining 00:00:00:02"
     ]
    },
    {
     "name": "stdout",
     "output_type": "stream",
     "text": [
      "\r",
      " [*******  29%           ] Elapsed 0.87s / Remaining 00:00:00:02"
     ]
    },
    {
     "name": "stdout",
     "output_type": "stream",
     "text": [
      "\r",
      " [*******  29%           ] Elapsed 0.87s / Remaining 00:00:00:02"
     ]
    },
    {
     "name": "stdout",
     "output_type": "stream",
     "text": [
      "\r",
      " [*******  29%           ] Elapsed 0.87s / Remaining 00:00:00:02"
     ]
    },
    {
     "name": "stdout",
     "output_type": "stream",
     "text": [
      "\r",
      " [*******  29%           ] Elapsed 0.87s / Remaining 00:00:00:02"
     ]
    },
    {
     "name": "stdout",
     "output_type": "stream",
     "text": [
      "\r",
      " [*******  29%           ] Elapsed 0.88s / Remaining 00:00:00:02"
     ]
    },
    {
     "name": "stdout",
     "output_type": "stream",
     "text": [
      "\r",
      " [*******  29%           ] Elapsed 0.88s / Remaining 00:00:00:02"
     ]
    },
    {
     "name": "stdout",
     "output_type": "stream",
     "text": [
      "\r",
      " [*******  29%           ] Elapsed 0.88s / Remaining 00:00:00:02"
     ]
    },
    {
     "name": "stdout",
     "output_type": "stream",
     "text": [
      "\r",
      " [*******  29%           ] Elapsed 0.89s / Remaining 00:00:00:02"
     ]
    },
    {
     "name": "stdout",
     "output_type": "stream",
     "text": [
      "\r",
      " [*******  30%           ] Elapsed 0.89s / Remaining 00:00:00:02"
     ]
    },
    {
     "name": "stdout",
     "output_type": "stream",
     "text": [
      "\r",
      " [*******  30%           ] Elapsed 0.89s / Remaining 00:00:00:02"
     ]
    },
    {
     "name": "stdout",
     "output_type": "stream",
     "text": [
      "\r",
      " [*******  30%           ] Elapsed 0.89s / Remaining 00:00:00:02"
     ]
    },
    {
     "name": "stdout",
     "output_type": "stream",
     "text": [
      "\r",
      " [*******  30%           ] Elapsed 0.90s / Remaining 00:00:00:02"
     ]
    },
    {
     "name": "stdout",
     "output_type": "stream",
     "text": [
      "\r",
      " [*******  30%           ] Elapsed 0.90s / Remaining 00:00:00:02"
     ]
    },
    {
     "name": "stdout",
     "output_type": "stream",
     "text": [
      "\r",
      " [*******  30%           ] Elapsed 0.90s / Remaining 00:00:00:02"
     ]
    },
    {
     "name": "stdout",
     "output_type": "stream",
     "text": [
      "\r",
      " [*******  30%           ] Elapsed 0.91s / Remaining 00:00:00:02"
     ]
    },
    {
     "name": "stdout",
     "output_type": "stream",
     "text": [
      "\r",
      " [*******  30%           ] Elapsed 0.91s / Remaining 00:00:00:02"
     ]
    },
    {
     "name": "stdout",
     "output_type": "stream",
     "text": [
      "\r",
      " [*******  30%           ] Elapsed 0.91s / Remaining 00:00:00:02"
     ]
    },
    {
     "name": "stdout",
     "output_type": "stream",
     "text": [
      "\r",
      " [*******  30%           ] Elapsed 0.91s / Remaining 00:00:00:02"
     ]
    },
    {
     "name": "stdout",
     "output_type": "stream",
     "text": [
      "\r",
      " [*******  31%           ] Elapsed 0.92s / Remaining 00:00:00:02"
     ]
    },
    {
     "name": "stdout",
     "output_type": "stream",
     "text": [
      "\r",
      " [*******  31%           ] Elapsed 0.92s / Remaining 00:00:00:02"
     ]
    },
    {
     "name": "stdout",
     "output_type": "stream",
     "text": [
      "\r",
      " [*******  31%           ] Elapsed 0.92s / Remaining 00:00:00:02"
     ]
    },
    {
     "name": "stdout",
     "output_type": "stream",
     "text": [
      "\r",
      " [*******  31%           ] Elapsed 0.93s / Remaining 00:00:00:02"
     ]
    },
    {
     "name": "stdout",
     "output_type": "stream",
     "text": [
      "\r",
      " [*******  31%           ] Elapsed 0.93s / Remaining 00:00:00:02"
     ]
    },
    {
     "name": "stdout",
     "output_type": "stream",
     "text": [
      "\r",
      " [*******  31%           ] Elapsed 0.93s / Remaining 00:00:00:02"
     ]
    },
    {
     "name": "stdout",
     "output_type": "stream",
     "text": [
      "\r",
      " [*******  31%           ] Elapsed 0.94s / Remaining 00:00:00:02"
     ]
    },
    {
     "name": "stdout",
     "output_type": "stream",
     "text": [
      "\r",
      " [*******  31%           ] Elapsed 0.94s / Remaining 00:00:00:02"
     ]
    },
    {
     "name": "stdout",
     "output_type": "stream",
     "text": [
      "\r",
      " [*******  31%           ] Elapsed 0.94s / Remaining 00:00:00:02"
     ]
    },
    {
     "name": "stdout",
     "output_type": "stream",
     "text": [
      "\r",
      " [*******  31%           ] Elapsed 0.95s / Remaining 00:00:00:02"
     ]
    },
    {
     "name": "stdout",
     "output_type": "stream",
     "text": [
      "\r",
      " [*******  32%           ] Elapsed 0.95s / Remaining 00:00:00:02"
     ]
    },
    {
     "name": "stdout",
     "output_type": "stream",
     "text": [
      "\r",
      " [*******  32%           ] Elapsed 0.95s / Remaining 00:00:00:02"
     ]
    },
    {
     "name": "stdout",
     "output_type": "stream",
     "text": [
      "\r",
      " [*******  32%           ] Elapsed 0.96s / Remaining 00:00:00:02"
     ]
    },
    {
     "name": "stdout",
     "output_type": "stream",
     "text": [
      "\r",
      " [*******  32%           ] Elapsed 0.96s / Remaining 00:00:00:02"
     ]
    },
    {
     "name": "stdout",
     "output_type": "stream",
     "text": [
      "\r",
      " [*******  32%           ] Elapsed 0.96s / Remaining 00:00:00:02"
     ]
    },
    {
     "name": "stdout",
     "output_type": "stream",
     "text": [
      "\r",
      " [*******  32%           ] Elapsed 0.96s / Remaining 00:00:00:02"
     ]
    },
    {
     "name": "stdout",
     "output_type": "stream",
     "text": [
      "\r",
      " [*******  32%           ] Elapsed 0.97s / Remaining 00:00:00:02"
     ]
    },
    {
     "name": "stdout",
     "output_type": "stream",
     "text": [
      "\r",
      " [*******  32%           ] Elapsed 0.97s / Remaining 00:00:00:02"
     ]
    },
    {
     "name": "stdout",
     "output_type": "stream",
     "text": [
      "\r",
      " [*******  32%           ] Elapsed 0.97s / Remaining 00:00:00:02"
     ]
    },
    {
     "name": "stdout",
     "output_type": "stream",
     "text": [
      "\r",
      " [*******  32%           ] Elapsed 0.98s / Remaining 00:00:00:02"
     ]
    },
    {
     "name": "stdout",
     "output_type": "stream",
     "text": [
      "\r",
      " [******** 33%           ] Elapsed 0.98s / Remaining 00:00:00:01"
     ]
    },
    {
     "name": "stdout",
     "output_type": "stream",
     "text": [
      "\r",
      " [******** 33%           ] Elapsed 0.98s / Remaining 00:00:00:01"
     ]
    },
    {
     "name": "stdout",
     "output_type": "stream",
     "text": [
      "\r",
      " [******** 33%           ] Elapsed 0.99s / Remaining 00:00:00:02"
     ]
    },
    {
     "name": "stdout",
     "output_type": "stream",
     "text": [
      "\r",
      " [******** 33%           ] Elapsed 0.99s / Remaining 00:00:00:02"
     ]
    },
    {
     "name": "stdout",
     "output_type": "stream",
     "text": [
      "\r",
      " [******** 33%           ] Elapsed 0.99s / Remaining 00:00:00:02"
     ]
    },
    {
     "name": "stdout",
     "output_type": "stream",
     "text": [
      "\r",
      " [******** 33%           ] Elapsed 1.00s / Remaining 00:00:00:02"
     ]
    },
    {
     "name": "stdout",
     "output_type": "stream",
     "text": [
      "\r",
      " [******** 33%           ] Elapsed 1.00s / Remaining 00:00:00:02"
     ]
    },
    {
     "name": "stdout",
     "output_type": "stream",
     "text": [
      "\r",
      " [******** 33%           ] Elapsed 1.00s / Remaining 00:00:00:02"
     ]
    },
    {
     "name": "stdout",
     "output_type": "stream",
     "text": [
      "\r",
      " [******** 33%           ] Elapsed 1.01s / Remaining 00:00:00:02"
     ]
    },
    {
     "name": "stdout",
     "output_type": "stream",
     "text": [
      "\r",
      " [******** 33%           ] Elapsed 1.01s / Remaining 00:00:00:02"
     ]
    },
    {
     "name": "stdout",
     "output_type": "stream",
     "text": [
      "\r",
      " [******** 34%           ] Elapsed 1.01s / Remaining 00:00:00:01"
     ]
    },
    {
     "name": "stdout",
     "output_type": "stream",
     "text": [
      "\r",
      " [******** 34%           ] Elapsed 1.01s / Remaining 00:00:00:01"
     ]
    },
    {
     "name": "stdout",
     "output_type": "stream",
     "text": [
      "\r",
      " [******** 34%           ] Elapsed 1.02s / Remaining 00:00:00:01"
     ]
    },
    {
     "name": "stdout",
     "output_type": "stream",
     "text": [
      "\r",
      " [******** 34%           ] Elapsed 1.02s / Remaining 00:00:00:01"
     ]
    },
    {
     "name": "stdout",
     "output_type": "stream",
     "text": [
      "\r",
      " [******** 34%           ] Elapsed 1.02s / Remaining 00:00:00:01"
     ]
    },
    {
     "name": "stdout",
     "output_type": "stream",
     "text": [
      "\r",
      " [******** 34%           ] Elapsed 1.03s / Remaining 00:00:00:01"
     ]
    },
    {
     "name": "stdout",
     "output_type": "stream",
     "text": [
      "\r",
      " [******** 34%           ] Elapsed 1.03s / Remaining 00:00:00:01"
     ]
    },
    {
     "name": "stdout",
     "output_type": "stream",
     "text": [
      "\r",
      " [******** 34%           ] Elapsed 1.03s / Remaining 00:00:00:02"
     ]
    },
    {
     "name": "stdout",
     "output_type": "stream",
     "text": [
      "\r",
      " [******** 34%           ] Elapsed 1.04s / Remaining 00:00:00:02"
     ]
    },
    {
     "name": "stdout",
     "output_type": "stream",
     "text": [
      "\r",
      " [******** 34%           ] Elapsed 1.04s / Remaining 00:00:00:02"
     ]
    },
    {
     "name": "stdout",
     "output_type": "stream",
     "text": [
      "\r",
      " [******** 35%           ] Elapsed 1.04s / Remaining 00:00:00:01"
     ]
    },
    {
     "name": "stdout",
     "output_type": "stream",
     "text": [
      "\r",
      " [******** 35%           ] Elapsed 1.04s / Remaining 00:00:00:01"
     ]
    },
    {
     "name": "stdout",
     "output_type": "stream",
     "text": [
      "\r",
      " [******** 35%           ] Elapsed 1.05s / Remaining 00:00:00:01"
     ]
    },
    {
     "name": "stdout",
     "output_type": "stream",
     "text": [
      "\r",
      " [******** 35%           ] Elapsed 1.05s / Remaining 00:00:00:01"
     ]
    },
    {
     "name": "stdout",
     "output_type": "stream",
     "text": [
      "\r",
      " [******** 35%           ] Elapsed 1.05s / Remaining 00:00:00:01"
     ]
    },
    {
     "name": "stdout",
     "output_type": "stream",
     "text": [
      "\r",
      " [******** 35%           ] Elapsed 1.05s / Remaining 00:00:00:01"
     ]
    },
    {
     "name": "stdout",
     "output_type": "stream",
     "text": [
      "\r",
      " [******** 35%           ] Elapsed 1.06s / Remaining 00:00:00:01"
     ]
    },
    {
     "name": "stdout",
     "output_type": "stream",
     "text": [
      "\r",
      " [******** 35%           ] Elapsed 1.06s / Remaining 00:00:00:01"
     ]
    },
    {
     "name": "stdout",
     "output_type": "stream",
     "text": [
      "\r",
      " [******** 35%           ] Elapsed 1.07s / Remaining 00:00:00:01"
     ]
    },
    {
     "name": "stdout",
     "output_type": "stream",
     "text": [
      "\r",
      " [******** 35%           ] Elapsed 1.07s / Remaining 00:00:00:01"
     ]
    },
    {
     "name": "stdout",
     "output_type": "stream",
     "text": [
      "\r",
      " [******** 36%           ] Elapsed 1.07s / Remaining 00:00:00:01"
     ]
    },
    {
     "name": "stdout",
     "output_type": "stream",
     "text": [
      "\r",
      " [******** 36%           ] Elapsed 1.07s / Remaining 00:00:00:01"
     ]
    },
    {
     "name": "stdout",
     "output_type": "stream",
     "text": [
      "\r",
      " [******** 36%           ] Elapsed 1.08s / Remaining 00:00:00:01"
     ]
    },
    {
     "name": "stdout",
     "output_type": "stream",
     "text": [
      "\r",
      " [******** 36%           ] Elapsed 1.08s / Remaining 00:00:00:01"
     ]
    },
    {
     "name": "stdout",
     "output_type": "stream",
     "text": [
      "\r",
      " [******** 36%           ] Elapsed 1.08s / Remaining 00:00:00:01"
     ]
    },
    {
     "name": "stdout",
     "output_type": "stream",
     "text": [
      "\r",
      " [******** 36%           ] Elapsed 1.08s / Remaining 00:00:00:01"
     ]
    },
    {
     "name": "stdout",
     "output_type": "stream",
     "text": [
      "\r",
      " [******** 36%           ] Elapsed 1.09s / Remaining 00:00:00:01"
     ]
    },
    {
     "name": "stdout",
     "output_type": "stream",
     "text": [
      "\r",
      " [******** 36%           ] Elapsed 1.09s / Remaining 00:00:00:01"
     ]
    },
    {
     "name": "stdout",
     "output_type": "stream",
     "text": [
      "\r",
      " [******** 36%           ] Elapsed 1.09s / Remaining 00:00:00:01"
     ]
    },
    {
     "name": "stdout",
     "output_type": "stream",
     "text": [
      "\r",
      " [******** 36%           ] Elapsed 1.10s / Remaining 00:00:00:01"
     ]
    },
    {
     "name": "stdout",
     "output_type": "stream",
     "text": [
      "\r",
      " [*********37%           ] Elapsed 1.10s / Remaining 00:00:00:01"
     ]
    },
    {
     "name": "stdout",
     "output_type": "stream",
     "text": [
      "\r",
      " [*********37%           ] Elapsed 1.10s / Remaining 00:00:00:01"
     ]
    },
    {
     "name": "stdout",
     "output_type": "stream",
     "text": [
      "\r",
      " [*********37%           ] Elapsed 1.11s / Remaining 00:00:00:01"
     ]
    },
    {
     "name": "stdout",
     "output_type": "stream",
     "text": [
      "\r",
      " [*********37%           ] Elapsed 1.11s / Remaining 00:00:00:01"
     ]
    },
    {
     "name": "stdout",
     "output_type": "stream",
     "text": [
      "\r",
      " [*********37%           ] Elapsed 1.11s / Remaining 00:00:00:01"
     ]
    },
    {
     "name": "stdout",
     "output_type": "stream",
     "text": [
      "\r",
      " [*********37%           ] Elapsed 1.11s / Remaining 00:00:00:01"
     ]
    },
    {
     "name": "stdout",
     "output_type": "stream",
     "text": [
      "\r",
      " [*********37%           ] Elapsed 1.12s / Remaining 00:00:00:01"
     ]
    },
    {
     "name": "stdout",
     "output_type": "stream",
     "text": [
      "\r",
      " [*********37%           ] Elapsed 1.12s / Remaining 00:00:00:01"
     ]
    },
    {
     "name": "stdout",
     "output_type": "stream",
     "text": [
      "\r",
      " [*********37%           ] Elapsed 1.12s / Remaining 00:00:00:01"
     ]
    },
    {
     "name": "stdout",
     "output_type": "stream",
     "text": [
      "\r",
      " [*********37%           ] Elapsed 1.13s / Remaining 00:00:00:01"
     ]
    },
    {
     "name": "stdout",
     "output_type": "stream",
     "text": [
      "\r",
      " [*********38%           ] Elapsed 1.13s / Remaining 00:00:00:01"
     ]
    },
    {
     "name": "stdout",
     "output_type": "stream",
     "text": [
      "\r",
      " [*********38%           ] Elapsed 1.13s / Remaining 00:00:00:01"
     ]
    },
    {
     "name": "stdout",
     "output_type": "stream",
     "text": [
      "\r",
      " [*********38%           ] Elapsed 1.13s / Remaining 00:00:00:01"
     ]
    },
    {
     "name": "stdout",
     "output_type": "stream",
     "text": [
      "\r",
      " [*********38%           ] Elapsed 1.14s / Remaining 00:00:00:01"
     ]
    },
    {
     "name": "stdout",
     "output_type": "stream",
     "text": [
      "\r",
      " [*********38%           ] Elapsed 1.14s / Remaining 00:00:00:01"
     ]
    },
    {
     "name": "stdout",
     "output_type": "stream",
     "text": [
      "\r",
      " [*********38%           ] Elapsed 1.14s / Remaining 00:00:00:01"
     ]
    },
    {
     "name": "stdout",
     "output_type": "stream",
     "text": [
      "\r",
      " [*********38%           ] Elapsed 1.15s / Remaining 00:00:00:01"
     ]
    },
    {
     "name": "stdout",
     "output_type": "stream",
     "text": [
      "\r",
      " [*********38%           ] Elapsed 1.15s / Remaining 00:00:00:01"
     ]
    },
    {
     "name": "stdout",
     "output_type": "stream",
     "text": [
      "\r",
      " [*********38%           ] Elapsed 1.15s / Remaining 00:00:00:01"
     ]
    },
    {
     "name": "stdout",
     "output_type": "stream",
     "text": [
      "\r",
      " [*********38%           ] Elapsed 1.16s / Remaining 00:00:00:01"
     ]
    },
    {
     "name": "stdout",
     "output_type": "stream",
     "text": [
      "\r",
      " [*********39%           ] Elapsed 1.16s / Remaining 00:00:00:01"
     ]
    },
    {
     "name": "stdout",
     "output_type": "stream",
     "text": [
      "\r",
      " [*********39%           ] Elapsed 1.16s / Remaining 00:00:00:01"
     ]
    },
    {
     "name": "stdout",
     "output_type": "stream",
     "text": [
      "\r",
      " [*********39%           ] Elapsed 1.17s / Remaining 00:00:00:01"
     ]
    },
    {
     "name": "stdout",
     "output_type": "stream",
     "text": [
      "\r",
      " [*********39%           ] Elapsed 1.17s / Remaining 00:00:00:01"
     ]
    },
    {
     "name": "stdout",
     "output_type": "stream",
     "text": [
      "\r",
      " [*********39%           ] Elapsed 1.17s / Remaining 00:00:00:01"
     ]
    },
    {
     "name": "stdout",
     "output_type": "stream",
     "text": [
      "\r",
      " [*********39%           ] Elapsed 1.18s / Remaining 00:00:00:01"
     ]
    },
    {
     "name": "stdout",
     "output_type": "stream",
     "text": [
      "\r",
      " [*********39%           ] Elapsed 1.18s / Remaining 00:00:00:01"
     ]
    },
    {
     "name": "stdout",
     "output_type": "stream",
     "text": [
      "\r",
      " [*********39%           ] Elapsed 1.18s / Remaining 00:00:00:01"
     ]
    },
    {
     "name": "stdout",
     "output_type": "stream",
     "text": [
      "\r",
      " [*********39%           ] Elapsed 1.18s / Remaining 00:00:00:01"
     ]
    },
    {
     "name": "stdout",
     "output_type": "stream",
     "text": [
      "\r",
      " [*********39%           ] Elapsed 1.19s / Remaining 00:00:00:01"
     ]
    },
    {
     "name": "stdout",
     "output_type": "stream",
     "text": [
      "\r",
      " [*********40%           ] Elapsed 1.19s / Remaining 00:00:00:01"
     ]
    },
    {
     "name": "stdout",
     "output_type": "stream",
     "text": [
      "\r",
      " [*********40%           ] Elapsed 1.19s / Remaining 00:00:00:01"
     ]
    },
    {
     "name": "stdout",
     "output_type": "stream",
     "text": [
      "\r",
      " [*********40%           ] Elapsed 1.20s / Remaining 00:00:00:01"
     ]
    },
    {
     "name": "stdout",
     "output_type": "stream",
     "text": [
      "\r",
      " [*********40%           ] Elapsed 1.20s / Remaining 00:00:00:01"
     ]
    },
    {
     "name": "stdout",
     "output_type": "stream",
     "text": [
      "\r",
      " [*********40%           ] Elapsed 1.20s / Remaining 00:00:00:01"
     ]
    },
    {
     "name": "stdout",
     "output_type": "stream",
     "text": [
      "\r",
      " [*********40%           ] Elapsed 1.21s / Remaining 00:00:00:01"
     ]
    },
    {
     "name": "stdout",
     "output_type": "stream",
     "text": [
      "\r",
      " [*********40%           ] Elapsed 1.21s / Remaining 00:00:00:01"
     ]
    },
    {
     "name": "stdout",
     "output_type": "stream",
     "text": [
      "\r",
      " [*********40%           ] Elapsed 1.21s / Remaining 00:00:00:01"
     ]
    },
    {
     "name": "stdout",
     "output_type": "stream",
     "text": [
      "\r",
      " [*********40%           ] Elapsed 1.22s / Remaining 00:00:00:01"
     ]
    },
    {
     "name": "stdout",
     "output_type": "stream",
     "text": [
      "\r",
      " [*********40%           ] Elapsed 1.22s / Remaining 00:00:00:01"
     ]
    },
    {
     "name": "stdout",
     "output_type": "stream",
     "text": [
      "\r",
      " [*********41%           ] Elapsed 1.22s / Remaining 00:00:00:01"
     ]
    },
    {
     "name": "stdout",
     "output_type": "stream",
     "text": [
      "\r",
      " [*********41%           ] Elapsed 1.23s / Remaining 00:00:00:01"
     ]
    },
    {
     "name": "stdout",
     "output_type": "stream",
     "text": [
      "\r",
      " [*********41%           ] Elapsed 1.23s / Remaining 00:00:00:01"
     ]
    },
    {
     "name": "stdout",
     "output_type": "stream",
     "text": [
      "\r",
      " [*********41%           ] Elapsed 1.23s / Remaining 00:00:00:01"
     ]
    },
    {
     "name": "stdout",
     "output_type": "stream",
     "text": [
      "\r",
      " [*********41%           ] Elapsed 1.23s / Remaining 00:00:00:01"
     ]
    },
    {
     "name": "stdout",
     "output_type": "stream",
     "text": [
      "\r",
      " [*********41%           ] Elapsed 1.24s / Remaining 00:00:00:01"
     ]
    },
    {
     "name": "stdout",
     "output_type": "stream",
     "text": [
      "\r",
      " [*********41%           ] Elapsed 1.24s / Remaining 00:00:00:01"
     ]
    },
    {
     "name": "stdout",
     "output_type": "stream",
     "text": [
      "\r",
      " [*********41%           ] Elapsed 1.24s / Remaining 00:00:00:01"
     ]
    },
    {
     "name": "stdout",
     "output_type": "stream",
     "text": [
      "\r",
      " [*********41%           ] Elapsed 1.25s / Remaining 00:00:00:01"
     ]
    },
    {
     "name": "stdout",
     "output_type": "stream",
     "text": [
      "\r",
      " [*********41%           ] Elapsed 1.25s / Remaining 00:00:00:01"
     ]
    },
    {
     "name": "stdout",
     "output_type": "stream",
     "text": [
      "\r",
      " [*********42%           ] Elapsed 1.25s / Remaining 00:00:00:01"
     ]
    },
    {
     "name": "stdout",
     "output_type": "stream",
     "text": [
      "\r",
      " [*********42%           ] Elapsed 1.26s / Remaining 00:00:00:01"
     ]
    },
    {
     "name": "stdout",
     "output_type": "stream",
     "text": [
      "\r",
      " [*********42%           ] Elapsed 1.26s / Remaining 00:00:00:01"
     ]
    },
    {
     "name": "stdout",
     "output_type": "stream",
     "text": [
      "\r",
      " [*********42%           ] Elapsed 1.26s / Remaining 00:00:00:01"
     ]
    },
    {
     "name": "stdout",
     "output_type": "stream",
     "text": [
      "\r",
      " [*********42%           ] Elapsed 1.26s / Remaining 00:00:00:01"
     ]
    },
    {
     "name": "stdout",
     "output_type": "stream",
     "text": [
      "\r",
      " [*********42%           ] Elapsed 1.27s / Remaining 00:00:00:01"
     ]
    },
    {
     "name": "stdout",
     "output_type": "stream",
     "text": [
      "\r",
      " [*********42%           ] Elapsed 1.27s / Remaining 00:00:00:01"
     ]
    },
    {
     "name": "stdout",
     "output_type": "stream",
     "text": [
      "\r",
      " [*********42%           ] Elapsed 1.27s / Remaining 00:00:00:01"
     ]
    },
    {
     "name": "stdout",
     "output_type": "stream",
     "text": [
      "\r",
      " [*********42%           ] Elapsed 1.28s / Remaining 00:00:00:01"
     ]
    },
    {
     "name": "stdout",
     "output_type": "stream",
     "text": [
      "\r",
      " [*********42%           ] Elapsed 1.28s / Remaining 00:00:00:01"
     ]
    },
    {
     "name": "stdout",
     "output_type": "stream",
     "text": [
      "\r",
      " [*********43%           ] Elapsed 1.28s / Remaining 00:00:00:01"
     ]
    },
    {
     "name": "stdout",
     "output_type": "stream",
     "text": [
      "\r",
      " [*********43%           ] Elapsed 1.29s / Remaining 00:00:00:01"
     ]
    },
    {
     "name": "stdout",
     "output_type": "stream",
     "text": [
      "\r",
      " [*********43%           ] Elapsed 1.29s / Remaining 00:00:00:01"
     ]
    },
    {
     "name": "stdout",
     "output_type": "stream",
     "text": [
      "\r",
      " [*********43%           ] Elapsed 1.29s / Remaining 00:00:00:01"
     ]
    },
    {
     "name": "stdout",
     "output_type": "stream",
     "text": [
      "\r",
      " [*********43%           ] Elapsed 1.29s / Remaining 00:00:00:01"
     ]
    },
    {
     "name": "stdout",
     "output_type": "stream",
     "text": [
      "\r",
      " [*********43%           ] Elapsed 1.30s / Remaining 00:00:00:01"
     ]
    },
    {
     "name": "stdout",
     "output_type": "stream",
     "text": [
      "\r",
      " [*********43%           ] Elapsed 1.30s / Remaining 00:00:00:01"
     ]
    },
    {
     "name": "stdout",
     "output_type": "stream",
     "text": [
      "\r",
      " [*********43%           ] Elapsed 1.30s / Remaining 00:00:00:01"
     ]
    },
    {
     "name": "stdout",
     "output_type": "stream",
     "text": [
      "\r",
      " [*********43%           ] Elapsed 1.31s / Remaining 00:00:00:01"
     ]
    },
    {
     "name": "stdout",
     "output_type": "stream",
     "text": [
      "\r",
      " [*********43%           ] Elapsed 1.31s / Remaining 00:00:00:01"
     ]
    },
    {
     "name": "stdout",
     "output_type": "stream",
     "text": [
      "\r"
     ]
    },
    {
     "name": "stdout",
     "output_type": "stream",
     "text": [
      " [*********44%           ] Elapsed 1.31s / Remaining 00:00:00:01"
     ]
    },
    {
     "name": "stdout",
     "output_type": "stream",
     "text": [
      "\r",
      " [*********44%           ] Elapsed 1.31s / Remaining 00:00:00:01"
     ]
    },
    {
     "name": "stdout",
     "output_type": "stream",
     "text": [
      "\r",
      " [*********44%           ] Elapsed 1.32s / Remaining 00:00:00:01"
     ]
    },
    {
     "name": "stdout",
     "output_type": "stream",
     "text": [
      "\r",
      " [*********44%           ] Elapsed 1.32s / Remaining 00:00:00:01"
     ]
    },
    {
     "name": "stdout",
     "output_type": "stream",
     "text": [
      "\r",
      " [*********44%           ] Elapsed 1.32s / Remaining 00:00:00:01"
     ]
    },
    {
     "name": "stdout",
     "output_type": "stream",
     "text": [
      "\r",
      " [*********44%           ] Elapsed 1.33s / Remaining 00:00:00:01"
     ]
    },
    {
     "name": "stdout",
     "output_type": "stream",
     "text": [
      "\r",
      " [*********44%           ] Elapsed 1.33s / Remaining 00:00:00:01"
     ]
    },
    {
     "name": "stdout",
     "output_type": "stream",
     "text": [
      "\r",
      " [*********44%           ] Elapsed 1.33s / Remaining 00:00:00:01"
     ]
    },
    {
     "name": "stdout",
     "output_type": "stream",
     "text": [
      "\r",
      " [*********44%           ] Elapsed 1.34s / Remaining 00:00:00:01"
     ]
    },
    {
     "name": "stdout",
     "output_type": "stream",
     "text": [
      "\r",
      " [*********44%           ] Elapsed 1.34s / Remaining 00:00:00:01"
     ]
    },
    {
     "name": "stdout",
     "output_type": "stream",
     "text": [
      "\r",
      " [*********45%           ] Elapsed 1.34s / Remaining 00:00:00:01"
     ]
    },
    {
     "name": "stdout",
     "output_type": "stream",
     "text": [
      "\r",
      " [*********45%           ] Elapsed 1.34s / Remaining 00:00:00:01"
     ]
    },
    {
     "name": "stdout",
     "output_type": "stream",
     "text": [
      "\r",
      " [*********45%           ] Elapsed 1.35s / Remaining 00:00:00:01"
     ]
    },
    {
     "name": "stdout",
     "output_type": "stream",
     "text": [
      "\r",
      " [*********45%           ] Elapsed 1.35s / Remaining 00:00:00:01"
     ]
    },
    {
     "name": "stdout",
     "output_type": "stream",
     "text": [
      "\r",
      " [*********45%           ] Elapsed 1.35s / Remaining 00:00:00:01"
     ]
    },
    {
     "name": "stdout",
     "output_type": "stream",
     "text": [
      "\r",
      " [*********45%           ] Elapsed 1.36s / Remaining 00:00:00:01"
     ]
    },
    {
     "name": "stdout",
     "output_type": "stream",
     "text": [
      "\r",
      " [*********45%           ] Elapsed 1.36s / Remaining 00:00:00:01"
     ]
    },
    {
     "name": "stdout",
     "output_type": "stream",
     "text": [
      "\r",
      " [*********45%           ] Elapsed 1.36s / Remaining 00:00:00:01"
     ]
    },
    {
     "name": "stdout",
     "output_type": "stream",
     "text": [
      "\r",
      " [*********45%           ] Elapsed 1.36s / Remaining 00:00:00:01"
     ]
    },
    {
     "name": "stdout",
     "output_type": "stream",
     "text": [
      "\r",
      " [*********45%           ] Elapsed 1.37s / Remaining 00:00:00:01"
     ]
    },
    {
     "name": "stdout",
     "output_type": "stream",
     "text": [
      "\r",
      " [*********46%           ] Elapsed 1.37s / Remaining 00:00:00:01"
     ]
    },
    {
     "name": "stdout",
     "output_type": "stream",
     "text": [
      "\r",
      " [*********46%           ] Elapsed 1.37s / Remaining 00:00:00:01"
     ]
    },
    {
     "name": "stdout",
     "output_type": "stream",
     "text": [
      "\r",
      " [*********46%           ] Elapsed 1.38s / Remaining 00:00:00:01"
     ]
    },
    {
     "name": "stdout",
     "output_type": "stream",
     "text": [
      "\r",
      " [*********46%           ] Elapsed 1.38s / Remaining 00:00:00:01"
     ]
    },
    {
     "name": "stdout",
     "output_type": "stream",
     "text": [
      "\r",
      " [*********46%           ] Elapsed 1.38s / Remaining 00:00:00:01"
     ]
    },
    {
     "name": "stdout",
     "output_type": "stream",
     "text": [
      "\r",
      " [*********46%           ] Elapsed 1.39s / Remaining 00:00:00:01"
     ]
    },
    {
     "name": "stdout",
     "output_type": "stream",
     "text": [
      "\r",
      " [*********46%           ] Elapsed 1.39s / Remaining 00:00:00:01"
     ]
    },
    {
     "name": "stdout",
     "output_type": "stream",
     "text": [
      "\r",
      " [*********46%           ] Elapsed 1.39s / Remaining 00:00:00:01"
     ]
    },
    {
     "name": "stdout",
     "output_type": "stream",
     "text": [
      "\r",
      " [*********46%           ] Elapsed 1.40s / Remaining 00:00:00:01"
     ]
    },
    {
     "name": "stdout",
     "output_type": "stream",
     "text": [
      "\r",
      " [*********46%           ] Elapsed 1.40s / Remaining 00:00:00:01"
     ]
    },
    {
     "name": "stdout",
     "output_type": "stream",
     "text": [
      "\r",
      " [*********47%           ] Elapsed 1.40s / Remaining 00:00:00:01"
     ]
    },
    {
     "name": "stdout",
     "output_type": "stream",
     "text": [
      "\r",
      " [*********47%           ] Elapsed 1.41s / Remaining 00:00:00:01"
     ]
    },
    {
     "name": "stdout",
     "output_type": "stream",
     "text": [
      "\r",
      " [*********47%           ] Elapsed 1.41s / Remaining 00:00:00:01"
     ]
    },
    {
     "name": "stdout",
     "output_type": "stream",
     "text": [
      "\r",
      " [*********47%           ] Elapsed 1.41s / Remaining 00:00:00:01"
     ]
    },
    {
     "name": "stdout",
     "output_type": "stream",
     "text": [
      "\r",
      " [*********47%           ] Elapsed 1.42s / Remaining 00:00:00:01"
     ]
    },
    {
     "name": "stdout",
     "output_type": "stream",
     "text": [
      "\r",
      " [*********47%           ] Elapsed 1.42s / Remaining 00:00:00:01"
     ]
    },
    {
     "name": "stdout",
     "output_type": "stream",
     "text": [
      "\r",
      " [*********47%           ] Elapsed 1.42s / Remaining 00:00:00:01"
     ]
    },
    {
     "name": "stdout",
     "output_type": "stream",
     "text": [
      "\r",
      " [*********47%           ] Elapsed 1.43s / Remaining 00:00:00:01"
     ]
    },
    {
     "name": "stdout",
     "output_type": "stream",
     "text": [
      "\r",
      " [*********47%           ] Elapsed 1.43s / Remaining 00:00:00:01"
     ]
    },
    {
     "name": "stdout",
     "output_type": "stream",
     "text": [
      "\r",
      " [*********47%           ] Elapsed 1.43s / Remaining 00:00:00:01"
     ]
    },
    {
     "name": "stdout",
     "output_type": "stream",
     "text": [
      "\r",
      " [*********48%           ] Elapsed 1.44s / Remaining 00:00:00:01"
     ]
    },
    {
     "name": "stdout",
     "output_type": "stream",
     "text": [
      "\r",
      " [*********48%           ] Elapsed 1.44s / Remaining 00:00:00:01"
     ]
    },
    {
     "name": "stdout",
     "output_type": "stream",
     "text": [
      "\r",
      " [*********48%           ] Elapsed 1.44s / Remaining 00:00:00:01"
     ]
    },
    {
     "name": "stdout",
     "output_type": "stream",
     "text": [
      "\r",
      " [*********48%           ] Elapsed 1.44s / Remaining 00:00:00:01"
     ]
    },
    {
     "name": "stdout",
     "output_type": "stream",
     "text": [
      "\r",
      " [*********48%           ] Elapsed 1.45s / Remaining 00:00:00:01"
     ]
    },
    {
     "name": "stdout",
     "output_type": "stream",
     "text": [
      "\r",
      " [*********48%           ] Elapsed 1.45s / Remaining 00:00:00:01"
     ]
    },
    {
     "name": "stdout",
     "output_type": "stream",
     "text": [
      "\r",
      " [*********48%           ] Elapsed 1.45s / Remaining 00:00:00:01"
     ]
    },
    {
     "name": "stdout",
     "output_type": "stream",
     "text": [
      "\r",
      " [*********48%           ] Elapsed 1.46s / Remaining 00:00:00:01"
     ]
    },
    {
     "name": "stdout",
     "output_type": "stream",
     "text": [
      "\r",
      " [*********48%           ] Elapsed 1.46s / Remaining 00:00:00:01"
     ]
    },
    {
     "name": "stdout",
     "output_type": "stream",
     "text": [
      "\r",
      " [*********48%           ] Elapsed 1.46s / Remaining 00:00:00:01"
     ]
    },
    {
     "name": "stdout",
     "output_type": "stream",
     "text": [
      "\r",
      " [*********49%           ] Elapsed 1.47s / Remaining 00:00:00:01"
     ]
    },
    {
     "name": "stdout",
     "output_type": "stream",
     "text": [
      "\r",
      " [*********49%           ] Elapsed 1.47s / Remaining 00:00:00:01"
     ]
    },
    {
     "name": "stdout",
     "output_type": "stream",
     "text": [
      "\r",
      " [*********49%           ] Elapsed 1.47s / Remaining 00:00:00:01"
     ]
    },
    {
     "name": "stdout",
     "output_type": "stream",
     "text": [
      "\r",
      " [*********49%           ] Elapsed 1.47s / Remaining 00:00:00:01"
     ]
    },
    {
     "name": "stdout",
     "output_type": "stream",
     "text": [
      "\r",
      " [*********49%           ] Elapsed 1.48s / Remaining 00:00:00:01"
     ]
    },
    {
     "name": "stdout",
     "output_type": "stream",
     "text": [
      "\r",
      " [*********49%           ] Elapsed 1.48s / Remaining 00:00:00:01"
     ]
    },
    {
     "name": "stdout",
     "output_type": "stream",
     "text": [
      "\r",
      " [*********49%           ] Elapsed 1.48s / Remaining 00:00:00:01"
     ]
    },
    {
     "name": "stdout",
     "output_type": "stream",
     "text": [
      "\r",
      " [*********49%           ] Elapsed 1.49s / Remaining 00:00:00:01"
     ]
    },
    {
     "name": "stdout",
     "output_type": "stream",
     "text": [
      "\r",
      " [*********49%           ] Elapsed 1.49s / Remaining 00:00:00:01"
     ]
    },
    {
     "name": "stdout",
     "output_type": "stream",
     "text": [
      "\r",
      " [*********49%           ] Elapsed 1.49s / Remaining 00:00:00:01"
     ]
    },
    {
     "name": "stdout",
     "output_type": "stream",
     "text": [
      "\r",
      " [*********50%           ] Elapsed 1.50s / Remaining 00:00:00:01"
     ]
    },
    {
     "name": "stdout",
     "output_type": "stream",
     "text": [
      "\r",
      " [*********50%           ] Elapsed 1.50s / Remaining 00:00:00:01"
     ]
    },
    {
     "name": "stdout",
     "output_type": "stream",
     "text": [
      "\r",
      " [*********50%           ] Elapsed 1.50s / Remaining 00:00:00:01"
     ]
    },
    {
     "name": "stdout",
     "output_type": "stream",
     "text": [
      "\r",
      " [*********50%           ] Elapsed 1.50s / Remaining 00:00:00:01"
     ]
    },
    {
     "name": "stdout",
     "output_type": "stream",
     "text": [
      "\r",
      " [*********50%           ] Elapsed 1.51s / Remaining 00:00:00:01"
     ]
    },
    {
     "name": "stdout",
     "output_type": "stream",
     "text": [
      "\r",
      " [*********50%           ] Elapsed 1.51s / Remaining 00:00:00:01"
     ]
    },
    {
     "name": "stdout",
     "output_type": "stream",
     "text": [
      "\r",
      " [*********50%           ] Elapsed 1.51s / Remaining 00:00:00:01"
     ]
    },
    {
     "name": "stdout",
     "output_type": "stream",
     "text": [
      "\r",
      " [*********50%           ] Elapsed 1.52s / Remaining 00:00:00:01"
     ]
    },
    {
     "name": "stdout",
     "output_type": "stream",
     "text": [
      "\r",
      " [*********50%           ] Elapsed 1.52s / Remaining 00:00:00:01"
     ]
    },
    {
     "name": "stdout",
     "output_type": "stream",
     "text": [
      "\r",
      " [*********50%           ] Elapsed 1.52s / Remaining 00:00:00:01"
     ]
    },
    {
     "name": "stdout",
     "output_type": "stream",
     "text": [
      "\r",
      " [*********51%           ] Elapsed 1.52s / Remaining 00:00:00:01"
     ]
    },
    {
     "name": "stdout",
     "output_type": "stream",
     "text": [
      "\r",
      " [*********51%           ] Elapsed 1.53s / Remaining 00:00:00:01"
     ]
    },
    {
     "name": "stdout",
     "output_type": "stream",
     "text": [
      "\r",
      " [*********51%           ] Elapsed 1.53s / Remaining 00:00:00:01"
     ]
    },
    {
     "name": "stdout",
     "output_type": "stream",
     "text": [
      "\r",
      " [*********51%           ] Elapsed 1.53s / Remaining 00:00:00:01"
     ]
    },
    {
     "name": "stdout",
     "output_type": "stream",
     "text": [
      "\r",
      " [*********51%           ] Elapsed 1.54s / Remaining 00:00:00:01"
     ]
    },
    {
     "name": "stdout",
     "output_type": "stream",
     "text": [
      "\r",
      " [*********51%           ] Elapsed 1.54s / Remaining 00:00:00:01"
     ]
    },
    {
     "name": "stdout",
     "output_type": "stream",
     "text": [
      "\r",
      " [*********51%           ] Elapsed 1.54s / Remaining 00:00:00:01"
     ]
    },
    {
     "name": "stdout",
     "output_type": "stream",
     "text": [
      "\r",
      " [*********51%           ] Elapsed 1.55s / Remaining 00:00:00:01"
     ]
    },
    {
     "name": "stdout",
     "output_type": "stream",
     "text": [
      "\r",
      " [*********51%           ] Elapsed 1.55s / Remaining 00:00:00:01"
     ]
    },
    {
     "name": "stdout",
     "output_type": "stream",
     "text": [
      "\r",
      " [*********51%           ] Elapsed 1.55s / Remaining 00:00:00:01"
     ]
    },
    {
     "name": "stdout",
     "output_type": "stream",
     "text": [
      "\r",
      " [*********52%           ] Elapsed 1.56s / Remaining 00:00:00:01"
     ]
    },
    {
     "name": "stdout",
     "output_type": "stream",
     "text": [
      "\r",
      " [*********52%           ] Elapsed 1.56s / Remaining 00:00:00:01"
     ]
    },
    {
     "name": "stdout",
     "output_type": "stream",
     "text": [
      "\r",
      " [*********52%           ] Elapsed 1.56s / Remaining 00:00:00:01"
     ]
    },
    {
     "name": "stdout",
     "output_type": "stream",
     "text": [
      "\r",
      " [*********52%           ] Elapsed 1.56s / Remaining 00:00:00:01"
     ]
    },
    {
     "name": "stdout",
     "output_type": "stream",
     "text": [
      "\r",
      " [*********52%           ] Elapsed 1.57s / Remaining 00:00:00:01"
     ]
    },
    {
     "name": "stdout",
     "output_type": "stream",
     "text": [
      "\r",
      " [*********52%           ] Elapsed 1.57s / Remaining 00:00:00:01"
     ]
    },
    {
     "name": "stdout",
     "output_type": "stream",
     "text": [
      "\r",
      " [*********52%           ] Elapsed 1.57s / Remaining 00:00:00:01"
     ]
    },
    {
     "name": "stdout",
     "output_type": "stream",
     "text": [
      "\r",
      " [*********52%           ] Elapsed 1.58s / Remaining 00:00:00:01"
     ]
    },
    {
     "name": "stdout",
     "output_type": "stream",
     "text": [
      "\r",
      " [*********52%           ] Elapsed 1.58s / Remaining 00:00:00:01"
     ]
    },
    {
     "name": "stdout",
     "output_type": "stream",
     "text": [
      "\r",
      " [*********52%           ] Elapsed 1.58s / Remaining 00:00:00:01"
     ]
    },
    {
     "name": "stdout",
     "output_type": "stream",
     "text": [
      "\r",
      " [*********53%           ] Elapsed 1.59s / Remaining 00:00:00:01"
     ]
    },
    {
     "name": "stdout",
     "output_type": "stream",
     "text": [
      "\r",
      " [*********53%           ] Elapsed 1.59s / Remaining 00:00:00:01"
     ]
    },
    {
     "name": "stdout",
     "output_type": "stream",
     "text": [
      "\r",
      " [*********53%           ] Elapsed 1.59s / Remaining 00:00:00:01"
     ]
    },
    {
     "name": "stdout",
     "output_type": "stream",
     "text": [
      "\r",
      " [*********53%           ] Elapsed 1.59s / Remaining 00:00:00:01"
     ]
    },
    {
     "name": "stdout",
     "output_type": "stream",
     "text": [
      "\r",
      " [*********53%           ] Elapsed 1.60s / Remaining 00:00:00:01"
     ]
    },
    {
     "name": "stdout",
     "output_type": "stream",
     "text": [
      "\r",
      " [*********53%           ] Elapsed 1.60s / Remaining 00:00:00:01"
     ]
    },
    {
     "name": "stdout",
     "output_type": "stream",
     "text": [
      "\r",
      " [*********53%           ] Elapsed 1.60s / Remaining 00:00:00:01"
     ]
    },
    {
     "name": "stdout",
     "output_type": "stream",
     "text": [
      "\r",
      " [*********53%           ] Elapsed 1.61s / Remaining 00:00:00:01"
     ]
    },
    {
     "name": "stdout",
     "output_type": "stream",
     "text": [
      "\r",
      " [*********53%           ] Elapsed 1.61s / Remaining 00:00:00:01"
     ]
    },
    {
     "name": "stdout",
     "output_type": "stream",
     "text": [
      "\r",
      " [*********53%           ] Elapsed 1.61s / Remaining 00:00:00:01"
     ]
    },
    {
     "name": "stdout",
     "output_type": "stream",
     "text": [
      "\r",
      " [*********54%           ] Elapsed 1.62s / Remaining 00:00:00:01"
     ]
    },
    {
     "name": "stdout",
     "output_type": "stream",
     "text": [
      "\r",
      " [*********54%           ] Elapsed 1.62s / Remaining 00:00:00:01"
     ]
    },
    {
     "name": "stdout",
     "output_type": "stream",
     "text": [
      "\r",
      " [*********54%           ] Elapsed 1.62s / Remaining 00:00:00:01"
     ]
    },
    {
     "name": "stdout",
     "output_type": "stream",
     "text": [
      "\r",
      " [*********54%           ] Elapsed 1.63s / Remaining 00:00:00:01"
     ]
    },
    {
     "name": "stdout",
     "output_type": "stream",
     "text": [
      "\r",
      " [*********54%           ] Elapsed 1.63s / Remaining 00:00:00:01"
     ]
    },
    {
     "name": "stdout",
     "output_type": "stream",
     "text": [
      "\r",
      " [*********54%           ] Elapsed 1.63s / Remaining 00:00:00:01"
     ]
    },
    {
     "name": "stdout",
     "output_type": "stream",
     "text": [
      "\r",
      " [*********54%           ] Elapsed 1.63s / Remaining 00:00:00:01"
     ]
    },
    {
     "name": "stdout",
     "output_type": "stream",
     "text": [
      "\r",
      " [*********54%           ] Elapsed 1.64s / Remaining 00:00:00:01"
     ]
    },
    {
     "name": "stdout",
     "output_type": "stream",
     "text": [
      "\r",
      " [*********54%           ] Elapsed 1.64s / Remaining 00:00:00:01"
     ]
    },
    {
     "name": "stdout",
     "output_type": "stream",
     "text": [
      "\r",
      " [*********54%           ] Elapsed 1.65s / Remaining 00:00:00:01"
     ]
    },
    {
     "name": "stdout",
     "output_type": "stream",
     "text": [
      "\r",
      " [*********55%*          ] Elapsed 1.65s / Remaining 00:00:00:01"
     ]
    },
    {
     "name": "stdout",
     "output_type": "stream",
     "text": [
      "\r",
      " [*********55%*          ] Elapsed 1.65s / Remaining 00:00:00:01"
     ]
    },
    {
     "name": "stdout",
     "output_type": "stream",
     "text": [
      "\r",
      " [*********55%*          ] Elapsed 1.65s / Remaining 00:00:00:01"
     ]
    },
    {
     "name": "stdout",
     "output_type": "stream",
     "text": [
      "\r",
      " [*********55%*          ] Elapsed 1.66s / Remaining 00:00:00:01"
     ]
    },
    {
     "name": "stdout",
     "output_type": "stream",
     "text": [
      "\r",
      " [*********55%*          ] Elapsed 1.66s / Remaining 00:00:00:01"
     ]
    },
    {
     "name": "stdout",
     "output_type": "stream",
     "text": [
      "\r",
      " [*********55%*          ] Elapsed 1.66s / Remaining 00:00:00:01"
     ]
    },
    {
     "name": "stdout",
     "output_type": "stream",
     "text": [
      "\r",
      " [*********55%*          ] Elapsed 1.66s / Remaining 00:00:00:01"
     ]
    },
    {
     "name": "stdout",
     "output_type": "stream",
     "text": [
      "\r",
      " [*********55%*          ] Elapsed 1.67s / Remaining 00:00:00:01"
     ]
    },
    {
     "name": "stdout",
     "output_type": "stream",
     "text": [
      "\r",
      " [*********55%*          ] Elapsed 1.67s / Remaining 00:00:00:01"
     ]
    },
    {
     "name": "stdout",
     "output_type": "stream",
     "text": [
      "\r",
      " [*********55%*          ] Elapsed 1.68s / Remaining 00:00:00:01"
     ]
    },
    {
     "name": "stdout",
     "output_type": "stream",
     "text": [
      "\r",
      " [*********56%*          ] Elapsed 1.68s / Remaining 00:00:00:01"
     ]
    },
    {
     "name": "stdout",
     "output_type": "stream",
     "text": [
      "\r",
      " [*********56%*          ] Elapsed 1.68s / Remaining 00:00:00:01"
     ]
    },
    {
     "name": "stdout",
     "output_type": "stream",
     "text": [
      "\r",
      " [*********56%*          ] Elapsed 1.68s / Remaining 00:00:00:01"
     ]
    },
    {
     "name": "stdout",
     "output_type": "stream",
     "text": [
      "\r",
      " [*********56%*          ] Elapsed 1.69s / Remaining 00:00:00:01"
     ]
    },
    {
     "name": "stdout",
     "output_type": "stream",
     "text": [
      "\r",
      " [*********56%*          ] Elapsed 1.69s / Remaining 00:00:00:01"
     ]
    },
    {
     "name": "stdout",
     "output_type": "stream",
     "text": [
      "\r",
      " [*********56%*          ] Elapsed 1.69s / Remaining 00:00:00:01"
     ]
    },
    {
     "name": "stdout",
     "output_type": "stream",
     "text": [
      "\r",
      " [*********56%*          ] Elapsed 1.69s / Remaining 00:00:00:01"
     ]
    },
    {
     "name": "stdout",
     "output_type": "stream",
     "text": [
      "\r",
      " [*********56%*          ] Elapsed 1.70s / Remaining 00:00:00:01"
     ]
    },
    {
     "name": "stdout",
     "output_type": "stream",
     "text": [
      "\r",
      " [*********56%*          ] Elapsed 1.70s / Remaining 00:00:00:01"
     ]
    },
    {
     "name": "stdout",
     "output_type": "stream",
     "text": [
      "\r",
      " [*********56%*          ] Elapsed 1.70s / Remaining 00:00:00:01"
     ]
    },
    {
     "name": "stdout",
     "output_type": "stream",
     "text": [
      "\r",
      " [*********57%*          ] Elapsed 1.71s / Remaining 00:00:00:01"
     ]
    },
    {
     "name": "stdout",
     "output_type": "stream",
     "text": [
      "\r",
      " [*********57%*          ] Elapsed 1.71s / Remaining 00:00:00:01"
     ]
    },
    {
     "name": "stdout",
     "output_type": "stream",
     "text": [
      "\r",
      " [*********57%*          ] Elapsed 1.71s / Remaining 00:00:00:01"
     ]
    },
    {
     "name": "stdout",
     "output_type": "stream",
     "text": [
      "\r",
      " [*********57%*          ] Elapsed 1.72s / Remaining 00:00:00:01"
     ]
    },
    {
     "name": "stdout",
     "output_type": "stream",
     "text": [
      "\r",
      " [*********57%*          ] Elapsed 1.72s / Remaining 00:00:00:01"
     ]
    },
    {
     "name": "stdout",
     "output_type": "stream",
     "text": [
      "\r",
      " [*********57%*          ] Elapsed 1.72s / Remaining 00:00:00:01"
     ]
    },
    {
     "name": "stdout",
     "output_type": "stream",
     "text": [
      "\r",
      " [*********57%*          ] Elapsed 1.73s / Remaining 00:00:00:01"
     ]
    },
    {
     "name": "stdout",
     "output_type": "stream",
     "text": [
      "\r",
      " [*********57%*          ] Elapsed 1.73s / Remaining 00:00:00:01"
     ]
    },
    {
     "name": "stdout",
     "output_type": "stream",
     "text": [
      "\r",
      " [*********57%*          ] Elapsed 1.73s / Remaining 00:00:00:01"
     ]
    },
    {
     "name": "stdout",
     "output_type": "stream",
     "text": [
      "\r",
      " [*********57%*          ] Elapsed 1.73s / Remaining 00:00:00:01"
     ]
    },
    {
     "name": "stdout",
     "output_type": "stream",
     "text": [
      "\r",
      " [*********58%*          ] Elapsed 1.74s / Remaining 00:00:00:01"
     ]
    },
    {
     "name": "stdout",
     "output_type": "stream",
     "text": [
      "\r",
      " [*********58%*          ] Elapsed 1.74s / Remaining 00:00:00:01"
     ]
    },
    {
     "name": "stdout",
     "output_type": "stream",
     "text": [
      "\r",
      " [*********58%*          ] Elapsed 1.74s / Remaining 00:00:00:01"
     ]
    },
    {
     "name": "stdout",
     "output_type": "stream",
     "text": [
      "\r",
      " [*********58%*          ] Elapsed 1.74s / Remaining 00:00:00:01"
     ]
    },
    {
     "name": "stdout",
     "output_type": "stream",
     "text": [
      "\r",
      " [*********58%*          ] Elapsed 1.75s / Remaining 00:00:00:01"
     ]
    },
    {
     "name": "stdout",
     "output_type": "stream",
     "text": [
      "\r",
      " [*********58%*          ] Elapsed 1.75s / Remaining 00:00:00:01"
     ]
    },
    {
     "name": "stdout",
     "output_type": "stream",
     "text": [
      "\r",
      " [*********58%*          ] Elapsed 1.75s / Remaining 00:00:00:01"
     ]
    },
    {
     "name": "stdout",
     "output_type": "stream",
     "text": [
      "\r",
      " [*********58%*          ] Elapsed 1.76s / Remaining 00:00:00:01"
     ]
    },
    {
     "name": "stdout",
     "output_type": "stream",
     "text": [
      "\r",
      " [*********58%*          ] Elapsed 1.76s / Remaining 00:00:00:01"
     ]
    },
    {
     "name": "stdout",
     "output_type": "stream",
     "text": [
      "\r",
      " [*********58%*          ] Elapsed 1.76s / Remaining 00:00:00:01"
     ]
    },
    {
     "name": "stdout",
     "output_type": "stream",
     "text": [
      "\r",
      " [*********59%**         ] Elapsed 1.77s / Remaining 00:00:00:01"
     ]
    },
    {
     "name": "stdout",
     "output_type": "stream",
     "text": [
      "\r",
      " [*********59%**         ] Elapsed 1.77s / Remaining 00:00:00:01"
     ]
    },
    {
     "name": "stdout",
     "output_type": "stream",
     "text": [
      "\r",
      " [*********59%**         ] Elapsed 1.77s / Remaining 00:00:00:01"
     ]
    },
    {
     "name": "stdout",
     "output_type": "stream",
     "text": [
      "\r",
      " [*********59%**         ] Elapsed 1.77s / Remaining 00:00:00:01"
     ]
    },
    {
     "name": "stdout",
     "output_type": "stream",
     "text": [
      "\r",
      " [*********59%**         ] Elapsed 1.78s / Remaining 00:00:00:01"
     ]
    },
    {
     "name": "stdout",
     "output_type": "stream",
     "text": [
      "\r",
      " [*********59%**         ] Elapsed 1.78s / Remaining 00:00:00:01"
     ]
    },
    {
     "name": "stdout",
     "output_type": "stream",
     "text": [
      "\r",
      " [*********59%**         ] Elapsed 1.78s / Remaining 00:00:00:01"
     ]
    },
    {
     "name": "stdout",
     "output_type": "stream",
     "text": [
      "\r",
      " [*********59%**         ] Elapsed 1.79s / Remaining 00:00:00:01"
     ]
    },
    {
     "name": "stdout",
     "output_type": "stream",
     "text": [
      "\r",
      " [*********59%**         ] Elapsed 1.79s / Remaining 00:00:00:01"
     ]
    },
    {
     "name": "stdout",
     "output_type": "stream",
     "text": [
      "\r",
      " [*********59%**         ] Elapsed 1.79s / Remaining 00:00:00:01"
     ]
    },
    {
     "name": "stdout",
     "output_type": "stream",
     "text": [
      "\r",
      " [*********60%**         ] Elapsed 1.79s / Remaining 00:00:00:01"
     ]
    },
    {
     "name": "stdout",
     "output_type": "stream",
     "text": [
      "\r",
      " [*********60%**         ] Elapsed 1.80s / Remaining 00:00:00:01"
     ]
    },
    {
     "name": "stdout",
     "output_type": "stream",
     "text": [
      "\r",
      " [*********60%**         ] Elapsed 1.80s / Remaining 00:00:00:01"
     ]
    },
    {
     "name": "stdout",
     "output_type": "stream",
     "text": [
      "\r",
      " [*********60%**         ] Elapsed 1.80s / Remaining 00:00:00:01"
     ]
    },
    {
     "name": "stdout",
     "output_type": "stream",
     "text": [
      "\r",
      " [*********60%**         ] Elapsed 1.81s / Remaining 00:00:00:01"
     ]
    },
    {
     "name": "stdout",
     "output_type": "stream",
     "text": [
      "\r",
      " [*********60%**         ] Elapsed 1.81s / Remaining 00:00:00:01"
     ]
    },
    {
     "name": "stdout",
     "output_type": "stream",
     "text": [
      "\r",
      " [*********60%**         ] Elapsed 1.81s / Remaining 00:00:00:01"
     ]
    },
    {
     "name": "stdout",
     "output_type": "stream",
     "text": [
      "\r",
      " [*********60%**         ] Elapsed 1.82s / Remaining 00:00:00:01"
     ]
    },
    {
     "name": "stdout",
     "output_type": "stream",
     "text": [
      "\r",
      " [*********60%**         ] Elapsed 1.82s / Remaining 00:00:00:01"
     ]
    },
    {
     "name": "stdout",
     "output_type": "stream",
     "text": [
      "\r",
      " [*********60%**         ] Elapsed 1.82s / Remaining 00:00:00:01"
     ]
    },
    {
     "name": "stdout",
     "output_type": "stream",
     "text": [
      "\r",
      " [*********61%**         ] Elapsed 1.83s / Remaining 00:00:00:01"
     ]
    },
    {
     "name": "stdout",
     "output_type": "stream",
     "text": [
      "\r",
      " [*********61%**         ] Elapsed 1.83s / Remaining 00:00:00:01"
     ]
    },
    {
     "name": "stdout",
     "output_type": "stream",
     "text": [
      "\r",
      " [*********61%**         ] Elapsed 1.83s / Remaining 00:00:00:01"
     ]
    },
    {
     "name": "stdout",
     "output_type": "stream",
     "text": [
      "\r",
      " [*********61%**         ] Elapsed 1.83s / Remaining 00:00:00:01"
     ]
    },
    {
     "name": "stdout",
     "output_type": "stream",
     "text": [
      "\r",
      " [*********61%**         ] Elapsed 1.84s / Remaining 00:00:00:01"
     ]
    },
    {
     "name": "stdout",
     "output_type": "stream",
     "text": [
      "\r",
      " [*********61%**         ] Elapsed 1.84s / Remaining 00:00:00:01"
     ]
    },
    {
     "name": "stdout",
     "output_type": "stream",
     "text": [
      "\r",
      " [*********61%**         ] Elapsed 1.84s / Remaining 00:00:00:01"
     ]
    },
    {
     "name": "stdout",
     "output_type": "stream",
     "text": [
      "\r",
      " [*********61%**         ] Elapsed 1.85s / Remaining 00:00:00:01"
     ]
    },
    {
     "name": "stdout",
     "output_type": "stream",
     "text": [
      "\r",
      " [*********61%**         ] Elapsed 1.85s / Remaining 00:00:00:01"
     ]
    },
    {
     "name": "stdout",
     "output_type": "stream",
     "text": [
      "\r",
      " [*********61%**         ] Elapsed 1.85s / Remaining 00:00:00:01"
     ]
    },
    {
     "name": "stdout",
     "output_type": "stream",
     "text": [
      "\r",
      " [*********62%**         ] Elapsed 1.86s / Remaining 00:00:00:01"
     ]
    },
    {
     "name": "stdout",
     "output_type": "stream",
     "text": [
      "\r",
      " [*********62%**         ] Elapsed 1.86s / Remaining 00:00:00:01"
     ]
    },
    {
     "name": "stdout",
     "output_type": "stream",
     "text": [
      "\r",
      " [*********62%**         ] Elapsed 1.86s / Remaining 00:00:00:01"
     ]
    },
    {
     "name": "stdout",
     "output_type": "stream",
     "text": [
      "\r",
      " [*********62%**         ] Elapsed 1.86s / Remaining 00:00:00:01"
     ]
    },
    {
     "name": "stdout",
     "output_type": "stream",
     "text": [
      "\r",
      " [*********62%**         ] Elapsed 1.87s / Remaining 00:00:00:01"
     ]
    },
    {
     "name": "stdout",
     "output_type": "stream",
     "text": [
      "\r",
      " [*********62%**         ] Elapsed 1.87s / Remaining 00:00:00:01"
     ]
    },
    {
     "name": "stdout",
     "output_type": "stream",
     "text": [
      "\r",
      " [*********62%**         ] Elapsed 1.87s / Remaining 00:00:00:01"
     ]
    },
    {
     "name": "stdout",
     "output_type": "stream",
     "text": [
      "\r",
      " [*********62%**         ] Elapsed 1.88s / Remaining 00:00:00:01"
     ]
    },
    {
     "name": "stdout",
     "output_type": "stream",
     "text": [
      "\r",
      " [*********62%**         ] Elapsed 1.88s / Remaining 00:00:00:01"
     ]
    },
    {
     "name": "stdout",
     "output_type": "stream",
     "text": [
      "\r",
      " [*********62%**         ] Elapsed 1.88s / Remaining 00:00:00:01"
     ]
    },
    {
     "name": "stdout",
     "output_type": "stream",
     "text": [
      "\r",
      " [*********63%**         ] Elapsed 1.89s / Remaining 00:00:00:01"
     ]
    },
    {
     "name": "stdout",
     "output_type": "stream",
     "text": [
      "\r",
      " [*********63%**         ] Elapsed 1.89s / Remaining 00:00:00:01"
     ]
    },
    {
     "name": "stdout",
     "output_type": "stream",
     "text": [
      "\r",
      " [*********63%**         ] Elapsed 1.89s / Remaining 00:00:00:01"
     ]
    },
    {
     "name": "stdout",
     "output_type": "stream",
     "text": [
      "\r",
      " [*********63%**         ] Elapsed 1.89s / Remaining 00:00:00:01"
     ]
    },
    {
     "name": "stdout",
     "output_type": "stream",
     "text": [
      "\r",
      " [*********63%**         ] Elapsed 1.90s / Remaining 00:00:00:01"
     ]
    },
    {
     "name": "stdout",
     "output_type": "stream",
     "text": [
      "\r",
      " [*********63%**         ] Elapsed 1.90s / Remaining 00:00:00:01"
     ]
    },
    {
     "name": "stdout",
     "output_type": "stream",
     "text": [
      "\r",
      " [*********63%**         ] Elapsed 1.90s / Remaining 00:00:00:01"
     ]
    },
    {
     "name": "stdout",
     "output_type": "stream",
     "text": [
      "\r",
      " [*********63%**         ] Elapsed 1.90s / Remaining 00:00:00:01"
     ]
    },
    {
     "name": "stdout",
     "output_type": "stream",
     "text": [
      "\r",
      " [*********63%**         ] Elapsed 1.91s / Remaining 00:00:00:01"
     ]
    },
    {
     "name": "stdout",
     "output_type": "stream",
     "text": [
      "\r",
      " [*********63%**         ] Elapsed 1.91s / Remaining 00:00:00:01"
     ]
    },
    {
     "name": "stdout",
     "output_type": "stream",
     "text": [
      "\r",
      " [*********64%***        ] Elapsed 1.91s / Remaining 00:00:00:01"
     ]
    },
    {
     "name": "stdout",
     "output_type": "stream",
     "text": [
      "\r",
      " [*********64%***        ] Elapsed 1.92s / Remaining 00:00:00:01"
     ]
    },
    {
     "name": "stdout",
     "output_type": "stream",
     "text": [
      "\r",
      " [*********64%***        ] Elapsed 1.92s / Remaining 00:00:00:01"
     ]
    },
    {
     "name": "stdout",
     "output_type": "stream",
     "text": [
      "\r",
      " [*********64%***        ] Elapsed 1.92s / Remaining 00:00:00:01"
     ]
    },
    {
     "name": "stdout",
     "output_type": "stream",
     "text": [
      "\r",
      " [*********64%***        ] Elapsed 1.93s / Remaining 00:00:00:01"
     ]
    },
    {
     "name": "stdout",
     "output_type": "stream",
     "text": [
      "\r",
      " [*********64%***        ] Elapsed 1.93s / Remaining 00:00:00:01"
     ]
    },
    {
     "name": "stdout",
     "output_type": "stream",
     "text": [
      "\r",
      " [*********64%***        ] Elapsed 1.93s / Remaining 00:00:00:01"
     ]
    },
    {
     "name": "stdout",
     "output_type": "stream",
     "text": [
      "\r",
      " [*********64%***        ] Elapsed 1.93s / Remaining 00:00:00:01"
     ]
    },
    {
     "name": "stdout",
     "output_type": "stream",
     "text": [
      "\r",
      " [*********64%***        ] Elapsed 1.94s / Remaining 00:00:00:01"
     ]
    },
    {
     "name": "stdout",
     "output_type": "stream",
     "text": [
      "\r",
      " [*********64%***        ] Elapsed 1.94s / Remaining 00:00:00:01"
     ]
    },
    {
     "name": "stdout",
     "output_type": "stream",
     "text": [
      "\r",
      " [*********65%***        ] Elapsed 1.94s / Remaining 00:00:00:01"
     ]
    },
    {
     "name": "stdout",
     "output_type": "stream",
     "text": [
      "\r",
      " [*********65%***        ] Elapsed 1.95s / Remaining 00:00:00:01"
     ]
    },
    {
     "name": "stdout",
     "output_type": "stream",
     "text": [
      "\r",
      " [*********65%***        ] Elapsed 1.95s / Remaining 00:00:00:01"
     ]
    },
    {
     "name": "stdout",
     "output_type": "stream",
     "text": [
      "\r",
      " [*********65%***        ] Elapsed 1.95s / Remaining 00:00:00:01"
     ]
    },
    {
     "name": "stdout",
     "output_type": "stream",
     "text": [
      "\r",
      " [*********65%***        ] Elapsed 1.95s / Remaining 00:00:00:01"
     ]
    },
    {
     "name": "stdout",
     "output_type": "stream",
     "text": [
      "\r",
      " [*********65%***        ] Elapsed 1.96s / Remaining 00:00:00:01"
     ]
    },
    {
     "name": "stdout",
     "output_type": "stream",
     "text": [
      "\r",
      " [*********65%***        ] Elapsed 1.96s / Remaining 00:00:00:01"
     ]
    },
    {
     "name": "stdout",
     "output_type": "stream",
     "text": [
      "\r",
      " [*********65%***        ] Elapsed 1.96s / Remaining 00:00:00:01"
     ]
    },
    {
     "name": "stdout",
     "output_type": "stream",
     "text": [
      "\r",
      " [*********65%***        ] Elapsed 1.97s / Remaining 00:00:00:01"
     ]
    },
    {
     "name": "stdout",
     "output_type": "stream",
     "text": [
      "\r",
      " [*********65%***        ] Elapsed 1.97s / Remaining 00:00:00:01"
     ]
    },
    {
     "name": "stdout",
     "output_type": "stream",
     "text": [
      "\r",
      " [*********66%***        ] Elapsed 1.97s / Remaining 00:00:00:01"
     ]
    },
    {
     "name": "stdout",
     "output_type": "stream",
     "text": [
      "\r",
      " [*********66%***        ] Elapsed 1.98s / Remaining 00:00:00:01"
     ]
    },
    {
     "name": "stdout",
     "output_type": "stream",
     "text": [
      "\r",
      " [*********66%***        ] Elapsed 1.98s / Remaining 00:00:00:01"
     ]
    },
    {
     "name": "stdout",
     "output_type": "stream",
     "text": [
      "\r",
      " [*********66%***        ] Elapsed 1.98s / Remaining 00:00:00:01"
     ]
    },
    {
     "name": "stdout",
     "output_type": "stream",
     "text": [
      "\r",
      " [*********66%***        ] Elapsed 1.98s / Remaining 00:00:00:01"
     ]
    },
    {
     "name": "stdout",
     "output_type": "stream",
     "text": [
      "\r",
      " [*********66%***        ] Elapsed 1.99s / Remaining 00:00:00:01"
     ]
    },
    {
     "name": "stdout",
     "output_type": "stream",
     "text": [
      "\r",
      " [*********66%***        ] Elapsed 1.99s / Remaining 00:00:00:01"
     ]
    },
    {
     "name": "stdout",
     "output_type": "stream",
     "text": [
      "\r",
      " [*********66%***        ] Elapsed 1.99s / Remaining 00:00:00:01"
     ]
    },
    {
     "name": "stdout",
     "output_type": "stream",
     "text": [
      "\r",
      " [*********66%***        ] Elapsed 2.00s / Remaining 00:00:00:01"
     ]
    },
    {
     "name": "stdout",
     "output_type": "stream",
     "text": [
      "\r",
      " [*********66%***        ] Elapsed 2.00s / Remaining 00:00:00:01"
     ]
    },
    {
     "name": "stdout",
     "output_type": "stream",
     "text": [
      "\r",
      " [*********67%***        ] Elapsed 2.00s / Remaining 00:00:00:00"
     ]
    },
    {
     "name": "stdout",
     "output_type": "stream",
     "text": [
      "\r",
      " [*********67%***        ] Elapsed 2.01s / Remaining 00:00:00:00"
     ]
    },
    {
     "name": "stdout",
     "output_type": "stream",
     "text": [
      "\r",
      " [*********67%***        ] Elapsed 2.01s / Remaining 00:00:00:00"
     ]
    },
    {
     "name": "stdout",
     "output_type": "stream",
     "text": [
      "\r",
      " [*********67%***        ] Elapsed 2.01s / Remaining 00:00:00:00"
     ]
    },
    {
     "name": "stdout",
     "output_type": "stream",
     "text": [
      "\r",
      " [*********67%***        ] Elapsed 2.01s / Remaining 00:00:00:00"
     ]
    },
    {
     "name": "stdout",
     "output_type": "stream",
     "text": [
      "\r",
      " [*********67%***        ] Elapsed 2.02s / Remaining 00:00:00:00"
     ]
    },
    {
     "name": "stdout",
     "output_type": "stream",
     "text": [
      "\r",
      " [*********67%***        ] Elapsed 2.02s / Remaining 00:00:00:00"
     ]
    },
    {
     "name": "stdout",
     "output_type": "stream",
     "text": [
      "\r",
      " [*********67%***        ] Elapsed 2.02s / Remaining 00:00:00:00"
     ]
    },
    {
     "name": "stdout",
     "output_type": "stream",
     "text": [
      "\r",
      " [*********67%***        ] Elapsed 2.03s / Remaining 00:00:00:00"
     ]
    },
    {
     "name": "stdout",
     "output_type": "stream",
     "text": [
      "\r",
      " [*********67%***        ] Elapsed 2.03s / Remaining 00:00:00:01"
     ]
    },
    {
     "name": "stdout",
     "output_type": "stream",
     "text": [
      "\r",
      " [*********68%****       ] Elapsed 2.03s / Remaining 00:00:00:00"
     ]
    },
    {
     "name": "stdout",
     "output_type": "stream",
     "text": [
      "\r",
      " [*********68%****       ] Elapsed 2.04s / Remaining 00:00:00:00"
     ]
    },
    {
     "name": "stdout",
     "output_type": "stream",
     "text": [
      "\r",
      " [*********68%****       ] Elapsed 2.04s / Remaining 00:00:00:00"
     ]
    },
    {
     "name": "stdout",
     "output_type": "stream",
     "text": [
      "\r",
      " [*********68%****       ] Elapsed 2.04s / Remaining 00:00:00:00"
     ]
    },
    {
     "name": "stdout",
     "output_type": "stream",
     "text": [
      "\r",
      " [*********68%****       ] Elapsed 2.05s / Remaining 00:00:00:00"
     ]
    },
    {
     "name": "stdout",
     "output_type": "stream",
     "text": [
      "\r",
      " [*********68%****       ] Elapsed 2.05s / Remaining 00:00:00:00"
     ]
    },
    {
     "name": "stdout",
     "output_type": "stream",
     "text": [
      "\r",
      " [*********68%****       ] Elapsed 2.05s / Remaining 00:00:00:00"
     ]
    },
    {
     "name": "stdout",
     "output_type": "stream",
     "text": [
      "\r",
      " [*********68%****       ] Elapsed 2.06s / Remaining 00:00:00:00"
     ]
    },
    {
     "name": "stdout",
     "output_type": "stream",
     "text": [
      "\r",
      " [*********68%****       ] Elapsed 2.06s / Remaining 00:00:00:00"
     ]
    },
    {
     "name": "stdout",
     "output_type": "stream",
     "text": [
      "\r",
      " [*********68%****       ] Elapsed 2.06s / Remaining 00:00:00:00"
     ]
    },
    {
     "name": "stdout",
     "output_type": "stream",
     "text": [
      "\r",
      " [*********69%****       ] Elapsed 2.07s / Remaining 00:00:00:00"
     ]
    },
    {
     "name": "stdout",
     "output_type": "stream",
     "text": [
      "\r",
      " [*********69%****       ] Elapsed 2.07s / Remaining 00:00:00:00"
     ]
    },
    {
     "name": "stdout",
     "output_type": "stream",
     "text": [
      "\r",
      " [*********69%****       ] Elapsed 2.07s / Remaining 00:00:00:00"
     ]
    },
    {
     "name": "stdout",
     "output_type": "stream",
     "text": [
      "\r",
      " [*********69%****       ] Elapsed 2.08s / Remaining 00:00:00:00"
     ]
    },
    {
     "name": "stdout",
     "output_type": "stream",
     "text": [
      "\r",
      " [*********69%****       ] Elapsed 2.08s / Remaining 00:00:00:00"
     ]
    },
    {
     "name": "stdout",
     "output_type": "stream",
     "text": [
      "\r",
      " [*********69%****       ] Elapsed 2.08s / Remaining 00:00:00:00"
     ]
    },
    {
     "name": "stdout",
     "output_type": "stream",
     "text": [
      "\r",
      " [*********69%****       ] Elapsed 2.09s / Remaining 00:00:00:00"
     ]
    },
    {
     "name": "stdout",
     "output_type": "stream",
     "text": [
      "\r",
      " [*********69%****       ] Elapsed 2.09s / Remaining 00:00:00:00"
     ]
    },
    {
     "name": "stdout",
     "output_type": "stream",
     "text": [
      "\r",
      " [*********69%****       ] Elapsed 2.09s / Remaining 00:00:00:00"
     ]
    },
    {
     "name": "stdout",
     "output_type": "stream",
     "text": [
      "\r",
      " [*********69%****       ] Elapsed 2.10s / Remaining 00:00:00:00"
     ]
    },
    {
     "name": "stdout",
     "output_type": "stream",
     "text": [
      "\r",
      " [*********70%****       ] Elapsed 2.10s / Remaining 00:00:00:00"
     ]
    },
    {
     "name": "stdout",
     "output_type": "stream",
     "text": [
      "\r",
      " [*********70%****       ] Elapsed 2.10s / Remaining 00:00:00:00"
     ]
    },
    {
     "name": "stdout",
     "output_type": "stream",
     "text": [
      "\r",
      " [*********70%****       ] Elapsed 2.11s / Remaining 00:00:00:00"
     ]
    },
    {
     "name": "stdout",
     "output_type": "stream",
     "text": [
      "\r",
      " [*********70%****       ] Elapsed 2.11s / Remaining 00:00:00:00"
     ]
    },
    {
     "name": "stdout",
     "output_type": "stream",
     "text": [
      "\r",
      " [*********70%****       ] Elapsed 2.11s / Remaining 00:00:00:00"
     ]
    },
    {
     "name": "stdout",
     "output_type": "stream",
     "text": [
      "\r",
      " [*********70%****       ] Elapsed 2.11s / Remaining 00:00:00:00"
     ]
    },
    {
     "name": "stdout",
     "output_type": "stream",
     "text": [
      "\r",
      " [*********70%****       ] Elapsed 2.12s / Remaining 00:00:00:00"
     ]
    },
    {
     "name": "stdout",
     "output_type": "stream",
     "text": [
      "\r",
      " [*********70%****       ] Elapsed 2.12s / Remaining 00:00:00:00"
     ]
    },
    {
     "name": "stdout",
     "output_type": "stream",
     "text": [
      "\r",
      " [*********70%****       ] Elapsed 2.12s / Remaining 00:00:00:00"
     ]
    },
    {
     "name": "stdout",
     "output_type": "stream",
     "text": [
      "\r",
      " [*********70%****       ] Elapsed 2.13s / Remaining 00:00:00:00"
     ]
    },
    {
     "name": "stdout",
     "output_type": "stream",
     "text": [
      "\r",
      " [*********71%****       ] Elapsed 2.13s / Remaining 00:00:00:00"
     ]
    },
    {
     "name": "stdout",
     "output_type": "stream",
     "text": [
      "\r",
      " [*********71%****       ] Elapsed 2.13s / Remaining 00:00:00:00"
     ]
    },
    {
     "name": "stdout",
     "output_type": "stream",
     "text": [
      "\r",
      " [*********71%****       ] Elapsed 2.13s / Remaining 00:00:00:00"
     ]
    },
    {
     "name": "stdout",
     "output_type": "stream",
     "text": [
      "\r",
      " [*********71%****       ] Elapsed 2.14s / Remaining 00:00:00:00"
     ]
    },
    {
     "name": "stdout",
     "output_type": "stream",
     "text": [
      "\r",
      " [*********71%****       ] Elapsed 2.14s / Remaining 00:00:00:00"
     ]
    },
    {
     "name": "stdout",
     "output_type": "stream",
     "text": [
      "\r",
      " [*********71%****       ] Elapsed 2.14s / Remaining 00:00:00:00"
     ]
    },
    {
     "name": "stdout",
     "output_type": "stream",
     "text": [
      "\r",
      " [*********71%****       ] Elapsed 2.15s / Remaining 00:00:00:00"
     ]
    },
    {
     "name": "stdout",
     "output_type": "stream",
     "text": [
      "\r",
      " [*********71%****       ] Elapsed 2.15s / Remaining 00:00:00:00"
     ]
    },
    {
     "name": "stdout",
     "output_type": "stream",
     "text": [
      "\r",
      " [*********71%****       ] Elapsed 2.15s / Remaining 00:00:00:00"
     ]
    },
    {
     "name": "stdout",
     "output_type": "stream",
     "text": [
      "\r",
      " [*********71%****       ] Elapsed 2.16s / Remaining 00:00:00:00"
     ]
    },
    {
     "name": "stdout",
     "output_type": "stream",
     "text": [
      "\r",
      " [*********72%*****      ] Elapsed 2.16s / Remaining 00:00:00:00"
     ]
    },
    {
     "name": "stdout",
     "output_type": "stream",
     "text": [
      "\r",
      " [*********72%*****      ] Elapsed 2.16s / Remaining 00:00:00:00"
     ]
    },
    {
     "name": "stdout",
     "output_type": "stream",
     "text": [
      "\r",
      " [*********72%*****      ] Elapsed 2.17s / Remaining 00:00:00:00"
     ]
    },
    {
     "name": "stdout",
     "output_type": "stream",
     "text": [
      "\r",
      " [*********72%*****      ] Elapsed 2.17s / Remaining 00:00:00:00"
     ]
    },
    {
     "name": "stdout",
     "output_type": "stream",
     "text": [
      "\r",
      " [*********72%*****      ] Elapsed 2.17s / Remaining 00:00:00:00"
     ]
    },
    {
     "name": "stdout",
     "output_type": "stream",
     "text": [
      "\r",
      " [*********72%*****      ] Elapsed 2.17s / Remaining 00:00:00:00"
     ]
    },
    {
     "name": "stdout",
     "output_type": "stream",
     "text": [
      "\r",
      " [*********72%*****      ] Elapsed 2.18s / Remaining 00:00:00:00"
     ]
    },
    {
     "name": "stdout",
     "output_type": "stream",
     "text": [
      "\r",
      " [*********72%*****      ] Elapsed 2.18s / Remaining 00:00:00:00"
     ]
    },
    {
     "name": "stdout",
     "output_type": "stream",
     "text": [
      "\r",
      " [*********72%*****      ] Elapsed 2.18s / Remaining 00:00:00:00"
     ]
    },
    {
     "name": "stdout",
     "output_type": "stream",
     "text": [
      "\r",
      " [*********72%*****      ] Elapsed 2.19s / Remaining 00:00:00:00"
     ]
    },
    {
     "name": "stdout",
     "output_type": "stream",
     "text": [
      "\r",
      " [*********73%*****      ] Elapsed 2.19s / Remaining 00:00:00:00"
     ]
    },
    {
     "name": "stdout",
     "output_type": "stream",
     "text": [
      "\r",
      " [*********73%*****      ] Elapsed 2.19s / Remaining 00:00:00:00"
     ]
    },
    {
     "name": "stdout",
     "output_type": "stream",
     "text": [
      "\r",
      " [*********73%*****      ] Elapsed 2.20s / Remaining 00:00:00:00"
     ]
    },
    {
     "name": "stdout",
     "output_type": "stream",
     "text": [
      "\r",
      " [*********73%*****      ] Elapsed 2.20s / Remaining 00:00:00:00"
     ]
    },
    {
     "name": "stdout",
     "output_type": "stream",
     "text": [
      "\r",
      " [*********73%*****      ] Elapsed 2.20s / Remaining 00:00:00:00"
     ]
    },
    {
     "name": "stdout",
     "output_type": "stream",
     "text": [
      "\r",
      " [*********73%*****      ] Elapsed 2.21s / Remaining 00:00:00:00"
     ]
    },
    {
     "name": "stdout",
     "output_type": "stream",
     "text": [
      "\r",
      " [*********73%*****      ] Elapsed 2.21s / Remaining 00:00:00:00"
     ]
    },
    {
     "name": "stdout",
     "output_type": "stream",
     "text": [
      "\r",
      " [*********73%*****      ] Elapsed 2.21s / Remaining 00:00:00:00"
     ]
    },
    {
     "name": "stdout",
     "output_type": "stream",
     "text": [
      "\r",
      " [*********73%*****      ] Elapsed 2.22s / Remaining 00:00:00:00"
     ]
    },
    {
     "name": "stdout",
     "output_type": "stream",
     "text": [
      "\r",
      " [*********73%*****      ] Elapsed 2.22s / Remaining 00:00:00:00"
     ]
    },
    {
     "name": "stdout",
     "output_type": "stream",
     "text": [
      "\r",
      " [*********74%*****      ] Elapsed 2.22s / Remaining 00:00:00:00"
     ]
    },
    {
     "name": "stdout",
     "output_type": "stream",
     "text": [
      "\r",
      " [*********74%*****      ] Elapsed 2.22s / Remaining 00:00:00:00"
     ]
    },
    {
     "name": "stdout",
     "output_type": "stream",
     "text": [
      "\r",
      " [*********74%*****      ] Elapsed 2.23s / Remaining 00:00:00:00"
     ]
    },
    {
     "name": "stdout",
     "output_type": "stream",
     "text": [
      "\r",
      " [*********74%*****      ] Elapsed 2.23s / Remaining 00:00:00:00"
     ]
    },
    {
     "name": "stdout",
     "output_type": "stream",
     "text": [
      "\r",
      " [*********74%*****      ] Elapsed 2.23s / Remaining 00:00:00:00"
     ]
    },
    {
     "name": "stdout",
     "output_type": "stream",
     "text": [
      "\r",
      " [*********74%*****      ] Elapsed 2.24s / Remaining 00:00:00:00"
     ]
    },
    {
     "name": "stdout",
     "output_type": "stream",
     "text": [
      "\r",
      " [*********74%*****      ] Elapsed 2.24s / Remaining 00:00:00:00"
     ]
    },
    {
     "name": "stdout",
     "output_type": "stream",
     "text": [
      "\r",
      " [*********74%*****      ] Elapsed 2.24s / Remaining 00:00:00:00"
     ]
    },
    {
     "name": "stdout",
     "output_type": "stream",
     "text": [
      "\r",
      " [*********74%*****      ] Elapsed 2.25s / Remaining 00:00:00:00"
     ]
    },
    {
     "name": "stdout",
     "output_type": "stream",
     "text": [
      "\r",
      " [*********74%*****      ] Elapsed 2.25s / Remaining 00:00:00:00"
     ]
    },
    {
     "name": "stdout",
     "output_type": "stream",
     "text": [
      "\r",
      " [*********75%*****      ] Elapsed 2.25s / Remaining 00:00:00:00"
     ]
    },
    {
     "name": "stdout",
     "output_type": "stream",
     "text": [
      "\r",
      " [*********75%*****      ] Elapsed 2.26s / Remaining 00:00:00:00"
     ]
    },
    {
     "name": "stdout",
     "output_type": "stream",
     "text": [
      "\r",
      " [*********75%*****      ] Elapsed 2.26s / Remaining 00:00:00:00"
     ]
    },
    {
     "name": "stdout",
     "output_type": "stream",
     "text": [
      "\r",
      " [*********75%*****      ] Elapsed 2.26s / Remaining 00:00:00:00"
     ]
    },
    {
     "name": "stdout",
     "output_type": "stream",
     "text": [
      "\r",
      " [*********75%*****      ] Elapsed 2.27s / Remaining 00:00:00:00"
     ]
    },
    {
     "name": "stdout",
     "output_type": "stream",
     "text": [
      "\r",
      " [*********75%*****      ] Elapsed 2.27s / Remaining 00:00:00:00"
     ]
    },
    {
     "name": "stdout",
     "output_type": "stream",
     "text": [
      "\r",
      " [*********75%*****      ] Elapsed 2.27s / Remaining 00:00:00:00"
     ]
    },
    {
     "name": "stdout",
     "output_type": "stream",
     "text": [
      "\r",
      " [*********75%*****      ] Elapsed 2.28s / Remaining 00:00:00:00"
     ]
    },
    {
     "name": "stdout",
     "output_type": "stream",
     "text": [
      "\r",
      " [*********75%*****      ] Elapsed 2.28s / Remaining 00:00:00:00"
     ]
    },
    {
     "name": "stdout",
     "output_type": "stream",
     "text": [
      "\r",
      " [*********75%*****      ] Elapsed 2.28s / Remaining 00:00:00:00"
     ]
    },
    {
     "name": "stdout",
     "output_type": "stream",
     "text": [
      "\r",
      " [*********76%*****      ] Elapsed 2.29s / Remaining 00:00:00:00"
     ]
    },
    {
     "name": "stdout",
     "output_type": "stream",
     "text": [
      "\r",
      " [*********76%*****      ] Elapsed 2.29s / Remaining 00:00:00:00"
     ]
    },
    {
     "name": "stdout",
     "output_type": "stream",
     "text": [
      "\r",
      " [*********76%*****      ] Elapsed 2.29s / Remaining 00:00:00:00"
     ]
    },
    {
     "name": "stdout",
     "output_type": "stream",
     "text": [
      "\r",
      " [*********76%*****      ] Elapsed 2.29s / Remaining 00:00:00:00"
     ]
    },
    {
     "name": "stdout",
     "output_type": "stream",
     "text": [
      "\r",
      " [*********76%*****      ] Elapsed 2.30s / Remaining 00:00:00:00"
     ]
    },
    {
     "name": "stdout",
     "output_type": "stream",
     "text": [
      "\r",
      " [*********76%*****      ] Elapsed 2.30s / Remaining 00:00:00:00"
     ]
    },
    {
     "name": "stdout",
     "output_type": "stream",
     "text": [
      "\r",
      " [*********76%*****      ] Elapsed 2.30s / Remaining 00:00:00:00"
     ]
    },
    {
     "name": "stdout",
     "output_type": "stream",
     "text": [
      "\r",
      " [*********76%*****      ] Elapsed 2.31s / Remaining 00:00:00:00"
     ]
    },
    {
     "name": "stdout",
     "output_type": "stream",
     "text": [
      "\r",
      " [*********76%*****      ] Elapsed 2.31s / Remaining 00:00:00:00"
     ]
    },
    {
     "name": "stdout",
     "output_type": "stream",
     "text": [
      "\r",
      " [*********76%*****      ] Elapsed 2.31s / Remaining 00:00:00:00"
     ]
    },
    {
     "name": "stdout",
     "output_type": "stream",
     "text": [
      "\r",
      " [*********77%******     ] Elapsed 2.31s / Remaining 00:00:00:00"
     ]
    },
    {
     "name": "stdout",
     "output_type": "stream",
     "text": [
      "\r",
      " [*********77%******     ] Elapsed 2.32s / Remaining 00:00:00:00"
     ]
    },
    {
     "name": "stdout",
     "output_type": "stream",
     "text": [
      "\r",
      " [*********77%******     ] Elapsed 2.32s / Remaining 00:00:00:00"
     ]
    },
    {
     "name": "stdout",
     "output_type": "stream",
     "text": [
      "\r",
      " [*********77%******     ] Elapsed 2.32s / Remaining 00:00:00:00"
     ]
    },
    {
     "name": "stdout",
     "output_type": "stream",
     "text": [
      "\r",
      " [*********77%******     ] Elapsed 2.33s / Remaining 00:00:00:00"
     ]
    },
    {
     "name": "stdout",
     "output_type": "stream",
     "text": [
      "\r",
      " [*********77%******     ] Elapsed 2.33s / Remaining 00:00:00:00"
     ]
    },
    {
     "name": "stdout",
     "output_type": "stream",
     "text": [
      "\r",
      " [*********77%******     ] Elapsed 2.33s / Remaining 00:00:00:00"
     ]
    },
    {
     "name": "stdout",
     "output_type": "stream",
     "text": [
      "\r",
      " [*********77%******     ] Elapsed 2.33s / Remaining 00:00:00:00"
     ]
    },
    {
     "name": "stdout",
     "output_type": "stream",
     "text": [
      "\r",
      " [*********77%******     ] Elapsed 2.34s / Remaining 00:00:00:00"
     ]
    },
    {
     "name": "stdout",
     "output_type": "stream",
     "text": [
      "\r",
      " [*********77%******     ] Elapsed 2.34s / Remaining 00:00:00:00"
     ]
    },
    {
     "name": "stdout",
     "output_type": "stream",
     "text": [
      "\r"
     ]
    },
    {
     "name": "stdout",
     "output_type": "stream",
     "text": [
      " [*********78%******     ] Elapsed 2.34s / Remaining 00:00:00:00"
     ]
    },
    {
     "name": "stdout",
     "output_type": "stream",
     "text": [
      "\r",
      " [*********78%******     ] Elapsed 2.35s / Remaining 00:00:00:00"
     ]
    },
    {
     "name": "stdout",
     "output_type": "stream",
     "text": [
      "\r",
      " [*********78%******     ] Elapsed 2.35s / Remaining 00:00:00:00"
     ]
    },
    {
     "name": "stdout",
     "output_type": "stream",
     "text": [
      "\r",
      " [*********78%******     ] Elapsed 2.35s / Remaining 00:00:00:00"
     ]
    },
    {
     "name": "stdout",
     "output_type": "stream",
     "text": [
      "\r",
      " [*********78%******     ] Elapsed 2.35s / Remaining 00:00:00:00"
     ]
    },
    {
     "name": "stdout",
     "output_type": "stream",
     "text": [
      "\r",
      " [*********78%******     ] Elapsed 2.36s / Remaining 00:00:00:00"
     ]
    },
    {
     "name": "stdout",
     "output_type": "stream",
     "text": [
      "\r",
      " [*********78%******     ] Elapsed 2.36s / Remaining 00:00:00:00"
     ]
    },
    {
     "name": "stdout",
     "output_type": "stream",
     "text": [
      "\r",
      " [*********78%******     ] Elapsed 2.36s / Remaining 00:00:00:00"
     ]
    },
    {
     "name": "stdout",
     "output_type": "stream",
     "text": [
      "\r",
      " [*********78%******     ] Elapsed 2.37s / Remaining 00:00:00:00"
     ]
    },
    {
     "name": "stdout",
     "output_type": "stream",
     "text": [
      "\r",
      " [*********78%******     ] Elapsed 2.37s / Remaining 00:00:00:00"
     ]
    },
    {
     "name": "stdout",
     "output_type": "stream",
     "text": [
      "\r",
      " [*********79%******     ] Elapsed 2.37s / Remaining 00:00:00:00"
     ]
    },
    {
     "name": "stdout",
     "output_type": "stream",
     "text": [
      "\r",
      " [*********79%******     ] Elapsed 2.37s / Remaining 00:00:00:00"
     ]
    },
    {
     "name": "stdout",
     "output_type": "stream",
     "text": [
      "\r",
      " [*********79%******     ] Elapsed 2.38s / Remaining 00:00:00:00"
     ]
    },
    {
     "name": "stdout",
     "output_type": "stream",
     "text": [
      "\r",
      " [*********79%******     ] Elapsed 2.38s / Remaining 00:00:00:00"
     ]
    },
    {
     "name": "stdout",
     "output_type": "stream",
     "text": [
      "\r",
      " [*********79%******     ] Elapsed 2.38s / Remaining 00:00:00:00"
     ]
    },
    {
     "name": "stdout",
     "output_type": "stream",
     "text": [
      "\r",
      " [*********79%******     ] Elapsed 2.38s / Remaining 00:00:00:00"
     ]
    },
    {
     "name": "stdout",
     "output_type": "stream",
     "text": [
      "\r",
      " [*********79%******     ] Elapsed 2.39s / Remaining 00:00:00:00"
     ]
    },
    {
     "name": "stdout",
     "output_type": "stream",
     "text": [
      "\r",
      " [*********79%******     ] Elapsed 2.39s / Remaining 00:00:00:00"
     ]
    },
    {
     "name": "stdout",
     "output_type": "stream",
     "text": [
      "\r",
      " [*********79%******     ] Elapsed 2.39s / Remaining 00:00:00:00"
     ]
    },
    {
     "name": "stdout",
     "output_type": "stream",
     "text": [
      "\r",
      " [*********79%******     ] Elapsed 2.40s / Remaining 00:00:00:00"
     ]
    },
    {
     "name": "stdout",
     "output_type": "stream",
     "text": [
      "\r",
      " [*********80%******     ] Elapsed 2.40s / Remaining 00:00:00:00"
     ]
    },
    {
     "name": "stdout",
     "output_type": "stream",
     "text": [
      "\r",
      " [*********80%******     ] Elapsed 2.40s / Remaining 00:00:00:00"
     ]
    },
    {
     "name": "stdout",
     "output_type": "stream",
     "text": [
      "\r",
      " [*********80%******     ] Elapsed 2.40s / Remaining 00:00:00:00"
     ]
    },
    {
     "name": "stdout",
     "output_type": "stream",
     "text": [
      "\r",
      " [*********80%******     ] Elapsed 2.41s / Remaining 00:00:00:00"
     ]
    },
    {
     "name": "stdout",
     "output_type": "stream",
     "text": [
      "\r",
      " [*********80%******     ] Elapsed 2.41s / Remaining 00:00:00:00"
     ]
    },
    {
     "name": "stdout",
     "output_type": "stream",
     "text": [
      "\r",
      " [*********80%******     ] Elapsed 2.41s / Remaining 00:00:00:00"
     ]
    },
    {
     "name": "stdout",
     "output_type": "stream",
     "text": [
      "\r",
      " [*********80%******     ] Elapsed 2.42s / Remaining 00:00:00:00"
     ]
    },
    {
     "name": "stdout",
     "output_type": "stream",
     "text": [
      "\r",
      " [*********80%******     ] Elapsed 2.42s / Remaining 00:00:00:00"
     ]
    },
    {
     "name": "stdout",
     "output_type": "stream",
     "text": [
      "\r",
      " [*********80%******     ] Elapsed 2.42s / Remaining 00:00:00:00"
     ]
    },
    {
     "name": "stdout",
     "output_type": "stream",
     "text": [
      "\r",
      " [*********80%******     ] Elapsed 2.42s / Remaining 00:00:00:00"
     ]
    },
    {
     "name": "stdout",
     "output_type": "stream",
     "text": [
      "\r",
      " [*********81%*******    ] Elapsed 2.43s / Remaining 00:00:00:00"
     ]
    },
    {
     "name": "stdout",
     "output_type": "stream",
     "text": [
      "\r"
     ]
    },
    {
     "name": "stdout",
     "output_type": "stream",
     "text": [
      " [*********81%*******    ] Elapsed 2.43s / Remaining 00:00:00:00"
     ]
    },
    {
     "name": "stdout",
     "output_type": "stream",
     "text": [
      "\r",
      " [*********81%*******    ] Elapsed 2.43s / Remaining 00:00:00:00"
     ]
    },
    {
     "name": "stdout",
     "output_type": "stream",
     "text": [
      "\r",
      " [*********81%*******    ] Elapsed 2.44s / Remaining 00:00:00:00"
     ]
    },
    {
     "name": "stdout",
     "output_type": "stream",
     "text": [
      "\r",
      " [*********81%*******    ] Elapsed 2.44s / Remaining 00:00:00:00"
     ]
    },
    {
     "name": "stdout",
     "output_type": "stream",
     "text": [
      "\r",
      " [*********81%*******    ] Elapsed 2.44s / Remaining 00:00:00:00"
     ]
    },
    {
     "name": "stdout",
     "output_type": "stream",
     "text": [
      "\r",
      " [*********81%*******    ] Elapsed 2.45s / Remaining 00:00:00:00"
     ]
    },
    {
     "name": "stdout",
     "output_type": "stream",
     "text": [
      "\r",
      " [*********81%*******    ] Elapsed 2.45s / Remaining 00:00:00:00"
     ]
    },
    {
     "name": "stdout",
     "output_type": "stream",
     "text": [
      "\r",
      " [*********81%*******    ] Elapsed 2.45s / Remaining 00:00:00:00"
     ]
    },
    {
     "name": "stdout",
     "output_type": "stream",
     "text": [
      "\r",
      " [*********81%*******    ] Elapsed 2.45s / Remaining 00:00:00:00"
     ]
    },
    {
     "name": "stdout",
     "output_type": "stream",
     "text": [
      "\r",
      " [*********82%*******    ] Elapsed 2.46s / Remaining 00:00:00:00"
     ]
    },
    {
     "name": "stdout",
     "output_type": "stream",
     "text": [
      "\r",
      " [*********82%*******    ] Elapsed 2.46s / Remaining 00:00:00:00"
     ]
    },
    {
     "name": "stdout",
     "output_type": "stream",
     "text": [
      "\r",
      " [*********82%*******    ] Elapsed 2.46s / Remaining 00:00:00:00"
     ]
    },
    {
     "name": "stdout",
     "output_type": "stream",
     "text": [
      "\r",
      " [*********82%*******    ] Elapsed 2.47s / Remaining 00:00:00:00"
     ]
    },
    {
     "name": "stdout",
     "output_type": "stream",
     "text": [
      "\r",
      " [*********82%*******    ] Elapsed 2.47s / Remaining 00:00:00:00"
     ]
    },
    {
     "name": "stdout",
     "output_type": "stream",
     "text": [
      "\r",
      " [*********82%*******    ] Elapsed 2.47s / Remaining 00:00:00:00"
     ]
    },
    {
     "name": "stdout",
     "output_type": "stream",
     "text": [
      "\r",
      " [*********82%*******    ] Elapsed 2.48s / Remaining 00:00:00:00"
     ]
    },
    {
     "name": "stdout",
     "output_type": "stream",
     "text": [
      "\r",
      " [*********82%*******    ] Elapsed 2.48s / Remaining 00:00:00:00"
     ]
    },
    {
     "name": "stdout",
     "output_type": "stream",
     "text": [
      "\r",
      " [*********82%*******    ] Elapsed 2.48s / Remaining 00:00:00:00"
     ]
    },
    {
     "name": "stdout",
     "output_type": "stream",
     "text": [
      "\r",
      " [*********82%*******    ] Elapsed 2.48s / Remaining 00:00:00:00"
     ]
    },
    {
     "name": "stdout",
     "output_type": "stream",
     "text": [
      "\r",
      " [*********83%*******    ] Elapsed 2.49s / Remaining 00:00:00:00"
     ]
    },
    {
     "name": "stdout",
     "output_type": "stream",
     "text": [
      "\r",
      " [*********83%*******    ] Elapsed 2.49s / Remaining 00:00:00:00"
     ]
    },
    {
     "name": "stdout",
     "output_type": "stream",
     "text": [
      "\r",
      " [*********83%*******    ] Elapsed 2.49s / Remaining 00:00:00:00"
     ]
    },
    {
     "name": "stdout",
     "output_type": "stream",
     "text": [
      "\r",
      " [*********83%*******    ] Elapsed 2.50s / Remaining 00:00:00:00"
     ]
    },
    {
     "name": "stdout",
     "output_type": "stream",
     "text": [
      "\r",
      " [*********83%*******    ] Elapsed 2.50s / Remaining 00:00:00:00"
     ]
    },
    {
     "name": "stdout",
     "output_type": "stream",
     "text": [
      "\r",
      " [*********83%*******    ] Elapsed 2.50s / Remaining 00:00:00:00"
     ]
    },
    {
     "name": "stdout",
     "output_type": "stream",
     "text": [
      "\r",
      " [*********83%*******    ] Elapsed 2.51s / Remaining 00:00:00:00"
     ]
    },
    {
     "name": "stdout",
     "output_type": "stream",
     "text": [
      "\r",
      " [*********83%*******    ] Elapsed 2.51s / Remaining 00:00:00:00"
     ]
    },
    {
     "name": "stdout",
     "output_type": "stream",
     "text": [
      "\r",
      " [*********83%*******    ] Elapsed 2.51s / Remaining 00:00:00:00"
     ]
    },
    {
     "name": "stdout",
     "output_type": "stream",
     "text": [
      "\r",
      " [*********83%*******    ] Elapsed 2.51s / Remaining 00:00:00:00"
     ]
    },
    {
     "name": "stdout",
     "output_type": "stream",
     "text": [
      "\r",
      " [*********84%*******    ] Elapsed 2.52s / Remaining 00:00:00:00"
     ]
    },
    {
     "name": "stdout",
     "output_type": "stream",
     "text": [
      "\r",
      " [*********84%*******    ] Elapsed 2.52s / Remaining 00:00:00:00"
     ]
    },
    {
     "name": "stdout",
     "output_type": "stream",
     "text": [
      "\r",
      " [*********84%*******    ] Elapsed 2.52s / Remaining 00:00:00:00"
     ]
    },
    {
     "name": "stdout",
     "output_type": "stream",
     "text": [
      "\r",
      " [*********84%*******    ] Elapsed 2.53s / Remaining 00:00:00:00"
     ]
    },
    {
     "name": "stdout",
     "output_type": "stream",
     "text": [
      "\r",
      " [*********84%*******    ] Elapsed 2.53s / Remaining 00:00:00:00"
     ]
    },
    {
     "name": "stdout",
     "output_type": "stream",
     "text": [
      "\r",
      " [*********84%*******    ] Elapsed 2.53s / Remaining 00:00:00:00"
     ]
    },
    {
     "name": "stdout",
     "output_type": "stream",
     "text": [
      "\r",
      " [*********84%*******    ] Elapsed 2.53s / Remaining 00:00:00:00"
     ]
    },
    {
     "name": "stdout",
     "output_type": "stream",
     "text": [
      "\r",
      " [*********84%*******    ] Elapsed 2.54s / Remaining 00:00:00:00"
     ]
    },
    {
     "name": "stdout",
     "output_type": "stream",
     "text": [
      "\r",
      " [*********84%*******    ] Elapsed 2.54s / Remaining 00:00:00:00"
     ]
    },
    {
     "name": "stdout",
     "output_type": "stream",
     "text": [
      "\r",
      " [*********84%*******    ] Elapsed 2.54s / Remaining 00:00:00:00"
     ]
    },
    {
     "name": "stdout",
     "output_type": "stream",
     "text": [
      "\r",
      " [*********85%********   ] Elapsed 2.55s / Remaining 00:00:00:00"
     ]
    },
    {
     "name": "stdout",
     "output_type": "stream",
     "text": [
      "\r",
      " [*********85%********   ] Elapsed 2.55s / Remaining 00:00:00:00"
     ]
    },
    {
     "name": "stdout",
     "output_type": "stream",
     "text": [
      "\r",
      " [*********85%********   ] Elapsed 2.55s / Remaining 00:00:00:00"
     ]
    },
    {
     "name": "stdout",
     "output_type": "stream",
     "text": [
      "\r",
      " [*********85%********   ] Elapsed 2.56s / Remaining 00:00:00:00"
     ]
    },
    {
     "name": "stdout",
     "output_type": "stream",
     "text": [
      "\r",
      " [*********85%********   ] Elapsed 2.56s / Remaining 00:00:00:00"
     ]
    },
    {
     "name": "stdout",
     "output_type": "stream",
     "text": [
      "\r",
      " [*********85%********   ] Elapsed 2.56s / Remaining 00:00:00:00"
     ]
    },
    {
     "name": "stdout",
     "output_type": "stream",
     "text": [
      "\r",
      " [*********85%********   ] Elapsed 2.56s / Remaining 00:00:00:00"
     ]
    },
    {
     "name": "stdout",
     "output_type": "stream",
     "text": [
      "\r",
      " [*********85%********   ] Elapsed 2.57s / Remaining 00:00:00:00"
     ]
    },
    {
     "name": "stdout",
     "output_type": "stream",
     "text": [
      "\r",
      " [*********85%********   ] Elapsed 2.57s / Remaining 00:00:00:00"
     ]
    },
    {
     "name": "stdout",
     "output_type": "stream",
     "text": [
      "\r",
      " [*********85%********   ] Elapsed 2.57s / Remaining 00:00:00:00"
     ]
    },
    {
     "name": "stdout",
     "output_type": "stream",
     "text": [
      "\r",
      " [*********86%********   ] Elapsed 2.58s / Remaining 00:00:00:00"
     ]
    },
    {
     "name": "stdout",
     "output_type": "stream",
     "text": [
      "\r",
      " [*********86%********   ] Elapsed 2.58s / Remaining 00:00:00:00"
     ]
    },
    {
     "name": "stdout",
     "output_type": "stream",
     "text": [
      "\r",
      " [*********86%********   ] Elapsed 2.58s / Remaining 00:00:00:00"
     ]
    },
    {
     "name": "stdout",
     "output_type": "stream",
     "text": [
      "\r",
      " [*********86%********   ] Elapsed 2.58s / Remaining 00:00:00:00"
     ]
    },
    {
     "name": "stdout",
     "output_type": "stream",
     "text": [
      "\r",
      " [*********86%********   ] Elapsed 2.59s / Remaining 00:00:00:00"
     ]
    },
    {
     "name": "stdout",
     "output_type": "stream",
     "text": [
      "\r",
      " [*********86%********   ] Elapsed 2.59s / Remaining 00:00:00:00"
     ]
    },
    {
     "name": "stdout",
     "output_type": "stream",
     "text": [
      "\r",
      " [*********86%********   ] Elapsed 2.59s / Remaining 00:00:00:00"
     ]
    },
    {
     "name": "stdout",
     "output_type": "stream",
     "text": [
      "\r",
      " [*********86%********   ] Elapsed 2.60s / Remaining 00:00:00:00"
     ]
    },
    {
     "name": "stdout",
     "output_type": "stream",
     "text": [
      "\r",
      " [*********86%********   ] Elapsed 2.60s / Remaining 00:00:00:00"
     ]
    },
    {
     "name": "stdout",
     "output_type": "stream",
     "text": [
      "\r",
      " [*********86%********   ] Elapsed 2.60s / Remaining 00:00:00:00"
     ]
    },
    {
     "name": "stdout",
     "output_type": "stream",
     "text": [
      "\r",
      " [*********87%********   ] Elapsed 2.60s / Remaining 00:00:00:00"
     ]
    },
    {
     "name": "stdout",
     "output_type": "stream",
     "text": [
      "\r",
      " [*********87%********   ] Elapsed 2.61s / Remaining 00:00:00:00"
     ]
    },
    {
     "name": "stdout",
     "output_type": "stream",
     "text": [
      "\r",
      " [*********87%********   ] Elapsed 2.61s / Remaining 00:00:00:00"
     ]
    },
    {
     "name": "stdout",
     "output_type": "stream",
     "text": [
      "\r",
      " [*********87%********   ] Elapsed 2.61s / Remaining 00:00:00:00"
     ]
    },
    {
     "name": "stdout",
     "output_type": "stream",
     "text": [
      "\r",
      " [*********87%********   ] Elapsed 2.62s / Remaining 00:00:00:00"
     ]
    },
    {
     "name": "stdout",
     "output_type": "stream",
     "text": [
      "\r",
      " [*********87%********   ] Elapsed 2.62s / Remaining 00:00:00:00"
     ]
    },
    {
     "name": "stdout",
     "output_type": "stream",
     "text": [
      "\r",
      " [*********87%********   ] Elapsed 2.62s / Remaining 00:00:00:00"
     ]
    },
    {
     "name": "stdout",
     "output_type": "stream",
     "text": [
      "\r",
      " [*********87%********   ] Elapsed 2.62s / Remaining 00:00:00:00"
     ]
    },
    {
     "name": "stdout",
     "output_type": "stream",
     "text": [
      "\r",
      " [*********87%********   ] Elapsed 2.63s / Remaining 00:00:00:00"
     ]
    },
    {
     "name": "stdout",
     "output_type": "stream",
     "text": [
      "\r",
      " [*********87%********   ] Elapsed 2.63s / Remaining 00:00:00:00"
     ]
    },
    {
     "name": "stdout",
     "output_type": "stream",
     "text": [
      "\r",
      " [*********88%********   ] Elapsed 2.63s / Remaining 00:00:00:00"
     ]
    },
    {
     "name": "stdout",
     "output_type": "stream",
     "text": [
      "\r",
      " [*********88%********   ] Elapsed 2.64s / Remaining 00:00:00:00"
     ]
    },
    {
     "name": "stdout",
     "output_type": "stream",
     "text": [
      "\r",
      " [*********88%********   ] Elapsed 2.64s / Remaining 00:00:00:00"
     ]
    },
    {
     "name": "stdout",
     "output_type": "stream",
     "text": [
      "\r",
      " [*********88%********   ] Elapsed 2.64s / Remaining 00:00:00:00"
     ]
    },
    {
     "name": "stdout",
     "output_type": "stream",
     "text": [
      "\r",
      " [*********88%********   ] Elapsed 2.64s / Remaining 00:00:00:00"
     ]
    },
    {
     "name": "stdout",
     "output_type": "stream",
     "text": [
      "\r",
      " [*********88%********   ] Elapsed 2.65s / Remaining 00:00:00:00"
     ]
    },
    {
     "name": "stdout",
     "output_type": "stream",
     "text": [
      "\r",
      " [*********88%********   ] Elapsed 2.65s / Remaining 00:00:00:00"
     ]
    },
    {
     "name": "stdout",
     "output_type": "stream",
     "text": [
      "\r",
      " [*********88%********   ] Elapsed 2.65s / Remaining 00:00:00:00"
     ]
    },
    {
     "name": "stdout",
     "output_type": "stream",
     "text": [
      "\r",
      " [*********88%********   ] Elapsed 2.66s / Remaining 00:00:00:00"
     ]
    },
    {
     "name": "stdout",
     "output_type": "stream",
     "text": [
      "\r",
      " [*********88%********   ] Elapsed 2.66s / Remaining 00:00:00:00"
     ]
    },
    {
     "name": "stdout",
     "output_type": "stream",
     "text": [
      "\r",
      " [*********89%********   ] Elapsed 2.66s / Remaining 00:00:00:00"
     ]
    },
    {
     "name": "stdout",
     "output_type": "stream",
     "text": [
      "\r",
      " [*********89%********   ] Elapsed 2.67s / Remaining 00:00:00:00"
     ]
    },
    {
     "name": "stdout",
     "output_type": "stream",
     "text": [
      "\r",
      " [*********89%********   ] Elapsed 2.67s / Remaining 00:00:00:00"
     ]
    },
    {
     "name": "stdout",
     "output_type": "stream",
     "text": [
      "\r",
      " [*********89%********   ] Elapsed 2.67s / Remaining 00:00:00:00"
     ]
    },
    {
     "name": "stdout",
     "output_type": "stream",
     "text": [
      "\r",
      " [*********89%********   ] Elapsed 2.68s / Remaining 00:00:00:00"
     ]
    },
    {
     "name": "stdout",
     "output_type": "stream",
     "text": [
      "\r",
      " [*********89%********   ] Elapsed 2.68s / Remaining 00:00:00:00"
     ]
    },
    {
     "name": "stdout",
     "output_type": "stream",
     "text": [
      "\r",
      " [*********89%********   ] Elapsed 2.68s / Remaining 00:00:00:00"
     ]
    },
    {
     "name": "stdout",
     "output_type": "stream",
     "text": [
      "\r",
      " [*********89%********   ] Elapsed 2.68s / Remaining 00:00:00:00"
     ]
    },
    {
     "name": "stdout",
     "output_type": "stream",
     "text": [
      "\r",
      " [*********89%********   ] Elapsed 2.69s / Remaining 00:00:00:00"
     ]
    },
    {
     "name": "stdout",
     "output_type": "stream",
     "text": [
      "\r",
      " [*********89%********   ] Elapsed 2.69s / Remaining 00:00:00:00"
     ]
    },
    {
     "name": "stdout",
     "output_type": "stream",
     "text": [
      "\r",
      " [*********90%*********  ] Elapsed 2.69s / Remaining 00:00:00:00"
     ]
    },
    {
     "name": "stdout",
     "output_type": "stream",
     "text": [
      "\r",
      " [*********90%*********  ] Elapsed 2.70s / Remaining 00:00:00:00"
     ]
    },
    {
     "name": "stdout",
     "output_type": "stream",
     "text": [
      "\r",
      " [*********90%*********  ] Elapsed 2.70s / Remaining 00:00:00:00"
     ]
    },
    {
     "name": "stdout",
     "output_type": "stream",
     "text": [
      "\r",
      " [*********90%*********  ] Elapsed 2.70s / Remaining 00:00:00:00"
     ]
    },
    {
     "name": "stdout",
     "output_type": "stream",
     "text": [
      "\r",
      " [*********90%*********  ] Elapsed 2.71s / Remaining 00:00:00:00"
     ]
    },
    {
     "name": "stdout",
     "output_type": "stream",
     "text": [
      "\r",
      " [*********90%*********  ] Elapsed 2.71s / Remaining 00:00:00:00"
     ]
    },
    {
     "name": "stdout",
     "output_type": "stream",
     "text": [
      "\r",
      " [*********90%*********  ] Elapsed 2.71s / Remaining 00:00:00:00"
     ]
    },
    {
     "name": "stdout",
     "output_type": "stream",
     "text": [
      "\r",
      " [*********90%*********  ] Elapsed 2.72s / Remaining 00:00:00:00"
     ]
    },
    {
     "name": "stdout",
     "output_type": "stream",
     "text": [
      "\r",
      " [*********90%*********  ] Elapsed 2.72s / Remaining 00:00:00:00"
     ]
    },
    {
     "name": "stdout",
     "output_type": "stream",
     "text": [
      "\r",
      " [*********90%*********  ] Elapsed 2.72s / Remaining 00:00:00:00"
     ]
    },
    {
     "name": "stdout",
     "output_type": "stream",
     "text": [
      "\r",
      " [*********91%*********  ] Elapsed 2.72s / Remaining 00:00:00:00"
     ]
    },
    {
     "name": "stdout",
     "output_type": "stream",
     "text": [
      "\r",
      " [*********91%*********  ] Elapsed 2.73s / Remaining 00:00:00:00"
     ]
    },
    {
     "name": "stdout",
     "output_type": "stream",
     "text": [
      "\r",
      " [*********91%*********  ] Elapsed 2.73s / Remaining 00:00:00:00"
     ]
    },
    {
     "name": "stdout",
     "output_type": "stream",
     "text": [
      "\r",
      " [*********91%*********  ] Elapsed 2.73s / Remaining 00:00:00:00"
     ]
    },
    {
     "name": "stdout",
     "output_type": "stream",
     "text": [
      "\r",
      " [*********91%*********  ] Elapsed 2.74s / Remaining 00:00:00:00"
     ]
    },
    {
     "name": "stdout",
     "output_type": "stream",
     "text": [
      "\r",
      " [*********91%*********  ] Elapsed 2.74s / Remaining 00:00:00:00"
     ]
    },
    {
     "name": "stdout",
     "output_type": "stream",
     "text": [
      "\r",
      " [*********91%*********  ] Elapsed 2.74s / Remaining 00:00:00:00"
     ]
    },
    {
     "name": "stdout",
     "output_type": "stream",
     "text": [
      "\r",
      " [*********91%*********  ] Elapsed 2.74s / Remaining 00:00:00:00"
     ]
    },
    {
     "name": "stdout",
     "output_type": "stream",
     "text": [
      "\r",
      " [*********91%*********  ] Elapsed 2.75s / Remaining 00:00:00:00"
     ]
    },
    {
     "name": "stdout",
     "output_type": "stream",
     "text": [
      "\r",
      " [*********91%*********  ] Elapsed 2.75s / Remaining 00:00:00:00"
     ]
    },
    {
     "name": "stdout",
     "output_type": "stream",
     "text": [
      "\r",
      " [*********92%*********  ] Elapsed 2.75s / Remaining 00:00:00:00"
     ]
    },
    {
     "name": "stdout",
     "output_type": "stream",
     "text": [
      "\r",
      " [*********92%*********  ] Elapsed 2.75s / Remaining 00:00:00:00"
     ]
    },
    {
     "name": "stdout",
     "output_type": "stream",
     "text": [
      "\r",
      " [*********92%*********  ] Elapsed 2.76s / Remaining 00:00:00:00"
     ]
    },
    {
     "name": "stdout",
     "output_type": "stream",
     "text": [
      "\r",
      " [*********92%*********  ] Elapsed 2.76s / Remaining 00:00:00:00"
     ]
    },
    {
     "name": "stdout",
     "output_type": "stream",
     "text": [
      "\r",
      " [*********92%*********  ] Elapsed 2.76s / Remaining 00:00:00:00"
     ]
    },
    {
     "name": "stdout",
     "output_type": "stream",
     "text": [
      "\r",
      " [*********92%*********  ] Elapsed 2.77s / Remaining 00:00:00:00"
     ]
    },
    {
     "name": "stdout",
     "output_type": "stream",
     "text": [
      "\r",
      " [*********92%*********  ] Elapsed 2.77s / Remaining 00:00:00:00"
     ]
    },
    {
     "name": "stdout",
     "output_type": "stream",
     "text": [
      "\r",
      " [*********92%*********  ] Elapsed 2.77s / Remaining 00:00:00:00"
     ]
    },
    {
     "name": "stdout",
     "output_type": "stream",
     "text": [
      "\r",
      " [*********92%*********  ] Elapsed 2.77s / Remaining 00:00:00:00"
     ]
    },
    {
     "name": "stdout",
     "output_type": "stream",
     "text": [
      "\r",
      " [*********92%*********  ] Elapsed 2.78s / Remaining 00:00:00:00"
     ]
    },
    {
     "name": "stdout",
     "output_type": "stream",
     "text": [
      "\r",
      " [*********93%*********  ] Elapsed 2.78s / Remaining 00:00:00:00"
     ]
    },
    {
     "name": "stdout",
     "output_type": "stream",
     "text": [
      "\r",
      " [*********93%*********  ] Elapsed 2.78s / Remaining 00:00:00:00"
     ]
    },
    {
     "name": "stdout",
     "output_type": "stream",
     "text": [
      "\r",
      " [*********93%*********  ] Elapsed 2.79s / Remaining 00:00:00:00"
     ]
    },
    {
     "name": "stdout",
     "output_type": "stream",
     "text": [
      "\r",
      " [*********93%*********  ] Elapsed 2.79s / Remaining 00:00:00:00"
     ]
    },
    {
     "name": "stdout",
     "output_type": "stream",
     "text": [
      "\r",
      " [*********93%*********  ] Elapsed 2.79s / Remaining 00:00:00:00"
     ]
    },
    {
     "name": "stdout",
     "output_type": "stream",
     "text": [
      "\r",
      " [*********93%*********  ] Elapsed 2.79s / Remaining 00:00:00:00"
     ]
    },
    {
     "name": "stdout",
     "output_type": "stream",
     "text": [
      "\r",
      " [*********93%*********  ] Elapsed 2.80s / Remaining 00:00:00:00"
     ]
    },
    {
     "name": "stdout",
     "output_type": "stream",
     "text": [
      "\r",
      " [*********93%*********  ] Elapsed 2.80s / Remaining 00:00:00:00"
     ]
    },
    {
     "name": "stdout",
     "output_type": "stream",
     "text": [
      "\r",
      " [*********93%*********  ] Elapsed 2.80s / Remaining 00:00:00:00"
     ]
    },
    {
     "name": "stdout",
     "output_type": "stream",
     "text": [
      "\r",
      " [*********93%*********  ] Elapsed 2.81s / Remaining 00:00:00:00"
     ]
    },
    {
     "name": "stdout",
     "output_type": "stream",
     "text": [
      "\r",
      " [*********94%********** ] Elapsed 2.81s / Remaining 00:00:00:00"
     ]
    },
    {
     "name": "stdout",
     "output_type": "stream",
     "text": [
      "\r",
      " [*********94%********** ] Elapsed 2.81s / Remaining 00:00:00:00"
     ]
    },
    {
     "name": "stdout",
     "output_type": "stream",
     "text": [
      "\r",
      " [*********94%********** ] Elapsed 2.82s / Remaining 00:00:00:00"
     ]
    },
    {
     "name": "stdout",
     "output_type": "stream",
     "text": [
      "\r",
      " [*********94%********** ] Elapsed 2.82s / Remaining 00:00:00:00"
     ]
    },
    {
     "name": "stdout",
     "output_type": "stream",
     "text": [
      "\r",
      " [*********94%********** ] Elapsed 2.82s / Remaining 00:00:00:00"
     ]
    },
    {
     "name": "stdout",
     "output_type": "stream",
     "text": [
      "\r",
      " [*********94%********** ] Elapsed 2.82s / Remaining 00:00:00:00"
     ]
    },
    {
     "name": "stdout",
     "output_type": "stream",
     "text": [
      "\r",
      " [*********94%********** ] Elapsed 2.83s / Remaining 00:00:00:00"
     ]
    },
    {
     "name": "stdout",
     "output_type": "stream",
     "text": [
      "\r",
      " [*********94%********** ] Elapsed 2.83s / Remaining 00:00:00:00"
     ]
    },
    {
     "name": "stdout",
     "output_type": "stream",
     "text": [
      "\r",
      " [*********94%********** ] Elapsed 2.83s / Remaining 00:00:00:00"
     ]
    },
    {
     "name": "stdout",
     "output_type": "stream",
     "text": [
      "\r",
      " [*********94%********** ] Elapsed 2.83s / Remaining 00:00:00:00"
     ]
    },
    {
     "name": "stdout",
     "output_type": "stream",
     "text": [
      "\r"
     ]
    },
    {
     "name": "stdout",
     "output_type": "stream",
     "text": [
      " [*********95%********** ] Elapsed 2.84s / Remaining 00:00:00:00"
     ]
    },
    {
     "name": "stdout",
     "output_type": "stream",
     "text": [
      "\r",
      " [*********95%********** ] Elapsed 2.84s / Remaining 00:00:00:00"
     ]
    },
    {
     "name": "stdout",
     "output_type": "stream",
     "text": [
      "\r",
      " [*********95%********** ] Elapsed 2.84s / Remaining 00:00:00:00"
     ]
    },
    {
     "name": "stdout",
     "output_type": "stream",
     "text": [
      "\r",
      " [*********95%********** ] Elapsed 2.85s / Remaining 00:00:00:00"
     ]
    },
    {
     "name": "stdout",
     "output_type": "stream",
     "text": [
      "\r",
      " [*********95%********** ] Elapsed 2.85s / Remaining 00:00:00:00"
     ]
    },
    {
     "name": "stdout",
     "output_type": "stream",
     "text": [
      "\r",
      " [*********95%********** ] Elapsed 2.85s / Remaining 00:00:00:00"
     ]
    },
    {
     "name": "stdout",
     "output_type": "stream",
     "text": [
      "\r",
      " [*********95%********** ] Elapsed 2.86s / Remaining 00:00:00:00"
     ]
    },
    {
     "name": "stdout",
     "output_type": "stream",
     "text": [
      "\r",
      " [*********95%********** ] Elapsed 2.86s / Remaining 00:00:00:00"
     ]
    },
    {
     "name": "stdout",
     "output_type": "stream",
     "text": [
      "\r",
      " [*********95%********** ] Elapsed 2.86s / Remaining 00:00:00:00"
     ]
    },
    {
     "name": "stdout",
     "output_type": "stream",
     "text": [
      "\r",
      " [*********95%********** ] Elapsed 2.86s / Remaining 00:00:00:00"
     ]
    },
    {
     "name": "stdout",
     "output_type": "stream",
     "text": [
      "\r",
      " [*********96%********** ] Elapsed 2.87s / Remaining 00:00:00:00"
     ]
    },
    {
     "name": "stdout",
     "output_type": "stream",
     "text": [
      "\r",
      " [*********96%********** ] Elapsed 2.87s / Remaining 00:00:00:00"
     ]
    },
    {
     "name": "stdout",
     "output_type": "stream",
     "text": [
      "\r",
      " [*********96%********** ] Elapsed 2.87s / Remaining 00:00:00:00"
     ]
    },
    {
     "name": "stdout",
     "output_type": "stream",
     "text": [
      "\r",
      " [*********96%********** ] Elapsed 2.88s / Remaining 00:00:00:00"
     ]
    },
    {
     "name": "stdout",
     "output_type": "stream",
     "text": [
      "\r",
      " [*********96%********** ] Elapsed 2.88s / Remaining 00:00:00:00"
     ]
    },
    {
     "name": "stdout",
     "output_type": "stream",
     "text": [
      "\r",
      " [*********96%********** ] Elapsed 2.88s / Remaining 00:00:00:00"
     ]
    },
    {
     "name": "stdout",
     "output_type": "stream",
     "text": [
      "\r",
      " [*********96%********** ] Elapsed 2.89s / Remaining 00:00:00:00"
     ]
    },
    {
     "name": "stdout",
     "output_type": "stream",
     "text": [
      "\r",
      " [*********96%********** ] Elapsed 2.89s / Remaining 00:00:00:00"
     ]
    },
    {
     "name": "stdout",
     "output_type": "stream",
     "text": [
      "\r",
      " [*********96%********** ] Elapsed 2.89s / Remaining 00:00:00:00"
     ]
    },
    {
     "name": "stdout",
     "output_type": "stream",
     "text": [
      "\r",
      " [*********96%********** ] Elapsed 2.90s / Remaining 00:00:00:00"
     ]
    },
    {
     "name": "stdout",
     "output_type": "stream",
     "text": [
      "\r",
      " [*********97%********** ] Elapsed 2.90s / Remaining 00:00:00:00"
     ]
    },
    {
     "name": "stdout",
     "output_type": "stream",
     "text": [
      "\r",
      " [*********97%********** ] Elapsed 2.90s / Remaining 00:00:00:00"
     ]
    },
    {
     "name": "stdout",
     "output_type": "stream",
     "text": [
      "\r",
      " [*********97%********** ] Elapsed 2.91s / Remaining 00:00:00:00"
     ]
    },
    {
     "name": "stdout",
     "output_type": "stream",
     "text": [
      "\r",
      " [*********97%********** ] Elapsed 2.91s / Remaining 00:00:00:00"
     ]
    },
    {
     "name": "stdout",
     "output_type": "stream",
     "text": [
      "\r",
      " [*********97%********** ] Elapsed 2.91s / Remaining 00:00:00:00"
     ]
    },
    {
     "name": "stdout",
     "output_type": "stream",
     "text": [
      "\r",
      " [*********97%********** ] Elapsed 2.92s / Remaining 00:00:00:00"
     ]
    },
    {
     "name": "stdout",
     "output_type": "stream",
     "text": [
      "\r",
      " [*********97%********** ] Elapsed 2.92s / Remaining 00:00:00:00"
     ]
    },
    {
     "name": "stdout",
     "output_type": "stream",
     "text": [
      "\r",
      " [*********97%********** ] Elapsed 2.92s / Remaining 00:00:00:00"
     ]
    },
    {
     "name": "stdout",
     "output_type": "stream",
     "text": [
      "\r",
      " [*********97%********** ] Elapsed 2.93s / Remaining 00:00:00:00"
     ]
    },
    {
     "name": "stdout",
     "output_type": "stream",
     "text": [
      "\r",
      " [*********97%********** ] Elapsed 2.93s / Remaining 00:00:00:00"
     ]
    },
    {
     "name": "stdout",
     "output_type": "stream",
     "text": [
      "\r",
      " [*********98%***********] Elapsed 2.93s / Remaining 00:00:00:00"
     ]
    },
    {
     "name": "stdout",
     "output_type": "stream",
     "text": [
      "\r",
      " [*********98%***********] Elapsed 2.93s / Remaining 00:00:00:00"
     ]
    },
    {
     "name": "stdout",
     "output_type": "stream",
     "text": [
      "\r",
      " [*********98%***********] Elapsed 2.94s / Remaining 00:00:00:00"
     ]
    },
    {
     "name": "stdout",
     "output_type": "stream",
     "text": [
      "\r",
      " [*********98%***********] Elapsed 2.94s / Remaining 00:00:00:00"
     ]
    },
    {
     "name": "stdout",
     "output_type": "stream",
     "text": [
      "\r",
      " [*********98%***********] Elapsed 2.94s / Remaining 00:00:00:00"
     ]
    },
    {
     "name": "stdout",
     "output_type": "stream",
     "text": [
      "\r",
      " [*********98%***********] Elapsed 2.95s / Remaining 00:00:00:00"
     ]
    },
    {
     "name": "stdout",
     "output_type": "stream",
     "text": [
      "\r",
      " [*********98%***********] Elapsed 2.95s / Remaining 00:00:00:00"
     ]
    },
    {
     "name": "stdout",
     "output_type": "stream",
     "text": [
      "\r",
      " [*********98%***********] Elapsed 2.95s / Remaining 00:00:00:00"
     ]
    },
    {
     "name": "stdout",
     "output_type": "stream",
     "text": [
      "\r",
      " [*********98%***********] Elapsed 2.95s / Remaining 00:00:00:00"
     ]
    },
    {
     "name": "stdout",
     "output_type": "stream",
     "text": [
      "\r",
      " [*********98%***********] Elapsed 2.96s / Remaining 00:00:00:00"
     ]
    },
    {
     "name": "stdout",
     "output_type": "stream",
     "text": [
      "\r",
      " [*********99%***********] Elapsed 2.96s / Remaining 00:00:00:00"
     ]
    },
    {
     "name": "stdout",
     "output_type": "stream",
     "text": [
      "\r",
      " [*********99%***********] Elapsed 2.96s / Remaining 00:00:00:00"
     ]
    },
    {
     "name": "stdout",
     "output_type": "stream",
     "text": [
      "\r",
      " [*********99%***********] Elapsed 2.97s / Remaining 00:00:00:00"
     ]
    },
    {
     "name": "stdout",
     "output_type": "stream",
     "text": [
      "\r",
      " [*********99%***********] Elapsed 2.97s / Remaining 00:00:00:00"
     ]
    },
    {
     "name": "stdout",
     "output_type": "stream",
     "text": [
      "\r",
      " [*********99%***********] Elapsed 2.97s / Remaining 00:00:00:00"
     ]
    },
    {
     "name": "stdout",
     "output_type": "stream",
     "text": [
      "\r",
      " [*********99%***********] Elapsed 2.98s / Remaining 00:00:00:00"
     ]
    },
    {
     "name": "stdout",
     "output_type": "stream",
     "text": [
      "\r",
      " [*********99%***********] Elapsed 2.98s / Remaining 00:00:00:00"
     ]
    },
    {
     "name": "stdout",
     "output_type": "stream",
     "text": [
      "\r",
      " [*********99%***********] Elapsed 2.98s / Remaining 00:00:00:00"
     ]
    },
    {
     "name": "stdout",
     "output_type": "stream",
     "text": [
      "\r",
      " [*********99%***********] Elapsed 2.98s / Remaining 00:00:00:00"
     ]
    },
    {
     "name": "stdout",
     "output_type": "stream",
     "text": [
      "\r",
      " [*********99%***********] Elapsed 2.99s / Remaining 00:00:00:00"
     ]
    },
    {
     "name": "stdout",
     "output_type": "stream",
     "text": [
      "\r",
      " [********100%***********] Elapsed 2.99s / Remaining 00:00:00:00"
     ]
    },
    {
     "name": "stdout",
     "output_type": "stream",
     "text": [
      "\r",
      " [********100%***********] Elapsed 2.99s / Remaining 00:00:00:00"
     ]
    },
    {
     "name": "stdout",
     "output_type": "stream",
     "text": [
      "\r",
      " [********100%***********] Elapsed 3.00s / Remaining 00:00:00:00"
     ]
    },
    {
     "name": "stdout",
     "output_type": "stream",
     "text": [
      "\r",
      " [********100%***********] Elapsed 3.00s / Remaining 00:00:00:00"
     ]
    },
    {
     "name": "stdout",
     "output_type": "stream",
     "text": [
      "\r",
      " [********100%***********] Elapsed 3.00s / Remaining 00:00:00:00"
     ]
    },
    {
     "name": "stdout",
     "output_type": "stream",
     "text": [
      "\r",
      " Total run time:   3.00s\n",
      "ODE solver time: 3.0033440589904785\n"
     ]
    }
   ],
   "source": [
    "with timer(\"RHS construction time\"):\n",
    "    bath = BosonicBath(Q, ckAR, vkAR, ckAI, vkAI)\n",
    "    HEOMMats = HEOMSolver(Hsys, bath, NC, options=options)\n",
    "\n",
    "with timer(\"ODE solver time\"):\n",
    "    resultMats = HEOMMats.run(rho0, tlist)"
   ]
  },
  {
   "cell_type": "code",
   "execution_count": 17,
   "id": "24f5a0cc",
   "metadata": {
    "execution": {
     "iopub.execute_input": "2024-06-12T07:05:08.702133Z",
     "iopub.status.busy": "2024-06-12T07:05:08.701840Z",
     "iopub.status.idle": "2024-06-12T07:05:08.838765Z",
     "shell.execute_reply": "2024-06-12T07:05:08.838243Z"
    }
   },
   "outputs": [
    {
     "data": {
      "image/png": "[encoded data removed]",
      "text/plain": [
       "<Figure size 800x800 with 1 Axes>"
      ]
     },
     "metadata": {},
     "output_type": "display_data"
    }
   ],
   "source": [
    "plot_result_expectations([\n",
    "    (resultMats, P11p, 'b', \"P11 Mats\"),\n",
    "    (resultMats, P12p, 'r', \"P12 Mats\"),\n",
    "]);"
   ]
  },
  {
   "cell_type": "markdown",
   "id": "6282ad40",
   "metadata": {},
   "source": [
    "In practice, one would not perform this laborious expansion for the underdamped correlation function, because\n",
    "QuTiP already has a class, `UnderDampedBath`, that can construct this bath for you. Nevertheless, knowing how\n",
    "to perform this expansion will allow you to construct your own baths for other spectral densities.\n",
    "\n",
    "Below we show how to use this built-in functionality:"
   ]
  },
  {
   "cell_type": "code",
   "execution_count": 18,
   "id": "7a88ed79",
   "metadata": {
    "execution": {
     "iopub.execute_input": "2024-06-12T07:05:08.840708Z",
     "iopub.status.busy": "2024-06-12T07:05:08.840538Z",
     "iopub.status.idle": "2024-06-12T07:05:11.925983Z",
     "shell.execute_reply": "2024-06-12T07:05:11.925501Z"
    }
   },
   "outputs": [
    {
     "name": "stdout",
     "output_type": "stream",
     "text": [
      "RHS construction time: 0.05839085578918457\n",
      "\r",
      " [          0%           ] Elapsed 0.00s / Remaining 00:00:00:00"
     ]
    },
    {
     "name": "stdout",
     "output_type": "stream",
     "text": [
      "\r",
      " [          0%           ] Elapsed 0.01s / Remaining 00:00:00:00"
     ]
    },
    {
     "name": "stdout",
     "output_type": "stream",
     "text": [
      "\r",
      " [          0%           ] Elapsed 0.01s / Remaining 00:00:00:00"
     ]
    },
    {
     "name": "stdout",
     "output_type": "stream",
     "text": [
      "\r",
      " [          0%           ] Elapsed 0.01s / Remaining 00:00:00:00"
     ]
    },
    {
     "name": "stdout",
     "output_type": "stream",
     "text": [
      "\r",
      " [          1%           ] Elapsed 0.01s / Remaining 00:00:00:01"
     ]
    },
    {
     "name": "stdout",
     "output_type": "stream",
     "text": [
      "\r",
      " [          1%           ] Elapsed 0.02s / Remaining 00:00:00:01"
     ]
    },
    {
     "name": "stdout",
     "output_type": "stream",
     "text": [
      "\r",
      " [          1%           ] Elapsed 0.02s / Remaining 00:00:00:01"
     ]
    },
    {
     "name": "stdout",
     "output_type": "stream",
     "text": [
      "\r",
      " [          1%           ] Elapsed 0.02s / Remaining 00:00:00:01"
     ]
    },
    {
     "name": "stdout",
     "output_type": "stream",
     "text": [
      "\r",
      " [          1%           ] Elapsed 0.02s / Remaining 00:00:00:02"
     ]
    },
    {
     "name": "stdout",
     "output_type": "stream",
     "text": [
      "\r",
      " [          1%           ] Elapsed 0.02s / Remaining 00:00:00:02"
     ]
    },
    {
     "name": "stdout",
     "output_type": "stream",
     "text": [
      "\r",
      " [          1%           ] Elapsed 0.03s / Remaining 00:00:00:02"
     ]
    },
    {
     "name": "stdout",
     "output_type": "stream",
     "text": [
      "\r",
      " [          1%           ] Elapsed 0.03s / Remaining 00:00:00:02"
     ]
    },
    {
     "name": "stdout",
     "output_type": "stream",
     "text": [
      "\r",
      " [          1%           ] Elapsed 0.03s / Remaining 00:00:00:03"
     ]
    },
    {
     "name": "stdout",
     "output_type": "stream",
     "text": [
      "\r",
      " [          1%           ] Elapsed 0.03s / Remaining 00:00:00:03"
     ]
    },
    {
     "name": "stdout",
     "output_type": "stream",
     "text": [
      "\r",
      " [          2%           ] Elapsed 0.04s / Remaining 00:00:00:01"
     ]
    },
    {
     "name": "stdout",
     "output_type": "stream",
     "text": [
      "\r",
      " [          2%           ] Elapsed 0.04s / Remaining 00:00:00:01"
     ]
    },
    {
     "name": "stdout",
     "output_type": "stream",
     "text": [
      "\r",
      " [          2%           ] Elapsed 0.04s / Remaining 00:00:00:02"
     ]
    },
    {
     "name": "stdout",
     "output_type": "stream",
     "text": [
      "\r",
      " [          2%           ] Elapsed 0.05s / Remaining 00:00:00:02"
     ]
    },
    {
     "name": "stdout",
     "output_type": "stream",
     "text": [
      "\r",
      " [          2%           ] Elapsed 0.05s / Remaining 00:00:00:02"
     ]
    },
    {
     "name": "stdout",
     "output_type": "stream",
     "text": [
      "\r",
      " [          2%           ] Elapsed 0.05s / Remaining 00:00:00:02"
     ]
    },
    {
     "name": "stdout",
     "output_type": "stream",
     "text": [
      "\r",
      " [          2%           ] Elapsed 0.06s / Remaining 00:00:00:02"
     ]
    },
    {
     "name": "stdout",
     "output_type": "stream",
     "text": [
      "\r",
      " [          2%           ] Elapsed 0.06s / Remaining 00:00:00:02"
     ]
    },
    {
     "name": "stdout",
     "output_type": "stream",
     "text": [
      "\r",
      " [          2%           ] Elapsed 0.06s / Remaining 00:00:00:03"
     ]
    },
    {
     "name": "stdout",
     "output_type": "stream",
     "text": [
      "\r",
      " [          2%           ] Elapsed 0.07s / Remaining 00:00:00:03"
     ]
    },
    {
     "name": "stdout",
     "output_type": "stream",
     "text": [
      "\r",
      " [*         3%           ] Elapsed 0.07s / Remaining 00:00:00:02"
     ]
    },
    {
     "name": "stdout",
     "output_type": "stream",
     "text": [
      "\r",
      " [*         3%           ] Elapsed 0.07s / Remaining 00:00:00:02"
     ]
    },
    {
     "name": "stdout",
     "output_type": "stream",
     "text": [
      "\r",
      " [*         3%           ] Elapsed 0.07s / Remaining 00:00:00:02"
     ]
    },
    {
     "name": "stdout",
     "output_type": "stream",
     "text": [
      "\r",
      " [*         3%           ] Elapsed 0.08s / Remaining 00:00:00:02"
     ]
    },
    {
     "name": "stdout",
     "output_type": "stream",
     "text": [
      "\r",
      " [*         3%           ] Elapsed 0.08s / Remaining 00:00:00:02"
     ]
    },
    {
     "name": "stdout",
     "output_type": "stream",
     "text": [
      "\r",
      " [*         3%           ] Elapsed 0.08s / Remaining 00:00:00:02"
     ]
    },
    {
     "name": "stdout",
     "output_type": "stream",
     "text": [
      "\r",
      " [*         3%           ] Elapsed 0.09s / Remaining 00:00:00:02"
     ]
    },
    {
     "name": "stdout",
     "output_type": "stream",
     "text": [
      "\r",
      " [*         3%           ] Elapsed 0.09s / Remaining 00:00:00:02"
     ]
    },
    {
     "name": "stdout",
     "output_type": "stream",
     "text": [
      "\r",
      " [*         3%           ] Elapsed 0.09s / Remaining 00:00:00:02"
     ]
    },
    {
     "name": "stdout",
     "output_type": "stream",
     "text": [
      "\r",
      " [*         3%           ] Elapsed 0.09s / Remaining 00:00:00:03"
     ]
    },
    {
     "name": "stdout",
     "output_type": "stream",
     "text": [
      "\r",
      " [*         4%           ] Elapsed 0.10s / Remaining 00:00:00:02"
     ]
    },
    {
     "name": "stdout",
     "output_type": "stream",
     "text": [
      "\r",
      " [*         4%           ] Elapsed 0.10s / Remaining 00:00:00:02"
     ]
    },
    {
     "name": "stdout",
     "output_type": "stream",
     "text": [
      "\r",
      " [*         4%           ] Elapsed 0.10s / Remaining 00:00:00:02"
     ]
    },
    {
     "name": "stdout",
     "output_type": "stream",
     "text": [
      "\r",
      " [*         4%           ] Elapsed 0.11s / Remaining 00:00:00:02"
     ]
    },
    {
     "name": "stdout",
     "output_type": "stream",
     "text": [
      "\r",
      " [*         4%           ] Elapsed 0.11s / Remaining 00:00:00:02"
     ]
    },
    {
     "name": "stdout",
     "output_type": "stream",
     "text": [
      "\r",
      " [*         4%           ] Elapsed 0.11s / Remaining 00:00:00:02"
     ]
    },
    {
     "name": "stdout",
     "output_type": "stream",
     "text": [
      "\r",
      " [*         4%           ] Elapsed 0.12s / Remaining 00:00:00:02"
     ]
    },
    {
     "name": "stdout",
     "output_type": "stream",
     "text": [
      "\r",
      " [*         4%           ] Elapsed 0.12s / Remaining 00:00:00:02"
     ]
    },
    {
     "name": "stdout",
     "output_type": "stream",
     "text": [
      "\r",
      " [*         4%           ] Elapsed 0.12s / Remaining 00:00:00:02"
     ]
    },
    {
     "name": "stdout",
     "output_type": "stream",
     "text": [
      "\r",
      " [*         4%           ] Elapsed 0.13s / Remaining 00:00:00:03"
     ]
    },
    {
     "name": "stdout",
     "output_type": "stream",
     "text": [
      "\r",
      " [*         5%           ] Elapsed 0.13s / Remaining 00:00:00:02"
     ]
    },
    {
     "name": "stdout",
     "output_type": "stream",
     "text": [
      "\r",
      " [*         5%           ] Elapsed 0.13s / Remaining 00:00:00:02"
     ]
    },
    {
     "name": "stdout",
     "output_type": "stream",
     "text": [
      "\r",
      " [*         5%           ] Elapsed 0.14s / Remaining 00:00:00:02"
     ]
    },
    {
     "name": "stdout",
     "output_type": "stream",
     "text": [
      "\r",
      " [*         5%           ] Elapsed 0.14s / Remaining 00:00:00:02"
     ]
    },
    {
     "name": "stdout",
     "output_type": "stream",
     "text": [
      "\r",
      " [*         5%           ] Elapsed 0.14s / Remaining 00:00:00:02"
     ]
    },
    {
     "name": "stdout",
     "output_type": "stream",
     "text": [
      "\r",
      " [*         5%           ] Elapsed 0.15s / Remaining 00:00:00:02"
     ]
    },
    {
     "name": "stdout",
     "output_type": "stream",
     "text": [
      "\r",
      " [*         5%           ] Elapsed 0.15s / Remaining 00:00:00:02"
     ]
    },
    {
     "name": "stdout",
     "output_type": "stream",
     "text": [
      "\r",
      " [*         5%           ] Elapsed 0.15s / Remaining 00:00:00:02"
     ]
    },
    {
     "name": "stdout",
     "output_type": "stream",
     "text": [
      "\r",
      " [*         5%           ] Elapsed 0.15s / Remaining 00:00:00:02"
     ]
    },
    {
     "name": "stdout",
     "output_type": "stream",
     "text": [
      "\r",
      " [*         5%           ] Elapsed 0.16s / Remaining 00:00:00:03"
     ]
    },
    {
     "name": "stdout",
     "output_type": "stream",
     "text": [
      "\r",
      " [*         6%           ] Elapsed 0.16s / Remaining 00:00:00:02"
     ]
    },
    {
     "name": "stdout",
     "output_type": "stream",
     "text": [
      "\r",
      " [*         6%           ] Elapsed 0.16s / Remaining 00:00:00:02"
     ]
    },
    {
     "name": "stdout",
     "output_type": "stream",
     "text": [
      "\r",
      " [*         6%           ] Elapsed 0.17s / Remaining 00:00:00:02"
     ]
    },
    {
     "name": "stdout",
     "output_type": "stream",
     "text": [
      "\r",
      " [*         6%           ] Elapsed 0.17s / Remaining 00:00:00:02"
     ]
    },
    {
     "name": "stdout",
     "output_type": "stream",
     "text": [
      "\r",
      " [*         6%           ] Elapsed 0.17s / Remaining 00:00:00:02"
     ]
    },
    {
     "name": "stdout",
     "output_type": "stream",
     "text": [
      "\r",
      " [*         6%           ] Elapsed 0.18s / Remaining 00:00:00:02"
     ]
    },
    {
     "name": "stdout",
     "output_type": "stream",
     "text": [
      "\r",
      " [*         6%           ] Elapsed 0.18s / Remaining 00:00:00:02"
     ]
    },
    {
     "name": "stdout",
     "output_type": "stream",
     "text": [
      "\r",
      " [*         6%           ] Elapsed 0.18s / Remaining 00:00:00:02"
     ]
    },
    {
     "name": "stdout",
     "output_type": "stream",
     "text": [
      "\r",
      " [*         6%           ] Elapsed 0.19s / Remaining 00:00:00:02"
     ]
    },
    {
     "name": "stdout",
     "output_type": "stream",
     "text": [
      "\r",
      " [*         6%           ] Elapsed 0.19s / Remaining 00:00:00:02"
     ]
    },
    {
     "name": "stdout",
     "output_type": "stream",
     "text": [
      "\r",
      " [**        7%           ] Elapsed 0.19s / Remaining 00:00:00:02"
     ]
    },
    {
     "name": "stdout",
     "output_type": "stream",
     "text": [
      "\r",
      " [**        7%           ] Elapsed 0.19s / Remaining 00:00:00:02"
     ]
    },
    {
     "name": "stdout",
     "output_type": "stream",
     "text": [
      "\r",
      " [**        7%           ] Elapsed 0.20s / Remaining 00:00:00:02"
     ]
    },
    {
     "name": "stdout",
     "output_type": "stream",
     "text": [
      "\r",
      " [**        7%           ] Elapsed 0.20s / Remaining 00:00:00:02"
     ]
    },
    {
     "name": "stdout",
     "output_type": "stream",
     "text": [
      "\r",
      " [**        7%           ] Elapsed 0.20s / Remaining 00:00:00:02"
     ]
    },
    {
     "name": "stdout",
     "output_type": "stream",
     "text": [
      "\r",
      " [**        7%           ] Elapsed 0.21s / Remaining 00:00:00:02"
     ]
    },
    {
     "name": "stdout",
     "output_type": "stream",
     "text": [
      "\r",
      " [**        7%           ] Elapsed 0.21s / Remaining 00:00:00:02"
     ]
    },
    {
     "name": "stdout",
     "output_type": "stream",
     "text": [
      "\r",
      " [**        7%           ] Elapsed 0.21s / Remaining 00:00:00:02"
     ]
    },
    {
     "name": "stdout",
     "output_type": "stream",
     "text": [
      "\r",
      " [**        7%           ] Elapsed 0.22s / Remaining 00:00:00:02"
     ]
    },
    {
     "name": "stdout",
     "output_type": "stream",
     "text": [
      "\r",
      " [**        7%           ] Elapsed 0.22s / Remaining 00:00:00:02"
     ]
    },
    {
     "name": "stdout",
     "output_type": "stream",
     "text": [
      "\r",
      " [**        8%           ] Elapsed 0.22s / Remaining 00:00:00:02"
     ]
    },
    {
     "name": "stdout",
     "output_type": "stream",
     "text": [
      "\r",
      " [**        8%           ] Elapsed 0.22s / Remaining 00:00:00:02"
     ]
    },
    {
     "name": "stdout",
     "output_type": "stream",
     "text": [
      "\r",
      " [**        8%           ] Elapsed 0.23s / Remaining 00:00:00:02"
     ]
    },
    {
     "name": "stdout",
     "output_type": "stream",
     "text": [
      "\r",
      " [**        8%           ] Elapsed 0.23s / Remaining 00:00:00:02"
     ]
    },
    {
     "name": "stdout",
     "output_type": "stream",
     "text": [
      "\r",
      " [**        8%           ] Elapsed 0.23s / Remaining 00:00:00:02"
     ]
    },
    {
     "name": "stdout",
     "output_type": "stream",
     "text": [
      "\r",
      " [**        8%           ] Elapsed 0.24s / Remaining 00:00:00:02"
     ]
    },
    {
     "name": "stdout",
     "output_type": "stream",
     "text": [
      "\r",
      " [**        8%           ] Elapsed 0.24s / Remaining 00:00:00:02"
     ]
    },
    {
     "name": "stdout",
     "output_type": "stream",
     "text": [
      "\r",
      " [**        8%           ] Elapsed 0.24s / Remaining 00:00:00:02"
     ]
    },
    {
     "name": "stdout",
     "output_type": "stream",
     "text": [
      "\r",
      " [**        8%           ] Elapsed 0.24s / Remaining 00:00:00:02"
     ]
    },
    {
     "name": "stdout",
     "output_type": "stream",
     "text": [
      "\r",
      " [**        8%           ] Elapsed 0.25s / Remaining 00:00:00:02"
     ]
    },
    {
     "name": "stdout",
     "output_type": "stream",
     "text": [
      "\r",
      " [**        9%           ] Elapsed 0.25s / Remaining 00:00:00:02"
     ]
    },
    {
     "name": "stdout",
     "output_type": "stream",
     "text": [
      "\r",
      " [**        9%           ] Elapsed 0.25s / Remaining 00:00:00:02"
     ]
    },
    {
     "name": "stdout",
     "output_type": "stream",
     "text": [
      "\r",
      " [**        9%           ] Elapsed 0.26s / Remaining 00:00:00:02"
     ]
    },
    {
     "name": "stdout",
     "output_type": "stream",
     "text": [
      "\r",
      " [**        9%           ] Elapsed 0.26s / Remaining 00:00:00:02"
     ]
    },
    {
     "name": "stdout",
     "output_type": "stream",
     "text": [
      "\r",
      " [**        9%           ] Elapsed 0.26s / Remaining 00:00:00:02"
     ]
    },
    {
     "name": "stdout",
     "output_type": "stream",
     "text": [
      "\r",
      " [**        9%           ] Elapsed 0.27s / Remaining 00:00:00:02"
     ]
    },
    {
     "name": "stdout",
     "output_type": "stream",
     "text": [
      "\r",
      " [**        9%           ] Elapsed 0.27s / Remaining 00:00:00:02"
     ]
    },
    {
     "name": "stdout",
     "output_type": "stream",
     "text": [
      "\r",
      " [**        9%           ] Elapsed 0.27s / Remaining 00:00:00:02"
     ]
    },
    {
     "name": "stdout",
     "output_type": "stream",
     "text": [
      "\r",
      " [**        9%           ] Elapsed 0.27s / Remaining 00:00:00:02"
     ]
    },
    {
     "name": "stdout",
     "output_type": "stream",
     "text": [
      "\r",
      " [**        9%           ] Elapsed 0.28s / Remaining 00:00:00:02"
     ]
    },
    {
     "name": "stdout",
     "output_type": "stream",
     "text": [
      "\r",
      " [**       10%           ] Elapsed 0.28s / Remaining 00:00:00:02"
     ]
    },
    {
     "name": "stdout",
     "output_type": "stream",
     "text": [
      "\r",
      " [**       10%           ] Elapsed 0.28s / Remaining 00:00:00:02"
     ]
    },
    {
     "name": "stdout",
     "output_type": "stream",
     "text": [
      "\r",
      " [**       10%           ] Elapsed 0.29s / Remaining 00:00:00:02"
     ]
    },
    {
     "name": "stdout",
     "output_type": "stream",
     "text": [
      "\r",
      " [**       10%           ] Elapsed 0.29s / Remaining 00:00:00:02"
     ]
    },
    {
     "name": "stdout",
     "output_type": "stream",
     "text": [
      "\r",
      " [**       10%           ] Elapsed 0.29s / Remaining 00:00:00:02"
     ]
    },
    {
     "name": "stdout",
     "output_type": "stream",
     "text": [
      "\r",
      " [**       10%           ] Elapsed 0.30s / Remaining 00:00:00:02"
     ]
    },
    {
     "name": "stdout",
     "output_type": "stream",
     "text": [
      "\r",
      " [**       10%           ] Elapsed 0.30s / Remaining 00:00:00:02"
     ]
    },
    {
     "name": "stdout",
     "output_type": "stream",
     "text": [
      "\r",
      " [**       10%           ] Elapsed 0.30s / Remaining 00:00:00:02"
     ]
    },
    {
     "name": "stdout",
     "output_type": "stream",
     "text": [
      "\r",
      " [**       10%           ] Elapsed 0.31s / Remaining 00:00:00:02"
     ]
    },
    {
     "name": "stdout",
     "output_type": "stream",
     "text": [
      "\r",
      " [**       10%           ] Elapsed 0.31s / Remaining 00:00:00:02"
     ]
    },
    {
     "name": "stdout",
     "output_type": "stream",
     "text": [
      "\r",
      " [***      11%           ] Elapsed 0.31s / Remaining 00:00:00:02"
     ]
    },
    {
     "name": "stdout",
     "output_type": "stream",
     "text": [
      "\r",
      " [***      11%           ] Elapsed 0.32s / Remaining 00:00:00:02"
     ]
    },
    {
     "name": "stdout",
     "output_type": "stream",
     "text": [
      "\r",
      " [***      11%           ] Elapsed 0.32s / Remaining 00:00:00:02"
     ]
    },
    {
     "name": "stdout",
     "output_type": "stream",
     "text": [
      "\r",
      " [***      11%           ] Elapsed 0.32s / Remaining 00:00:00:02"
     ]
    },
    {
     "name": "stdout",
     "output_type": "stream",
     "text": [
      "\r",
      " [***      11%           ] Elapsed 0.32s / Remaining 00:00:00:02"
     ]
    },
    {
     "name": "stdout",
     "output_type": "stream",
     "text": [
      "\r",
      " [***      11%           ] Elapsed 0.33s / Remaining 00:00:00:02"
     ]
    },
    {
     "name": "stdout",
     "output_type": "stream",
     "text": [
      "\r",
      " [***      11%           ] Elapsed 0.33s / Remaining 00:00:00:02"
     ]
    },
    {
     "name": "stdout",
     "output_type": "stream",
     "text": [
      "\r",
      " [***      11%           ] Elapsed 0.34s / Remaining 00:00:00:02"
     ]
    },
    {
     "name": "stdout",
     "output_type": "stream",
     "text": [
      "\r",
      " [***      11%           ] Elapsed 0.34s / Remaining 00:00:00:02"
     ]
    },
    {
     "name": "stdout",
     "output_type": "stream",
     "text": [
      "\r",
      " [***      11%           ] Elapsed 0.34s / Remaining 00:00:00:02"
     ]
    },
    {
     "name": "stdout",
     "output_type": "stream",
     "text": [
      "\r",
      " [***      12%           ] Elapsed 0.34s / Remaining 00:00:00:02"
     ]
    },
    {
     "name": "stdout",
     "output_type": "stream",
     "text": [
      "\r",
      " [***      12%           ] Elapsed 0.35s / Remaining 00:00:00:02"
     ]
    },
    {
     "name": "stdout",
     "output_type": "stream",
     "text": [
      "\r",
      " [***      12%           ] Elapsed 0.35s / Remaining 00:00:00:02"
     ]
    },
    {
     "name": "stdout",
     "output_type": "stream",
     "text": [
      "\r",
      " [***      12%           ] Elapsed 0.35s / Remaining 00:00:00:02"
     ]
    },
    {
     "name": "stdout",
     "output_type": "stream",
     "text": [
      "\r",
      " [***      12%           ] Elapsed 0.36s / Remaining 00:00:00:02"
     ]
    },
    {
     "name": "stdout",
     "output_type": "stream",
     "text": [
      "\r",
      " [***      12%           ] Elapsed 0.36s / Remaining 00:00:00:02"
     ]
    },
    {
     "name": "stdout",
     "output_type": "stream",
     "text": [
      "\r",
      " [***      12%           ] Elapsed 0.36s / Remaining 00:00:00:02"
     ]
    },
    {
     "name": "stdout",
     "output_type": "stream",
     "text": [
      "\r",
      " [***      12%           ] Elapsed 0.37s / Remaining 00:00:00:02"
     ]
    },
    {
     "name": "stdout",
     "output_type": "stream",
     "text": [
      "\r",
      " [***      12%           ] Elapsed 0.37s / Remaining 00:00:00:02"
     ]
    },
    {
     "name": "stdout",
     "output_type": "stream",
     "text": [
      "\r",
      " [***      12%           ] Elapsed 0.37s / Remaining 00:00:00:02"
     ]
    },
    {
     "name": "stdout",
     "output_type": "stream",
     "text": [
      "\r",
      " [***      13%           ] Elapsed 0.38s / Remaining 00:00:00:02"
     ]
    },
    {
     "name": "stdout",
     "output_type": "stream",
     "text": [
      "\r",
      " [***      13%           ] Elapsed 0.38s / Remaining 00:00:00:02"
     ]
    },
    {
     "name": "stdout",
     "output_type": "stream",
     "text": [
      "\r",
      " [***      13%           ] Elapsed 0.38s / Remaining 00:00:00:02"
     ]
    },
    {
     "name": "stdout",
     "output_type": "stream",
     "text": [
      "\r",
      " [***      13%           ] Elapsed 0.38s / Remaining 00:00:00:02"
     ]
    },
    {
     "name": "stdout",
     "output_type": "stream",
     "text": [
      "\r",
      " [***      13%           ] Elapsed 0.39s / Remaining 00:00:00:02"
     ]
    },
    {
     "name": "stdout",
     "output_type": "stream",
     "text": [
      "\r",
      " [***      13%           ] Elapsed 0.39s / Remaining 00:00:00:02"
     ]
    },
    {
     "name": "stdout",
     "output_type": "stream",
     "text": [
      "\r",
      " [***      13%           ] Elapsed 0.39s / Remaining 00:00:00:02"
     ]
    },
    {
     "name": "stdout",
     "output_type": "stream",
     "text": [
      "\r",
      " [***      13%           ] Elapsed 0.39s / Remaining 00:00:00:02"
     ]
    },
    {
     "name": "stdout",
     "output_type": "stream",
     "text": [
      "\r",
      " [***      13%           ] Elapsed 0.40s / Remaining 00:00:00:02"
     ]
    },
    {
     "name": "stdout",
     "output_type": "stream",
     "text": [
      "\r",
      " [***      13%           ] Elapsed 0.40s / Remaining 00:00:00:02"
     ]
    },
    {
     "name": "stdout",
     "output_type": "stream",
     "text": [
      "\r",
      " [***      14%           ] Elapsed 0.40s / Remaining 00:00:00:02"
     ]
    },
    {
     "name": "stdout",
     "output_type": "stream",
     "text": [
      "\r",
      " [***      14%           ] Elapsed 0.41s / Remaining 00:00:00:02"
     ]
    },
    {
     "name": "stdout",
     "output_type": "stream",
     "text": [
      "\r",
      " [***      14%           ] Elapsed 0.41s / Remaining 00:00:00:02"
     ]
    },
    {
     "name": "stdout",
     "output_type": "stream",
     "text": [
      "\r",
      " [***      14%           ] Elapsed 0.41s / Remaining 00:00:00:02"
     ]
    },
    {
     "name": "stdout",
     "output_type": "stream",
     "text": [
      "\r",
      " [***      14%           ] Elapsed 0.41s / Remaining 00:00:00:02"
     ]
    },
    {
     "name": "stdout",
     "output_type": "stream",
     "text": [
      "\r",
      " [***      14%           ] Elapsed 0.42s / Remaining 00:00:00:02"
     ]
    },
    {
     "name": "stdout",
     "output_type": "stream",
     "text": [
      "\r",
      " [***      14%           ] Elapsed 0.42s / Remaining 00:00:00:02"
     ]
    },
    {
     "name": "stdout",
     "output_type": "stream",
     "text": [
      "\r",
      " [***      14%           ] Elapsed 0.42s / Remaining 00:00:00:02"
     ]
    },
    {
     "name": "stdout",
     "output_type": "stream",
     "text": [
      "\r",
      " [***      14%           ] Elapsed 0.43s / Remaining 00:00:00:02"
     ]
    },
    {
     "name": "stdout",
     "output_type": "stream",
     "text": [
      "\r",
      " [***      14%           ] Elapsed 0.43s / Remaining 00:00:00:02"
     ]
    },
    {
     "name": "stdout",
     "output_type": "stream",
     "text": [
      "\r",
      " [***      15%           ] Elapsed 0.43s / Remaining 00:00:00:02"
     ]
    },
    {
     "name": "stdout",
     "output_type": "stream",
     "text": [
      "\r",
      " [***      15%           ] Elapsed 0.44s / Remaining 00:00:00:02"
     ]
    },
    {
     "name": "stdout",
     "output_type": "stream",
     "text": [
      "\r",
      " [***      15%           ] Elapsed 0.44s / Remaining 00:00:00:02"
     ]
    },
    {
     "name": "stdout",
     "output_type": "stream",
     "text": [
      "\r",
      " [***      15%           ] Elapsed 0.44s / Remaining 00:00:00:02"
     ]
    },
    {
     "name": "stdout",
     "output_type": "stream",
     "text": [
      "\r",
      " [***      15%           ] Elapsed 0.44s / Remaining 00:00:00:02"
     ]
    },
    {
     "name": "stdout",
     "output_type": "stream",
     "text": [
      "\r",
      " [***      15%           ] Elapsed 0.45s / Remaining 00:00:00:02"
     ]
    },
    {
     "name": "stdout",
     "output_type": "stream",
     "text": [
      "\r",
      " [***      15%           ] Elapsed 0.45s / Remaining 00:00:00:02"
     ]
    },
    {
     "name": "stdout",
     "output_type": "stream",
     "text": [
      "\r",
      " [***      15%           ] Elapsed 0.46s / Remaining 00:00:00:02"
     ]
    },
    {
     "name": "stdout",
     "output_type": "stream",
     "text": [
      "\r",
      " [***      15%           ] Elapsed 0.46s / Remaining 00:00:00:02"
     ]
    },
    {
     "name": "stdout",
     "output_type": "stream",
     "text": [
      "\r",
      " [***      15%           ] Elapsed 0.46s / Remaining 00:00:00:02"
     ]
    },
    {
     "name": "stdout",
     "output_type": "stream",
     "text": [
      "\r",
      " [****     16%           ] Elapsed 0.46s / Remaining 00:00:00:02"
     ]
    },
    {
     "name": "stdout",
     "output_type": "stream",
     "text": [
      "\r",
      " [****     16%           ] Elapsed 0.47s / Remaining 00:00:00:02"
     ]
    },
    {
     "name": "stdout",
     "output_type": "stream",
     "text": [
      "\r",
      " [****     16%           ] Elapsed 0.47s / Remaining 00:00:00:02"
     ]
    },
    {
     "name": "stdout",
     "output_type": "stream",
     "text": [
      "\r",
      " [****     16%           ] Elapsed 0.47s / Remaining 00:00:00:02"
     ]
    },
    {
     "name": "stdout",
     "output_type": "stream",
     "text": [
      "\r",
      " [****     16%           ] Elapsed 0.48s / Remaining 00:00:00:02"
     ]
    },
    {
     "name": "stdout",
     "output_type": "stream",
     "text": [
      "\r",
      " [****     16%           ] Elapsed 0.48s / Remaining 00:00:00:02"
     ]
    },
    {
     "name": "stdout",
     "output_type": "stream",
     "text": [
      "\r",
      " [****     16%           ] Elapsed 0.48s / Remaining 00:00:00:02"
     ]
    },
    {
     "name": "stdout",
     "output_type": "stream",
     "text": [
      "\r",
      " [****     16%           ] Elapsed 0.49s / Remaining 00:00:00:02"
     ]
    },
    {
     "name": "stdout",
     "output_type": "stream",
     "text": [
      "\r",
      " [****     16%           ] Elapsed 0.49s / Remaining 00:00:00:02"
     ]
    },
    {
     "name": "stdout",
     "output_type": "stream",
     "text": [
      "\r",
      " [****     16%           ] Elapsed 0.49s / Remaining 00:00:00:02"
     ]
    },
    {
     "name": "stdout",
     "output_type": "stream",
     "text": [
      "\r",
      " [****     17%           ] Elapsed 0.49s / Remaining 00:00:00:02"
     ]
    },
    {
     "name": "stdout",
     "output_type": "stream",
     "text": [
      "\r",
      " [****     17%           ] Elapsed 0.50s / Remaining 00:00:00:02"
     ]
    },
    {
     "name": "stdout",
     "output_type": "stream",
     "text": [
      "\r",
      " [****     17%           ] Elapsed 0.50s / Remaining 00:00:00:02"
     ]
    },
    {
     "name": "stdout",
     "output_type": "stream",
     "text": [
      "\r",
      " [****     17%           ] Elapsed 0.50s / Remaining 00:00:00:02"
     ]
    },
    {
     "name": "stdout",
     "output_type": "stream",
     "text": [
      "\r",
      " [****     17%           ] Elapsed 0.51s / Remaining 00:00:00:02"
     ]
    },
    {
     "name": "stdout",
     "output_type": "stream",
     "text": [
      "\r",
      " [****     17%           ] Elapsed 0.51s / Remaining 00:00:00:02"
     ]
    },
    {
     "name": "stdout",
     "output_type": "stream",
     "text": [
      "\r",
      " [****     17%           ] Elapsed 0.51s / Remaining 00:00:00:02"
     ]
    },
    {
     "name": "stdout",
     "output_type": "stream",
     "text": [
      "\r",
      " [****     17%           ] Elapsed 0.52s / Remaining 00:00:00:02"
     ]
    },
    {
     "name": "stdout",
     "output_type": "stream",
     "text": [
      "\r",
      " [****     17%           ] Elapsed 0.52s / Remaining 00:00:00:02"
     ]
    },
    {
     "name": "stdout",
     "output_type": "stream",
     "text": [
      "\r",
      " [****     17%           ] Elapsed 0.52s / Remaining 00:00:00:02"
     ]
    },
    {
     "name": "stdout",
     "output_type": "stream",
     "text": [
      "\r",
      " [****     18%           ] Elapsed 0.53s / Remaining 00:00:00:02"
     ]
    },
    {
     "name": "stdout",
     "output_type": "stream",
     "text": [
      "\r",
      " [****     18%           ] Elapsed 0.53s / Remaining 00:00:00:02"
     ]
    },
    {
     "name": "stdout",
     "output_type": "stream",
     "text": [
      "\r",
      " [****     18%           ] Elapsed 0.53s / Remaining 00:00:00:02"
     ]
    },
    {
     "name": "stdout",
     "output_type": "stream",
     "text": [
      "\r",
      " [****     18%           ] Elapsed 0.54s / Remaining 00:00:00:02"
     ]
    },
    {
     "name": "stdout",
     "output_type": "stream",
     "text": [
      "\r",
      " [****     18%           ] Elapsed 0.54s / Remaining 00:00:00:02"
     ]
    },
    {
     "name": "stdout",
     "output_type": "stream",
     "text": [
      "\r",
      " [****     18%           ] Elapsed 0.54s / Remaining 00:00:00:02"
     ]
    },
    {
     "name": "stdout",
     "output_type": "stream",
     "text": [
      "\r",
      " [****     18%           ] Elapsed 0.54s / Remaining 00:00:00:02"
     ]
    },
    {
     "name": "stdout",
     "output_type": "stream",
     "text": [
      "\r",
      " [****     18%           ] Elapsed 0.55s / Remaining 00:00:00:02"
     ]
    },
    {
     "name": "stdout",
     "output_type": "stream",
     "text": [
      "\r",
      " [****     18%           ] Elapsed 0.55s / Remaining 00:00:00:02"
     ]
    },
    {
     "name": "stdout",
     "output_type": "stream",
     "text": [
      "\r",
      " [****     18%           ] Elapsed 0.55s / Remaining 00:00:00:02"
     ]
    },
    {
     "name": "stdout",
     "output_type": "stream",
     "text": [
      "\r",
      " [****     19%           ] Elapsed 0.56s / Remaining 00:00:00:02"
     ]
    },
    {
     "name": "stdout",
     "output_type": "stream",
     "text": [
      "\r",
      " [****     19%           ] Elapsed 0.56s / Remaining 00:00:00:02"
     ]
    },
    {
     "name": "stdout",
     "output_type": "stream",
     "text": [
      "\r",
      " [****     19%           ] Elapsed 0.56s / Remaining 00:00:00:02"
     ]
    },
    {
     "name": "stdout",
     "output_type": "stream",
     "text": [
      "\r",
      " [****     19%           ] Elapsed 0.57s / Remaining 00:00:00:02"
     ]
    },
    {
     "name": "stdout",
     "output_type": "stream",
     "text": [
      "\r",
      " [****     19%           ] Elapsed 0.57s / Remaining 00:00:00:02"
     ]
    },
    {
     "name": "stdout",
     "output_type": "stream",
     "text": [
      "\r",
      " [****     19%           ] Elapsed 0.57s / Remaining 00:00:00:02"
     ]
    },
    {
     "name": "stdout",
     "output_type": "stream",
     "text": [
      "\r",
      " [****     19%           ] Elapsed 0.58s / Remaining 00:00:00:02"
     ]
    },
    {
     "name": "stdout",
     "output_type": "stream",
     "text": [
      "\r",
      " [****     19%           ] Elapsed 0.58s / Remaining 00:00:00:02"
     ]
    },
    {
     "name": "stdout",
     "output_type": "stream",
     "text": [
      "\r",
      " [****     19%           ] Elapsed 0.58s / Remaining 00:00:00:02"
     ]
    },
    {
     "name": "stdout",
     "output_type": "stream",
     "text": [
      "\r",
      " [****     19%           ] Elapsed 0.59s / Remaining 00:00:00:02"
     ]
    },
    {
     "name": "stdout",
     "output_type": "stream",
     "text": [
      "\r",
      " [*****    20%           ] Elapsed 0.59s / Remaining 00:00:00:02"
     ]
    },
    {
     "name": "stdout",
     "output_type": "stream",
     "text": [
      "\r",
      " [*****    20%           ] Elapsed 0.59s / Remaining 00:00:00:02"
     ]
    },
    {
     "name": "stdout",
     "output_type": "stream",
     "text": [
      "\r",
      " [*****    20%           ] Elapsed 0.59s / Remaining 00:00:00:02"
     ]
    },
    {
     "name": "stdout",
     "output_type": "stream",
     "text": [
      "\r",
      " [*****    20%           ] Elapsed 0.60s / Remaining 00:00:00:02"
     ]
    },
    {
     "name": "stdout",
     "output_type": "stream",
     "text": [
      "\r",
      " [*****    20%           ] Elapsed 0.60s / Remaining 00:00:00:02"
     ]
    },
    {
     "name": "stdout",
     "output_type": "stream",
     "text": [
      "\r",
      " [*****    20%           ] Elapsed 0.60s / Remaining 00:00:00:02"
     ]
    },
    {
     "name": "stdout",
     "output_type": "stream",
     "text": [
      "\r",
      " [*****    20%           ] Elapsed 0.61s / Remaining 00:00:00:02"
     ]
    },
    {
     "name": "stdout",
     "output_type": "stream",
     "text": [
      "\r",
      " [*****    20%           ] Elapsed 0.61s / Remaining 00:00:00:02"
     ]
    },
    {
     "name": "stdout",
     "output_type": "stream",
     "text": [
      "\r",
      " [*****    20%           ] Elapsed 0.61s / Remaining 00:00:00:02"
     ]
    },
    {
     "name": "stdout",
     "output_type": "stream",
     "text": [
      "\r",
      " [*****    20%           ] Elapsed 0.62s / Remaining 00:00:00:02"
     ]
    },
    {
     "name": "stdout",
     "output_type": "stream",
     "text": [
      "\r",
      " [*****    21%           ] Elapsed 0.62s / Remaining 00:00:00:02"
     ]
    },
    {
     "name": "stdout",
     "output_type": "stream",
     "text": [
      "\r",
      " [*****    21%           ] Elapsed 0.62s / Remaining 00:00:00:02"
     ]
    },
    {
     "name": "stdout",
     "output_type": "stream",
     "text": [
      "\r",
      " [*****    21%           ] Elapsed 0.62s / Remaining 00:00:00:02"
     ]
    },
    {
     "name": "stdout",
     "output_type": "stream",
     "text": [
      "\r",
      " [*****    21%           ] Elapsed 0.63s / Remaining 00:00:00:02"
     ]
    },
    {
     "name": "stdout",
     "output_type": "stream",
     "text": [
      "\r",
      " [*****    21%           ] Elapsed 0.63s / Remaining 00:00:00:02"
     ]
    },
    {
     "name": "stdout",
     "output_type": "stream",
     "text": [
      "\r",
      " [*****    21%           ] Elapsed 0.63s / Remaining 00:00:00:02"
     ]
    },
    {
     "name": "stdout",
     "output_type": "stream",
     "text": [
      "\r",
      " [*****    21%           ] Elapsed 0.64s / Remaining 00:00:00:02"
     ]
    },
    {
     "name": "stdout",
     "output_type": "stream",
     "text": [
      "\r",
      " [*****    21%           ] Elapsed 0.64s / Remaining 00:00:00:02"
     ]
    },
    {
     "name": "stdout",
     "output_type": "stream",
     "text": [
      "\r",
      " [*****    21%           ] Elapsed 0.64s / Remaining 00:00:00:02"
     ]
    },
    {
     "name": "stdout",
     "output_type": "stream",
     "text": [
      "\r",
      " [*****    21%           ] Elapsed 0.64s / Remaining 00:00:00:02"
     ]
    },
    {
     "name": "stdout",
     "output_type": "stream",
     "text": [
      "\r",
      " [*****    22%           ] Elapsed 0.65s / Remaining 00:00:00:02"
     ]
    },
    {
     "name": "stdout",
     "output_type": "stream",
     "text": [
      "\r",
      " [*****    22%           ] Elapsed 0.65s / Remaining 00:00:00:02"
     ]
    },
    {
     "name": "stdout",
     "output_type": "stream",
     "text": [
      "\r",
      " [*****    22%           ] Elapsed 0.65s / Remaining 00:00:00:02"
     ]
    },
    {
     "name": "stdout",
     "output_type": "stream",
     "text": [
      "\r",
      " [*****    22%           ] Elapsed 0.66s / Remaining 00:00:00:02"
     ]
    },
    {
     "name": "stdout",
     "output_type": "stream",
     "text": [
      "\r",
      " [*****    22%           ] Elapsed 0.66s / Remaining 00:00:00:02"
     ]
    },
    {
     "name": "stdout",
     "output_type": "stream",
     "text": [
      "\r",
      " [*****    22%           ] Elapsed 0.66s / Remaining 00:00:00:02"
     ]
    },
    {
     "name": "stdout",
     "output_type": "stream",
     "text": [
      "\r",
      " [*****    22%           ] Elapsed 0.66s / Remaining 00:00:00:02"
     ]
    },
    {
     "name": "stdout",
     "output_type": "stream",
     "text": [
      "\r",
      " [*****    22%           ] Elapsed 0.67s / Remaining 00:00:00:02"
     ]
    },
    {
     "name": "stdout",
     "output_type": "stream",
     "text": [
      "\r",
      " [*****    22%           ] Elapsed 0.67s / Remaining 00:00:00:02"
     ]
    },
    {
     "name": "stdout",
     "output_type": "stream",
     "text": [
      "\r",
      " [*****    22%           ] Elapsed 0.67s / Remaining 00:00:00:02"
     ]
    },
    {
     "name": "stdout",
     "output_type": "stream",
     "text": [
      "\r",
      " [*****    23%           ] Elapsed 0.68s / Remaining 00:00:00:02"
     ]
    },
    {
     "name": "stdout",
     "output_type": "stream",
     "text": [
      "\r",
      " [*****    23%           ] Elapsed 0.68s / Remaining 00:00:00:02"
     ]
    },
    {
     "name": "stdout",
     "output_type": "stream",
     "text": [
      "\r",
      " [*****    23%           ] Elapsed 0.68s / Remaining 00:00:00:02"
     ]
    },
    {
     "name": "stdout",
     "output_type": "stream",
     "text": [
      "\r",
      " [*****    23%           ] Elapsed 0.69s / Remaining 00:00:00:02"
     ]
    },
    {
     "name": "stdout",
     "output_type": "stream",
     "text": [
      "\r",
      " [*****    23%           ] Elapsed 0.69s / Remaining 00:00:00:02"
     ]
    },
    {
     "name": "stdout",
     "output_type": "stream",
     "text": [
      "\r",
      " [*****    23%           ] Elapsed 0.69s / Remaining 00:00:00:02"
     ]
    },
    {
     "name": "stdout",
     "output_type": "stream",
     "text": [
      "\r",
      " [*****    23%           ] Elapsed 0.69s / Remaining 00:00:00:02"
     ]
    },
    {
     "name": "stdout",
     "output_type": "stream",
     "text": [
      "\r",
      " [*****    23%           ] Elapsed 0.70s / Remaining 00:00:00:02"
     ]
    },
    {
     "name": "stdout",
     "output_type": "stream",
     "text": [
      "\r",
      " [*****    23%           ] Elapsed 0.70s / Remaining 00:00:00:02"
     ]
    },
    {
     "name": "stdout",
     "output_type": "stream",
     "text": [
      "\r",
      " [*****    23%           ] Elapsed 0.70s / Remaining 00:00:00:02"
     ]
    },
    {
     "name": "stdout",
     "output_type": "stream",
     "text": [
      "\r",
      " [******   24%           ] Elapsed 0.71s / Remaining 00:00:00:02"
     ]
    },
    {
     "name": "stdout",
     "output_type": "stream",
     "text": [
      "\r",
      " [******   24%           ] Elapsed 0.71s / Remaining 00:00:00:02"
     ]
    },
    {
     "name": "stdout",
     "output_type": "stream",
     "text": [
      "\r",
      " [******   24%           ] Elapsed 0.71s / Remaining 00:00:00:02"
     ]
    },
    {
     "name": "stdout",
     "output_type": "stream",
     "text": [
      "\r",
      " [******   24%           ] Elapsed 0.71s / Remaining 00:00:00:02"
     ]
    },
    {
     "name": "stdout",
     "output_type": "stream",
     "text": [
      "\r",
      " [******   24%           ] Elapsed 0.72s / Remaining 00:00:00:02"
     ]
    },
    {
     "name": "stdout",
     "output_type": "stream",
     "text": [
      "\r",
      " [******   24%           ] Elapsed 0.72s / Remaining 00:00:00:02"
     ]
    },
    {
     "name": "stdout",
     "output_type": "stream",
     "text": [
      "\r",
      " [******   24%           ] Elapsed 0.73s / Remaining 00:00:00:02"
     ]
    },
    {
     "name": "stdout",
     "output_type": "stream",
     "text": [
      "\r",
      " [******   24%           ] Elapsed 0.73s / Remaining 00:00:00:02"
     ]
    },
    {
     "name": "stdout",
     "output_type": "stream",
     "text": [
      "\r",
      " [******   24%           ] Elapsed 0.73s / Remaining 00:00:00:02"
     ]
    },
    {
     "name": "stdout",
     "output_type": "stream",
     "text": [
      "\r",
      " [******   24%           ] Elapsed 0.73s / Remaining 00:00:00:02"
     ]
    },
    {
     "name": "stdout",
     "output_type": "stream",
     "text": [
      "\r",
      " [******   25%           ] Elapsed 0.74s / Remaining 00:00:00:02"
     ]
    },
    {
     "name": "stdout",
     "output_type": "stream",
     "text": [
      "\r",
      " [******   25%           ] Elapsed 0.74s / Remaining 00:00:00:02"
     ]
    },
    {
     "name": "stdout",
     "output_type": "stream",
     "text": [
      "\r",
      " [******   25%           ] Elapsed 0.74s / Remaining 00:00:00:02"
     ]
    },
    {
     "name": "stdout",
     "output_type": "stream",
     "text": [
      "\r",
      " [******   25%           ] Elapsed 0.75s / Remaining 00:00:00:02"
     ]
    },
    {
     "name": "stdout",
     "output_type": "stream",
     "text": [
      "\r",
      " [******   25%           ] Elapsed 0.75s / Remaining 00:00:00:02"
     ]
    },
    {
     "name": "stdout",
     "output_type": "stream",
     "text": [
      "\r",
      " [******   25%           ] Elapsed 0.75s / Remaining 00:00:00:02"
     ]
    },
    {
     "name": "stdout",
     "output_type": "stream",
     "text": [
      "\r",
      " [******   25%           ] Elapsed 0.76s / Remaining 00:00:00:02"
     ]
    },
    {
     "name": "stdout",
     "output_type": "stream",
     "text": [
      "\r",
      " [******   25%           ] Elapsed 0.76s / Remaining 00:00:00:02"
     ]
    },
    {
     "name": "stdout",
     "output_type": "stream",
     "text": [
      "\r",
      " [******   25%           ] Elapsed 0.76s / Remaining 00:00:00:02"
     ]
    },
    {
     "name": "stdout",
     "output_type": "stream",
     "text": [
      "\r",
      " [******   25%           ] Elapsed 0.77s / Remaining 00:00:00:02"
     ]
    },
    {
     "name": "stdout",
     "output_type": "stream",
     "text": [
      "\r",
      " [******   26%           ] Elapsed 0.77s / Remaining 00:00:00:02"
     ]
    },
    {
     "name": "stdout",
     "output_type": "stream",
     "text": [
      "\r",
      " [******   26%           ] Elapsed 0.77s / Remaining 00:00:00:02"
     ]
    },
    {
     "name": "stdout",
     "output_type": "stream",
     "text": [
      "\r",
      " [******   26%           ] Elapsed 0.78s / Remaining 00:00:00:02"
     ]
    },
    {
     "name": "stdout",
     "output_type": "stream",
     "text": [
      "\r",
      " [******   26%           ] Elapsed 0.78s / Remaining 00:00:00:02"
     ]
    },
    {
     "name": "stdout",
     "output_type": "stream",
     "text": [
      "\r",
      " [******   26%           ] Elapsed 0.78s / Remaining 00:00:00:02"
     ]
    },
    {
     "name": "stdout",
     "output_type": "stream",
     "text": [
      "\r",
      " [******   26%           ] Elapsed 0.78s / Remaining 00:00:00:02"
     ]
    },
    {
     "name": "stdout",
     "output_type": "stream",
     "text": [
      "\r",
      " [******   26%           ] Elapsed 0.79s / Remaining 00:00:00:02"
     ]
    },
    {
     "name": "stdout",
     "output_type": "stream",
     "text": [
      "\r",
      " [******   26%           ] Elapsed 0.79s / Remaining 00:00:00:02"
     ]
    },
    {
     "name": "stdout",
     "output_type": "stream",
     "text": [
      "\r",
      " [******   26%           ] Elapsed 0.79s / Remaining 00:00:00:02"
     ]
    },
    {
     "name": "stdout",
     "output_type": "stream",
     "text": [
      "\r",
      " [******   26%           ] Elapsed 0.80s / Remaining 00:00:00:02"
     ]
    },
    {
     "name": "stdout",
     "output_type": "stream",
     "text": [
      "\r",
      " [******   27%           ] Elapsed 0.80s / Remaining 00:00:00:02"
     ]
    },
    {
     "name": "stdout",
     "output_type": "stream",
     "text": [
      "\r",
      " [******   27%           ] Elapsed 0.80s / Remaining 00:00:00:02"
     ]
    },
    {
     "name": "stdout",
     "output_type": "stream",
     "text": [
      "\r",
      " [******   27%           ] Elapsed 0.80s / Remaining 00:00:00:02"
     ]
    },
    {
     "name": "stdout",
     "output_type": "stream",
     "text": [
      "\r",
      " [******   27%           ] Elapsed 0.81s / Remaining 00:00:00:02"
     ]
    },
    {
     "name": "stdout",
     "output_type": "stream",
     "text": [
      "\r",
      " [******   27%           ] Elapsed 0.81s / Remaining 00:00:00:02"
     ]
    },
    {
     "name": "stdout",
     "output_type": "stream",
     "text": [
      "\r",
      " [******   27%           ] Elapsed 0.81s / Remaining 00:00:00:02"
     ]
    },
    {
     "name": "stdout",
     "output_type": "stream",
     "text": [
      "\r",
      " [******   27%           ] Elapsed 0.82s / Remaining 00:00:00:02"
     ]
    },
    {
     "name": "stdout",
     "output_type": "stream",
     "text": [
      "\r"
     ]
    },
    {
     "name": "stdout",
     "output_type": "stream",
     "text": [
      " [******   27%           ] Elapsed 0.82s / Remaining 00:00:00:02"
     ]
    },
    {
     "name": "stdout",
     "output_type": "stream",
     "text": [
      "\r",
      " [******   27%           ] Elapsed 0.82s / Remaining 00:00:00:02"
     ]
    },
    {
     "name": "stdout",
     "output_type": "stream",
     "text": [
      "\r",
      " [******   27%           ] Elapsed 0.82s / Remaining 00:00:00:02"
     ]
    },
    {
     "name": "stdout",
     "output_type": "stream",
     "text": [
      "\r",
      " [******   28%           ] Elapsed 0.83s / Remaining 00:00:00:02"
     ]
    },
    {
     "name": "stdout",
     "output_type": "stream",
     "text": [
      "\r",
      " [******   28%           ] Elapsed 0.83s / Remaining 00:00:00:02"
     ]
    },
    {
     "name": "stdout",
     "output_type": "stream",
     "text": [
      "\r",
      " [******   28%           ] Elapsed 0.83s / Remaining 00:00:00:02"
     ]
    },
    {
     "name": "stdout",
     "output_type": "stream",
     "text": [
      "\r",
      " [******   28%           ] Elapsed 0.84s / Remaining 00:00:00:02"
     ]
    },
    {
     "name": "stdout",
     "output_type": "stream",
     "text": [
      "\r",
      " [******   28%           ] Elapsed 0.84s / Remaining 00:00:00:02"
     ]
    },
    {
     "name": "stdout",
     "output_type": "stream",
     "text": [
      "\r",
      " [******   28%           ] Elapsed 0.84s / Remaining 00:00:00:02"
     ]
    },
    {
     "name": "stdout",
     "output_type": "stream",
     "text": [
      "\r",
      " [******   28%           ] Elapsed 0.85s / Remaining 00:00:00:02"
     ]
    },
    {
     "name": "stdout",
     "output_type": "stream",
     "text": [
      "\r",
      " [******   28%           ] Elapsed 0.85s / Remaining 00:00:00:02"
     ]
    },
    {
     "name": "stdout",
     "output_type": "stream",
     "text": [
      "\r",
      " [******   28%           ] Elapsed 0.85s / Remaining 00:00:00:02"
     ]
    },
    {
     "name": "stdout",
     "output_type": "stream",
     "text": [
      "\r",
      " [******   28%           ] Elapsed 0.85s / Remaining 00:00:00:02"
     ]
    },
    {
     "name": "stdout",
     "output_type": "stream",
     "text": [
      "\r",
      " [*******  29%           ] Elapsed 0.86s / Remaining 00:00:00:02"
     ]
    },
    {
     "name": "stdout",
     "output_type": "stream",
     "text": [
      "\r",
      " [*******  29%           ] Elapsed 0.86s / Remaining 00:00:00:02"
     ]
    },
    {
     "name": "stdout",
     "output_type": "stream",
     "text": [
      "\r",
      " [*******  29%           ] Elapsed 0.86s / Remaining 00:00:00:02"
     ]
    },
    {
     "name": "stdout",
     "output_type": "stream",
     "text": [
      "\r",
      " [*******  29%           ] Elapsed 0.87s / Remaining 00:00:00:02"
     ]
    },
    {
     "name": "stdout",
     "output_type": "stream",
     "text": [
      "\r",
      " [*******  29%           ] Elapsed 0.87s / Remaining 00:00:00:02"
     ]
    },
    {
     "name": "stdout",
     "output_type": "stream",
     "text": [
      "\r",
      " [*******  29%           ] Elapsed 0.87s / Remaining 00:00:00:02"
     ]
    },
    {
     "name": "stdout",
     "output_type": "stream",
     "text": [
      "\r",
      " [*******  29%           ] Elapsed 0.88s / Remaining 00:00:00:02"
     ]
    },
    {
     "name": "stdout",
     "output_type": "stream",
     "text": [
      "\r",
      " [*******  29%           ] Elapsed 0.88s / Remaining 00:00:00:02"
     ]
    },
    {
     "name": "stdout",
     "output_type": "stream",
     "text": [
      "\r",
      " [*******  29%           ] Elapsed 0.88s / Remaining 00:00:00:02"
     ]
    },
    {
     "name": "stdout",
     "output_type": "stream",
     "text": [
      "\r",
      " [*******  29%           ] Elapsed 0.88s / Remaining 00:00:00:02"
     ]
    },
    {
     "name": "stdout",
     "output_type": "stream",
     "text": [
      "\r",
      " [*******  30%           ] Elapsed 0.89s / Remaining 00:00:00:02"
     ]
    },
    {
     "name": "stdout",
     "output_type": "stream",
     "text": [
      "\r",
      " [*******  30%           ] Elapsed 0.89s / Remaining 00:00:00:02"
     ]
    },
    {
     "name": "stdout",
     "output_type": "stream",
     "text": [
      "\r",
      " [*******  30%           ] Elapsed 0.89s / Remaining 00:00:00:02"
     ]
    },
    {
     "name": "stdout",
     "output_type": "stream",
     "text": [
      "\r",
      " [*******  30%           ] Elapsed 0.90s / Remaining 00:00:00:02"
     ]
    },
    {
     "name": "stdout",
     "output_type": "stream",
     "text": [
      "\r",
      " [*******  30%           ] Elapsed 0.90s / Remaining 00:00:00:02"
     ]
    },
    {
     "name": "stdout",
     "output_type": "stream",
     "text": [
      "\r",
      " [*******  30%           ] Elapsed 0.90s / Remaining 00:00:00:02"
     ]
    },
    {
     "name": "stdout",
     "output_type": "stream",
     "text": [
      "\r",
      " [*******  30%           ] Elapsed 0.91s / Remaining 00:00:00:02"
     ]
    },
    {
     "name": "stdout",
     "output_type": "stream",
     "text": [
      "\r",
      " [*******  30%           ] Elapsed 0.91s / Remaining 00:00:00:02"
     ]
    },
    {
     "name": "stdout",
     "output_type": "stream",
     "text": [
      "\r",
      " [*******  30%           ] Elapsed 0.91s / Remaining 00:00:00:02"
     ]
    },
    {
     "name": "stdout",
     "output_type": "stream",
     "text": [
      "\r",
      " [*******  30%           ] Elapsed 0.91s / Remaining 00:00:00:02"
     ]
    },
    {
     "name": "stdout",
     "output_type": "stream",
     "text": [
      "\r",
      " [*******  31%           ] Elapsed 0.92s / Remaining 00:00:00:02"
     ]
    },
    {
     "name": "stdout",
     "output_type": "stream",
     "text": [
      "\r",
      " [*******  31%           ] Elapsed 0.92s / Remaining 00:00:00:02"
     ]
    },
    {
     "name": "stdout",
     "output_type": "stream",
     "text": [
      "\r",
      " [*******  31%           ] Elapsed 0.92s / Remaining 00:00:00:02"
     ]
    },
    {
     "name": "stdout",
     "output_type": "stream",
     "text": [
      "\r",
      " [*******  31%           ] Elapsed 0.93s / Remaining 00:00:00:02"
     ]
    },
    {
     "name": "stdout",
     "output_type": "stream",
     "text": [
      "\r",
      " [*******  31%           ] Elapsed 0.93s / Remaining 00:00:00:02"
     ]
    },
    {
     "name": "stdout",
     "output_type": "stream",
     "text": [
      "\r",
      " [*******  31%           ] Elapsed 0.93s / Remaining 00:00:00:02"
     ]
    },
    {
     "name": "stdout",
     "output_type": "stream",
     "text": [
      "\r",
      " [*******  31%           ] Elapsed 0.94s / Remaining 00:00:00:02"
     ]
    },
    {
     "name": "stdout",
     "output_type": "stream",
     "text": [
      "\r",
      " [*******  31%           ] Elapsed 0.94s / Remaining 00:00:00:02"
     ]
    },
    {
     "name": "stdout",
     "output_type": "stream",
     "text": [
      "\r",
      " [*******  31%           ] Elapsed 0.94s / Remaining 00:00:00:02"
     ]
    },
    {
     "name": "stdout",
     "output_type": "stream",
     "text": [
      "\r",
      " [*******  31%           ] Elapsed 0.95s / Remaining 00:00:00:02"
     ]
    },
    {
     "name": "stdout",
     "output_type": "stream",
     "text": [
      "\r",
      " [*******  32%           ] Elapsed 0.95s / Remaining 00:00:00:02"
     ]
    },
    {
     "name": "stdout",
     "output_type": "stream",
     "text": [
      "\r",
      " [*******  32%           ] Elapsed 0.95s / Remaining 00:00:00:02"
     ]
    },
    {
     "name": "stdout",
     "output_type": "stream",
     "text": [
      "\r",
      " [*******  32%           ] Elapsed 0.95s / Remaining 00:00:00:02"
     ]
    },
    {
     "name": "stdout",
     "output_type": "stream",
     "text": [
      "\r",
      " [*******  32%           ] Elapsed 0.96s / Remaining 00:00:00:02"
     ]
    },
    {
     "name": "stdout",
     "output_type": "stream",
     "text": [
      "\r",
      " [*******  32%           ] Elapsed 0.96s / Remaining 00:00:00:02"
     ]
    },
    {
     "name": "stdout",
     "output_type": "stream",
     "text": [
      "\r",
      " [*******  32%           ] Elapsed 0.96s / Remaining 00:00:00:02"
     ]
    },
    {
     "name": "stdout",
     "output_type": "stream",
     "text": [
      "\r",
      " [*******  32%           ] Elapsed 0.97s / Remaining 00:00:00:02"
     ]
    },
    {
     "name": "stdout",
     "output_type": "stream",
     "text": [
      "\r",
      " [*******  32%           ] Elapsed 0.97s / Remaining 00:00:00:02"
     ]
    },
    {
     "name": "stdout",
     "output_type": "stream",
     "text": [
      "\r",
      " [*******  32%           ] Elapsed 0.97s / Remaining 00:00:00:02"
     ]
    },
    {
     "name": "stdout",
     "output_type": "stream",
     "text": [
      "\r",
      " [*******  32%           ] Elapsed 0.98s / Remaining 00:00:00:02"
     ]
    },
    {
     "name": "stdout",
     "output_type": "stream",
     "text": [
      "\r",
      " [******** 33%           ] Elapsed 0.98s / Remaining 00:00:00:01"
     ]
    },
    {
     "name": "stdout",
     "output_type": "stream",
     "text": [
      "\r",
      " [******** 33%           ] Elapsed 0.98s / Remaining 00:00:00:01"
     ]
    },
    {
     "name": "stdout",
     "output_type": "stream",
     "text": [
      "\r",
      " [******** 33%           ] Elapsed 0.99s / Remaining 00:00:00:02"
     ]
    },
    {
     "name": "stdout",
     "output_type": "stream",
     "text": [
      "\r",
      " [******** 33%           ] Elapsed 0.99s / Remaining 00:00:00:02"
     ]
    },
    {
     "name": "stdout",
     "output_type": "stream",
     "text": [
      "\r",
      " [******** 33%           ] Elapsed 0.99s / Remaining 00:00:00:02"
     ]
    },
    {
     "name": "stdout",
     "output_type": "stream",
     "text": [
      "\r",
      " [******** 33%           ] Elapsed 1.00s / Remaining 00:00:00:02"
     ]
    },
    {
     "name": "stdout",
     "output_type": "stream",
     "text": [
      "\r",
      " [******** 33%           ] Elapsed 1.00s / Remaining 00:00:00:02"
     ]
    },
    {
     "name": "stdout",
     "output_type": "stream",
     "text": [
      "\r",
      " [******** 33%           ] Elapsed 1.00s / Remaining 00:00:00:02"
     ]
    },
    {
     "name": "stdout",
     "output_type": "stream",
     "text": [
      "\r",
      " [******** 33%           ] Elapsed 1.01s / Remaining 00:00:00:02"
     ]
    },
    {
     "name": "stdout",
     "output_type": "stream",
     "text": [
      "\r",
      " [******** 33%           ] Elapsed 1.01s / Remaining 00:00:00:02"
     ]
    },
    {
     "name": "stdout",
     "output_type": "stream",
     "text": [
      "\r",
      " [******** 34%           ] Elapsed 1.01s / Remaining 00:00:00:01"
     ]
    },
    {
     "name": "stdout",
     "output_type": "stream",
     "text": [
      "\r",
      " [******** 34%           ] Elapsed 1.01s / Remaining 00:00:00:01"
     ]
    },
    {
     "name": "stdout",
     "output_type": "stream",
     "text": [
      "\r",
      " [******** 34%           ] Elapsed 1.02s / Remaining 00:00:00:01"
     ]
    },
    {
     "name": "stdout",
     "output_type": "stream",
     "text": [
      "\r",
      " [******** 34%           ] Elapsed 1.02s / Remaining 00:00:00:01"
     ]
    },
    {
     "name": "stdout",
     "output_type": "stream",
     "text": [
      "\r",
      " [******** 34%           ] Elapsed 1.02s / Remaining 00:00:00:01"
     ]
    },
    {
     "name": "stdout",
     "output_type": "stream",
     "text": [
      "\r",
      " [******** 34%           ] Elapsed 1.03s / Remaining 00:00:00:01"
     ]
    },
    {
     "name": "stdout",
     "output_type": "stream",
     "text": [
      "\r",
      " [******** 34%           ] Elapsed 1.03s / Remaining 00:00:00:01"
     ]
    },
    {
     "name": "stdout",
     "output_type": "stream",
     "text": [
      "\r",
      " [******** 34%           ] Elapsed 1.03s / Remaining 00:00:00:02"
     ]
    },
    {
     "name": "stdout",
     "output_type": "stream",
     "text": [
      "\r",
      " [******** 34%           ] Elapsed 1.04s / Remaining 00:00:00:02"
     ]
    },
    {
     "name": "stdout",
     "output_type": "stream",
     "text": [
      "\r",
      " [******** 34%           ] Elapsed 1.04s / Remaining 00:00:00:02"
     ]
    },
    {
     "name": "stdout",
     "output_type": "stream",
     "text": [
      "\r",
      " [******** 35%           ] Elapsed 1.04s / Remaining 00:00:00:01"
     ]
    },
    {
     "name": "stdout",
     "output_type": "stream",
     "text": [
      "\r",
      " [******** 35%           ] Elapsed 1.04s / Remaining 00:00:00:01"
     ]
    },
    {
     "name": "stdout",
     "output_type": "stream",
     "text": [
      "\r",
      " [******** 35%           ] Elapsed 1.05s / Remaining 00:00:00:01"
     ]
    },
    {
     "name": "stdout",
     "output_type": "stream",
     "text": [
      "\r",
      " [******** 35%           ] Elapsed 1.05s / Remaining 00:00:00:01"
     ]
    },
    {
     "name": "stdout",
     "output_type": "stream",
     "text": [
      "\r",
      " [******** 35%           ] Elapsed 1.05s / Remaining 00:00:00:01"
     ]
    },
    {
     "name": "stdout",
     "output_type": "stream",
     "text": [
      "\r",
      " [******** 35%           ] Elapsed 1.05s / Remaining 00:00:00:01"
     ]
    },
    {
     "name": "stdout",
     "output_type": "stream",
     "text": [
      "\r",
      " [******** 35%           ] Elapsed 1.06s / Remaining 00:00:00:01"
     ]
    },
    {
     "name": "stdout",
     "output_type": "stream",
     "text": [
      "\r",
      " [******** 35%           ] Elapsed 1.06s / Remaining 00:00:00:01"
     ]
    },
    {
     "name": "stdout",
     "output_type": "stream",
     "text": [
      "\r",
      " [******** 35%           ] Elapsed 1.06s / Remaining 00:00:00:01"
     ]
    },
    {
     "name": "stdout",
     "output_type": "stream",
     "text": [
      "\r",
      " [******** 35%           ] Elapsed 1.07s / Remaining 00:00:00:01"
     ]
    },
    {
     "name": "stdout",
     "output_type": "stream",
     "text": [
      "\r",
      " [******** 36%           ] Elapsed 1.07s / Remaining 00:00:00:01"
     ]
    },
    {
     "name": "stdout",
     "output_type": "stream",
     "text": [
      "\r",
      " [******** 36%           ] Elapsed 1.07s / Remaining 00:00:00:01"
     ]
    },
    {
     "name": "stdout",
     "output_type": "stream",
     "text": [
      "\r",
      " [******** 36%           ] Elapsed 1.08s / Remaining 00:00:00:01"
     ]
    },
    {
     "name": "stdout",
     "output_type": "stream",
     "text": [
      "\r",
      " [******** 36%           ] Elapsed 1.08s / Remaining 00:00:00:01"
     ]
    },
    {
     "name": "stdout",
     "output_type": "stream",
     "text": [
      "\r",
      " [******** 36%           ] Elapsed 1.08s / Remaining 00:00:00:01"
     ]
    },
    {
     "name": "stdout",
     "output_type": "stream",
     "text": [
      "\r",
      " [******** 36%           ] Elapsed 1.08s / Remaining 00:00:00:01"
     ]
    },
    {
     "name": "stdout",
     "output_type": "stream",
     "text": [
      "\r",
      " [******** 36%           ] Elapsed 1.09s / Remaining 00:00:00:01"
     ]
    },
    {
     "name": "stdout",
     "output_type": "stream",
     "text": [
      "\r",
      " [******** 36%           ] Elapsed 1.09s / Remaining 00:00:00:01"
     ]
    },
    {
     "name": "stdout",
     "output_type": "stream",
     "text": [
      "\r",
      " [******** 36%           ] Elapsed 1.09s / Remaining 00:00:00:01"
     ]
    },
    {
     "name": "stdout",
     "output_type": "stream",
     "text": [
      "\r",
      " [******** 36%           ] Elapsed 1.10s / Remaining 00:00:00:01"
     ]
    },
    {
     "name": "stdout",
     "output_type": "stream",
     "text": [
      "\r",
      " [*********37%           ] Elapsed 1.10s / Remaining 00:00:00:01"
     ]
    },
    {
     "name": "stdout",
     "output_type": "stream",
     "text": [
      "\r",
      " [*********37%           ] Elapsed 1.10s / Remaining 00:00:00:01"
     ]
    },
    {
     "name": "stdout",
     "output_type": "stream",
     "text": [
      "\r",
      " [*********37%           ] Elapsed 1.11s / Remaining 00:00:00:01"
     ]
    },
    {
     "name": "stdout",
     "output_type": "stream",
     "text": [
      "\r",
      " [*********37%           ] Elapsed 1.11s / Remaining 00:00:00:01"
     ]
    },
    {
     "name": "stdout",
     "output_type": "stream",
     "text": [
      "\r",
      " [*********37%           ] Elapsed 1.11s / Remaining 00:00:00:01"
     ]
    },
    {
     "name": "stdout",
     "output_type": "stream",
     "text": [
      "\r",
      " [*********37%           ] Elapsed 1.11s / Remaining 00:00:00:01"
     ]
    },
    {
     "name": "stdout",
     "output_type": "stream",
     "text": [
      "\r",
      " [*********37%           ] Elapsed 1.12s / Remaining 00:00:00:01"
     ]
    },
    {
     "name": "stdout",
     "output_type": "stream",
     "text": [
      "\r",
      " [*********37%           ] Elapsed 1.12s / Remaining 00:00:00:01"
     ]
    },
    {
     "name": "stdout",
     "output_type": "stream",
     "text": [
      "\r",
      " [*********37%           ] Elapsed 1.12s / Remaining 00:00:00:01"
     ]
    },
    {
     "name": "stdout",
     "output_type": "stream",
     "text": [
      "\r",
      " [*********37%           ] Elapsed 1.13s / Remaining 00:00:00:01"
     ]
    },
    {
     "name": "stdout",
     "output_type": "stream",
     "text": [
      "\r",
      " [*********38%           ] Elapsed 1.13s / Remaining 00:00:00:01"
     ]
    },
    {
     "name": "stdout",
     "output_type": "stream",
     "text": [
      "\r",
      " [*********38%           ] Elapsed 1.13s / Remaining 00:00:00:01"
     ]
    },
    {
     "name": "stdout",
     "output_type": "stream",
     "text": [
      "\r",
      " [*********38%           ] Elapsed 1.13s / Remaining 00:00:00:01"
     ]
    },
    {
     "name": "stdout",
     "output_type": "stream",
     "text": [
      "\r",
      " [*********38%           ] Elapsed 1.14s / Remaining 00:00:00:01"
     ]
    },
    {
     "name": "stdout",
     "output_type": "stream",
     "text": [
      "\r",
      " [*********38%           ] Elapsed 1.14s / Remaining 00:00:00:01"
     ]
    },
    {
     "name": "stdout",
     "output_type": "stream",
     "text": [
      "\r",
      " [*********38%           ] Elapsed 1.14s / Remaining 00:00:00:01"
     ]
    },
    {
     "name": "stdout",
     "output_type": "stream",
     "text": [
      "\r",
      " [*********38%           ] Elapsed 1.15s / Remaining 00:00:00:01"
     ]
    },
    {
     "name": "stdout",
     "output_type": "stream",
     "text": [
      "\r",
      " [*********38%           ] Elapsed 1.15s / Remaining 00:00:00:01"
     ]
    },
    {
     "name": "stdout",
     "output_type": "stream",
     "text": [
      "\r",
      " [*********38%           ] Elapsed 1.15s / Remaining 00:00:00:01"
     ]
    },
    {
     "name": "stdout",
     "output_type": "stream",
     "text": [
      "\r",
      " [*********38%           ] Elapsed 1.16s / Remaining 00:00:00:01"
     ]
    },
    {
     "name": "stdout",
     "output_type": "stream",
     "text": [
      "\r",
      " [*********39%           ] Elapsed 1.16s / Remaining 00:00:00:01"
     ]
    },
    {
     "name": "stdout",
     "output_type": "stream",
     "text": [
      "\r",
      " [*********39%           ] Elapsed 1.16s / Remaining 00:00:00:01"
     ]
    },
    {
     "name": "stdout",
     "output_type": "stream",
     "text": [
      "\r",
      " [*********39%           ] Elapsed 1.17s / Remaining 00:00:00:01"
     ]
    },
    {
     "name": "stdout",
     "output_type": "stream",
     "text": [
      "\r",
      " [*********39%           ] Elapsed 1.17s / Remaining 00:00:00:01"
     ]
    },
    {
     "name": "stdout",
     "output_type": "stream",
     "text": [
      "\r",
      " [*********39%           ] Elapsed 1.17s / Remaining 00:00:00:01"
     ]
    },
    {
     "name": "stdout",
     "output_type": "stream",
     "text": [
      "\r",
      " [*********39%           ] Elapsed 1.18s / Remaining 00:00:00:01"
     ]
    },
    {
     "name": "stdout",
     "output_type": "stream",
     "text": [
      "\r",
      " [*********39%           ] Elapsed 1.18s / Remaining 00:00:00:01"
     ]
    },
    {
     "name": "stdout",
     "output_type": "stream",
     "text": [
      "\r",
      " [*********39%           ] Elapsed 1.18s / Remaining 00:00:00:01"
     ]
    },
    {
     "name": "stdout",
     "output_type": "stream",
     "text": [
      "\r",
      " [*********39%           ] Elapsed 1.18s / Remaining 00:00:00:01"
     ]
    },
    {
     "name": "stdout",
     "output_type": "stream",
     "text": [
      "\r",
      " [*********39%           ] Elapsed 1.19s / Remaining 00:00:00:01"
     ]
    },
    {
     "name": "stdout",
     "output_type": "stream",
     "text": [
      "\r",
      " [*********40%           ] Elapsed 1.19s / Remaining 00:00:00:01"
     ]
    },
    {
     "name": "stdout",
     "output_type": "stream",
     "text": [
      "\r",
      " [*********40%           ] Elapsed 1.19s / Remaining 00:00:00:01"
     ]
    },
    {
     "name": "stdout",
     "output_type": "stream",
     "text": [
      "\r",
      " [*********40%           ] Elapsed 1.20s / Remaining 00:00:00:01"
     ]
    },
    {
     "name": "stdout",
     "output_type": "stream",
     "text": [
      "\r",
      " [*********40%           ] Elapsed 1.20s / Remaining 00:00:00:01"
     ]
    },
    {
     "name": "stdout",
     "output_type": "stream",
     "text": [
      "\r",
      " [*********40%           ] Elapsed 1.20s / Remaining 00:00:00:01"
     ]
    },
    {
     "name": "stdout",
     "output_type": "stream",
     "text": [
      "\r",
      " [*********40%           ] Elapsed 1.21s / Remaining 00:00:00:01"
     ]
    },
    {
     "name": "stdout",
     "output_type": "stream",
     "text": [
      "\r",
      " [*********40%           ] Elapsed 1.21s / Remaining 00:00:00:01"
     ]
    },
    {
     "name": "stdout",
     "output_type": "stream",
     "text": [
      "\r",
      " [*********40%           ] Elapsed 1.21s / Remaining 00:00:00:01"
     ]
    },
    {
     "name": "stdout",
     "output_type": "stream",
     "text": [
      "\r",
      " [*********40%           ] Elapsed 1.22s / Remaining 00:00:00:01"
     ]
    },
    {
     "name": "stdout",
     "output_type": "stream",
     "text": [
      "\r",
      " [*********40%           ] Elapsed 1.22s / Remaining 00:00:00:01"
     ]
    },
    {
     "name": "stdout",
     "output_type": "stream",
     "text": [
      "\r",
      " [*********41%           ] Elapsed 1.22s / Remaining 00:00:00:01"
     ]
    },
    {
     "name": "stdout",
     "output_type": "stream",
     "text": [
      "\r",
      " [*********41%           ] Elapsed 1.23s / Remaining 00:00:00:01"
     ]
    },
    {
     "name": "stdout",
     "output_type": "stream",
     "text": [
      "\r",
      " [*********41%           ] Elapsed 1.23s / Remaining 00:00:00:01"
     ]
    },
    {
     "name": "stdout",
     "output_type": "stream",
     "text": [
      "\r",
      " [*********41%           ] Elapsed 1.23s / Remaining 00:00:00:01"
     ]
    },
    {
     "name": "stdout",
     "output_type": "stream",
     "text": [
      "\r",
      " [*********41%           ] Elapsed 1.23s / Remaining 00:00:00:01"
     ]
    },
    {
     "name": "stdout",
     "output_type": "stream",
     "text": [
      "\r",
      " [*********41%           ] Elapsed 1.24s / Remaining 00:00:00:01"
     ]
    },
    {
     "name": "stdout",
     "output_type": "stream",
     "text": [
      "\r",
      " [*********41%           ] Elapsed 1.24s / Remaining 00:00:00:01"
     ]
    },
    {
     "name": "stdout",
     "output_type": "stream",
     "text": [
      "\r",
      " [*********41%           ] Elapsed 1.24s / Remaining 00:00:00:01"
     ]
    },
    {
     "name": "stdout",
     "output_type": "stream",
     "text": [
      "\r",
      " [*********41%           ] Elapsed 1.25s / Remaining 00:00:00:01"
     ]
    },
    {
     "name": "stdout",
     "output_type": "stream",
     "text": [
      "\r",
      " [*********41%           ] Elapsed 1.25s / Remaining 00:00:00:01"
     ]
    },
    {
     "name": "stdout",
     "output_type": "stream",
     "text": [
      "\r",
      " [*********42%           ] Elapsed 1.25s / Remaining 00:00:00:01"
     ]
    },
    {
     "name": "stdout",
     "output_type": "stream",
     "text": [
      "\r",
      " [*********42%           ] Elapsed 1.25s / Remaining 00:00:00:01"
     ]
    },
    {
     "name": "stdout",
     "output_type": "stream",
     "text": [
      "\r",
      " [*********42%           ] Elapsed 1.26s / Remaining 00:00:00:01"
     ]
    },
    {
     "name": "stdout",
     "output_type": "stream",
     "text": [
      "\r",
      " [*********42%           ] Elapsed 1.26s / Remaining 00:00:00:01"
     ]
    },
    {
     "name": "stdout",
     "output_type": "stream",
     "text": [
      "\r",
      " [*********42%           ] Elapsed 1.26s / Remaining 00:00:00:01"
     ]
    },
    {
     "name": "stdout",
     "output_type": "stream",
     "text": [
      "\r",
      " [*********42%           ] Elapsed 1.27s / Remaining 00:00:00:01"
     ]
    },
    {
     "name": "stdout",
     "output_type": "stream",
     "text": [
      "\r",
      " [*********42%           ] Elapsed 1.27s / Remaining 00:00:00:01"
     ]
    },
    {
     "name": "stdout",
     "output_type": "stream",
     "text": [
      "\r",
      " [*********42%           ] Elapsed 1.27s / Remaining 00:00:00:01"
     ]
    },
    {
     "name": "stdout",
     "output_type": "stream",
     "text": [
      "\r",
      " [*********42%           ] Elapsed 1.28s / Remaining 00:00:00:01"
     ]
    },
    {
     "name": "stdout",
     "output_type": "stream",
     "text": [
      "\r",
      " [*********42%           ] Elapsed 1.28s / Remaining 00:00:00:01"
     ]
    },
    {
     "name": "stdout",
     "output_type": "stream",
     "text": [
      "\r",
      " [*********43%           ] Elapsed 1.28s / Remaining 00:00:00:01"
     ]
    },
    {
     "name": "stdout",
     "output_type": "stream",
     "text": [
      "\r",
      " [*********43%           ] Elapsed 1.28s / Remaining 00:00:00:01"
     ]
    },
    {
     "name": "stdout",
     "output_type": "stream",
     "text": [
      "\r",
      " [*********43%           ] Elapsed 1.29s / Remaining 00:00:00:01"
     ]
    },
    {
     "name": "stdout",
     "output_type": "stream",
     "text": [
      "\r",
      " [*********43%           ] Elapsed 1.29s / Remaining 00:00:00:01"
     ]
    },
    {
     "name": "stdout",
     "output_type": "stream",
     "text": [
      "\r",
      " [*********43%           ] Elapsed 1.29s / Remaining 00:00:00:01"
     ]
    },
    {
     "name": "stdout",
     "output_type": "stream",
     "text": [
      "\r",
      " [*********43%           ] Elapsed 1.30s / Remaining 00:00:00:01"
     ]
    },
    {
     "name": "stdout",
     "output_type": "stream",
     "text": [
      "\r",
      " [*********43%           ] Elapsed 1.30s / Remaining 00:00:00:01"
     ]
    },
    {
     "name": "stdout",
     "output_type": "stream",
     "text": [
      "\r",
      " [*********43%           ] Elapsed 1.30s / Remaining 00:00:00:01"
     ]
    },
    {
     "name": "stdout",
     "output_type": "stream",
     "text": [
      "\r",
      " [*********43%           ] Elapsed 1.30s / Remaining 00:00:00:01"
     ]
    },
    {
     "name": "stdout",
     "output_type": "stream",
     "text": [
      "\r",
      " [*********43%           ] Elapsed 1.31s / Remaining 00:00:00:01"
     ]
    },
    {
     "name": "stdout",
     "output_type": "stream",
     "text": [
      "\r",
      " [*********44%           ] Elapsed 1.31s / Remaining 00:00:00:01"
     ]
    },
    {
     "name": "stdout",
     "output_type": "stream",
     "text": [
      "\r",
      " [*********44%           ] Elapsed 1.31s / Remaining 00:00:00:01"
     ]
    },
    {
     "name": "stdout",
     "output_type": "stream",
     "text": [
      "\r",
      " [*********44%           ] Elapsed 1.32s / Remaining 00:00:00:01"
     ]
    },
    {
     "name": "stdout",
     "output_type": "stream",
     "text": [
      "\r",
      " [*********44%           ] Elapsed 1.32s / Remaining 00:00:00:01"
     ]
    },
    {
     "name": "stdout",
     "output_type": "stream",
     "text": [
      "\r",
      " [*********44%           ] Elapsed 1.32s / Remaining 00:00:00:01"
     ]
    },
    {
     "name": "stdout",
     "output_type": "stream",
     "text": [
      "\r",
      " [*********44%           ] Elapsed 1.33s / Remaining 00:00:00:01"
     ]
    },
    {
     "name": "stdout",
     "output_type": "stream",
     "text": [
      "\r",
      " [*********44%           ] Elapsed 1.33s / Remaining 00:00:00:01"
     ]
    },
    {
     "name": "stdout",
     "output_type": "stream",
     "text": [
      "\r",
      " [*********44%           ] Elapsed 1.33s / Remaining 00:00:00:01"
     ]
    },
    {
     "name": "stdout",
     "output_type": "stream",
     "text": [
      "\r",
      " [*********44%           ] Elapsed 1.33s / Remaining 00:00:00:01"
     ]
    },
    {
     "name": "stdout",
     "output_type": "stream",
     "text": [
      "\r",
      " [*********44%           ] Elapsed 1.34s / Remaining 00:00:00:01"
     ]
    },
    {
     "name": "stdout",
     "output_type": "stream",
     "text": [
      "\r",
      " [*********45%           ] Elapsed 1.34s / Remaining 00:00:00:01"
     ]
    },
    {
     "name": "stdout",
     "output_type": "stream",
     "text": [
      "\r",
      " [*********45%           ] Elapsed 1.34s / Remaining 00:00:00:01"
     ]
    },
    {
     "name": "stdout",
     "output_type": "stream",
     "text": [
      "\r",
      " [*********45%           ] Elapsed 1.34s / Remaining 00:00:00:01"
     ]
    },
    {
     "name": "stdout",
     "output_type": "stream",
     "text": [
      "\r",
      " [*********45%           ] Elapsed 1.35s / Remaining 00:00:00:01"
     ]
    },
    {
     "name": "stdout",
     "output_type": "stream",
     "text": [
      "\r",
      " [*********45%           ] Elapsed 1.35s / Remaining 00:00:00:01"
     ]
    },
    {
     "name": "stdout",
     "output_type": "stream",
     "text": [
      "\r",
      " [*********45%           ] Elapsed 1.35s / Remaining 00:00:00:01"
     ]
    },
    {
     "name": "stdout",
     "output_type": "stream",
     "text": [
      "\r",
      " [*********45%           ] Elapsed 1.36s / Remaining 00:00:00:01"
     ]
    },
    {
     "name": "stdout",
     "output_type": "stream",
     "text": [
      "\r",
      " [*********45%           ] Elapsed 1.36s / Remaining 00:00:00:01"
     ]
    },
    {
     "name": "stdout",
     "output_type": "stream",
     "text": [
      "\r",
      " [*********45%           ] Elapsed 1.36s / Remaining 00:00:00:01"
     ]
    },
    {
     "name": "stdout",
     "output_type": "stream",
     "text": [
      "\r",
      " [*********45%           ] Elapsed 1.37s / Remaining 00:00:00:01"
     ]
    },
    {
     "name": "stdout",
     "output_type": "stream",
     "text": [
      "\r",
      " [*********46%           ] Elapsed 1.37s / Remaining 00:00:00:01"
     ]
    },
    {
     "name": "stdout",
     "output_type": "stream",
     "text": [
      "\r",
      " [*********46%           ] Elapsed 1.37s / Remaining 00:00:00:01"
     ]
    },
    {
     "name": "stdout",
     "output_type": "stream",
     "text": [
      "\r",
      " [*********46%           ] Elapsed 1.38s / Remaining 00:00:00:01"
     ]
    },
    {
     "name": "stdout",
     "output_type": "stream",
     "text": [
      "\r",
      " [*********46%           ] Elapsed 1.38s / Remaining 00:00:00:01"
     ]
    },
    {
     "name": "stdout",
     "output_type": "stream",
     "text": [
      "\r",
      " [*********46%           ] Elapsed 1.38s / Remaining 00:00:00:01"
     ]
    },
    {
     "name": "stdout",
     "output_type": "stream",
     "text": [
      "\r",
      " [*********46%           ] Elapsed 1.39s / Remaining 00:00:00:01"
     ]
    },
    {
     "name": "stdout",
     "output_type": "stream",
     "text": [
      "\r",
      " [*********46%           ] Elapsed 1.39s / Remaining 00:00:00:01"
     ]
    },
    {
     "name": "stdout",
     "output_type": "stream",
     "text": [
      "\r",
      " [*********46%           ] Elapsed 1.39s / Remaining 00:00:00:01"
     ]
    },
    {
     "name": "stdout",
     "output_type": "stream",
     "text": [
      "\r",
      " [*********46%           ] Elapsed 1.40s / Remaining 00:00:00:01"
     ]
    },
    {
     "name": "stdout",
     "output_type": "stream",
     "text": [
      "\r",
      " [*********46%           ] Elapsed 1.40s / Remaining 00:00:00:01"
     ]
    },
    {
     "name": "stdout",
     "output_type": "stream",
     "text": [
      "\r",
      " [*********47%           ] Elapsed 1.40s / Remaining 00:00:00:01"
     ]
    },
    {
     "name": "stdout",
     "output_type": "stream",
     "text": [
      "\r",
      " [*********47%           ] Elapsed 1.41s / Remaining 00:00:00:01"
     ]
    },
    {
     "name": "stdout",
     "output_type": "stream",
     "text": [
      "\r",
      " [*********47%           ] Elapsed 1.41s / Remaining 00:00:00:01"
     ]
    },
    {
     "name": "stdout",
     "output_type": "stream",
     "text": [
      "\r",
      " [*********47%           ] Elapsed 1.41s / Remaining 00:00:00:01"
     ]
    },
    {
     "name": "stdout",
     "output_type": "stream",
     "text": [
      "\r",
      " [*********47%           ] Elapsed 1.42s / Remaining 00:00:00:01"
     ]
    },
    {
     "name": "stdout",
     "output_type": "stream",
     "text": [
      "\r",
      " [*********47%           ] Elapsed 1.42s / Remaining 00:00:00:01"
     ]
    },
    {
     "name": "stdout",
     "output_type": "stream",
     "text": [
      "\r",
      " [*********47%           ] Elapsed 1.42s / Remaining 00:00:00:01"
     ]
    },
    {
     "name": "stdout",
     "output_type": "stream",
     "text": [
      "\r",
      " [*********47%           ] Elapsed 1.43s / Remaining 00:00:00:01"
     ]
    },
    {
     "name": "stdout",
     "output_type": "stream",
     "text": [
      "\r",
      " [*********47%           ] Elapsed 1.43s / Remaining 00:00:00:01"
     ]
    },
    {
     "name": "stdout",
     "output_type": "stream",
     "text": [
      "\r",
      " [*********47%           ] Elapsed 1.43s / Remaining 00:00:00:01"
     ]
    },
    {
     "name": "stdout",
     "output_type": "stream",
     "text": [
      "\r",
      " [*********48%           ] Elapsed 1.44s / Remaining 00:00:00:01"
     ]
    },
    {
     "name": "stdout",
     "output_type": "stream",
     "text": [
      "\r",
      " [*********48%           ] Elapsed 1.44s / Remaining 00:00:00:01"
     ]
    },
    {
     "name": "stdout",
     "output_type": "stream",
     "text": [
      "\r",
      " [*********48%           ] Elapsed 1.44s / Remaining 00:00:00:01"
     ]
    },
    {
     "name": "stdout",
     "output_type": "stream",
     "text": [
      "\r",
      " [*********48%           ] Elapsed 1.44s / Remaining 00:00:00:01"
     ]
    },
    {
     "name": "stdout",
     "output_type": "stream",
     "text": [
      "\r",
      " [*********48%           ] Elapsed 1.45s / Remaining 00:00:00:01"
     ]
    },
    {
     "name": "stdout",
     "output_type": "stream",
     "text": [
      "\r",
      " [*********48%           ] Elapsed 1.45s / Remaining 00:00:00:01"
     ]
    },
    {
     "name": "stdout",
     "output_type": "stream",
     "text": [
      "\r",
      " [*********48%           ] Elapsed 1.45s / Remaining 00:00:00:01"
     ]
    },
    {
     "name": "stdout",
     "output_type": "stream",
     "text": [
      "\r",
      " [*********48%           ] Elapsed 1.46s / Remaining 00:00:00:01"
     ]
    },
    {
     "name": "stdout",
     "output_type": "stream",
     "text": [
      "\r",
      " [*********48%           ] Elapsed 1.46s / Remaining 00:00:00:01"
     ]
    },
    {
     "name": "stdout",
     "output_type": "stream",
     "text": [
      "\r",
      " [*********48%           ] Elapsed 1.46s / Remaining 00:00:00:01"
     ]
    },
    {
     "name": "stdout",
     "output_type": "stream",
     "text": [
      "\r",
      " [*********49%           ] Elapsed 1.47s / Remaining 00:00:00:01"
     ]
    },
    {
     "name": "stdout",
     "output_type": "stream",
     "text": [
      "\r",
      " [*********49%           ] Elapsed 1.47s / Remaining 00:00:00:01"
     ]
    },
    {
     "name": "stdout",
     "output_type": "stream",
     "text": [
      "\r",
      " [*********49%           ] Elapsed 1.47s / Remaining 00:00:00:01"
     ]
    },
    {
     "name": "stdout",
     "output_type": "stream",
     "text": [
      "\r",
      " [*********49%           ] Elapsed 1.48s / Remaining 00:00:00:01"
     ]
    },
    {
     "name": "stdout",
     "output_type": "stream",
     "text": [
      "\r",
      " [*********49%           ] Elapsed 1.48s / Remaining 00:00:00:01"
     ]
    },
    {
     "name": "stdout",
     "output_type": "stream",
     "text": [
      "\r",
      " [*********49%           ] Elapsed 1.48s / Remaining 00:00:00:01"
     ]
    },
    {
     "name": "stdout",
     "output_type": "stream",
     "text": [
      "\r",
      " [*********49%           ] Elapsed 1.48s / Remaining 00:00:00:01"
     ]
    },
    {
     "name": "stdout",
     "output_type": "stream",
     "text": [
      "\r",
      " [*********49%           ] Elapsed 1.49s / Remaining 00:00:00:01"
     ]
    },
    {
     "name": "stdout",
     "output_type": "stream",
     "text": [
      "\r",
      " [*********49%           ] Elapsed 1.49s / Remaining 00:00:00:01"
     ]
    },
    {
     "name": "stdout",
     "output_type": "stream",
     "text": [
      "\r",
      " [*********49%           ] Elapsed 1.49s / Remaining 00:00:00:01"
     ]
    },
    {
     "name": "stdout",
     "output_type": "stream",
     "text": [
      "\r",
      " [*********50%           ] Elapsed 1.50s / Remaining 00:00:00:01"
     ]
    },
    {
     "name": "stdout",
     "output_type": "stream",
     "text": [
      "\r",
      " [*********50%           ] Elapsed 1.50s / Remaining 00:00:00:01"
     ]
    },
    {
     "name": "stdout",
     "output_type": "stream",
     "text": [
      "\r",
      " [*********50%           ] Elapsed 1.50s / Remaining 00:00:00:01"
     ]
    },
    {
     "name": "stdout",
     "output_type": "stream",
     "text": [
      "\r",
      " [*********50%           ] Elapsed 1.50s / Remaining 00:00:00:01"
     ]
    },
    {
     "name": "stdout",
     "output_type": "stream",
     "text": [
      "\r",
      " [*********50%           ] Elapsed 1.51s / Remaining 00:00:00:01"
     ]
    },
    {
     "name": "stdout",
     "output_type": "stream",
     "text": [
      "\r",
      " [*********50%           ] Elapsed 1.51s / Remaining 00:00:00:01"
     ]
    },
    {
     "name": "stdout",
     "output_type": "stream",
     "text": [
      "\r",
      " [*********50%           ] Elapsed 1.51s / Remaining 00:00:00:01"
     ]
    },
    {
     "name": "stdout",
     "output_type": "stream",
     "text": [
      "\r",
      " [*********50%           ] Elapsed 1.52s / Remaining 00:00:00:01"
     ]
    },
    {
     "name": "stdout",
     "output_type": "stream",
     "text": [
      "\r",
      " [*********50%           ] Elapsed 1.52s / Remaining 00:00:00:01"
     ]
    },
    {
     "name": "stdout",
     "output_type": "stream",
     "text": [
      "\r",
      " [*********50%           ] Elapsed 1.52s / Remaining 00:00:00:01"
     ]
    },
    {
     "name": "stdout",
     "output_type": "stream",
     "text": [
      "\r",
      " [*********51%           ] Elapsed 1.53s / Remaining 00:00:00:01"
     ]
    },
    {
     "name": "stdout",
     "output_type": "stream",
     "text": [
      "\r",
      " [*********51%           ] Elapsed 1.53s / Remaining 00:00:00:01"
     ]
    },
    {
     "name": "stdout",
     "output_type": "stream",
     "text": [
      "\r",
      " [*********51%           ] Elapsed 1.53s / Remaining 00:00:00:01"
     ]
    },
    {
     "name": "stdout",
     "output_type": "stream",
     "text": [
      "\r",
      " [*********51%           ] Elapsed 1.53s / Remaining 00:00:00:01"
     ]
    },
    {
     "name": "stdout",
     "output_type": "stream",
     "text": [
      "\r",
      " [*********51%           ] Elapsed 1.54s / Remaining 00:00:00:01"
     ]
    },
    {
     "name": "stdout",
     "output_type": "stream",
     "text": [
      "\r",
      " [*********51%           ] Elapsed 1.54s / Remaining 00:00:00:01"
     ]
    },
    {
     "name": "stdout",
     "output_type": "stream",
     "text": [
      "\r",
      " [*********51%           ] Elapsed 1.54s / Remaining 00:00:00:01"
     ]
    },
    {
     "name": "stdout",
     "output_type": "stream",
     "text": [
      "\r",
      " [*********51%           ] Elapsed 1.55s / Remaining 00:00:00:01"
     ]
    },
    {
     "name": "stdout",
     "output_type": "stream",
     "text": [
      "\r",
      " [*********51%           ] Elapsed 1.55s / Remaining 00:00:00:01"
     ]
    },
    {
     "name": "stdout",
     "output_type": "stream",
     "text": [
      "\r",
      " [*********51%           ] Elapsed 1.55s / Remaining 00:00:00:01"
     ]
    },
    {
     "name": "stdout",
     "output_type": "stream",
     "text": [
      "\r",
      " [*********52%           ] Elapsed 1.55s / Remaining 00:00:00:01"
     ]
    },
    {
     "name": "stdout",
     "output_type": "stream",
     "text": [
      "\r",
      " [*********52%           ] Elapsed 1.56s / Remaining 00:00:00:01"
     ]
    },
    {
     "name": "stdout",
     "output_type": "stream",
     "text": [
      "\r",
      " [*********52%           ] Elapsed 1.56s / Remaining 00:00:00:01"
     ]
    },
    {
     "name": "stdout",
     "output_type": "stream",
     "text": [
      "\r",
      " [*********52%           ] Elapsed 1.56s / Remaining 00:00:00:01"
     ]
    },
    {
     "name": "stdout",
     "output_type": "stream",
     "text": [
      "\r",
      " [*********52%           ] Elapsed 1.57s / Remaining 00:00:00:01"
     ]
    },
    {
     "name": "stdout",
     "output_type": "stream",
     "text": [
      "\r",
      " [*********52%           ] Elapsed 1.57s / Remaining 00:00:00:01"
     ]
    },
    {
     "name": "stdout",
     "output_type": "stream",
     "text": [
      "\r",
      " [*********52%           ] Elapsed 1.57s / Remaining 00:00:00:01"
     ]
    },
    {
     "name": "stdout",
     "output_type": "stream",
     "text": [
      "\r",
      " [*********52%           ] Elapsed 1.58s / Remaining 00:00:00:01"
     ]
    },
    {
     "name": "stdout",
     "output_type": "stream",
     "text": [
      "\r",
      " [*********52%           ] Elapsed 1.58s / Remaining 00:00:00:01"
     ]
    },
    {
     "name": "stdout",
     "output_type": "stream",
     "text": [
      "\r",
      " [*********52%           ] Elapsed 1.58s / Remaining 00:00:00:01"
     ]
    },
    {
     "name": "stdout",
     "output_type": "stream",
     "text": [
      "\r",
      " [*********53%           ] Elapsed 1.59s / Remaining 00:00:00:01"
     ]
    },
    {
     "name": "stdout",
     "output_type": "stream",
     "text": [
      "\r",
      " [*********53%           ] Elapsed 1.59s / Remaining 00:00:00:01"
     ]
    },
    {
     "name": "stdout",
     "output_type": "stream",
     "text": [
      "\r",
      " [*********53%           ] Elapsed 1.59s / Remaining 00:00:00:01"
     ]
    },
    {
     "name": "stdout",
     "output_type": "stream",
     "text": [
      "\r",
      " [*********53%           ] Elapsed 1.60s / Remaining 00:00:00:01"
     ]
    },
    {
     "name": "stdout",
     "output_type": "stream",
     "text": [
      "\r",
      " [*********53%           ] Elapsed 1.60s / Remaining 00:00:00:01"
     ]
    },
    {
     "name": "stdout",
     "output_type": "stream",
     "text": [
      "\r",
      " [*********53%           ] Elapsed 1.60s / Remaining 00:00:00:01"
     ]
    },
    {
     "name": "stdout",
     "output_type": "stream",
     "text": [
      "\r",
      " [*********53%           ] Elapsed 1.60s / Remaining 00:00:00:01"
     ]
    },
    {
     "name": "stdout",
     "output_type": "stream",
     "text": [
      "\r",
      " [*********53%           ] Elapsed 1.61s / Remaining 00:00:00:01"
     ]
    },
    {
     "name": "stdout",
     "output_type": "stream",
     "text": [
      "\r",
      " [*********53%           ] Elapsed 1.61s / Remaining 00:00:00:01"
     ]
    },
    {
     "name": "stdout",
     "output_type": "stream",
     "text": [
      "\r",
      " [*********53%           ] Elapsed 1.62s / Remaining 00:00:00:01"
     ]
    },
    {
     "name": "stdout",
     "output_type": "stream",
     "text": [
      "\r",
      " [*********54%           ] Elapsed 1.62s / Remaining 00:00:00:01"
     ]
    },
    {
     "name": "stdout",
     "output_type": "stream",
     "text": [
      "\r",
      " [*********54%           ] Elapsed 1.62s / Remaining 00:00:00:01"
     ]
    },
    {
     "name": "stdout",
     "output_type": "stream",
     "text": [
      "\r",
      " [*********54%           ] Elapsed 1.63s / Remaining 00:00:00:01"
     ]
    },
    {
     "name": "stdout",
     "output_type": "stream",
     "text": [
      "\r",
      " [*********54%           ] Elapsed 1.63s / Remaining 00:00:00:01"
     ]
    },
    {
     "name": "stdout",
     "output_type": "stream",
     "text": [
      "\r",
      " [*********54%           ] Elapsed 1.63s / Remaining 00:00:00:01"
     ]
    },
    {
     "name": "stdout",
     "output_type": "stream",
     "text": [
      "\r",
      " [*********54%           ] Elapsed 1.63s / Remaining 00:00:00:01"
     ]
    },
    {
     "name": "stdout",
     "output_type": "stream",
     "text": [
      "\r",
      " [*********54%           ] Elapsed 1.64s / Remaining 00:00:00:01"
     ]
    },
    {
     "name": "stdout",
     "output_type": "stream",
     "text": [
      "\r",
      " [*********54%           ] Elapsed 1.64s / Remaining 00:00:00:01"
     ]
    },
    {
     "name": "stdout",
     "output_type": "stream",
     "text": [
      "\r",
      " [*********54%           ] Elapsed 1.64s / Remaining 00:00:00:01"
     ]
    },
    {
     "name": "stdout",
     "output_type": "stream",
     "text": [
      "\r",
      " [*********54%           ] Elapsed 1.65s / Remaining 00:00:00:01"
     ]
    },
    {
     "name": "stdout",
     "output_type": "stream",
     "text": [
      "\r",
      " [*********55%*          ] Elapsed 1.65s / Remaining 00:00:00:01"
     ]
    },
    {
     "name": "stdout",
     "output_type": "stream",
     "text": [
      "\r",
      " [*********55%*          ] Elapsed 1.65s / Remaining 00:00:00:01"
     ]
    },
    {
     "name": "stdout",
     "output_type": "stream",
     "text": [
      "\r",
      " [*********55%*          ] Elapsed 1.66s / Remaining 00:00:00:01"
     ]
    },
    {
     "name": "stdout",
     "output_type": "stream",
     "text": [
      "\r",
      " [*********55%*          ] Elapsed 1.66s / Remaining 00:00:00:01"
     ]
    },
    {
     "name": "stdout",
     "output_type": "stream",
     "text": [
      "\r",
      " [*********55%*          ] Elapsed 1.66s / Remaining 00:00:00:01"
     ]
    },
    {
     "name": "stdout",
     "output_type": "stream",
     "text": [
      "\r",
      " [*********55%*          ] Elapsed 1.67s / Remaining 00:00:00:01"
     ]
    },
    {
     "name": "stdout",
     "output_type": "stream",
     "text": [
      "\r",
      " [*********55%*          ] Elapsed 1.67s / Remaining 00:00:00:01"
     ]
    },
    {
     "name": "stdout",
     "output_type": "stream",
     "text": [
      "\r",
      " [*********55%*          ] Elapsed 1.67s / Remaining 00:00:00:01"
     ]
    },
    {
     "name": "stdout",
     "output_type": "stream",
     "text": [
      "\r",
      " [*********55%*          ] Elapsed 1.68s / Remaining 00:00:00:01"
     ]
    },
    {
     "name": "stdout",
     "output_type": "stream",
     "text": [
      "\r",
      " [*********55%*          ] Elapsed 1.68s / Remaining 00:00:00:01"
     ]
    },
    {
     "name": "stdout",
     "output_type": "stream",
     "text": [
      "\r",
      " [*********56%*          ] Elapsed 1.68s / Remaining 00:00:00:01"
     ]
    },
    {
     "name": "stdout",
     "output_type": "stream",
     "text": [
      "\r",
      " [*********56%*          ] Elapsed 1.68s / Remaining 00:00:00:01"
     ]
    },
    {
     "name": "stdout",
     "output_type": "stream",
     "text": [
      "\r",
      " [*********56%*          ] Elapsed 1.69s / Remaining 00:00:00:01"
     ]
    },
    {
     "name": "stdout",
     "output_type": "stream",
     "text": [
      "\r",
      " [*********56%*          ] Elapsed 1.69s / Remaining 00:00:00:01"
     ]
    },
    {
     "name": "stdout",
     "output_type": "stream",
     "text": [
      "\r",
      " [*********56%*          ] Elapsed 1.69s / Remaining 00:00:00:01"
     ]
    },
    {
     "name": "stdout",
     "output_type": "stream",
     "text": [
      "\r",
      " [*********56%*          ] Elapsed 1.70s / Remaining 00:00:00:01"
     ]
    },
    {
     "name": "stdout",
     "output_type": "stream",
     "text": [
      "\r",
      " [*********56%*          ] Elapsed 1.70s / Remaining 00:00:00:01"
     ]
    },
    {
     "name": "stdout",
     "output_type": "stream",
     "text": [
      "\r",
      " [*********56%*          ] Elapsed 1.70s / Remaining 00:00:00:01"
     ]
    },
    {
     "name": "stdout",
     "output_type": "stream",
     "text": [
      "\r",
      " [*********56%*          ] Elapsed 1.70s / Remaining 00:00:00:01"
     ]
    },
    {
     "name": "stdout",
     "output_type": "stream",
     "text": [
      "\r",
      " [*********56%*          ] Elapsed 1.71s / Remaining 00:00:00:01"
     ]
    },
    {
     "name": "stdout",
     "output_type": "stream",
     "text": [
      "\r",
      " [*********57%*          ] Elapsed 1.71s / Remaining 00:00:00:01"
     ]
    },
    {
     "name": "stdout",
     "output_type": "stream",
     "text": [
      "\r",
      " [*********57%*          ] Elapsed 1.71s / Remaining 00:00:00:01"
     ]
    },
    {
     "name": "stdout",
     "output_type": "stream",
     "text": [
      "\r",
      " [*********57%*          ] Elapsed 1.72s / Remaining 00:00:00:01"
     ]
    },
    {
     "name": "stdout",
     "output_type": "stream",
     "text": [
      "\r",
      " [*********57%*          ] Elapsed 1.72s / Remaining 00:00:00:01"
     ]
    },
    {
     "name": "stdout",
     "output_type": "stream",
     "text": [
      "\r",
      " [*********57%*          ] Elapsed 1.72s / Remaining 00:00:00:01"
     ]
    },
    {
     "name": "stdout",
     "output_type": "stream",
     "text": [
      "\r",
      " [*********57%*          ] Elapsed 1.73s / Remaining 00:00:00:01"
     ]
    },
    {
     "name": "stdout",
     "output_type": "stream",
     "text": [
      "\r",
      " [*********57%*          ] Elapsed 1.73s / Remaining 00:00:00:01"
     ]
    },
    {
     "name": "stdout",
     "output_type": "stream",
     "text": [
      "\r",
      " [*********57%*          ] Elapsed 1.73s / Remaining 00:00:00:01"
     ]
    },
    {
     "name": "stdout",
     "output_type": "stream",
     "text": [
      "\r",
      " [*********57%*          ] Elapsed 1.73s / Remaining 00:00:00:01"
     ]
    },
    {
     "name": "stdout",
     "output_type": "stream",
     "text": [
      "\r",
      " [*********57%*          ] Elapsed 1.74s / Remaining 00:00:00:01"
     ]
    },
    {
     "name": "stdout",
     "output_type": "stream",
     "text": [
      "\r",
      " [*********58%*          ] Elapsed 1.74s / Remaining 00:00:00:01"
     ]
    },
    {
     "name": "stdout",
     "output_type": "stream",
     "text": [
      "\r",
      " [*********58%*          ] Elapsed 1.74s / Remaining 00:00:00:01"
     ]
    },
    {
     "name": "stdout",
     "output_type": "stream",
     "text": [
      "\r",
      " [*********58%*          ] Elapsed 1.75s / Remaining 00:00:00:01"
     ]
    },
    {
     "name": "stdout",
     "output_type": "stream",
     "text": [
      "\r",
      " [*********58%*          ] Elapsed 1.75s / Remaining 00:00:00:01"
     ]
    },
    {
     "name": "stdout",
     "output_type": "stream",
     "text": [
      "\r",
      " [*********58%*          ] Elapsed 1.75s / Remaining 00:00:00:01"
     ]
    },
    {
     "name": "stdout",
     "output_type": "stream",
     "text": [
      "\r",
      " [*********58%*          ] Elapsed 1.75s / Remaining 00:00:00:01"
     ]
    },
    {
     "name": "stdout",
     "output_type": "stream",
     "text": [
      "\r",
      " [*********58%*          ] Elapsed 1.76s / Remaining 00:00:00:01"
     ]
    },
    {
     "name": "stdout",
     "output_type": "stream",
     "text": [
      "\r",
      " [*********58%*          ] Elapsed 1.76s / Remaining 00:00:00:01"
     ]
    },
    {
     "name": "stdout",
     "output_type": "stream",
     "text": [
      "\r",
      " [*********58%*          ] Elapsed 1.76s / Remaining 00:00:00:01"
     ]
    },
    {
     "name": "stdout",
     "output_type": "stream",
     "text": [
      "\r",
      " [*********58%*          ] Elapsed 1.77s / Remaining 00:00:00:01"
     ]
    },
    {
     "name": "stdout",
     "output_type": "stream",
     "text": [
      "\r",
      " [*********59%**         ] Elapsed 1.77s / Remaining 00:00:00:01"
     ]
    },
    {
     "name": "stdout",
     "output_type": "stream",
     "text": [
      "\r",
      " [*********59%**         ] Elapsed 1.77s / Remaining 00:00:00:01"
     ]
    },
    {
     "name": "stdout",
     "output_type": "stream",
     "text": [
      "\r",
      " [*********59%**         ] Elapsed 1.77s / Remaining 00:00:00:01"
     ]
    },
    {
     "name": "stdout",
     "output_type": "stream",
     "text": [
      "\r",
      " [*********59%**         ] Elapsed 1.78s / Remaining 00:00:00:01"
     ]
    },
    {
     "name": "stdout",
     "output_type": "stream",
     "text": [
      "\r",
      " [*********59%**         ] Elapsed 1.78s / Remaining 00:00:00:01"
     ]
    },
    {
     "name": "stdout",
     "output_type": "stream",
     "text": [
      "\r",
      " [*********59%**         ] Elapsed 1.78s / Remaining 00:00:00:01"
     ]
    },
    {
     "name": "stdout",
     "output_type": "stream",
     "text": [
      "\r",
      " [*********59%**         ] Elapsed 1.79s / Remaining 00:00:00:01"
     ]
    },
    {
     "name": "stdout",
     "output_type": "stream",
     "text": [
      "\r",
      " [*********59%**         ] Elapsed 1.79s / Remaining 00:00:00:01"
     ]
    },
    {
     "name": "stdout",
     "output_type": "stream",
     "text": [
      "\r",
      " [*********59%**         ] Elapsed 1.79s / Remaining 00:00:00:01"
     ]
    },
    {
     "name": "stdout",
     "output_type": "stream",
     "text": [
      "\r",
      " [*********59%**         ] Elapsed 1.80s / Remaining 00:00:00:01"
     ]
    },
    {
     "name": "stdout",
     "output_type": "stream",
     "text": [
      "\r",
      " [*********60%**         ] Elapsed 1.80s / Remaining 00:00:00:01"
     ]
    },
    {
     "name": "stdout",
     "output_type": "stream",
     "text": [
      "\r",
      " [*********60%**         ] Elapsed 1.80s / Remaining 00:00:00:01"
     ]
    },
    {
     "name": "stdout",
     "output_type": "stream",
     "text": [
      "\r",
      " [*********60%**         ] Elapsed 1.81s / Remaining 00:00:00:01"
     ]
    },
    {
     "name": "stdout",
     "output_type": "stream",
     "text": [
      "\r",
      " [*********60%**         ] Elapsed 1.81s / Remaining 00:00:00:01"
     ]
    },
    {
     "name": "stdout",
     "output_type": "stream",
     "text": [
      "\r",
      " [*********60%**         ] Elapsed 1.81s / Remaining 00:00:00:01"
     ]
    },
    {
     "name": "stdout",
     "output_type": "stream",
     "text": [
      "\r",
      " [*********60%**         ] Elapsed 1.81s / Remaining 00:00:00:01"
     ]
    },
    {
     "name": "stdout",
     "output_type": "stream",
     "text": [
      "\r",
      " [*********60%**         ] Elapsed 1.82s / Remaining 00:00:00:01"
     ]
    },
    {
     "name": "stdout",
     "output_type": "stream",
     "text": [
      "\r",
      " [*********60%**         ] Elapsed 1.82s / Remaining 00:00:00:01"
     ]
    },
    {
     "name": "stdout",
     "output_type": "stream",
     "text": [
      "\r",
      " [*********60%**         ] Elapsed 1.82s / Remaining 00:00:00:01"
     ]
    },
    {
     "name": "stdout",
     "output_type": "stream",
     "text": [
      "\r",
      " [*********60%**         ] Elapsed 1.83s / Remaining 00:00:00:01"
     ]
    },
    {
     "name": "stdout",
     "output_type": "stream",
     "text": [
      "\r",
      " [*********61%**         ] Elapsed 1.83s / Remaining 00:00:00:01"
     ]
    },
    {
     "name": "stdout",
     "output_type": "stream",
     "text": [
      "\r",
      " [*********61%**         ] Elapsed 1.83s / Remaining 00:00:00:01"
     ]
    },
    {
     "name": "stdout",
     "output_type": "stream",
     "text": [
      "\r",
      " [*********61%**         ] Elapsed 1.84s / Remaining 00:00:00:01"
     ]
    },
    {
     "name": "stdout",
     "output_type": "stream",
     "text": [
      "\r",
      " [*********61%**         ] Elapsed 1.84s / Remaining 00:00:00:01"
     ]
    },
    {
     "name": "stdout",
     "output_type": "stream",
     "text": [
      "\r",
      " [*********61%**         ] Elapsed 1.84s / Remaining 00:00:00:01"
     ]
    },
    {
     "name": "stdout",
     "output_type": "stream",
     "text": [
      "\r",
      " [*********61%**         ] Elapsed 1.85s / Remaining 00:00:00:01"
     ]
    },
    {
     "name": "stdout",
     "output_type": "stream",
     "text": [
      "\r",
      " [*********61%**         ] Elapsed 1.85s / Remaining 00:00:00:01"
     ]
    },
    {
     "name": "stdout",
     "output_type": "stream",
     "text": [
      "\r",
      " [*********61%**         ] Elapsed 1.85s / Remaining 00:00:00:01"
     ]
    },
    {
     "name": "stdout",
     "output_type": "stream",
     "text": [
      "\r",
      " [*********61%**         ] Elapsed 1.86s / Remaining 00:00:00:01"
     ]
    },
    {
     "name": "stdout",
     "output_type": "stream",
     "text": [
      "\r",
      " [*********61%**         ] Elapsed 1.86s / Remaining 00:00:00:01"
     ]
    },
    {
     "name": "stdout",
     "output_type": "stream",
     "text": [
      "\r",
      " [*********62%**         ] Elapsed 1.86s / Remaining 00:00:00:01"
     ]
    },
    {
     "name": "stdout",
     "output_type": "stream",
     "text": [
      "\r",
      " [*********62%**         ] Elapsed 1.87s / Remaining 00:00:00:01"
     ]
    },
    {
     "name": "stdout",
     "output_type": "stream",
     "text": [
      "\r",
      " [*********62%**         ] Elapsed 1.87s / Remaining 00:00:00:01"
     ]
    },
    {
     "name": "stdout",
     "output_type": "stream",
     "text": [
      "\r",
      " [*********62%**         ] Elapsed 1.87s / Remaining 00:00:00:01"
     ]
    },
    {
     "name": "stdout",
     "output_type": "stream",
     "text": [
      "\r",
      " [*********62%**         ] Elapsed 1.88s / Remaining 00:00:00:01"
     ]
    },
    {
     "name": "stdout",
     "output_type": "stream",
     "text": [
      "\r",
      " [*********62%**         ] Elapsed 1.88s / Remaining 00:00:00:01"
     ]
    },
    {
     "name": "stdout",
     "output_type": "stream",
     "text": [
      "\r",
      " [*********62%**         ] Elapsed 1.88s / Remaining 00:00:00:01"
     ]
    },
    {
     "name": "stdout",
     "output_type": "stream",
     "text": [
      "\r",
      " [*********62%**         ] Elapsed 1.89s / Remaining 00:00:00:01"
     ]
    },
    {
     "name": "stdout",
     "output_type": "stream",
     "text": [
      "\r",
      " [*********62%**         ] Elapsed 1.89s / Remaining 00:00:00:01"
     ]
    },
    {
     "name": "stdout",
     "output_type": "stream",
     "text": [
      "\r",
      " [*********62%**         ] Elapsed 1.89s / Remaining 00:00:00:01"
     ]
    },
    {
     "name": "stdout",
     "output_type": "stream",
     "text": [
      "\r",
      " [*********63%**         ] Elapsed 1.89s / Remaining 00:00:00:01"
     ]
    },
    {
     "name": "stdout",
     "output_type": "stream",
     "text": [
      "\r",
      " [*********63%**         ] Elapsed 1.90s / Remaining 00:00:00:01"
     ]
    },
    {
     "name": "stdout",
     "output_type": "stream",
     "text": [
      "\r",
      " [*********63%**         ] Elapsed 1.90s / Remaining 00:00:00:01"
     ]
    },
    {
     "name": "stdout",
     "output_type": "stream",
     "text": [
      "\r",
      " [*********63%**         ] Elapsed 1.90s / Remaining 00:00:00:01"
     ]
    },
    {
     "name": "stdout",
     "output_type": "stream",
     "text": [
      "\r",
      " [*********63%**         ] Elapsed 1.91s / Remaining 00:00:00:01"
     ]
    },
    {
     "name": "stdout",
     "output_type": "stream",
     "text": [
      "\r",
      " [*********63%**         ] Elapsed 1.91s / Remaining 00:00:00:01"
     ]
    },
    {
     "name": "stdout",
     "output_type": "stream",
     "text": [
      "\r",
      " [*********63%**         ] Elapsed 1.91s / Remaining 00:00:00:01"
     ]
    },
    {
     "name": "stdout",
     "output_type": "stream",
     "text": [
      "\r",
      " [*********63%**         ] Elapsed 1.92s / Remaining 00:00:00:01"
     ]
    },
    {
     "name": "stdout",
     "output_type": "stream",
     "text": [
      "\r",
      " [*********63%**         ] Elapsed 1.92s / Remaining 00:00:00:01"
     ]
    },
    {
     "name": "stdout",
     "output_type": "stream",
     "text": [
      "\r",
      " [*********63%**         ] Elapsed 1.92s / Remaining 00:00:00:01"
     ]
    },
    {
     "name": "stdout",
     "output_type": "stream",
     "text": [
      "\r",
      " [*********64%***        ] Elapsed 1.92s / Remaining 00:00:00:01"
     ]
    },
    {
     "name": "stdout",
     "output_type": "stream",
     "text": [
      "\r",
      " [*********64%***        ] Elapsed 1.93s / Remaining 00:00:00:01"
     ]
    },
    {
     "name": "stdout",
     "output_type": "stream",
     "text": [
      "\r",
      " [*********64%***        ] Elapsed 1.93s / Remaining 00:00:00:01"
     ]
    },
    {
     "name": "stdout",
     "output_type": "stream",
     "text": [
      "\r",
      " [*********64%***        ] Elapsed 1.93s / Remaining 00:00:00:01"
     ]
    },
    {
     "name": "stdout",
     "output_type": "stream",
     "text": [
      "\r",
      " [*********64%***        ] Elapsed 1.94s / Remaining 00:00:00:01"
     ]
    },
    {
     "name": "stdout",
     "output_type": "stream",
     "text": [
      "\r",
      " [*********64%***        ] Elapsed 1.94s / Remaining 00:00:00:01"
     ]
    },
    {
     "name": "stdout",
     "output_type": "stream",
     "text": [
      "\r",
      " [*********64%***        ] Elapsed 1.94s / Remaining 00:00:00:01"
     ]
    },
    {
     "name": "stdout",
     "output_type": "stream",
     "text": [
      "\r",
      " [*********64%***        ] Elapsed 1.95s / Remaining 00:00:00:01"
     ]
    },
    {
     "name": "stdout",
     "output_type": "stream",
     "text": [
      "\r",
      " [*********64%***        ] Elapsed 1.95s / Remaining 00:00:00:01"
     ]
    },
    {
     "name": "stdout",
     "output_type": "stream",
     "text": [
      "\r",
      " [*********64%***        ] Elapsed 1.95s / Remaining 00:00:00:01"
     ]
    },
    {
     "name": "stdout",
     "output_type": "stream",
     "text": [
      "\r",
      " [*********65%***        ] Elapsed 1.95s / Remaining 00:00:00:01"
     ]
    },
    {
     "name": "stdout",
     "output_type": "stream",
     "text": [
      "\r",
      " [*********65%***        ] Elapsed 1.96s / Remaining 00:00:00:01"
     ]
    },
    {
     "name": "stdout",
     "output_type": "stream",
     "text": [
      "\r",
      " [*********65%***        ] Elapsed 1.96s / Remaining 00:00:00:01"
     ]
    },
    {
     "name": "stdout",
     "output_type": "stream",
     "text": [
      "\r",
      " [*********65%***        ] Elapsed 1.96s / Remaining 00:00:00:01"
     ]
    },
    {
     "name": "stdout",
     "output_type": "stream",
     "text": [
      "\r",
      " [*********65%***        ] Elapsed 1.97s / Remaining 00:00:00:01"
     ]
    },
    {
     "name": "stdout",
     "output_type": "stream",
     "text": [
      "\r",
      " [*********65%***        ] Elapsed 1.97s / Remaining 00:00:00:01"
     ]
    },
    {
     "name": "stdout",
     "output_type": "stream",
     "text": [
      "\r",
      " [*********65%***        ] Elapsed 1.97s / Remaining 00:00:00:01"
     ]
    },
    {
     "name": "stdout",
     "output_type": "stream",
     "text": [
      "\r",
      " [*********65%***        ] Elapsed 1.97s / Remaining 00:00:00:01"
     ]
    },
    {
     "name": "stdout",
     "output_type": "stream",
     "text": [
      "\r",
      " [*********65%***        ] Elapsed 1.98s / Remaining 00:00:00:01"
     ]
    },
    {
     "name": "stdout",
     "output_type": "stream",
     "text": [
      "\r",
      " [*********65%***        ] Elapsed 1.98s / Remaining 00:00:00:01"
     ]
    },
    {
     "name": "stdout",
     "output_type": "stream",
     "text": [
      "\r",
      " [*********66%***        ] Elapsed 1.98s / Remaining 00:00:00:01"
     ]
    },
    {
     "name": "stdout",
     "output_type": "stream",
     "text": [
      "\r",
      " [*********66%***        ] Elapsed 1.99s / Remaining 00:00:00:01"
     ]
    },
    {
     "name": "stdout",
     "output_type": "stream",
     "text": [
      "\r",
      " [*********66%***        ] Elapsed 1.99s / Remaining 00:00:00:01"
     ]
    },
    {
     "name": "stdout",
     "output_type": "stream",
     "text": [
      "\r",
      " [*********66%***        ] Elapsed 1.99s / Remaining 00:00:00:01"
     ]
    },
    {
     "name": "stdout",
     "output_type": "stream",
     "text": [
      "\r",
      " [*********66%***        ] Elapsed 1.99s / Remaining 00:00:00:01"
     ]
    },
    {
     "name": "stdout",
     "output_type": "stream",
     "text": [
      "\r",
      " [*********66%***        ] Elapsed 2.00s / Remaining 00:00:00:01"
     ]
    },
    {
     "name": "stdout",
     "output_type": "stream",
     "text": [
      "\r",
      " [*********66%***        ] Elapsed 2.00s / Remaining 00:00:00:01"
     ]
    },
    {
     "name": "stdout",
     "output_type": "stream",
     "text": [
      "\r",
      " [*********66%***        ] Elapsed 2.00s / Remaining 00:00:00:01"
     ]
    },
    {
     "name": "stdout",
     "output_type": "stream",
     "text": [
      "\r",
      " [*********66%***        ] Elapsed 2.01s / Remaining 00:00:00:01"
     ]
    },
    {
     "name": "stdout",
     "output_type": "stream",
     "text": [
      "\r",
      " [*********66%***        ] Elapsed 2.01s / Remaining 00:00:00:01"
     ]
    },
    {
     "name": "stdout",
     "output_type": "stream",
     "text": [
      "\r",
      " [*********67%***        ] Elapsed 2.01s / Remaining 00:00:00:00"
     ]
    },
    {
     "name": "stdout",
     "output_type": "stream",
     "text": [
      "\r",
      " [*********67%***        ] Elapsed 2.01s / Remaining 00:00:00:00"
     ]
    },
    {
     "name": "stdout",
     "output_type": "stream",
     "text": [
      "\r",
      " [*********67%***        ] Elapsed 2.02s / Remaining 00:00:00:00"
     ]
    },
    {
     "name": "stdout",
     "output_type": "stream",
     "text": [
      "\r",
      " [*********67%***        ] Elapsed 2.02s / Remaining 00:00:00:00"
     ]
    },
    {
     "name": "stdout",
     "output_type": "stream",
     "text": [
      "\r",
      " [*********67%***        ] Elapsed 2.02s / Remaining 00:00:00:00"
     ]
    },
    {
     "name": "stdout",
     "output_type": "stream",
     "text": [
      "\r",
      " [*********67%***        ] Elapsed 2.03s / Remaining 00:00:00:00"
     ]
    },
    {
     "name": "stdout",
     "output_type": "stream",
     "text": [
      "\r",
      " [*********67%***        ] Elapsed 2.03s / Remaining 00:00:00:00"
     ]
    },
    {
     "name": "stdout",
     "output_type": "stream",
     "text": [
      "\r",
      " [*********67%***        ] Elapsed 2.03s / Remaining 00:00:00:01"
     ]
    },
    {
     "name": "stdout",
     "output_type": "stream",
     "text": [
      "\r",
      " [*********67%***        ] Elapsed 2.03s / Remaining 00:00:00:01"
     ]
    },
    {
     "name": "stdout",
     "output_type": "stream",
     "text": [
      "\r",
      " [*********67%***        ] Elapsed 2.04s / Remaining 00:00:00:01"
     ]
    },
    {
     "name": "stdout",
     "output_type": "stream",
     "text": [
      "\r"
     ]
    },
    {
     "name": "stdout",
     "output_type": "stream",
     "text": [
      " [*********68%****       ] Elapsed 2.04s / Remaining 00:00:00:00"
     ]
    },
    {
     "name": "stdout",
     "output_type": "stream",
     "text": [
      "\r",
      " [*********68%****       ] Elapsed 2.05s / Remaining 00:00:00:00"
     ]
    },
    {
     "name": "stdout",
     "output_type": "stream",
     "text": [
      "\r",
      " [*********68%****       ] Elapsed 2.05s / Remaining 00:00:00:00"
     ]
    },
    {
     "name": "stdout",
     "output_type": "stream",
     "text": [
      "\r",
      " [*********68%****       ] Elapsed 2.05s / Remaining 00:00:00:00"
     ]
    },
    {
     "name": "stdout",
     "output_type": "stream",
     "text": [
      "\r",
      " [*********68%****       ] Elapsed 2.06s / Remaining 00:00:00:00"
     ]
    },
    {
     "name": "stdout",
     "output_type": "stream",
     "text": [
      "\r",
      " [*********68%****       ] Elapsed 2.06s / Remaining 00:00:00:00"
     ]
    },
    {
     "name": "stdout",
     "output_type": "stream",
     "text": [
      "\r",
      " [*********68%****       ] Elapsed 2.06s / Remaining 00:00:00:00"
     ]
    },
    {
     "name": "stdout",
     "output_type": "stream",
     "text": [
      "\r",
      " [*********68%****       ] Elapsed 2.06s / Remaining 00:00:00:00"
     ]
    },
    {
     "name": "stdout",
     "output_type": "stream",
     "text": [
      "\r",
      " [*********68%****       ] Elapsed 2.07s / Remaining 00:00:00:00"
     ]
    },
    {
     "name": "stdout",
     "output_type": "stream",
     "text": [
      "\r",
      " [*********68%****       ] Elapsed 2.07s / Remaining 00:00:00:00"
     ]
    },
    {
     "name": "stdout",
     "output_type": "stream",
     "text": [
      "\r",
      " [*********69%****       ] Elapsed 2.07s / Remaining 00:00:00:00"
     ]
    },
    {
     "name": "stdout",
     "output_type": "stream",
     "text": [
      "\r",
      " [*********69%****       ] Elapsed 2.08s / Remaining 00:00:00:00"
     ]
    },
    {
     "name": "stdout",
     "output_type": "stream",
     "text": [
      "\r",
      " [*********69%****       ] Elapsed 2.08s / Remaining 00:00:00:00"
     ]
    },
    {
     "name": "stdout",
     "output_type": "stream",
     "text": [
      "\r",
      " [*********69%****       ] Elapsed 2.08s / Remaining 00:00:00:00"
     ]
    },
    {
     "name": "stdout",
     "output_type": "stream",
     "text": [
      "\r",
      " [*********69%****       ] Elapsed 2.09s / Remaining 00:00:00:00"
     ]
    },
    {
     "name": "stdout",
     "output_type": "stream",
     "text": [
      "\r",
      " [*********69%****       ] Elapsed 2.09s / Remaining 00:00:00:00"
     ]
    },
    {
     "name": "stdout",
     "output_type": "stream",
     "text": [
      "\r",
      " [*********69%****       ] Elapsed 2.09s / Remaining 00:00:00:00"
     ]
    },
    {
     "name": "stdout",
     "output_type": "stream",
     "text": [
      "\r",
      " [*********69%****       ] Elapsed 2.09s / Remaining 00:00:00:00"
     ]
    },
    {
     "name": "stdout",
     "output_type": "stream",
     "text": [
      "\r",
      " [*********69%****       ] Elapsed 2.10s / Remaining 00:00:00:00"
     ]
    },
    {
     "name": "stdout",
     "output_type": "stream",
     "text": [
      "\r",
      " [*********69%****       ] Elapsed 2.10s / Remaining 00:00:00:00"
     ]
    },
    {
     "name": "stdout",
     "output_type": "stream",
     "text": [
      "\r",
      " [*********70%****       ] Elapsed 2.10s / Remaining 00:00:00:00"
     ]
    },
    {
     "name": "stdout",
     "output_type": "stream",
     "text": [
      "\r",
      " [*********70%****       ] Elapsed 2.11s / Remaining 00:00:00:00"
     ]
    },
    {
     "name": "stdout",
     "output_type": "stream",
     "text": [
      "\r",
      " [*********70%****       ] Elapsed 2.11s / Remaining 00:00:00:00"
     ]
    },
    {
     "name": "stdout",
     "output_type": "stream",
     "text": [
      "\r",
      " [*********70%****       ] Elapsed 2.11s / Remaining 00:00:00:00"
     ]
    },
    {
     "name": "stdout",
     "output_type": "stream",
     "text": [
      "\r",
      " [*********70%****       ] Elapsed 2.11s / Remaining 00:00:00:00"
     ]
    },
    {
     "name": "stdout",
     "output_type": "stream",
     "text": [
      "\r",
      " [*********70%****       ] Elapsed 2.12s / Remaining 00:00:00:00"
     ]
    },
    {
     "name": "stdout",
     "output_type": "stream",
     "text": [
      "\r",
      " [*********70%****       ] Elapsed 2.12s / Remaining 00:00:00:00"
     ]
    },
    {
     "name": "stdout",
     "output_type": "stream",
     "text": [
      "\r",
      " [*********70%****       ] Elapsed 2.12s / Remaining 00:00:00:00"
     ]
    },
    {
     "name": "stdout",
     "output_type": "stream",
     "text": [
      "\r",
      " [*********70%****       ] Elapsed 2.13s / Remaining 00:00:00:00"
     ]
    },
    {
     "name": "stdout",
     "output_type": "stream",
     "text": [
      "\r",
      " [*********70%****       ] Elapsed 2.13s / Remaining 00:00:00:00"
     ]
    },
    {
     "name": "stdout",
     "output_type": "stream",
     "text": [
      "\r",
      " [*********71%****       ] Elapsed 2.13s / Remaining 00:00:00:00"
     ]
    },
    {
     "name": "stdout",
     "output_type": "stream",
     "text": [
      "\r",
      " [*********71%****       ] Elapsed 2.13s / Remaining 00:00:00:00"
     ]
    },
    {
     "name": "stdout",
     "output_type": "stream",
     "text": [
      "\r",
      " [*********71%****       ] Elapsed 2.14s / Remaining 00:00:00:00"
     ]
    },
    {
     "name": "stdout",
     "output_type": "stream",
     "text": [
      "\r",
      " [*********71%****       ] Elapsed 2.14s / Remaining 00:00:00:00"
     ]
    },
    {
     "name": "stdout",
     "output_type": "stream",
     "text": [
      "\r",
      " [*********71%****       ] Elapsed 2.14s / Remaining 00:00:00:00"
     ]
    },
    {
     "name": "stdout",
     "output_type": "stream",
     "text": [
      "\r",
      " [*********71%****       ] Elapsed 2.15s / Remaining 00:00:00:00"
     ]
    },
    {
     "name": "stdout",
     "output_type": "stream",
     "text": [
      "\r",
      " [*********71%****       ] Elapsed 2.15s / Remaining 00:00:00:00"
     ]
    },
    {
     "name": "stdout",
     "output_type": "stream",
     "text": [
      "\r",
      " [*********71%****       ] Elapsed 2.15s / Remaining 00:00:00:00"
     ]
    },
    {
     "name": "stdout",
     "output_type": "stream",
     "text": [
      "\r",
      " [*********71%****       ] Elapsed 2.15s / Remaining 00:00:00:00"
     ]
    },
    {
     "name": "stdout",
     "output_type": "stream",
     "text": [
      "\r",
      " [*********71%****       ] Elapsed 2.16s / Remaining 00:00:00:00"
     ]
    },
    {
     "name": "stdout",
     "output_type": "stream",
     "text": [
      "\r",
      " [*********72%*****      ] Elapsed 2.16s / Remaining 00:00:00:00"
     ]
    },
    {
     "name": "stdout",
     "output_type": "stream",
     "text": [
      "\r",
      " [*********72%*****      ] Elapsed 2.16s / Remaining 00:00:00:00"
     ]
    },
    {
     "name": "stdout",
     "output_type": "stream",
     "text": [
      "\r",
      " [*********72%*****      ] Elapsed 2.17s / Remaining 00:00:00:00"
     ]
    },
    {
     "name": "stdout",
     "output_type": "stream",
     "text": [
      "\r",
      " [*********72%*****      ] Elapsed 2.17s / Remaining 00:00:00:00"
     ]
    },
    {
     "name": "stdout",
     "output_type": "stream",
     "text": [
      "\r",
      " [*********72%*****      ] Elapsed 2.17s / Remaining 00:00:00:00"
     ]
    },
    {
     "name": "stdout",
     "output_type": "stream",
     "text": [
      "\r",
      " [*********72%*****      ] Elapsed 2.17s / Remaining 00:00:00:00"
     ]
    },
    {
     "name": "stdout",
     "output_type": "stream",
     "text": [
      "\r",
      " [*********72%*****      ] Elapsed 2.18s / Remaining 00:00:00:00"
     ]
    },
    {
     "name": "stdout",
     "output_type": "stream",
     "text": [
      "\r",
      " [*********72%*****      ] Elapsed 2.18s / Remaining 00:00:00:00"
     ]
    },
    {
     "name": "stdout",
     "output_type": "stream",
     "text": [
      "\r",
      " [*********72%*****      ] Elapsed 2.18s / Remaining 00:00:00:00"
     ]
    },
    {
     "name": "stdout",
     "output_type": "stream",
     "text": [
      "\r",
      " [*********72%*****      ] Elapsed 2.19s / Remaining 00:00:00:00"
     ]
    },
    {
     "name": "stdout",
     "output_type": "stream",
     "text": [
      "\r",
      " [*********73%*****      ] Elapsed 2.19s / Remaining 00:00:00:00"
     ]
    },
    {
     "name": "stdout",
     "output_type": "stream",
     "text": [
      "\r",
      " [*********73%*****      ] Elapsed 2.19s / Remaining 00:00:00:00"
     ]
    },
    {
     "name": "stdout",
     "output_type": "stream",
     "text": [
      "\r",
      " [*********73%*****      ] Elapsed 2.20s / Remaining 00:00:00:00"
     ]
    },
    {
     "name": "stdout",
     "output_type": "stream",
     "text": [
      "\r",
      " [*********73%*****      ] Elapsed 2.20s / Remaining 00:00:00:00"
     ]
    },
    {
     "name": "stdout",
     "output_type": "stream",
     "text": [
      "\r",
      " [*********73%*****      ] Elapsed 2.20s / Remaining 00:00:00:00"
     ]
    },
    {
     "name": "stdout",
     "output_type": "stream",
     "text": [
      "\r",
      " [*********73%*****      ] Elapsed 2.20s / Remaining 00:00:00:00"
     ]
    },
    {
     "name": "stdout",
     "output_type": "stream",
     "text": [
      "\r",
      " [*********73%*****      ] Elapsed 2.21s / Remaining 00:00:00:00"
     ]
    },
    {
     "name": "stdout",
     "output_type": "stream",
     "text": [
      "\r",
      " [*********73%*****      ] Elapsed 2.21s / Remaining 00:00:00:00"
     ]
    },
    {
     "name": "stdout",
     "output_type": "stream",
     "text": [
      "\r",
      " [*********73%*****      ] Elapsed 2.21s / Remaining 00:00:00:00"
     ]
    },
    {
     "name": "stdout",
     "output_type": "stream",
     "text": [
      "\r",
      " [*********73%*****      ] Elapsed 2.22s / Remaining 00:00:00:00"
     ]
    },
    {
     "name": "stdout",
     "output_type": "stream",
     "text": [
      "\r",
      " [*********74%*****      ] Elapsed 2.22s / Remaining 00:00:00:00"
     ]
    },
    {
     "name": "stdout",
     "output_type": "stream",
     "text": [
      "\r",
      " [*********74%*****      ] Elapsed 2.22s / Remaining 00:00:00:00"
     ]
    },
    {
     "name": "stdout",
     "output_type": "stream",
     "text": [
      "\r",
      " [*********74%*****      ] Elapsed 2.22s / Remaining 00:00:00:00"
     ]
    },
    {
     "name": "stdout",
     "output_type": "stream",
     "text": [
      "\r",
      " [*********74%*****      ] Elapsed 2.23s / Remaining 00:00:00:00"
     ]
    },
    {
     "name": "stdout",
     "output_type": "stream",
     "text": [
      "\r",
      " [*********74%*****      ] Elapsed 2.23s / Remaining 00:00:00:00"
     ]
    },
    {
     "name": "stdout",
     "output_type": "stream",
     "text": [
      "\r",
      " [*********74%*****      ] Elapsed 2.24s / Remaining 00:00:00:00"
     ]
    },
    {
     "name": "stdout",
     "output_type": "stream",
     "text": [
      "\r",
      " [*********74%*****      ] Elapsed 2.24s / Remaining 00:00:00:00"
     ]
    },
    {
     "name": "stdout",
     "output_type": "stream",
     "text": [
      "\r",
      " [*********74%*****      ] Elapsed 2.24s / Remaining 00:00:00:00"
     ]
    },
    {
     "name": "stdout",
     "output_type": "stream",
     "text": [
      "\r",
      " [*********74%*****      ] Elapsed 2.24s / Remaining 00:00:00:00"
     ]
    },
    {
     "name": "stdout",
     "output_type": "stream",
     "text": [
      "\r",
      " [*********74%*****      ] Elapsed 2.25s / Remaining 00:00:00:00"
     ]
    },
    {
     "name": "stdout",
     "output_type": "stream",
     "text": [
      "\r",
      " [*********75%*****      ] Elapsed 2.25s / Remaining 00:00:00:00"
     ]
    },
    {
     "name": "stdout",
     "output_type": "stream",
     "text": [
      "\r",
      " [*********75%*****      ] Elapsed 2.25s / Remaining 00:00:00:00"
     ]
    },
    {
     "name": "stdout",
     "output_type": "stream",
     "text": [
      "\r",
      " [*********75%*****      ] Elapsed 2.26s / Remaining 00:00:00:00"
     ]
    },
    {
     "name": "stdout",
     "output_type": "stream",
     "text": [
      "\r",
      " [*********75%*****      ] Elapsed 2.26s / Remaining 00:00:00:00"
     ]
    },
    {
     "name": "stdout",
     "output_type": "stream",
     "text": [
      "\r",
      " [*********75%*****      ] Elapsed 2.26s / Remaining 00:00:00:00"
     ]
    },
    {
     "name": "stdout",
     "output_type": "stream",
     "text": [
      "\r",
      " [*********75%*****      ] Elapsed 2.27s / Remaining 00:00:00:00"
     ]
    },
    {
     "name": "stdout",
     "output_type": "stream",
     "text": [
      "\r",
      " [*********75%*****      ] Elapsed 2.27s / Remaining 00:00:00:00"
     ]
    },
    {
     "name": "stdout",
     "output_type": "stream",
     "text": [
      "\r",
      " [*********75%*****      ] Elapsed 2.27s / Remaining 00:00:00:00"
     ]
    },
    {
     "name": "stdout",
     "output_type": "stream",
     "text": [
      "\r",
      " [*********75%*****      ] Elapsed 2.28s / Remaining 00:00:00:00"
     ]
    },
    {
     "name": "stdout",
     "output_type": "stream",
     "text": [
      "\r",
      " [*********75%*****      ] Elapsed 2.28s / Remaining 00:00:00:00"
     ]
    },
    {
     "name": "stdout",
     "output_type": "stream",
     "text": [
      "\r",
      " [*********76%*****      ] Elapsed 2.28s / Remaining 00:00:00:00"
     ]
    },
    {
     "name": "stdout",
     "output_type": "stream",
     "text": [
      "\r",
      " [*********76%*****      ] Elapsed 2.29s / Remaining 00:00:00:00"
     ]
    },
    {
     "name": "stdout",
     "output_type": "stream",
     "text": [
      "\r",
      " [*********76%*****      ] Elapsed 2.29s / Remaining 00:00:00:00"
     ]
    },
    {
     "name": "stdout",
     "output_type": "stream",
     "text": [
      "\r",
      " [*********76%*****      ] Elapsed 2.29s / Remaining 00:00:00:00"
     ]
    },
    {
     "name": "stdout",
     "output_type": "stream",
     "text": [
      "\r",
      " [*********76%*****      ] Elapsed 2.30s / Remaining 00:00:00:00"
     ]
    },
    {
     "name": "stdout",
     "output_type": "stream",
     "text": [
      "\r",
      " [*********76%*****      ] Elapsed 2.30s / Remaining 00:00:00:00"
     ]
    },
    {
     "name": "stdout",
     "output_type": "stream",
     "text": [
      "\r",
      " [*********76%*****      ] Elapsed 2.30s / Remaining 00:00:00:00"
     ]
    },
    {
     "name": "stdout",
     "output_type": "stream",
     "text": [
      "\r",
      " [*********76%*****      ] Elapsed 2.30s / Remaining 00:00:00:00"
     ]
    },
    {
     "name": "stdout",
     "output_type": "stream",
     "text": [
      "\r",
      " [*********76%*****      ] Elapsed 2.31s / Remaining 00:00:00:00"
     ]
    },
    {
     "name": "stdout",
     "output_type": "stream",
     "text": [
      "\r",
      " [*********76%*****      ] Elapsed 2.31s / Remaining 00:00:00:00"
     ]
    },
    {
     "name": "stdout",
     "output_type": "stream",
     "text": [
      "\r",
      " [*********77%******     ] Elapsed 2.31s / Remaining 00:00:00:00"
     ]
    },
    {
     "name": "stdout",
     "output_type": "stream",
     "text": [
      "\r",
      " [*********77%******     ] Elapsed 2.32s / Remaining 00:00:00:00"
     ]
    },
    {
     "name": "stdout",
     "output_type": "stream",
     "text": [
      "\r",
      " [*********77%******     ] Elapsed 2.32s / Remaining 00:00:00:00"
     ]
    },
    {
     "name": "stdout",
     "output_type": "stream",
     "text": [
      "\r",
      " [*********77%******     ] Elapsed 2.32s / Remaining 00:00:00:00"
     ]
    },
    {
     "name": "stdout",
     "output_type": "stream",
     "text": [
      "\r",
      " [*********77%******     ] Elapsed 2.33s / Remaining 00:00:00:00"
     ]
    },
    {
     "name": "stdout",
     "output_type": "stream",
     "text": [
      "\r",
      " [*********77%******     ] Elapsed 2.33s / Remaining 00:00:00:00"
     ]
    },
    {
     "name": "stdout",
     "output_type": "stream",
     "text": [
      "\r",
      " [*********77%******     ] Elapsed 2.33s / Remaining 00:00:00:00"
     ]
    },
    {
     "name": "stdout",
     "output_type": "stream",
     "text": [
      "\r",
      " [*********77%******     ] Elapsed 2.33s / Remaining 00:00:00:00"
     ]
    },
    {
     "name": "stdout",
     "output_type": "stream",
     "text": [
      "\r",
      " [*********77%******     ] Elapsed 2.34s / Remaining 00:00:00:00"
     ]
    },
    {
     "name": "stdout",
     "output_type": "stream",
     "text": [
      "\r",
      " [*********77%******     ] Elapsed 2.34s / Remaining 00:00:00:00"
     ]
    },
    {
     "name": "stdout",
     "output_type": "stream",
     "text": [
      "\r",
      " [*********78%******     ] Elapsed 2.34s / Remaining 00:00:00:00"
     ]
    },
    {
     "name": "stdout",
     "output_type": "stream",
     "text": [
      "\r",
      " [*********78%******     ] Elapsed 2.35s / Remaining 00:00:00:00"
     ]
    },
    {
     "name": "stdout",
     "output_type": "stream",
     "text": [
      "\r",
      " [*********78%******     ] Elapsed 2.35s / Remaining 00:00:00:00"
     ]
    },
    {
     "name": "stdout",
     "output_type": "stream",
     "text": [
      "\r",
      " [*********78%******     ] Elapsed 2.35s / Remaining 00:00:00:00"
     ]
    },
    {
     "name": "stdout",
     "output_type": "stream",
     "text": [
      "\r",
      " [*********78%******     ] Elapsed 2.35s / Remaining 00:00:00:00"
     ]
    },
    {
     "name": "stdout",
     "output_type": "stream",
     "text": [
      "\r",
      " [*********78%******     ] Elapsed 2.36s / Remaining 00:00:00:00"
     ]
    },
    {
     "name": "stdout",
     "output_type": "stream",
     "text": [
      "\r",
      " [*********78%******     ] Elapsed 2.36s / Remaining 00:00:00:00"
     ]
    },
    {
     "name": "stdout",
     "output_type": "stream",
     "text": [
      "\r",
      " [*********78%******     ] Elapsed 2.36s / Remaining 00:00:00:00"
     ]
    },
    {
     "name": "stdout",
     "output_type": "stream",
     "text": [
      "\r",
      " [*********78%******     ] Elapsed 2.37s / Remaining 00:00:00:00"
     ]
    },
    {
     "name": "stdout",
     "output_type": "stream",
     "text": [
      "\r",
      " [*********78%******     ] Elapsed 2.37s / Remaining 00:00:00:00"
     ]
    },
    {
     "name": "stdout",
     "output_type": "stream",
     "text": [
      "\r",
      " [*********79%******     ] Elapsed 2.37s / Remaining 00:00:00:00"
     ]
    },
    {
     "name": "stdout",
     "output_type": "stream",
     "text": [
      "\r",
      " [*********79%******     ] Elapsed 2.38s / Remaining 00:00:00:00"
     ]
    },
    {
     "name": "stdout",
     "output_type": "stream",
     "text": [
      "\r",
      " [*********79%******     ] Elapsed 2.38s / Remaining 00:00:00:00"
     ]
    },
    {
     "name": "stdout",
     "output_type": "stream",
     "text": [
      "\r",
      " [*********79%******     ] Elapsed 2.38s / Remaining 00:00:00:00"
     ]
    },
    {
     "name": "stdout",
     "output_type": "stream",
     "text": [
      "\r",
      " [*********79%******     ] Elapsed 2.39s / Remaining 00:00:00:00"
     ]
    },
    {
     "name": "stdout",
     "output_type": "stream",
     "text": [
      "\r",
      " [*********79%******     ] Elapsed 2.39s / Remaining 00:00:00:00"
     ]
    },
    {
     "name": "stdout",
     "output_type": "stream",
     "text": [
      "\r",
      " [*********79%******     ] Elapsed 2.39s / Remaining 00:00:00:00"
     ]
    },
    {
     "name": "stdout",
     "output_type": "stream",
     "text": [
      "\r",
      " [*********79%******     ] Elapsed 2.39s / Remaining 00:00:00:00"
     ]
    },
    {
     "name": "stdout",
     "output_type": "stream",
     "text": [
      "\r",
      " [*********79%******     ] Elapsed 2.40s / Remaining 00:00:00:00"
     ]
    },
    {
     "name": "stdout",
     "output_type": "stream",
     "text": [
      "\r",
      " [*********79%******     ] Elapsed 2.40s / Remaining 00:00:00:00"
     ]
    },
    {
     "name": "stdout",
     "output_type": "stream",
     "text": [
      "\r",
      " [*********80%******     ] Elapsed 2.40s / Remaining 00:00:00:00"
     ]
    },
    {
     "name": "stdout",
     "output_type": "stream",
     "text": [
      "\r",
      " [*********80%******     ] Elapsed 2.41s / Remaining 00:00:00:00"
     ]
    },
    {
     "name": "stdout",
     "output_type": "stream",
     "text": [
      "\r",
      " [*********80%******     ] Elapsed 2.41s / Remaining 00:00:00:00"
     ]
    },
    {
     "name": "stdout",
     "output_type": "stream",
     "text": [
      "\r",
      " [*********80%******     ] Elapsed 2.41s / Remaining 00:00:00:00"
     ]
    },
    {
     "name": "stdout",
     "output_type": "stream",
     "text": [
      "\r",
      " [*********80%******     ] Elapsed 2.41s / Remaining 00:00:00:00"
     ]
    },
    {
     "name": "stdout",
     "output_type": "stream",
     "text": [
      "\r",
      " [*********80%******     ] Elapsed 2.42s / Remaining 00:00:00:00"
     ]
    },
    {
     "name": "stdout",
     "output_type": "stream",
     "text": [
      "\r",
      " [*********80%******     ] Elapsed 2.42s / Remaining 00:00:00:00"
     ]
    },
    {
     "name": "stdout",
     "output_type": "stream",
     "text": [
      "\r",
      " [*********80%******     ] Elapsed 2.42s / Remaining 00:00:00:00"
     ]
    },
    {
     "name": "stdout",
     "output_type": "stream",
     "text": [
      "\r",
      " [*********80%******     ] Elapsed 2.43s / Remaining 00:00:00:00"
     ]
    },
    {
     "name": "stdout",
     "output_type": "stream",
     "text": [
      "\r",
      " [*********80%******     ] Elapsed 2.43s / Remaining 00:00:00:00"
     ]
    },
    {
     "name": "stdout",
     "output_type": "stream",
     "text": [
      "\r",
      " [*********81%*******    ] Elapsed 2.43s / Remaining 00:00:00:00"
     ]
    },
    {
     "name": "stdout",
     "output_type": "stream",
     "text": [
      "\r",
      " [*********81%*******    ] Elapsed 2.44s / Remaining 00:00:00:00"
     ]
    },
    {
     "name": "stdout",
     "output_type": "stream",
     "text": [
      "\r",
      " [*********81%*******    ] Elapsed 2.44s / Remaining 00:00:00:00"
     ]
    },
    {
     "name": "stdout",
     "output_type": "stream",
     "text": [
      "\r",
      " [*********81%*******    ] Elapsed 2.44s / Remaining 00:00:00:00"
     ]
    },
    {
     "name": "stdout",
     "output_type": "stream",
     "text": [
      "\r",
      " [*********81%*******    ] Elapsed 2.44s / Remaining 00:00:00:00"
     ]
    },
    {
     "name": "stdout",
     "output_type": "stream",
     "text": [
      "\r",
      " [*********81%*******    ] Elapsed 2.45s / Remaining 00:00:00:00"
     ]
    },
    {
     "name": "stdout",
     "output_type": "stream",
     "text": [
      "\r",
      " [*********81%*******    ] Elapsed 2.45s / Remaining 00:00:00:00"
     ]
    },
    {
     "name": "stdout",
     "output_type": "stream",
     "text": [
      "\r",
      " [*********81%*******    ] Elapsed 2.45s / Remaining 00:00:00:00"
     ]
    },
    {
     "name": "stdout",
     "output_type": "stream",
     "text": [
      "\r",
      " [*********81%*******    ] Elapsed 2.46s / Remaining 00:00:00:00"
     ]
    },
    {
     "name": "stdout",
     "output_type": "stream",
     "text": [
      "\r",
      " [*********81%*******    ] Elapsed 2.46s / Remaining 00:00:00:00"
     ]
    },
    {
     "name": "stdout",
     "output_type": "stream",
     "text": [
      "\r",
      " [*********82%*******    ] Elapsed 2.46s / Remaining 00:00:00:00"
     ]
    },
    {
     "name": "stdout",
     "output_type": "stream",
     "text": [
      "\r",
      " [*********82%*******    ] Elapsed 2.47s / Remaining 00:00:00:00"
     ]
    },
    {
     "name": "stdout",
     "output_type": "stream",
     "text": [
      "\r",
      " [*********82%*******    ] Elapsed 2.47s / Remaining 00:00:00:00"
     ]
    },
    {
     "name": "stdout",
     "output_type": "stream",
     "text": [
      "\r",
      " [*********82%*******    ] Elapsed 2.47s / Remaining 00:00:00:00"
     ]
    },
    {
     "name": "stdout",
     "output_type": "stream",
     "text": [
      "\r",
      " [*********82%*******    ] Elapsed 2.48s / Remaining 00:00:00:00"
     ]
    },
    {
     "name": "stdout",
     "output_type": "stream",
     "text": [
      "\r",
      " [*********82%*******    ] Elapsed 2.48s / Remaining 00:00:00:00"
     ]
    },
    {
     "name": "stdout",
     "output_type": "stream",
     "text": [
      "\r",
      " [*********82%*******    ] Elapsed 2.48s / Remaining 00:00:00:00"
     ]
    },
    {
     "name": "stdout",
     "output_type": "stream",
     "text": [
      "\r",
      " [*********82%*******    ] Elapsed 2.49s / Remaining 00:00:00:00"
     ]
    },
    {
     "name": "stdout",
     "output_type": "stream",
     "text": [
      "\r",
      " [*********82%*******    ] Elapsed 2.49s / Remaining 00:00:00:00"
     ]
    },
    {
     "name": "stdout",
     "output_type": "stream",
     "text": [
      "\r",
      " [*********82%*******    ] Elapsed 2.49s / Remaining 00:00:00:00"
     ]
    },
    {
     "name": "stdout",
     "output_type": "stream",
     "text": [
      "\r",
      " [*********83%*******    ] Elapsed 2.50s / Remaining 00:00:00:00"
     ]
    },
    {
     "name": "stdout",
     "output_type": "stream",
     "text": [
      "\r",
      " [*********83%*******    ] Elapsed 2.50s / Remaining 00:00:00:00"
     ]
    },
    {
     "name": "stdout",
     "output_type": "stream",
     "text": [
      "\r",
      " [*********83%*******    ] Elapsed 2.50s / Remaining 00:00:00:00"
     ]
    },
    {
     "name": "stdout",
     "output_type": "stream",
     "text": [
      "\r",
      " [*********83%*******    ] Elapsed 2.51s / Remaining 00:00:00:00"
     ]
    },
    {
     "name": "stdout",
     "output_type": "stream",
     "text": [
      "\r",
      " [*********83%*******    ] Elapsed 2.51s / Remaining 00:00:00:00"
     ]
    },
    {
     "name": "stdout",
     "output_type": "stream",
     "text": [
      "\r",
      " [*********83%*******    ] Elapsed 2.51s / Remaining 00:00:00:00"
     ]
    },
    {
     "name": "stdout",
     "output_type": "stream",
     "text": [
      "\r",
      " [*********83%*******    ] Elapsed 2.52s / Remaining 00:00:00:00"
     ]
    },
    {
     "name": "stdout",
     "output_type": "stream",
     "text": [
      "\r",
      " [*********83%*******    ] Elapsed 2.52s / Remaining 00:00:00:00"
     ]
    },
    {
     "name": "stdout",
     "output_type": "stream",
     "text": [
      "\r",
      " [*********83%*******    ] Elapsed 2.52s / Remaining 00:00:00:00"
     ]
    },
    {
     "name": "stdout",
     "output_type": "stream",
     "text": [
      "\r",
      " [*********83%*******    ] Elapsed 2.52s / Remaining 00:00:00:00"
     ]
    },
    {
     "name": "stdout",
     "output_type": "stream",
     "text": [
      "\r",
      " [*********84%*******    ] Elapsed 2.53s / Remaining 00:00:00:00"
     ]
    },
    {
     "name": "stdout",
     "output_type": "stream",
     "text": [
      "\r",
      " [*********84%*******    ] Elapsed 2.53s / Remaining 00:00:00:00"
     ]
    },
    {
     "name": "stdout",
     "output_type": "stream",
     "text": [
      "\r",
      " [*********84%*******    ] Elapsed 2.53s / Remaining 00:00:00:00"
     ]
    },
    {
     "name": "stdout",
     "output_type": "stream",
     "text": [
      "\r",
      " [*********84%*******    ] Elapsed 2.54s / Remaining 00:00:00:00"
     ]
    },
    {
     "name": "stdout",
     "output_type": "stream",
     "text": [
      "\r",
      " [*********84%*******    ] Elapsed 2.54s / Remaining 00:00:00:00"
     ]
    },
    {
     "name": "stdout",
     "output_type": "stream",
     "text": [
      "\r",
      " [*********84%*******    ] Elapsed 2.54s / Remaining 00:00:00:00"
     ]
    },
    {
     "name": "stdout",
     "output_type": "stream",
     "text": [
      "\r",
      " [*********84%*******    ] Elapsed 2.54s / Remaining 00:00:00:00"
     ]
    },
    {
     "name": "stdout",
     "output_type": "stream",
     "text": [
      "\r",
      " [*********84%*******    ] Elapsed 2.55s / Remaining 00:00:00:00"
     ]
    },
    {
     "name": "stdout",
     "output_type": "stream",
     "text": [
      "\r",
      " [*********84%*******    ] Elapsed 2.55s / Remaining 00:00:00:00"
     ]
    },
    {
     "name": "stdout",
     "output_type": "stream",
     "text": [
      "\r",
      " [*********84%*******    ] Elapsed 2.55s / Remaining 00:00:00:00"
     ]
    },
    {
     "name": "stdout",
     "output_type": "stream",
     "text": [
      "\r",
      " [*********85%********   ] Elapsed 2.56s / Remaining 00:00:00:00"
     ]
    },
    {
     "name": "stdout",
     "output_type": "stream",
     "text": [
      "\r",
      " [*********85%********   ] Elapsed 2.56s / Remaining 00:00:00:00"
     ]
    },
    {
     "name": "stdout",
     "output_type": "stream",
     "text": [
      "\r",
      " [*********85%********   ] Elapsed 2.56s / Remaining 00:00:00:00"
     ]
    },
    {
     "name": "stdout",
     "output_type": "stream",
     "text": [
      "\r",
      " [*********85%********   ] Elapsed 2.56s / Remaining 00:00:00:00"
     ]
    },
    {
     "name": "stdout",
     "output_type": "stream",
     "text": [
      "\r",
      " [*********85%********   ] Elapsed 2.57s / Remaining 00:00:00:00"
     ]
    },
    {
     "name": "stdout",
     "output_type": "stream",
     "text": [
      "\r",
      " [*********85%********   ] Elapsed 2.57s / Remaining 00:00:00:00"
     ]
    },
    {
     "name": "stdout",
     "output_type": "stream",
     "text": [
      "\r",
      " [*********85%********   ] Elapsed 2.57s / Remaining 00:00:00:00"
     ]
    },
    {
     "name": "stdout",
     "output_type": "stream",
     "text": [
      "\r",
      " [*********85%********   ] Elapsed 2.58s / Remaining 00:00:00:00"
     ]
    },
    {
     "name": "stdout",
     "output_type": "stream",
     "text": [
      "\r",
      " [*********85%********   ] Elapsed 2.58s / Remaining 00:00:00:00"
     ]
    },
    {
     "name": "stdout",
     "output_type": "stream",
     "text": [
      "\r",
      " [*********85%********   ] Elapsed 2.58s / Remaining 00:00:00:00"
     ]
    },
    {
     "name": "stdout",
     "output_type": "stream",
     "text": [
      "\r",
      " [*********86%********   ] Elapsed 2.59s / Remaining 00:00:00:00"
     ]
    },
    {
     "name": "stdout",
     "output_type": "stream",
     "text": [
      "\r",
      " [*********86%********   ] Elapsed 2.59s / Remaining 00:00:00:00"
     ]
    },
    {
     "name": "stdout",
     "output_type": "stream",
     "text": [
      "\r",
      " [*********86%********   ] Elapsed 2.59s / Remaining 00:00:00:00"
     ]
    },
    {
     "name": "stdout",
     "output_type": "stream",
     "text": [
      "\r",
      " [*********86%********   ] Elapsed 2.59s / Remaining 00:00:00:00"
     ]
    },
    {
     "name": "stdout",
     "output_type": "stream",
     "text": [
      "\r",
      " [*********86%********   ] Elapsed 2.60s / Remaining 00:00:00:00"
     ]
    },
    {
     "name": "stdout",
     "output_type": "stream",
     "text": [
      "\r",
      " [*********86%********   ] Elapsed 2.60s / Remaining 00:00:00:00"
     ]
    },
    {
     "name": "stdout",
     "output_type": "stream",
     "text": [
      "\r",
      " [*********86%********   ] Elapsed 2.60s / Remaining 00:00:00:00"
     ]
    },
    {
     "name": "stdout",
     "output_type": "stream",
     "text": [
      "\r",
      " [*********86%********   ] Elapsed 2.61s / Remaining 00:00:00:00"
     ]
    },
    {
     "name": "stdout",
     "output_type": "stream",
     "text": [
      "\r",
      " [*********86%********   ] Elapsed 2.61s / Remaining 00:00:00:00"
     ]
    },
    {
     "name": "stdout",
     "output_type": "stream",
     "text": [
      "\r",
      " [*********86%********   ] Elapsed 2.61s / Remaining 00:00:00:00"
     ]
    },
    {
     "name": "stdout",
     "output_type": "stream",
     "text": [
      "\r",
      " [*********87%********   ] Elapsed 2.62s / Remaining 00:00:00:00"
     ]
    },
    {
     "name": "stdout",
     "output_type": "stream",
     "text": [
      "\r",
      " [*********87%********   ] Elapsed 2.62s / Remaining 00:00:00:00"
     ]
    },
    {
     "name": "stdout",
     "output_type": "stream",
     "text": [
      "\r",
      " [*********87%********   ] Elapsed 2.62s / Remaining 00:00:00:00"
     ]
    },
    {
     "name": "stdout",
     "output_type": "stream",
     "text": [
      "\r",
      " [*********87%********   ] Elapsed 2.62s / Remaining 00:00:00:00"
     ]
    },
    {
     "name": "stdout",
     "output_type": "stream",
     "text": [
      "\r",
      " [*********87%********   ] Elapsed 2.63s / Remaining 00:00:00:00"
     ]
    },
    {
     "name": "stdout",
     "output_type": "stream",
     "text": [
      "\r",
      " [*********87%********   ] Elapsed 2.63s / Remaining 00:00:00:00"
     ]
    },
    {
     "name": "stdout",
     "output_type": "stream",
     "text": [
      "\r",
      " [*********87%********   ] Elapsed 2.63s / Remaining 00:00:00:00"
     ]
    },
    {
     "name": "stdout",
     "output_type": "stream",
     "text": [
      "\r",
      " [*********87%********   ] Elapsed 2.64s / Remaining 00:00:00:00"
     ]
    },
    {
     "name": "stdout",
     "output_type": "stream",
     "text": [
      "\r",
      " [*********87%********   ] Elapsed 2.64s / Remaining 00:00:00:00"
     ]
    },
    {
     "name": "stdout",
     "output_type": "stream",
     "text": [
      "\r",
      " [*********87%********   ] Elapsed 2.64s / Remaining 00:00:00:00"
     ]
    },
    {
     "name": "stdout",
     "output_type": "stream",
     "text": [
      "\r",
      " [*********88%********   ] Elapsed 2.65s / Remaining 00:00:00:00"
     ]
    },
    {
     "name": "stdout",
     "output_type": "stream",
     "text": [
      "\r",
      " [*********88%********   ] Elapsed 2.65s / Remaining 00:00:00:00"
     ]
    },
    {
     "name": "stdout",
     "output_type": "stream",
     "text": [
      "\r",
      " [*********88%********   ] Elapsed 2.65s / Remaining 00:00:00:00"
     ]
    },
    {
     "name": "stdout",
     "output_type": "stream",
     "text": [
      "\r",
      " [*********88%********   ] Elapsed 2.65s / Remaining 00:00:00:00"
     ]
    },
    {
     "name": "stdout",
     "output_type": "stream",
     "text": [
      "\r",
      " [*********88%********   ] Elapsed 2.66s / Remaining 00:00:00:00"
     ]
    },
    {
     "name": "stdout",
     "output_type": "stream",
     "text": [
      "\r",
      " [*********88%********   ] Elapsed 2.66s / Remaining 00:00:00:00"
     ]
    },
    {
     "name": "stdout",
     "output_type": "stream",
     "text": [
      "\r",
      " [*********88%********   ] Elapsed 2.66s / Remaining 00:00:00:00"
     ]
    },
    {
     "name": "stdout",
     "output_type": "stream",
     "text": [
      "\r",
      " [*********88%********   ] Elapsed 2.67s / Remaining 00:00:00:00"
     ]
    },
    {
     "name": "stdout",
     "output_type": "stream",
     "text": [
      "\r",
      " [*********88%********   ] Elapsed 2.67s / Remaining 00:00:00:00"
     ]
    },
    {
     "name": "stdout",
     "output_type": "stream",
     "text": [
      "\r",
      " [*********88%********   ] Elapsed 2.67s / Remaining 00:00:00:00"
     ]
    },
    {
     "name": "stdout",
     "output_type": "stream",
     "text": [
      "\r",
      " [*********89%********   ] Elapsed 2.68s / Remaining 00:00:00:00"
     ]
    },
    {
     "name": "stdout",
     "output_type": "stream",
     "text": [
      "\r",
      " [*********89%********   ] Elapsed 2.68s / Remaining 00:00:00:00"
     ]
    },
    {
     "name": "stdout",
     "output_type": "stream",
     "text": [
      "\r",
      " [*********89%********   ] Elapsed 2.68s / Remaining 00:00:00:00"
     ]
    },
    {
     "name": "stdout",
     "output_type": "stream",
     "text": [
      "\r",
      " [*********89%********   ] Elapsed 2.68s / Remaining 00:00:00:00"
     ]
    },
    {
     "name": "stdout",
     "output_type": "stream",
     "text": [
      "\r",
      " [*********89%********   ] Elapsed 2.69s / Remaining 00:00:00:00"
     ]
    },
    {
     "name": "stdout",
     "output_type": "stream",
     "text": [
      "\r",
      " [*********89%********   ] Elapsed 2.69s / Remaining 00:00:00:00"
     ]
    },
    {
     "name": "stdout",
     "output_type": "stream",
     "text": [
      "\r",
      " [*********89%********   ] Elapsed 2.69s / Remaining 00:00:00:00"
     ]
    },
    {
     "name": "stdout",
     "output_type": "stream",
     "text": [
      "\r",
      " [*********89%********   ] Elapsed 2.70s / Remaining 00:00:00:00"
     ]
    },
    {
     "name": "stdout",
     "output_type": "stream",
     "text": [
      "\r",
      " [*********89%********   ] Elapsed 2.70s / Remaining 00:00:00:00"
     ]
    },
    {
     "name": "stdout",
     "output_type": "stream",
     "text": [
      "\r",
      " [*********89%********   ] Elapsed 2.70s / Remaining 00:00:00:00"
     ]
    },
    {
     "name": "stdout",
     "output_type": "stream",
     "text": [
      "\r",
      " [*********90%*********  ] Elapsed 2.71s / Remaining 00:00:00:00"
     ]
    },
    {
     "name": "stdout",
     "output_type": "stream",
     "text": [
      "\r",
      " [*********90%*********  ] Elapsed 2.71s / Remaining 00:00:00:00"
     ]
    },
    {
     "name": "stdout",
     "output_type": "stream",
     "text": [
      "\r",
      " [*********90%*********  ] Elapsed 2.71s / Remaining 00:00:00:00"
     ]
    },
    {
     "name": "stdout",
     "output_type": "stream",
     "text": [
      "\r",
      " [*********90%*********  ] Elapsed 2.72s / Remaining 00:00:00:00"
     ]
    },
    {
     "name": "stdout",
     "output_type": "stream",
     "text": [
      "\r",
      " [*********90%*********  ] Elapsed 2.72s / Remaining 00:00:00:00"
     ]
    },
    {
     "name": "stdout",
     "output_type": "stream",
     "text": [
      "\r",
      " [*********90%*********  ] Elapsed 2.72s / Remaining 00:00:00:00"
     ]
    },
    {
     "name": "stdout",
     "output_type": "stream",
     "text": [
      "\r",
      " [*********90%*********  ] Elapsed 2.73s / Remaining 00:00:00:00"
     ]
    },
    {
     "name": "stdout",
     "output_type": "stream",
     "text": [
      "\r",
      " [*********90%*********  ] Elapsed 2.73s / Remaining 00:00:00:00"
     ]
    },
    {
     "name": "stdout",
     "output_type": "stream",
     "text": [
      "\r",
      " [*********90%*********  ] Elapsed 2.73s / Remaining 00:00:00:00"
     ]
    },
    {
     "name": "stdout",
     "output_type": "stream",
     "text": [
      "\r",
      " [*********90%*********  ] Elapsed 2.74s / Remaining 00:00:00:00"
     ]
    },
    {
     "name": "stdout",
     "output_type": "stream",
     "text": [
      "\r",
      " [*********91%*********  ] Elapsed 2.74s / Remaining 00:00:00:00"
     ]
    },
    {
     "name": "stdout",
     "output_type": "stream",
     "text": [
      "\r",
      " [*********91%*********  ] Elapsed 2.74s / Remaining 00:00:00:00"
     ]
    },
    {
     "name": "stdout",
     "output_type": "stream",
     "text": [
      "\r",
      " [*********91%*********  ] Elapsed 2.74s / Remaining 00:00:00:00"
     ]
    },
    {
     "name": "stdout",
     "output_type": "stream",
     "text": [
      "\r",
      " [*********91%*********  ] Elapsed 2.75s / Remaining 00:00:00:00"
     ]
    },
    {
     "name": "stdout",
     "output_type": "stream",
     "text": [
      "\r",
      " [*********91%*********  ] Elapsed 2.75s / Remaining 00:00:00:00"
     ]
    },
    {
     "name": "stdout",
     "output_type": "stream",
     "text": [
      "\r",
      " [*********91%*********  ] Elapsed 2.75s / Remaining 00:00:00:00"
     ]
    },
    {
     "name": "stdout",
     "output_type": "stream",
     "text": [
      "\r",
      " [*********91%*********  ] Elapsed 2.76s / Remaining 00:00:00:00"
     ]
    },
    {
     "name": "stdout",
     "output_type": "stream",
     "text": [
      "\r",
      " [*********91%*********  ] Elapsed 2.76s / Remaining 00:00:00:00"
     ]
    },
    {
     "name": "stdout",
     "output_type": "stream",
     "text": [
      "\r",
      " [*********91%*********  ] Elapsed 2.76s / Remaining 00:00:00:00"
     ]
    },
    {
     "name": "stdout",
     "output_type": "stream",
     "text": [
      "\r",
      " [*********91%*********  ] Elapsed 2.77s / Remaining 00:00:00:00"
     ]
    },
    {
     "name": "stdout",
     "output_type": "stream",
     "text": [
      "\r",
      " [*********92%*********  ] Elapsed 2.77s / Remaining 00:00:00:00"
     ]
    },
    {
     "name": "stdout",
     "output_type": "stream",
     "text": [
      "\r",
      " [*********92%*********  ] Elapsed 2.77s / Remaining 00:00:00:00"
     ]
    },
    {
     "name": "stdout",
     "output_type": "stream",
     "text": [
      "\r",
      " [*********92%*********  ] Elapsed 2.77s / Remaining 00:00:00:00"
     ]
    },
    {
     "name": "stdout",
     "output_type": "stream",
     "text": [
      "\r",
      " [*********92%*********  ] Elapsed 2.78s / Remaining 00:00:00:00"
     ]
    },
    {
     "name": "stdout",
     "output_type": "stream",
     "text": [
      "\r",
      " [*********92%*********  ] Elapsed 2.78s / Remaining 00:00:00:00"
     ]
    },
    {
     "name": "stdout",
     "output_type": "stream",
     "text": [
      "\r",
      " [*********92%*********  ] Elapsed 2.78s / Remaining 00:00:00:00"
     ]
    },
    {
     "name": "stdout",
     "output_type": "stream",
     "text": [
      "\r",
      " [*********92%*********  ] Elapsed 2.79s / Remaining 00:00:00:00"
     ]
    },
    {
     "name": "stdout",
     "output_type": "stream",
     "text": [
      "\r",
      " [*********92%*********  ] Elapsed 2.79s / Remaining 00:00:00:00"
     ]
    },
    {
     "name": "stdout",
     "output_type": "stream",
     "text": [
      "\r",
      " [*********92%*********  ] Elapsed 2.79s / Remaining 00:00:00:00"
     ]
    },
    {
     "name": "stdout",
     "output_type": "stream",
     "text": [
      "\r",
      " [*********92%*********  ] Elapsed 2.79s / Remaining 00:00:00:00"
     ]
    },
    {
     "name": "stdout",
     "output_type": "stream",
     "text": [
      "\r",
      " [*********93%*********  ] Elapsed 2.80s / Remaining 00:00:00:00"
     ]
    },
    {
     "name": "stdout",
     "output_type": "stream",
     "text": [
      "\r",
      " [*********93%*********  ] Elapsed 2.80s / Remaining 00:00:00:00"
     ]
    },
    {
     "name": "stdout",
     "output_type": "stream",
     "text": [
      "\r",
      " [*********93%*********  ] Elapsed 2.80s / Remaining 00:00:00:00"
     ]
    },
    {
     "name": "stdout",
     "output_type": "stream",
     "text": [
      "\r",
      " [*********93%*********  ] Elapsed 2.81s / Remaining 00:00:00:00"
     ]
    },
    {
     "name": "stdout",
     "output_type": "stream",
     "text": [
      "\r",
      " [*********93%*********  ] Elapsed 2.81s / Remaining 00:00:00:00"
     ]
    },
    {
     "name": "stdout",
     "output_type": "stream",
     "text": [
      "\r",
      " [*********93%*********  ] Elapsed 2.81s / Remaining 00:00:00:00"
     ]
    },
    {
     "name": "stdout",
     "output_type": "stream",
     "text": [
      "\r",
      " [*********93%*********  ] Elapsed 2.82s / Remaining 00:00:00:00"
     ]
    },
    {
     "name": "stdout",
     "output_type": "stream",
     "text": [
      "\r",
      " [*********93%*********  ] Elapsed 2.82s / Remaining 00:00:00:00"
     ]
    },
    {
     "name": "stdout",
     "output_type": "stream",
     "text": [
      "\r",
      " [*********93%*********  ] Elapsed 2.82s / Remaining 00:00:00:00"
     ]
    },
    {
     "name": "stdout",
     "output_type": "stream",
     "text": [
      "\r",
      " [*********93%*********  ] Elapsed 2.82s / Remaining 00:00:00:00"
     ]
    },
    {
     "name": "stdout",
     "output_type": "stream",
     "text": [
      "\r",
      " [*********94%********** ] Elapsed 2.83s / Remaining 00:00:00:00"
     ]
    },
    {
     "name": "stdout",
     "output_type": "stream",
     "text": [
      "\r",
      " [*********94%********** ] Elapsed 2.83s / Remaining 00:00:00:00"
     ]
    },
    {
     "name": "stdout",
     "output_type": "stream",
     "text": [
      "\r",
      " [*********94%********** ] Elapsed 2.83s / Remaining 00:00:00:00"
     ]
    },
    {
     "name": "stdout",
     "output_type": "stream",
     "text": [
      "\r",
      " [*********94%********** ] Elapsed 2.84s / Remaining 00:00:00:00"
     ]
    },
    {
     "name": "stdout",
     "output_type": "stream",
     "text": [
      "\r",
      " [*********94%********** ] Elapsed 2.84s / Remaining 00:00:00:00"
     ]
    },
    {
     "name": "stdout",
     "output_type": "stream",
     "text": [
      "\r",
      " [*********94%********** ] Elapsed 2.84s / Remaining 00:00:00:00"
     ]
    },
    {
     "name": "stdout",
     "output_type": "stream",
     "text": [
      "\r",
      " [*********94%********** ] Elapsed 2.84s / Remaining 00:00:00:00"
     ]
    },
    {
     "name": "stdout",
     "output_type": "stream",
     "text": [
      "\r",
      " [*********94%********** ] Elapsed 2.85s / Remaining 00:00:00:00"
     ]
    },
    {
     "name": "stdout",
     "output_type": "stream",
     "text": [
      "\r",
      " [*********94%********** ] Elapsed 2.85s / Remaining 00:00:00:00"
     ]
    },
    {
     "name": "stdout",
     "output_type": "stream",
     "text": [
      "\r",
      " [*********94%********** ] Elapsed 2.85s / Remaining 00:00:00:00"
     ]
    },
    {
     "name": "stdout",
     "output_type": "stream",
     "text": [
      "\r",
      " [*********95%********** ] Elapsed 2.86s / Remaining 00:00:00:00"
     ]
    },
    {
     "name": "stdout",
     "output_type": "stream",
     "text": [
      "\r",
      " [*********95%********** ] Elapsed 2.86s / Remaining 00:00:00:00"
     ]
    },
    {
     "name": "stdout",
     "output_type": "stream",
     "text": [
      "\r",
      " [*********95%********** ] Elapsed 2.86s / Remaining 00:00:00:00"
     ]
    },
    {
     "name": "stdout",
     "output_type": "stream",
     "text": [
      "\r",
      " [*********95%********** ] Elapsed 2.86s / Remaining 00:00:00:00"
     ]
    },
    {
     "name": "stdout",
     "output_type": "stream",
     "text": [
      "\r",
      " [*********95%********** ] Elapsed 2.87s / Remaining 00:00:00:00"
     ]
    },
    {
     "name": "stdout",
     "output_type": "stream",
     "text": [
      "\r",
      " [*********95%********** ] Elapsed 2.87s / Remaining 00:00:00:00"
     ]
    },
    {
     "name": "stdout",
     "output_type": "stream",
     "text": [
      "\r",
      " [*********95%********** ] Elapsed 2.87s / Remaining 00:00:00:00"
     ]
    },
    {
     "name": "stdout",
     "output_type": "stream",
     "text": [
      "\r",
      " [*********95%********** ] Elapsed 2.88s / Remaining 00:00:00:00"
     ]
    },
    {
     "name": "stdout",
     "output_type": "stream",
     "text": [
      "\r",
      " [*********95%********** ] Elapsed 2.88s / Remaining 00:00:00:00"
     ]
    },
    {
     "name": "stdout",
     "output_type": "stream",
     "text": [
      "\r",
      " [*********95%********** ] Elapsed 2.88s / Remaining 00:00:00:00"
     ]
    },
    {
     "name": "stdout",
     "output_type": "stream",
     "text": [
      "\r",
      " [*********96%********** ] Elapsed 2.89s / Remaining 00:00:00:00"
     ]
    },
    {
     "name": "stdout",
     "output_type": "stream",
     "text": [
      "\r",
      " [*********96%********** ] Elapsed 2.89s / Remaining 00:00:00:00"
     ]
    },
    {
     "name": "stdout",
     "output_type": "stream",
     "text": [
      "\r",
      " [*********96%********** ] Elapsed 2.89s / Remaining 00:00:00:00"
     ]
    },
    {
     "name": "stdout",
     "output_type": "stream",
     "text": [
      "\r",
      " [*********96%********** ] Elapsed 2.90s / Remaining 00:00:00:00"
     ]
    },
    {
     "name": "stdout",
     "output_type": "stream",
     "text": [
      "\r",
      " [*********96%********** ] Elapsed 2.90s / Remaining 00:00:00:00"
     ]
    },
    {
     "name": "stdout",
     "output_type": "stream",
     "text": [
      "\r",
      " [*********96%********** ] Elapsed 2.90s / Remaining 00:00:00:00"
     ]
    },
    {
     "name": "stdout",
     "output_type": "stream",
     "text": [
      "\r",
      " [*********96%********** ] Elapsed 2.91s / Remaining 00:00:00:00"
     ]
    },
    {
     "name": "stdout",
     "output_type": "stream",
     "text": [
      "\r",
      " [*********96%********** ] Elapsed 2.91s / Remaining 00:00:00:00"
     ]
    },
    {
     "name": "stdout",
     "output_type": "stream",
     "text": [
      "\r",
      " [*********96%********** ] Elapsed 2.91s / Remaining 00:00:00:00"
     ]
    },
    {
     "name": "stdout",
     "output_type": "stream",
     "text": [
      "\r",
      " [*********96%********** ] Elapsed 2.92s / Remaining 00:00:00:00"
     ]
    },
    {
     "name": "stdout",
     "output_type": "stream",
     "text": [
      "\r",
      " [*********97%********** ] Elapsed 2.92s / Remaining 00:00:00:00"
     ]
    },
    {
     "name": "stdout",
     "output_type": "stream",
     "text": [
      "\r",
      " [*********97%********** ] Elapsed 2.92s / Remaining 00:00:00:00"
     ]
    },
    {
     "name": "stdout",
     "output_type": "stream",
     "text": [
      "\r",
      " [*********97%********** ] Elapsed 2.93s / Remaining 00:00:00:00"
     ]
    },
    {
     "name": "stdout",
     "output_type": "stream",
     "text": [
      "\r",
      " [*********97%********** ] Elapsed 2.93s / Remaining 00:00:00:00"
     ]
    },
    {
     "name": "stdout",
     "output_type": "stream",
     "text": [
      "\r",
      " [*********97%********** ] Elapsed 2.93s / Remaining 00:00:00:00"
     ]
    },
    {
     "name": "stdout",
     "output_type": "stream",
     "text": [
      "\r",
      " [*********97%********** ] Elapsed 2.93s / Remaining 00:00:00:00"
     ]
    },
    {
     "name": "stdout",
     "output_type": "stream",
     "text": [
      "\r",
      " [*********97%********** ] Elapsed 2.94s / Remaining 00:00:00:00"
     ]
    },
    {
     "name": "stdout",
     "output_type": "stream",
     "text": [
      "\r",
      " [*********97%********** ] Elapsed 2.94s / Remaining 00:00:00:00"
     ]
    },
    {
     "name": "stdout",
     "output_type": "stream",
     "text": [
      "\r",
      " [*********97%********** ] Elapsed 2.94s / Remaining 00:00:00:00"
     ]
    },
    {
     "name": "stdout",
     "output_type": "stream",
     "text": [
      "\r",
      " [*********97%********** ] Elapsed 2.95s / Remaining 00:00:00:00"
     ]
    },
    {
     "name": "stdout",
     "output_type": "stream",
     "text": [
      "\r",
      " [*********98%***********] Elapsed 2.95s / Remaining 00:00:00:00"
     ]
    },
    {
     "name": "stdout",
     "output_type": "stream",
     "text": [
      "\r",
      " [*********98%***********] Elapsed 2.95s / Remaining 00:00:00:00"
     ]
    },
    {
     "name": "stdout",
     "output_type": "stream",
     "text": [
      "\r",
      " [*********98%***********] Elapsed 2.96s / Remaining 00:00:00:00"
     ]
    },
    {
     "name": "stdout",
     "output_type": "stream",
     "text": [
      "\r",
      " [*********98%***********] Elapsed 2.96s / Remaining 00:00:00:00"
     ]
    },
    {
     "name": "stdout",
     "output_type": "stream",
     "text": [
      "\r",
      " [*********98%***********] Elapsed 2.96s / Remaining 00:00:00:00"
     ]
    },
    {
     "name": "stdout",
     "output_type": "stream",
     "text": [
      "\r",
      " [*********98%***********] Elapsed 2.96s / Remaining 00:00:00:00"
     ]
    },
    {
     "name": "stdout",
     "output_type": "stream",
     "text": [
      "\r",
      " [*********98%***********] Elapsed 2.97s / Remaining 00:00:00:00"
     ]
    },
    {
     "name": "stdout",
     "output_type": "stream",
     "text": [
      "\r",
      " [*********98%***********] Elapsed 2.97s / Remaining 00:00:00:00"
     ]
    },
    {
     "name": "stdout",
     "output_type": "stream",
     "text": [
      "\r",
      " [*********98%***********] Elapsed 2.97s / Remaining 00:00:00:00"
     ]
    },
    {
     "name": "stdout",
     "output_type": "stream",
     "text": [
      "\r",
      " [*********98%***********] Elapsed 2.98s / Remaining 00:00:00:00"
     ]
    },
    {
     "name": "stdout",
     "output_type": "stream",
     "text": [
      "\r",
      " [*********99%***********] Elapsed 2.98s / Remaining 00:00:00:00"
     ]
    },
    {
     "name": "stdout",
     "output_type": "stream",
     "text": [
      "\r",
      " [*********99%***********] Elapsed 2.98s / Remaining 00:00:00:00"
     ]
    },
    {
     "name": "stdout",
     "output_type": "stream",
     "text": [
      "\r",
      " [*********99%***********] Elapsed 2.99s / Remaining 00:00:00:00"
     ]
    },
    {
     "name": "stdout",
     "output_type": "stream",
     "text": [
      "\r",
      " [*********99%***********] Elapsed 2.99s / Remaining 00:00:00:00"
     ]
    },
    {
     "name": "stdout",
     "output_type": "stream",
     "text": [
      "\r",
      " [*********99%***********] Elapsed 2.99s / Remaining 00:00:00:00"
     ]
    },
    {
     "name": "stdout",
     "output_type": "stream",
     "text": [
      "\r",
      " [*********99%***********] Elapsed 2.99s / Remaining 00:00:00:00"
     ]
    },
    {
     "name": "stdout",
     "output_type": "stream",
     "text": [
      "\r",
      " [*********99%***********] Elapsed 3.00s / Remaining 00:00:00:00"
     ]
    },
    {
     "name": "stdout",
     "output_type": "stream",
     "text": [
      "\r",
      " [*********99%***********] Elapsed 3.00s / Remaining 00:00:00:00"
     ]
    },
    {
     "name": "stdout",
     "output_type": "stream",
     "text": [
      "\r",
      " [*********99%***********] Elapsed 3.00s / Remaining 00:00:00:00"
     ]
    },
    {
     "name": "stdout",
     "output_type": "stream",
     "text": [
      "\r",
      " [*********99%***********] Elapsed 3.01s / Remaining 00:00:00:00"
     ]
    },
    {
     "name": "stdout",
     "output_type": "stream",
     "text": [
      "\r",
      " [********100%***********] Elapsed 3.01s / Remaining 00:00:00:00"
     ]
    },
    {
     "name": "stdout",
     "output_type": "stream",
     "text": [
      "\r",
      " [********100%***********] Elapsed 3.01s / Remaining 00:00:00:00"
     ]
    },
    {
     "name": "stdout",
     "output_type": "stream",
     "text": [
      "\r",
      " [********100%***********] Elapsed 3.02s / Remaining 00:00:00:00"
     ]
    },
    {
     "name": "stdout",
     "output_type": "stream",
     "text": [
      "\r",
      " [********100%***********] Elapsed 3.02s / Remaining 00:00:00:00"
     ]
    },
    {
     "name": "stdout",
     "output_type": "stream",
     "text": [
      "\r",
      " [********100%***********] Elapsed 3.02s / Remaining 00:00:00:00"
     ]
    },
    {
     "name": "stdout",
     "output_type": "stream",
     "text": [
      "\r",
      " Total run time:   3.02s\n",
      "ODE solver time: 3.0237295627593994\n"
     ]
    }
   ],
   "source": [
    "# Compare to built-in under-damped bath:\n",
    "\n",
    "with timer(\"RHS construction time\"):\n",
    "    bath = UnderDampedBath(Q, lam=lam, gamma=gamma, w0=w0, T=T, Nk=Nk)\n",
    "    HEOM_udbath = HEOMSolver(Hsys, bath, NC, options=options)\n",
    "\n",
    "with timer(\"ODE solver time\"):\n",
    "    result_udbath = HEOM_udbath.run(rho0, tlist)"
   ]
  },
  {
   "cell_type": "code",
   "execution_count": 19,
   "id": "d2ba7653",
   "metadata": {
    "execution": {
     "iopub.execute_input": "2024-06-12T07:05:11.928120Z",
     "iopub.status.busy": "2024-06-12T07:05:11.927934Z",
     "iopub.status.idle": "2024-06-12T07:05:12.063426Z",
     "shell.execute_reply": "2024-06-12T07:05:12.062901Z"
    }
   },
   "outputs": [
    {
     "data": {
      "image/png": "[encoded data removed]",
      "text/plain": [
       "<Figure size 800x800 with 1 Axes>"
      ]
     },
     "metadata": {},
     "output_type": "display_data"
    }
   ],
   "source": [
    "plot_result_expectations([\n",
    "    (result_udbath, P11p, 'b', \"P11 (UnderDampedBath)\"),\n",
    "    (result_udbath, P12p, 'r', \"P12 (UnderDampedBath)\"),\n",
    "]);"
   ]
  },
  {
   "cell_type": "markdown",
   "id": "8ca04c27",
   "metadata": {},
   "source": [
    "## Compare the results"
   ]
  },
  {
   "cell_type": "markdown",
   "id": "3f872731",
   "metadata": {},
   "source": [
    "### We can compare these results to those of the Bloch-Redfield solver in QuTiP:"
   ]
  },
  {
   "cell_type": "code",
   "execution_count": 20,
   "id": "c7c56f6c",
   "metadata": {
    "execution": {
     "iopub.execute_input": "2024-06-12T07:05:12.065417Z",
     "iopub.status.busy": "2024-06-12T07:05:12.065240Z",
     "iopub.status.idle": "2024-06-12T07:05:17.898978Z",
     "shell.execute_reply": "2024-06-12T07:05:17.898443Z"
    }
   },
   "outputs": [
    {
     "name": "stdout",
     "output_type": "stream",
     "text": [
      "\r",
      " [          0%           ] Elapsed 0.01s / Remaining 00:00:00:00"
     ]
    },
    {
     "name": "stdout",
     "output_type": "stream",
     "text": [
      "\r",
      " [          0%           ] Elapsed 0.02s / Remaining 00:00:00:00"
     ]
    },
    {
     "name": "stdout",
     "output_type": "stream",
     "text": [
      "\r",
      " [          0%           ] Elapsed 0.03s / Remaining 00:00:00:00"
     ]
    },
    {
     "name": "stdout",
     "output_type": "stream",
     "text": [
      "\r",
      " [          0%           ] Elapsed 0.03s / Remaining 00:00:00:00"
     ]
    },
    {
     "name": "stdout",
     "output_type": "stream",
     "text": [
      "\r",
      " [          1%           ] Elapsed 0.04s / Remaining 00:00:00:03"
     ]
    },
    {
     "name": "stdout",
     "output_type": "stream",
     "text": [
      "\r",
      " [          1%           ] Elapsed 0.05s / Remaining 00:00:00:04"
     ]
    },
    {
     "name": "stdout",
     "output_type": "stream",
     "text": [
      "\r",
      " [          1%           ] Elapsed 0.05s / Remaining 00:00:00:05"
     ]
    },
    {
     "name": "stdout",
     "output_type": "stream",
     "text": [
      "\r",
      " [          1%           ] Elapsed 0.07s / Remaining 00:00:00:06"
     ]
    },
    {
     "name": "stdout",
     "output_type": "stream",
     "text": [
      "\r",
      " [          1%           ] Elapsed 0.07s / Remaining 00:00:00:07"
     ]
    },
    {
     "name": "stdout",
     "output_type": "stream",
     "text": [
      "\r",
      " [          1%           ] Elapsed 0.08s / Remaining 00:00:00:07"
     ]
    },
    {
     "name": "stdout",
     "output_type": "stream",
     "text": [
      "\r",
      " [          1%           ] Elapsed 0.09s / Remaining 00:00:00:08"
     ]
    },
    {
     "name": "stdout",
     "output_type": "stream",
     "text": [
      "\r",
      " [          1%           ] Elapsed 0.09s / Remaining 00:00:00:09"
     ]
    },
    {
     "name": "stdout",
     "output_type": "stream",
     "text": [
      "\r",
      " [          1%           ] Elapsed 0.10s / Remaining 00:00:00:10"
     ]
    },
    {
     "name": "stdout",
     "output_type": "stream",
     "text": [
      "\r",
      " [          1%           ] Elapsed 0.11s / Remaining 00:00:00:10"
     ]
    },
    {
     "name": "stdout",
     "output_type": "stream",
     "text": [
      "\r",
      " [          2%           ] Elapsed 0.11s / Remaining 00:00:00:05"
     ]
    },
    {
     "name": "stdout",
     "output_type": "stream",
     "text": [
      "\r",
      " [          2%           ] Elapsed 0.12s / Remaining 00:00:00:06"
     ]
    },
    {
     "name": "stdout",
     "output_type": "stream",
     "text": [
      "\r",
      " [          2%           ] Elapsed 0.13s / Remaining 00:00:00:06"
     ]
    },
    {
     "name": "stdout",
     "output_type": "stream",
     "text": [
      "\r",
      " [          2%           ] Elapsed 0.14s / Remaining 00:00:00:06"
     ]
    },
    {
     "name": "stdout",
     "output_type": "stream",
     "text": [
      "\r",
      " [          2%           ] Elapsed 0.15s / Remaining 00:00:00:07"
     ]
    },
    {
     "name": "stdout",
     "output_type": "stream",
     "text": [
      "\r",
      " [          2%           ] Elapsed 0.15s / Remaining 00:00:00:07"
     ]
    },
    {
     "name": "stdout",
     "output_type": "stream",
     "text": [
      "\r",
      " [          2%           ] Elapsed 0.16s / Remaining 00:00:00:07"
     ]
    },
    {
     "name": "stdout",
     "output_type": "stream",
     "text": [
      "\r",
      " [          2%           ] Elapsed 0.17s / Remaining 00:00:00:08"
     ]
    },
    {
     "name": "stdout",
     "output_type": "stream",
     "text": [
      "\r",
      " [          2%           ] Elapsed 0.17s / Remaining 00:00:00:08"
     ]
    },
    {
     "name": "stdout",
     "output_type": "stream",
     "text": [
      "\r",
      " [          2%           ] Elapsed 0.18s / Remaining 00:00:00:08"
     ]
    },
    {
     "name": "stdout",
     "output_type": "stream",
     "text": [
      "\r",
      " [*         3%           ] Elapsed 0.19s / Remaining 00:00:00:06"
     ]
    },
    {
     "name": "stdout",
     "output_type": "stream",
     "text": [
      "\r",
      " [*         3%           ] Elapsed 0.20s / Remaining 00:00:00:06"
     ]
    },
    {
     "name": "stdout",
     "output_type": "stream",
     "text": [
      "\r",
      " [*         3%           ] Elapsed 0.20s / Remaining 00:00:00:06"
     ]
    },
    {
     "name": "stderr",
     "output_type": "stream",
     "text": [
      "/usr/share/miniconda3/envs/test-environment/lib/python3.10/site-packages/qutip/core/coefficient.py:400: UserWarning: Both `cython` and `filelock` are required for compilation of string coefficents. Falling back on `eval`.\n",
      "  warnings.warn(\n"
     ]
    },
    {
     "name": "stdout",
     "output_type": "stream",
     "text": [
      "\r",
      " [*         3%           ] Elapsed 0.21s / Remaining 00:00:00:06"
     ]
    },
    {
     "name": "stdout",
     "output_type": "stream",
     "text": [
      "\r",
      " [*         3%           ] Elapsed 0.22s / Remaining 00:00:00:07"
     ]
    },
    {
     "name": "stdout",
     "output_type": "stream",
     "text": [
      "\r",
      " [*         3%           ] Elapsed 0.23s / Remaining 00:00:00:07"
     ]
    },
    {
     "name": "stdout",
     "output_type": "stream",
     "text": [
      "\r",
      " [*         3%           ] Elapsed 0.23s / Remaining 00:00:00:07"
     ]
    },
    {
     "name": "stdout",
     "output_type": "stream",
     "text": [
      "\r",
      " [*         3%           ] Elapsed 0.24s / Remaining 00:00:00:07"
     ]
    },
    {
     "name": "stdout",
     "output_type": "stream",
     "text": [
      "\r",
      " [*         3%           ] Elapsed 0.25s / Remaining 00:00:00:08"
     ]
    },
    {
     "name": "stdout",
     "output_type": "stream",
     "text": [
      "\r",
      " [*         3%           ] Elapsed 0.26s / Remaining 00:00:00:08"
     ]
    },
    {
     "name": "stdout",
     "output_type": "stream",
     "text": [
      "\r",
      " [*         4%           ] Elapsed 0.26s / Remaining 00:00:00:06"
     ]
    },
    {
     "name": "stdout",
     "output_type": "stream",
     "text": [
      "\r",
      " [*         4%           ] Elapsed 0.27s / Remaining 00:00:00:06"
     ]
    },
    {
     "name": "stdout",
     "output_type": "stream",
     "text": [
      "\r",
      " [*         4%           ] Elapsed 0.28s / Remaining 00:00:00:06"
     ]
    },
    {
     "name": "stdout",
     "output_type": "stream",
     "text": [
      "\r",
      " [*         4%           ] Elapsed 0.29s / Remaining 00:00:00:06"
     ]
    },
    {
     "name": "stdout",
     "output_type": "stream",
     "text": [
      "\r",
      " [*         4%           ] Elapsed 0.29s / Remaining 00:00:00:06"
     ]
    },
    {
     "name": "stdout",
     "output_type": "stream",
     "text": [
      "\r",
      " [*         4%           ] Elapsed 0.30s / Remaining 00:00:00:07"
     ]
    },
    {
     "name": "stdout",
     "output_type": "stream",
     "text": [
      "\r",
      " [*         4%           ] Elapsed 0.31s / Remaining 00:00:00:07"
     ]
    },
    {
     "name": "stdout",
     "output_type": "stream",
     "text": [
      "\r",
      " [*         4%           ] Elapsed 0.31s / Remaining 00:00:00:07"
     ]
    },
    {
     "name": "stdout",
     "output_type": "stream",
     "text": [
      "\r",
      " [*         4%           ] Elapsed 0.32s / Remaining 00:00:00:07"
     ]
    },
    {
     "name": "stdout",
     "output_type": "stream",
     "text": [
      "\r",
      " [*         4%           ] Elapsed 0.33s / Remaining 00:00:00:07"
     ]
    },
    {
     "name": "stdout",
     "output_type": "stream",
     "text": [
      "\r",
      " [*         5%           ] Elapsed 0.34s / Remaining 00:00:00:06"
     ]
    },
    {
     "name": "stdout",
     "output_type": "stream",
     "text": [
      "\r",
      " [*         5%           ] Elapsed 0.34s / Remaining 00:00:00:06"
     ]
    },
    {
     "name": "stdout",
     "output_type": "stream",
     "text": [
      "\r",
      " [*         5%           ] Elapsed 0.35s / Remaining 00:00:00:06"
     ]
    },
    {
     "name": "stdout",
     "output_type": "stream",
     "text": [
      "\r",
      " [*         5%           ] Elapsed 0.36s / Remaining 00:00:00:06"
     ]
    },
    {
     "name": "stdout",
     "output_type": "stream",
     "text": [
      "\r",
      " [*         5%           ] Elapsed 0.37s / Remaining 00:00:00:06"
     ]
    },
    {
     "name": "stdout",
     "output_type": "stream",
     "text": [
      "\r",
      " [*         5%           ] Elapsed 0.37s / Remaining 00:00:00:07"
     ]
    },
    {
     "name": "stdout",
     "output_type": "stream",
     "text": [
      "\r",
      " [*         5%           ] Elapsed 0.38s / Remaining 00:00:00:07"
     ]
    },
    {
     "name": "stdout",
     "output_type": "stream",
     "text": [
      "\r",
      " [*         5%           ] Elapsed 0.39s / Remaining 00:00:00:07"
     ]
    },
    {
     "name": "stdout",
     "output_type": "stream",
     "text": [
      "\r",
      " [*         5%           ] Elapsed 0.39s / Remaining 00:00:00:07"
     ]
    },
    {
     "name": "stdout",
     "output_type": "stream",
     "text": [
      "\r",
      " [*         5%           ] Elapsed 0.40s / Remaining 00:00:00:07"
     ]
    },
    {
     "name": "stdout",
     "output_type": "stream",
     "text": [
      "\r",
      " [*         6%           ] Elapsed 0.41s / Remaining 00:00:00:06"
     ]
    },
    {
     "name": "stdout",
     "output_type": "stream",
     "text": [
      "\r",
      " [*         6%           ] Elapsed 0.41s / Remaining 00:00:00:06"
     ]
    },
    {
     "name": "stdout",
     "output_type": "stream",
     "text": [
      "\r",
      " [*         6%           ] Elapsed 0.42s / Remaining 00:00:00:06"
     ]
    },
    {
     "name": "stdout",
     "output_type": "stream",
     "text": [
      "\r",
      " [*         6%           ] Elapsed 0.43s / Remaining 00:00:00:06"
     ]
    },
    {
     "name": "stdout",
     "output_type": "stream",
     "text": [
      "\r",
      " [*         6%           ] Elapsed 0.43s / Remaining 00:00:00:06"
     ]
    },
    {
     "name": "stdout",
     "output_type": "stream",
     "text": [
      "\r",
      " [*         6%           ] Elapsed 0.45s / Remaining 00:00:00:06"
     ]
    },
    {
     "name": "stdout",
     "output_type": "stream",
     "text": [
      "\r",
      " [*         6%           ] Elapsed 0.45s / Remaining 00:00:00:07"
     ]
    },
    {
     "name": "stdout",
     "output_type": "stream",
     "text": [
      "\r",
      " [*         6%           ] Elapsed 0.46s / Remaining 00:00:00:07"
     ]
    },
    {
     "name": "stdout",
     "output_type": "stream",
     "text": [
      "\r",
      " [*         6%           ] Elapsed 0.47s / Remaining 00:00:00:07"
     ]
    },
    {
     "name": "stdout",
     "output_type": "stream",
     "text": [
      "\r",
      " [*         6%           ] Elapsed 0.47s / Remaining 00:00:00:07"
     ]
    },
    {
     "name": "stdout",
     "output_type": "stream",
     "text": [
      "\r",
      " [**        7%           ] Elapsed 0.48s / Remaining 00:00:00:06"
     ]
    },
    {
     "name": "stdout",
     "output_type": "stream",
     "text": [
      "\r",
      " [**        7%           ] Elapsed 0.49s / Remaining 00:00:00:06"
     ]
    },
    {
     "name": "stdout",
     "output_type": "stream",
     "text": [
      "\r",
      " [**        7%           ] Elapsed 0.49s / Remaining 00:00:00:06"
     ]
    },
    {
     "name": "stdout",
     "output_type": "stream",
     "text": [
      "\r",
      " [**        7%           ] Elapsed 0.50s / Remaining 00:00:00:06"
     ]
    },
    {
     "name": "stdout",
     "output_type": "stream",
     "text": [
      "\r",
      " [**        7%           ] Elapsed 0.51s / Remaining 00:00:00:06"
     ]
    },
    {
     "name": "stdout",
     "output_type": "stream",
     "text": [
      "\r",
      " [**        7%           ] Elapsed 0.51s / Remaining 00:00:00:06"
     ]
    },
    {
     "name": "stdout",
     "output_type": "stream",
     "text": [
      "\r",
      " [**        7%           ] Elapsed 0.52s / Remaining 00:00:00:06"
     ]
    },
    {
     "name": "stdout",
     "output_type": "stream",
     "text": [
      "\r",
      " [**        7%           ] Elapsed 0.53s / Remaining 00:00:00:07"
     ]
    },
    {
     "name": "stdout",
     "output_type": "stream",
     "text": [
      "\r",
      " [**        7%           ] Elapsed 0.53s / Remaining 00:00:00:07"
     ]
    },
    {
     "name": "stdout",
     "output_type": "stream",
     "text": [
      "\r",
      " [**        7%           ] Elapsed 0.54s / Remaining 00:00:00:07"
     ]
    },
    {
     "name": "stdout",
     "output_type": "stream",
     "text": [
      "\r",
      " [**        8%           ] Elapsed 0.55s / Remaining 00:00:00:06"
     ]
    },
    {
     "name": "stdout",
     "output_type": "stream",
     "text": [
      "\r",
      " [**        8%           ] Elapsed 0.56s / Remaining 00:00:00:06"
     ]
    },
    {
     "name": "stdout",
     "output_type": "stream",
     "text": [
      "\r",
      " [**        8%           ] Elapsed 0.56s / Remaining 00:00:00:06"
     ]
    },
    {
     "name": "stdout",
     "output_type": "stream",
     "text": [
      "\r",
      " [**        8%           ] Elapsed 0.57s / Remaining 00:00:00:06"
     ]
    },
    {
     "name": "stdout",
     "output_type": "stream",
     "text": [
      "\r",
      " [**        8%           ] Elapsed 0.58s / Remaining 00:00:00:06"
     ]
    },
    {
     "name": "stdout",
     "output_type": "stream",
     "text": [
      "\r",
      " [**        8%           ] Elapsed 0.58s / Remaining 00:00:00:06"
     ]
    },
    {
     "name": "stdout",
     "output_type": "stream",
     "text": [
      "\r"
     ]
    },
    {
     "name": "stdout",
     "output_type": "stream",
     "text": [
      " [**        8%           ] Elapsed 0.59s / Remaining 00:00:00:06"
     ]
    },
    {
     "name": "stdout",
     "output_type": "stream",
     "text": [
      "\r",
      " [**        8%           ] Elapsed 0.60s / Remaining 00:00:00:06"
     ]
    },
    {
     "name": "stdout",
     "output_type": "stream",
     "text": [
      "\r",
      " [**        8%           ] Elapsed 0.60s / Remaining 00:00:00:06"
     ]
    },
    {
     "name": "stdout",
     "output_type": "stream",
     "text": [
      "\r",
      " [**        8%           ] Elapsed 0.61s / Remaining 00:00:00:07"
     ]
    },
    {
     "name": "stdout",
     "output_type": "stream",
     "text": [
      "\r",
      " [**        9%           ] Elapsed 0.62s / Remaining 00:00:00:06"
     ]
    },
    {
     "name": "stdout",
     "output_type": "stream",
     "text": [
      "\r",
      " [**        9%           ] Elapsed 0.63s / Remaining 00:00:00:06"
     ]
    },
    {
     "name": "stdout",
     "output_type": "stream",
     "text": [
      "\r",
      " [**        9%           ] Elapsed 0.63s / Remaining 00:00:00:06"
     ]
    },
    {
     "name": "stdout",
     "output_type": "stream",
     "text": [
      "\r",
      " [**        9%           ] Elapsed 0.64s / Remaining 00:00:00:06"
     ]
    },
    {
     "name": "stdout",
     "output_type": "stream",
     "text": [
      "\r",
      " [**        9%           ] Elapsed 0.65s / Remaining 00:00:00:06"
     ]
    },
    {
     "name": "stdout",
     "output_type": "stream",
     "text": [
      "\r",
      " [**        9%           ] Elapsed 0.65s / Remaining 00:00:00:06"
     ]
    },
    {
     "name": "stdout",
     "output_type": "stream",
     "text": [
      "\r",
      " [**        9%           ] Elapsed 0.66s / Remaining 00:00:00:06"
     ]
    },
    {
     "name": "stdout",
     "output_type": "stream",
     "text": [
      "\r",
      " [**        9%           ] Elapsed 0.67s / Remaining 00:00:00:06"
     ]
    },
    {
     "name": "stdout",
     "output_type": "stream",
     "text": [
      "\r",
      " [**        9%           ] Elapsed 0.67s / Remaining 00:00:00:06"
     ]
    },
    {
     "name": "stdout",
     "output_type": "stream",
     "text": [
      "\r",
      " [**        9%           ] Elapsed 0.68s / Remaining 00:00:00:06"
     ]
    },
    {
     "name": "stdout",
     "output_type": "stream",
     "text": [
      "\r",
      " [**       10%           ] Elapsed 0.69s / Remaining 00:00:00:06"
     ]
    },
    {
     "name": "stdout",
     "output_type": "stream",
     "text": [
      "\r",
      " [**       10%           ] Elapsed 0.70s / Remaining 00:00:00:06"
     ]
    },
    {
     "name": "stdout",
     "output_type": "stream",
     "text": [
      "\r",
      " [**       10%           ] Elapsed 0.70s / Remaining 00:00:00:06"
     ]
    },
    {
     "name": "stdout",
     "output_type": "stream",
     "text": [
      "\r",
      " [**       10%           ] Elapsed 0.71s / Remaining 00:00:00:06"
     ]
    },
    {
     "name": "stdout",
     "output_type": "stream",
     "text": [
      "\r",
      " [**       10%           ] Elapsed 0.72s / Remaining 00:00:00:06"
     ]
    },
    {
     "name": "stdout",
     "output_type": "stream",
     "text": [
      "\r",
      " [**       10%           ] Elapsed 0.72s / Remaining 00:00:00:06"
     ]
    },
    {
     "name": "stdout",
     "output_type": "stream",
     "text": [
      "\r",
      " [**       10%           ] Elapsed 0.73s / Remaining 00:00:00:06"
     ]
    },
    {
     "name": "stdout",
     "output_type": "stream",
     "text": [
      "\r",
      " [**       10%           ] Elapsed 0.74s / Remaining 00:00:00:06"
     ]
    },
    {
     "name": "stdout",
     "output_type": "stream",
     "text": [
      "\r",
      " [**       10%           ] Elapsed 0.74s / Remaining 00:00:00:06"
     ]
    },
    {
     "name": "stdout",
     "output_type": "stream",
     "text": [
      "\r",
      " [**       10%           ] Elapsed 0.75s / Remaining 00:00:00:06"
     ]
    },
    {
     "name": "stdout",
     "output_type": "stream",
     "text": [
      "\r",
      " [***      11%           ] Elapsed 0.76s / Remaining 00:00:00:06"
     ]
    },
    {
     "name": "stdout",
     "output_type": "stream",
     "text": [
      "\r",
      " [***      11%           ] Elapsed 0.76s / Remaining 00:00:00:06"
     ]
    },
    {
     "name": "stdout",
     "output_type": "stream",
     "text": [
      "\r",
      " [***      11%           ] Elapsed 0.77s / Remaining 00:00:00:06"
     ]
    },
    {
     "name": "stdout",
     "output_type": "stream",
     "text": [
      "\r",
      " [***      11%           ] Elapsed 0.78s / Remaining 00:00:00:06"
     ]
    },
    {
     "name": "stdout",
     "output_type": "stream",
     "text": [
      "\r",
      " [***      11%           ] Elapsed 0.78s / Remaining 00:00:00:06"
     ]
    },
    {
     "name": "stdout",
     "output_type": "stream",
     "text": [
      "\r",
      " [***      11%           ] Elapsed 0.79s / Remaining 00:00:00:06"
     ]
    },
    {
     "name": "stdout",
     "output_type": "stream",
     "text": [
      "\r",
      " [***      11%           ] Elapsed 0.79s / Remaining 00:00:00:06"
     ]
    },
    {
     "name": "stdout",
     "output_type": "stream",
     "text": [
      "\r"
     ]
    },
    {
     "name": "stdout",
     "output_type": "stream",
     "text": [
      " [***      11%           ] Elapsed 0.81s / Remaining 00:00:00:06"
     ]
    },
    {
     "name": "stdout",
     "output_type": "stream",
     "text": [
      "\r",
      " [***      11%           ] Elapsed 0.81s / Remaining 00:00:00:06"
     ]
    },
    {
     "name": "stdout",
     "output_type": "stream",
     "text": [
      "\r",
      " [***      11%           ] Elapsed 0.82s / Remaining 00:00:00:06"
     ]
    },
    {
     "name": "stdout",
     "output_type": "stream",
     "text": [
      "\r",
      " [***      12%           ] Elapsed 0.83s / Remaining 00:00:00:06"
     ]
    },
    {
     "name": "stdout",
     "output_type": "stream",
     "text": [
      "\r",
      " [***      12%           ] Elapsed 0.83s / Remaining 00:00:00:06"
     ]
    },
    {
     "name": "stdout",
     "output_type": "stream",
     "text": [
      "\r",
      " [***      12%           ] Elapsed 0.84s / Remaining 00:00:00:06"
     ]
    },
    {
     "name": "stdout",
     "output_type": "stream",
     "text": [
      "\r",
      " [***      12%           ] Elapsed 0.84s / Remaining 00:00:00:06"
     ]
    },
    {
     "name": "stdout",
     "output_type": "stream",
     "text": [
      "\r",
      " [***      12%           ] Elapsed 0.85s / Remaining 00:00:00:06"
     ]
    },
    {
     "name": "stdout",
     "output_type": "stream",
     "text": [
      "\r",
      " [***      12%           ] Elapsed 0.86s / Remaining 00:00:00:06"
     ]
    },
    {
     "name": "stdout",
     "output_type": "stream",
     "text": [
      "\r",
      " [***      12%           ] Elapsed 0.86s / Remaining 00:00:00:06"
     ]
    },
    {
     "name": "stdout",
     "output_type": "stream",
     "text": [
      "\r",
      " [***      12%           ] Elapsed 0.87s / Remaining 00:00:00:06"
     ]
    },
    {
     "name": "stdout",
     "output_type": "stream",
     "text": [
      "\r",
      " [***      12%           ] Elapsed 0.88s / Remaining 00:00:00:06"
     ]
    },
    {
     "name": "stdout",
     "output_type": "stream",
     "text": [
      "\r",
      " [***      12%           ] Elapsed 0.88s / Remaining 00:00:00:06"
     ]
    },
    {
     "name": "stdout",
     "output_type": "stream",
     "text": [
      "\r",
      " [***      13%           ] Elapsed 0.89s / Remaining 00:00:00:05"
     ]
    },
    {
     "name": "stdout",
     "output_type": "stream",
     "text": [
      "\r",
      " [***      13%           ] Elapsed 0.90s / Remaining 00:00:00:06"
     ]
    },
    {
     "name": "stdout",
     "output_type": "stream",
     "text": [
      "\r",
      " [***      13%           ] Elapsed 0.91s / Remaining 00:00:00:06"
     ]
    },
    {
     "name": "stdout",
     "output_type": "stream",
     "text": [
      "\r",
      " [***      13%           ] Elapsed 0.91s / Remaining 00:00:00:06"
     ]
    },
    {
     "name": "stdout",
     "output_type": "stream",
     "text": [
      "\r",
      " [***      13%           ] Elapsed 0.92s / Remaining 00:00:00:06"
     ]
    },
    {
     "name": "stdout",
     "output_type": "stream",
     "text": [
      "\r",
      " [***      13%           ] Elapsed 0.93s / Remaining 00:00:00:06"
     ]
    },
    {
     "name": "stdout",
     "output_type": "stream",
     "text": [
      "\r",
      " [***      13%           ] Elapsed 0.93s / Remaining 00:00:00:06"
     ]
    },
    {
     "name": "stdout",
     "output_type": "stream",
     "text": [
      "\r",
      " [***      13%           ] Elapsed 0.94s / Remaining 00:00:00:06"
     ]
    },
    {
     "name": "stdout",
     "output_type": "stream",
     "text": [
      "\r",
      " [***      13%           ] Elapsed 0.94s / Remaining 00:00:00:06"
     ]
    },
    {
     "name": "stdout",
     "output_type": "stream",
     "text": [
      "\r",
      " [***      13%           ] Elapsed 0.95s / Remaining 00:00:00:06"
     ]
    },
    {
     "name": "stdout",
     "output_type": "stream",
     "text": [
      "\r",
      " [***      14%           ] Elapsed 0.96s / Remaining 00:00:00:05"
     ]
    },
    {
     "name": "stdout",
     "output_type": "stream",
     "text": [
      "\r",
      " [***      14%           ] Elapsed 0.96s / Remaining 00:00:00:05"
     ]
    },
    {
     "name": "stdout",
     "output_type": "stream",
     "text": [
      "\r",
      " [***      14%           ] Elapsed 0.97s / Remaining 00:00:00:05"
     ]
    },
    {
     "name": "stdout",
     "output_type": "stream",
     "text": [
      "\r",
      " [***      14%           ] Elapsed 0.98s / Remaining 00:00:00:06"
     ]
    },
    {
     "name": "stdout",
     "output_type": "stream",
     "text": [
      "\r",
      " [***      14%           ] Elapsed 0.99s / Remaining 00:00:00:06"
     ]
    },
    {
     "name": "stdout",
     "output_type": "stream",
     "text": [
      "\r",
      " [***      14%           ] Elapsed 0.99s / Remaining 00:00:00:06"
     ]
    },
    {
     "name": "stdout",
     "output_type": "stream",
     "text": [
      "\r",
      " [***      14%           ] Elapsed 1.00s / Remaining 00:00:00:06"
     ]
    },
    {
     "name": "stdout",
     "output_type": "stream",
     "text": [
      "\r",
      " [***      14%           ] Elapsed 1.01s / Remaining 00:00:00:06"
     ]
    },
    {
     "name": "stdout",
     "output_type": "stream",
     "text": [
      "\r",
      " [***      14%           ] Elapsed 1.01s / Remaining 00:00:00:06"
     ]
    },
    {
     "name": "stdout",
     "output_type": "stream",
     "text": [
      "\r",
      " [***      14%           ] Elapsed 1.02s / Remaining 00:00:00:06"
     ]
    },
    {
     "name": "stdout",
     "output_type": "stream",
     "text": [
      "\r",
      " [***      15%           ] Elapsed 1.03s / Remaining 00:00:00:05"
     ]
    },
    {
     "name": "stdout",
     "output_type": "stream",
     "text": [
      "\r",
      " [***      15%           ] Elapsed 1.03s / Remaining 00:00:00:05"
     ]
    },
    {
     "name": "stdout",
     "output_type": "stream",
     "text": [
      "\r",
      " [***      15%           ] Elapsed 1.04s / Remaining 00:00:00:05"
     ]
    },
    {
     "name": "stdout",
     "output_type": "stream",
     "text": [
      "\r",
      " [***      15%           ] Elapsed 1.04s / Remaining 00:00:00:05"
     ]
    },
    {
     "name": "stdout",
     "output_type": "stream",
     "text": [
      "\r",
      " [***      15%           ] Elapsed 1.05s / Remaining 00:00:00:05"
     ]
    },
    {
     "name": "stdout",
     "output_type": "stream",
     "text": [
      "\r",
      " [***      15%           ] Elapsed 1.06s / Remaining 00:00:00:05"
     ]
    },
    {
     "name": "stdout",
     "output_type": "stream",
     "text": [
      "\r",
      " [***      15%           ] Elapsed 1.06s / Remaining 00:00:00:06"
     ]
    },
    {
     "name": "stdout",
     "output_type": "stream",
     "text": [
      "\r",
      " [***      15%           ] Elapsed 1.07s / Remaining 00:00:00:06"
     ]
    },
    {
     "name": "stdout",
     "output_type": "stream",
     "text": [
      "\r",
      " [***      15%           ] Elapsed 1.08s / Remaining 00:00:00:06"
     ]
    },
    {
     "name": "stdout",
     "output_type": "stream",
     "text": [
      "\r",
      " [***      15%           ] Elapsed 1.08s / Remaining 00:00:00:06"
     ]
    },
    {
     "name": "stdout",
     "output_type": "stream",
     "text": [
      "\r",
      " [****     16%           ] Elapsed 1.09s / Remaining 00:00:00:05"
     ]
    },
    {
     "name": "stdout",
     "output_type": "stream",
     "text": [
      "\r",
      " [****     16%           ] Elapsed 1.09s / Remaining 00:00:00:05"
     ]
    },
    {
     "name": "stdout",
     "output_type": "stream",
     "text": [
      "\r",
      " [****     16%           ] Elapsed 1.11s / Remaining 00:00:00:05"
     ]
    },
    {
     "name": "stdout",
     "output_type": "stream",
     "text": [
      "\r"
     ]
    },
    {
     "name": "stdout",
     "output_type": "stream",
     "text": [
      " [****     16%           ] Elapsed 1.11s / Remaining 00:00:00:05"
     ]
    },
    {
     "name": "stdout",
     "output_type": "stream",
     "text": [
      "\r",
      " [****     16%           ] Elapsed 1.12s / Remaining 00:00:00:05"
     ]
    },
    {
     "name": "stdout",
     "output_type": "stream",
     "text": [
      "\r",
      " [****     16%           ] Elapsed 1.12s / Remaining 00:00:00:05"
     ]
    },
    {
     "name": "stdout",
     "output_type": "stream",
     "text": [
      "\r",
      " [****     16%           ] Elapsed 1.12s / Remaining 00:00:00:05"
     ]
    },
    {
     "name": "stdout",
     "output_type": "stream",
     "text": [
      "\r",
      " [****     16%           ] Elapsed 1.14s / Remaining 00:00:00:05"
     ]
    },
    {
     "name": "stdout",
     "output_type": "stream",
     "text": [
      "\r",
      " [****     16%           ] Elapsed 1.14s / Remaining 00:00:00:05"
     ]
    },
    {
     "name": "stdout",
     "output_type": "stream",
     "text": [
      "\r",
      " [****     16%           ] Elapsed 1.15s / Remaining 00:00:00:06"
     ]
    },
    {
     "name": "stdout",
     "output_type": "stream",
     "text": [
      "\r",
      " [****     17%           ] Elapsed 1.15s / Remaining 00:00:00:05"
     ]
    },
    {
     "name": "stdout",
     "output_type": "stream",
     "text": [
      "\r",
      " [****     17%           ] Elapsed 1.16s / Remaining 00:00:00:05"
     ]
    },
    {
     "name": "stdout",
     "output_type": "stream",
     "text": [
      "\r",
      " [****     17%           ] Elapsed 1.17s / Remaining 00:00:00:05"
     ]
    },
    {
     "name": "stdout",
     "output_type": "stream",
     "text": [
      "\r",
      " [****     17%           ] Elapsed 1.17s / Remaining 00:00:00:05"
     ]
    },
    {
     "name": "stdout",
     "output_type": "stream",
     "text": [
      "\r",
      " [****     17%           ] Elapsed 1.18s / Remaining 00:00:00:05"
     ]
    },
    {
     "name": "stdout",
     "output_type": "stream",
     "text": [
      "\r",
      " [****     17%           ] Elapsed 1.19s / Remaining 00:00:00:05"
     ]
    },
    {
     "name": "stdout",
     "output_type": "stream",
     "text": [
      "\r",
      " [****     17%           ] Elapsed 1.19s / Remaining 00:00:00:05"
     ]
    },
    {
     "name": "stdout",
     "output_type": "stream",
     "text": [
      "\r",
      " [****     17%           ] Elapsed 1.20s / Remaining 00:00:00:05"
     ]
    },
    {
     "name": "stdout",
     "output_type": "stream",
     "text": [
      "\r",
      " [****     17%           ] Elapsed 1.20s / Remaining 00:00:00:05"
     ]
    },
    {
     "name": "stdout",
     "output_type": "stream",
     "text": [
      "\r",
      " [****     17%           ] Elapsed 1.22s / Remaining 00:00:00:05"
     ]
    },
    {
     "name": "stdout",
     "output_type": "stream",
     "text": [
      "\r",
      " [****     18%           ] Elapsed 1.22s / Remaining 00:00:00:05"
     ]
    },
    {
     "name": "stdout",
     "output_type": "stream",
     "text": [
      "\r",
      " [****     18%           ] Elapsed 1.23s / Remaining 00:00:00:05"
     ]
    },
    {
     "name": "stdout",
     "output_type": "stream",
     "text": [
      "\r",
      " [****     18%           ] Elapsed 1.23s / Remaining 00:00:00:05"
     ]
    },
    {
     "name": "stdout",
     "output_type": "stream",
     "text": [
      "\r",
      " [****     18%           ] Elapsed 1.24s / Remaining 00:00:00:05"
     ]
    },
    {
     "name": "stdout",
     "output_type": "stream",
     "text": [
      "\r",
      " [****     18%           ] Elapsed 1.25s / Remaining 00:00:00:05"
     ]
    },
    {
     "name": "stdout",
     "output_type": "stream",
     "text": [
      "\r"
     ]
    },
    {
     "name": "stdout",
     "output_type": "stream",
     "text": [
      " [****     18%           ] Elapsed 1.26s / Remaining 00:00:00:05"
     ]
    },
    {
     "name": "stdout",
     "output_type": "stream",
     "text": [
      "\r",
      " [****     18%           ] Elapsed 1.26s / Remaining 00:00:00:05"
     ]
    },
    {
     "name": "stdout",
     "output_type": "stream",
     "text": [
      "\r",
      " [****     18%           ] Elapsed 1.27s / Remaining 00:00:00:05"
     ]
    },
    {
     "name": "stdout",
     "output_type": "stream",
     "text": [
      "\r",
      " [****     18%           ] Elapsed 1.28s / Remaining 00:00:00:05"
     ]
    },
    {
     "name": "stdout",
     "output_type": "stream",
     "text": [
      "\r",
      " [****     18%           ] Elapsed 1.28s / Remaining 00:00:00:05"
     ]
    },
    {
     "name": "stdout",
     "output_type": "stream",
     "text": [
      "\r",
      " [****     19%           ] Elapsed 1.29s / Remaining 00:00:00:05"
     ]
    },
    {
     "name": "stdout",
     "output_type": "stream",
     "text": [
      "\r",
      " [****     19%           ] Elapsed 1.29s / Remaining 00:00:00:05"
     ]
    },
    {
     "name": "stdout",
     "output_type": "stream",
     "text": [
      "\r",
      " [****     19%           ] Elapsed 1.30s / Remaining 00:00:00:05"
     ]
    },
    {
     "name": "stdout",
     "output_type": "stream",
     "text": [
      "\r",
      " [****     19%           ] Elapsed 1.31s / Remaining 00:00:00:05"
     ]
    },
    {
     "name": "stdout",
     "output_type": "stream",
     "text": [
      "\r",
      " [****     19%           ] Elapsed 1.32s / Remaining 00:00:00:05"
     ]
    },
    {
     "name": "stdout",
     "output_type": "stream",
     "text": [
      "\r",
      " [****     19%           ] Elapsed 1.32s / Remaining 00:00:00:05"
     ]
    },
    {
     "name": "stdout",
     "output_type": "stream",
     "text": [
      "\r",
      " [****     19%           ] Elapsed 1.33s / Remaining 00:00:00:05"
     ]
    },
    {
     "name": "stdout",
     "output_type": "stream",
     "text": [
      "\r",
      " [****     19%           ] Elapsed 1.34s / Remaining 00:00:00:05"
     ]
    },
    {
     "name": "stdout",
     "output_type": "stream",
     "text": [
      "\r",
      " [****     19%           ] Elapsed 1.34s / Remaining 00:00:00:05"
     ]
    },
    {
     "name": "stdout",
     "output_type": "stream",
     "text": [
      "\r",
      " [****     19%           ] Elapsed 1.35s / Remaining 00:00:00:05"
     ]
    },
    {
     "name": "stdout",
     "output_type": "stream",
     "text": [
      "\r",
      " [*****    20%           ] Elapsed 1.35s / Remaining 00:00:00:05"
     ]
    },
    {
     "name": "stdout",
     "output_type": "stream",
     "text": [
      "\r",
      " [*****    20%           ] Elapsed 1.36s / Remaining 00:00:00:05"
     ]
    },
    {
     "name": "stdout",
     "output_type": "stream",
     "text": [
      "\r",
      " [*****    20%           ] Elapsed 1.37s / Remaining 00:00:00:05"
     ]
    },
    {
     "name": "stdout",
     "output_type": "stream",
     "text": [
      "\r",
      " [*****    20%           ] Elapsed 1.37s / Remaining 00:00:00:05"
     ]
    },
    {
     "name": "stdout",
     "output_type": "stream",
     "text": [
      "\r",
      " [*****    20%           ] Elapsed 1.38s / Remaining 00:00:00:05"
     ]
    },
    {
     "name": "stdout",
     "output_type": "stream",
     "text": [
      "\r",
      " [*****    20%           ] Elapsed 1.38s / Remaining 00:00:00:05"
     ]
    },
    {
     "name": "stdout",
     "output_type": "stream",
     "text": [
      "\r",
      " [*****    20%           ] Elapsed 1.39s / Remaining 00:00:00:05"
     ]
    },
    {
     "name": "stdout",
     "output_type": "stream",
     "text": [
      "\r",
      " [*****    20%           ] Elapsed 1.40s / Remaining 00:00:00:05"
     ]
    },
    {
     "name": "stdout",
     "output_type": "stream",
     "text": [
      "\r",
      " [*****    20%           ] Elapsed 1.40s / Remaining 00:00:00:05"
     ]
    },
    {
     "name": "stdout",
     "output_type": "stream",
     "text": [
      "\r",
      " [*****    20%           ] Elapsed 1.41s / Remaining 00:00:00:05"
     ]
    },
    {
     "name": "stdout",
     "output_type": "stream",
     "text": [
      "\r",
      " [*****    21%           ] Elapsed 1.41s / Remaining 00:00:00:05"
     ]
    },
    {
     "name": "stdout",
     "output_type": "stream",
     "text": [
      "\r",
      " [*****    21%           ] Elapsed 1.42s / Remaining 00:00:00:05"
     ]
    },
    {
     "name": "stdout",
     "output_type": "stream",
     "text": [
      "\r",
      " [*****    21%           ] Elapsed 1.43s / Remaining 00:00:00:05"
     ]
    },
    {
     "name": "stdout",
     "output_type": "stream",
     "text": [
      "\r",
      " [*****    21%           ] Elapsed 1.43s / Remaining 00:00:00:05"
     ]
    },
    {
     "name": "stdout",
     "output_type": "stream",
     "text": [
      "\r",
      " [*****    21%           ] Elapsed 1.44s / Remaining 00:00:00:05"
     ]
    },
    {
     "name": "stdout",
     "output_type": "stream",
     "text": [
      "\r",
      " [*****    21%           ] Elapsed 1.44s / Remaining 00:00:00:05"
     ]
    },
    {
     "name": "stdout",
     "output_type": "stream",
     "text": [
      "\r",
      " [*****    21%           ] Elapsed 1.45s / Remaining 00:00:00:05"
     ]
    },
    {
     "name": "stdout",
     "output_type": "stream",
     "text": [
      "\r",
      " [*****    21%           ] Elapsed 1.46s / Remaining 00:00:00:05"
     ]
    },
    {
     "name": "stdout",
     "output_type": "stream",
     "text": [
      "\r",
      " [*****    21%           ] Elapsed 1.46s / Remaining 00:00:00:05"
     ]
    },
    {
     "name": "stdout",
     "output_type": "stream",
     "text": [
      "\r",
      " [*****    21%           ] Elapsed 1.47s / Remaining 00:00:00:05"
     ]
    },
    {
     "name": "stdout",
     "output_type": "stream",
     "text": [
      "\r",
      " [*****    22%           ] Elapsed 1.47s / Remaining 00:00:00:05"
     ]
    },
    {
     "name": "stdout",
     "output_type": "stream",
     "text": [
      "\r",
      " [*****    22%           ] Elapsed 1.49s / Remaining 00:00:00:05"
     ]
    },
    {
     "name": "stdout",
     "output_type": "stream",
     "text": [
      "\r",
      " [*****    22%           ] Elapsed 1.49s / Remaining 00:00:00:05"
     ]
    },
    {
     "name": "stdout",
     "output_type": "stream",
     "text": [
      "\r",
      " [*****    22%           ] Elapsed 1.50s / Remaining 00:00:00:05"
     ]
    },
    {
     "name": "stdout",
     "output_type": "stream",
     "text": [
      "\r",
      " [*****    22%           ] Elapsed 1.50s / Remaining 00:00:00:05"
     ]
    },
    {
     "name": "stdout",
     "output_type": "stream",
     "text": [
      "\r",
      " [*****    22%           ] Elapsed 1.51s / Remaining 00:00:00:05"
     ]
    },
    {
     "name": "stdout",
     "output_type": "stream",
     "text": [
      "\r",
      " [*****    22%           ] Elapsed 1.52s / Remaining 00:00:00:05"
     ]
    },
    {
     "name": "stdout",
     "output_type": "stream",
     "text": [
      "\r",
      " [*****    22%           ] Elapsed 1.52s / Remaining 00:00:00:05"
     ]
    },
    {
     "name": "stdout",
     "output_type": "stream",
     "text": [
      "\r",
      " [*****    22%           ] Elapsed 1.53s / Remaining 00:00:00:05"
     ]
    },
    {
     "name": "stdout",
     "output_type": "stream",
     "text": [
      "\r",
      " [*****    22%           ] Elapsed 1.53s / Remaining 00:00:00:05"
     ]
    },
    {
     "name": "stdout",
     "output_type": "stream",
     "text": [
      "\r",
      " [*****    23%           ] Elapsed 1.54s / Remaining 00:00:00:05"
     ]
    },
    {
     "name": "stdout",
     "output_type": "stream",
     "text": [
      "\r",
      " [*****    23%           ] Elapsed 1.55s / Remaining 00:00:00:05"
     ]
    },
    {
     "name": "stdout",
     "output_type": "stream",
     "text": [
      "\r",
      " [*****    23%           ] Elapsed 1.55s / Remaining 00:00:00:05"
     ]
    },
    {
     "name": "stdout",
     "output_type": "stream",
     "text": [
      "\r",
      " [*****    23%           ] Elapsed 1.56s / Remaining 00:00:00:05"
     ]
    },
    {
     "name": "stdout",
     "output_type": "stream",
     "text": [
      "\r",
      " [*****    23%           ] Elapsed 1.57s / Remaining 00:00:00:05"
     ]
    },
    {
     "name": "stdout",
     "output_type": "stream",
     "text": [
      "\r",
      " [*****    23%           ] Elapsed 1.57s / Remaining 00:00:00:05"
     ]
    },
    {
     "name": "stdout",
     "output_type": "stream",
     "text": [
      "\r",
      " [*****    23%           ] Elapsed 1.58s / Remaining 00:00:00:05"
     ]
    },
    {
     "name": "stdout",
     "output_type": "stream",
     "text": [
      "\r",
      " [*****    23%           ] Elapsed 1.59s / Remaining 00:00:00:05"
     ]
    },
    {
     "name": "stdout",
     "output_type": "stream",
     "text": [
      "\r",
      " [*****    23%           ] Elapsed 1.59s / Remaining 00:00:00:05"
     ]
    },
    {
     "name": "stdout",
     "output_type": "stream",
     "text": [
      "\r",
      " [*****    23%           ] Elapsed 1.60s / Remaining 00:00:00:05"
     ]
    },
    {
     "name": "stdout",
     "output_type": "stream",
     "text": [
      "\r",
      " [******   24%           ] Elapsed 1.60s / Remaining 00:00:00:05"
     ]
    },
    {
     "name": "stdout",
     "output_type": "stream",
     "text": [
      "\r",
      " [******   24%           ] Elapsed 1.61s / Remaining 00:00:00:05"
     ]
    },
    {
     "name": "stdout",
     "output_type": "stream",
     "text": [
      "\r",
      " [******   24%           ] Elapsed 1.62s / Remaining 00:00:00:05"
     ]
    },
    {
     "name": "stdout",
     "output_type": "stream",
     "text": [
      "\r",
      " [******   24%           ] Elapsed 1.63s / Remaining 00:00:00:05"
     ]
    },
    {
     "name": "stdout",
     "output_type": "stream",
     "text": [
      "\r",
      " [******   24%           ] Elapsed 1.63s / Remaining 00:00:00:05"
     ]
    },
    {
     "name": "stdout",
     "output_type": "stream",
     "text": [
      "\r",
      " [******   24%           ] Elapsed 1.64s / Remaining 00:00:00:05"
     ]
    },
    {
     "name": "stdout",
     "output_type": "stream",
     "text": [
      "\r",
      " [******   24%           ] Elapsed 1.64s / Remaining 00:00:00:05"
     ]
    },
    {
     "name": "stdout",
     "output_type": "stream",
     "text": [
      "\r",
      " [******   24%           ] Elapsed 1.65s / Remaining 00:00:00:05"
     ]
    },
    {
     "name": "stdout",
     "output_type": "stream",
     "text": [
      "\r",
      " [******   24%           ] Elapsed 1.66s / Remaining 00:00:00:05"
     ]
    },
    {
     "name": "stdout",
     "output_type": "stream",
     "text": [
      "\r",
      " [******   24%           ] Elapsed 1.66s / Remaining 00:00:00:05"
     ]
    },
    {
     "name": "stdout",
     "output_type": "stream",
     "text": [
      "\r",
      " [******   25%           ] Elapsed 1.67s / Remaining 00:00:00:05"
     ]
    },
    {
     "name": "stdout",
     "output_type": "stream",
     "text": [
      "\r",
      " [******   25%           ] Elapsed 1.67s / Remaining 00:00:00:05"
     ]
    },
    {
     "name": "stdout",
     "output_type": "stream",
     "text": [
      "\r",
      " [******   25%           ] Elapsed 1.68s / Remaining 00:00:00:05"
     ]
    },
    {
     "name": "stdout",
     "output_type": "stream",
     "text": [
      "\r",
      " [******   25%           ] Elapsed 1.69s / Remaining 00:00:00:05"
     ]
    },
    {
     "name": "stdout",
     "output_type": "stream",
     "text": [
      "\r",
      " [******   25%           ] Elapsed 1.69s / Remaining 00:00:00:05"
     ]
    },
    {
     "name": "stdout",
     "output_type": "stream",
     "text": [
      "\r",
      " [******   25%           ] Elapsed 1.70s / Remaining 00:00:00:05"
     ]
    },
    {
     "name": "stdout",
     "output_type": "stream",
     "text": [
      "\r",
      " [******   25%           ] Elapsed 1.70s / Remaining 00:00:00:05"
     ]
    },
    {
     "name": "stdout",
     "output_type": "stream",
     "text": [
      "\r",
      " [******   25%           ] Elapsed 1.71s / Remaining 00:00:00:05"
     ]
    },
    {
     "name": "stdout",
     "output_type": "stream",
     "text": [
      "\r",
      " [******   25%           ] Elapsed 1.72s / Remaining 00:00:00:05"
     ]
    },
    {
     "name": "stdout",
     "output_type": "stream",
     "text": [
      "\r",
      " [******   25%           ] Elapsed 1.73s / Remaining 00:00:00:05"
     ]
    },
    {
     "name": "stdout",
     "output_type": "stream",
     "text": [
      "\r",
      " [******   26%           ] Elapsed 1.73s / Remaining 00:00:00:04"
     ]
    },
    {
     "name": "stdout",
     "output_type": "stream",
     "text": [
      "\r",
      " [******   26%           ] Elapsed 1.74s / Remaining 00:00:00:04"
     ]
    },
    {
     "name": "stdout",
     "output_type": "stream",
     "text": [
      "\r",
      " [******   26%           ] Elapsed 1.74s / Remaining 00:00:00:04"
     ]
    },
    {
     "name": "stdout",
     "output_type": "stream",
     "text": [
      "\r",
      " [******   26%           ] Elapsed 1.75s / Remaining 00:00:00:04"
     ]
    },
    {
     "name": "stdout",
     "output_type": "stream",
     "text": [
      "\r",
      " [******   26%           ] Elapsed 1.76s / Remaining 00:00:00:05"
     ]
    },
    {
     "name": "stdout",
     "output_type": "stream",
     "text": [
      "\r",
      " [******   26%           ] Elapsed 1.76s / Remaining 00:00:00:05"
     ]
    },
    {
     "name": "stdout",
     "output_type": "stream",
     "text": [
      "\r",
      " [******   26%           ] Elapsed 1.77s / Remaining 00:00:00:05"
     ]
    },
    {
     "name": "stdout",
     "output_type": "stream",
     "text": [
      "\r",
      " [******   26%           ] Elapsed 1.77s / Remaining 00:00:00:05"
     ]
    },
    {
     "name": "stdout",
     "output_type": "stream",
     "text": [
      "\r",
      " [******   26%           ] Elapsed 1.78s / Remaining 00:00:00:05"
     ]
    },
    {
     "name": "stdout",
     "output_type": "stream",
     "text": [
      "\r",
      " [******   26%           ] Elapsed 1.78s / Remaining 00:00:00:05"
     ]
    },
    {
     "name": "stdout",
     "output_type": "stream",
     "text": [
      "\r",
      " [******   27%           ] Elapsed 1.79s / Remaining 00:00:00:04"
     ]
    },
    {
     "name": "stdout",
     "output_type": "stream",
     "text": [
      "\r",
      " [******   27%           ] Elapsed 1.80s / Remaining 00:00:00:04"
     ]
    },
    {
     "name": "stdout",
     "output_type": "stream",
     "text": [
      "\r",
      " [******   27%           ] Elapsed 1.80s / Remaining 00:00:00:04"
     ]
    },
    {
     "name": "stdout",
     "output_type": "stream",
     "text": [
      "\r",
      " [******   27%           ] Elapsed 1.81s / Remaining 00:00:00:04"
     ]
    },
    {
     "name": "stdout",
     "output_type": "stream",
     "text": [
      "\r",
      " [******   27%           ] Elapsed 1.81s / Remaining 00:00:00:04"
     ]
    },
    {
     "name": "stdout",
     "output_type": "stream",
     "text": [
      "\r",
      " [******   27%           ] Elapsed 1.83s / Remaining 00:00:00:04"
     ]
    },
    {
     "name": "stdout",
     "output_type": "stream",
     "text": [
      "\r",
      " [******   27%           ] Elapsed 1.83s / Remaining 00:00:00:04"
     ]
    },
    {
     "name": "stdout",
     "output_type": "stream",
     "text": [
      "\r",
      " [******   27%           ] Elapsed 1.84s / Remaining 00:00:00:04"
     ]
    },
    {
     "name": "stdout",
     "output_type": "stream",
     "text": [
      "\r",
      " [******   27%           ] Elapsed 1.84s / Remaining 00:00:00:04"
     ]
    },
    {
     "name": "stdout",
     "output_type": "stream",
     "text": [
      "\r",
      " [******   27%           ] Elapsed 1.85s / Remaining 00:00:00:04"
     ]
    },
    {
     "name": "stdout",
     "output_type": "stream",
     "text": [
      "\r",
      " [******   28%           ] Elapsed 1.85s / Remaining 00:00:00:04"
     ]
    },
    {
     "name": "stdout",
     "output_type": "stream",
     "text": [
      "\r",
      " [******   28%           ] Elapsed 1.86s / Remaining 00:00:00:04"
     ]
    },
    {
     "name": "stdout",
     "output_type": "stream",
     "text": [
      "\r",
      " [******   28%           ] Elapsed 1.87s / Remaining 00:00:00:04"
     ]
    },
    {
     "name": "stdout",
     "output_type": "stream",
     "text": [
      "\r",
      " [******   28%           ] Elapsed 1.87s / Remaining 00:00:00:04"
     ]
    },
    {
     "name": "stdout",
     "output_type": "stream",
     "text": [
      "\r",
      " [******   28%           ] Elapsed 1.88s / Remaining 00:00:00:04"
     ]
    },
    {
     "name": "stdout",
     "output_type": "stream",
     "text": [
      "\r",
      " [******   28%           ] Elapsed 1.88s / Remaining 00:00:00:04"
     ]
    },
    {
     "name": "stdout",
     "output_type": "stream",
     "text": [
      "\r",
      " [******   28%           ] Elapsed 1.89s / Remaining 00:00:00:04"
     ]
    },
    {
     "name": "stdout",
     "output_type": "stream",
     "text": [
      "\r",
      " [******   28%           ] Elapsed 1.89s / Remaining 00:00:00:04"
     ]
    },
    {
     "name": "stdout",
     "output_type": "stream",
     "text": [
      "\r",
      " [******   28%           ] Elapsed 1.90s / Remaining 00:00:00:04"
     ]
    },
    {
     "name": "stdout",
     "output_type": "stream",
     "text": [
      "\r",
      " [******   28%           ] Elapsed 1.91s / Remaining 00:00:00:04"
     ]
    },
    {
     "name": "stdout",
     "output_type": "stream",
     "text": [
      "\r",
      " [*******  29%           ] Elapsed 1.91s / Remaining 00:00:00:04"
     ]
    },
    {
     "name": "stdout",
     "output_type": "stream",
     "text": [
      "\r",
      " [*******  29%           ] Elapsed 1.92s / Remaining 00:00:00:04"
     ]
    },
    {
     "name": "stdout",
     "output_type": "stream",
     "text": [
      "\r",
      " [*******  29%           ] Elapsed 1.92s / Remaining 00:00:00:04"
     ]
    },
    {
     "name": "stdout",
     "output_type": "stream",
     "text": [
      "\r",
      " [*******  29%           ] Elapsed 1.93s / Remaining 00:00:00:04"
     ]
    },
    {
     "name": "stdout",
     "output_type": "stream",
     "text": [
      "\r",
      " [*******  29%           ] Elapsed 1.94s / Remaining 00:00:00:04"
     ]
    },
    {
     "name": "stdout",
     "output_type": "stream",
     "text": [
      "\r",
      " [*******  29%           ] Elapsed 1.95s / Remaining 00:00:00:04"
     ]
    },
    {
     "name": "stdout",
     "output_type": "stream",
     "text": [
      "\r",
      " [*******  29%           ] Elapsed 1.95s / Remaining 00:00:00:04"
     ]
    },
    {
     "name": "stdout",
     "output_type": "stream",
     "text": [
      "\r",
      " [*******  29%           ] Elapsed 1.96s / Remaining 00:00:00:04"
     ]
    },
    {
     "name": "stdout",
     "output_type": "stream",
     "text": [
      "\r",
      " [*******  29%           ] Elapsed 1.96s / Remaining 00:00:00:04"
     ]
    },
    {
     "name": "stdout",
     "output_type": "stream",
     "text": [
      "\r",
      " [*******  29%           ] Elapsed 1.97s / Remaining 00:00:00:04"
     ]
    },
    {
     "name": "stdout",
     "output_type": "stream",
     "text": [
      "\r",
      " [*******  30%           ] Elapsed 1.98s / Remaining 00:00:00:04"
     ]
    },
    {
     "name": "stdout",
     "output_type": "stream",
     "text": [
      "\r",
      " [*******  30%           ] Elapsed 1.98s / Remaining 00:00:00:04"
     ]
    },
    {
     "name": "stdout",
     "output_type": "stream",
     "text": [
      "\r",
      " [*******  30%           ] Elapsed 1.99s / Remaining 00:00:00:04"
     ]
    },
    {
     "name": "stdout",
     "output_type": "stream",
     "text": [
      "\r",
      " [*******  30%           ] Elapsed 1.99s / Remaining 00:00:00:04"
     ]
    },
    {
     "name": "stdout",
     "output_type": "stream",
     "text": [
      "\r",
      " [*******  30%           ] Elapsed 2.00s / Remaining 00:00:00:04"
     ]
    },
    {
     "name": "stdout",
     "output_type": "stream",
     "text": [
      "\r",
      " [*******  30%           ] Elapsed 2.00s / Remaining 00:00:00:04"
     ]
    },
    {
     "name": "stdout",
     "output_type": "stream",
     "text": [
      "\r",
      " [*******  30%           ] Elapsed 2.01s / Remaining 00:00:00:04"
     ]
    },
    {
     "name": "stdout",
     "output_type": "stream",
     "text": [
      "\r",
      " [*******  30%           ] Elapsed 2.02s / Remaining 00:00:00:04"
     ]
    },
    {
     "name": "stdout",
     "output_type": "stream",
     "text": [
      "\r",
      " [*******  30%           ] Elapsed 2.02s / Remaining 00:00:00:04"
     ]
    },
    {
     "name": "stdout",
     "output_type": "stream",
     "text": [
      "\r",
      " [*******  30%           ] Elapsed 2.03s / Remaining 00:00:00:04"
     ]
    },
    {
     "name": "stdout",
     "output_type": "stream",
     "text": [
      "\r",
      " [*******  31%           ] Elapsed 2.03s / Remaining 00:00:00:04"
     ]
    },
    {
     "name": "stdout",
     "output_type": "stream",
     "text": [
      "\r",
      " [*******  31%           ] Elapsed 2.04s / Remaining 00:00:00:04"
     ]
    },
    {
     "name": "stdout",
     "output_type": "stream",
     "text": [
      "\r",
      " [*******  31%           ] Elapsed 2.04s / Remaining 00:00:00:04"
     ]
    },
    {
     "name": "stdout",
     "output_type": "stream",
     "text": [
      "\r",
      " [*******  31%           ] Elapsed 2.06s / Remaining 00:00:00:04"
     ]
    },
    {
     "name": "stdout",
     "output_type": "stream",
     "text": [
      "\r",
      " [*******  31%           ] Elapsed 2.06s / Remaining 00:00:00:04"
     ]
    },
    {
     "name": "stdout",
     "output_type": "stream",
     "text": [
      "\r",
      " [*******  31%           ] Elapsed 2.07s / Remaining 00:00:00:04"
     ]
    },
    {
     "name": "stdout",
     "output_type": "stream",
     "text": [
      "\r",
      " [*******  31%           ] Elapsed 2.07s / Remaining 00:00:00:04"
     ]
    },
    {
     "name": "stdout",
     "output_type": "stream",
     "text": [
      "\r",
      " [*******  31%           ] Elapsed 2.08s / Remaining 00:00:00:04"
     ]
    },
    {
     "name": "stdout",
     "output_type": "stream",
     "text": [
      "\r",
      " [*******  31%           ] Elapsed 2.08s / Remaining 00:00:00:04"
     ]
    },
    {
     "name": "stdout",
     "output_type": "stream",
     "text": [
      "\r",
      " [*******  31%           ] Elapsed 2.09s / Remaining 00:00:00:04"
     ]
    },
    {
     "name": "stdout",
     "output_type": "stream",
     "text": [
      "\r",
      " [*******  32%           ] Elapsed 2.10s / Remaining 00:00:00:04"
     ]
    },
    {
     "name": "stdout",
     "output_type": "stream",
     "text": [
      "\r",
      " [*******  32%           ] Elapsed 2.10s / Remaining 00:00:00:04"
     ]
    },
    {
     "name": "stdout",
     "output_type": "stream",
     "text": [
      "\r",
      " [*******  32%           ] Elapsed 2.11s / Remaining 00:00:00:04"
     ]
    },
    {
     "name": "stdout",
     "output_type": "stream",
     "text": [
      "\r",
      " [*******  32%           ] Elapsed 2.11s / Remaining 00:00:00:04"
     ]
    },
    {
     "name": "stdout",
     "output_type": "stream",
     "text": [
      "\r",
      " [*******  32%           ] Elapsed 2.12s / Remaining 00:00:00:04"
     ]
    },
    {
     "name": "stdout",
     "output_type": "stream",
     "text": [
      "\r",
      " [*******  32%           ] Elapsed 2.12s / Remaining 00:00:00:04"
     ]
    },
    {
     "name": "stdout",
     "output_type": "stream",
     "text": [
      "\r",
      " [*******  32%           ] Elapsed 2.13s / Remaining 00:00:00:04"
     ]
    },
    {
     "name": "stdout",
     "output_type": "stream",
     "text": [
      "\r",
      " [*******  32%           ] Elapsed 2.14s / Remaining 00:00:00:04"
     ]
    },
    {
     "name": "stdout",
     "output_type": "stream",
     "text": [
      "\r",
      " [*******  32%           ] Elapsed 2.14s / Remaining 00:00:00:04"
     ]
    },
    {
     "name": "stdout",
     "output_type": "stream",
     "text": [
      "\r",
      " [*******  32%           ] Elapsed 2.15s / Remaining 00:00:00:04"
     ]
    },
    {
     "name": "stdout",
     "output_type": "stream",
     "text": [
      "\r",
      " [******** 33%           ] Elapsed 2.15s / Remaining 00:00:00:04"
     ]
    },
    {
     "name": "stdout",
     "output_type": "stream",
     "text": [
      "\r",
      " [******** 33%           ] Elapsed 2.16s / Remaining 00:00:00:04"
     ]
    },
    {
     "name": "stdout",
     "output_type": "stream",
     "text": [
      "\r",
      " [******** 33%           ] Elapsed 2.16s / Remaining 00:00:00:04"
     ]
    },
    {
     "name": "stdout",
     "output_type": "stream",
     "text": [
      "\r",
      " [******** 33%           ] Elapsed 2.17s / Remaining 00:00:00:04"
     ]
    },
    {
     "name": "stdout",
     "output_type": "stream",
     "text": [
      "\r",
      " [******** 33%           ] Elapsed 2.18s / Remaining 00:00:00:04"
     ]
    },
    {
     "name": "stdout",
     "output_type": "stream",
     "text": [
      "\r",
      " [******** 33%           ] Elapsed 2.19s / Remaining 00:00:00:04"
     ]
    },
    {
     "name": "stdout",
     "output_type": "stream",
     "text": [
      "\r",
      " [******** 33%           ] Elapsed 2.19s / Remaining 00:00:00:04"
     ]
    },
    {
     "name": "stdout",
     "output_type": "stream",
     "text": [
      "\r",
      " [******** 33%           ] Elapsed 2.20s / Remaining 00:00:00:04"
     ]
    },
    {
     "name": "stdout",
     "output_type": "stream",
     "text": [
      "\r",
      " [******** 33%           ] Elapsed 2.20s / Remaining 00:00:00:04"
     ]
    },
    {
     "name": "stdout",
     "output_type": "stream",
     "text": [
      "\r",
      " [******** 33%           ] Elapsed 2.21s / Remaining 00:00:00:04"
     ]
    },
    {
     "name": "stdout",
     "output_type": "stream",
     "text": [
      "\r",
      " [******** 34%           ] Elapsed 2.21s / Remaining 00:00:00:04"
     ]
    },
    {
     "name": "stdout",
     "output_type": "stream",
     "text": [
      "\r",
      " [******** 34%           ] Elapsed 2.23s / Remaining 00:00:00:04"
     ]
    },
    {
     "name": "stdout",
     "output_type": "stream",
     "text": [
      "\r",
      " [******** 34%           ] Elapsed 2.23s / Remaining 00:00:00:04"
     ]
    },
    {
     "name": "stdout",
     "output_type": "stream",
     "text": [
      "\r",
      " [******** 34%           ] Elapsed 2.24s / Remaining 00:00:00:04"
     ]
    },
    {
     "name": "stdout",
     "output_type": "stream",
     "text": [
      "\r",
      " [******** 34%           ] Elapsed 2.24s / Remaining 00:00:00:04"
     ]
    },
    {
     "name": "stdout",
     "output_type": "stream",
     "text": [
      "\r",
      " [******** 34%           ] Elapsed 2.25s / Remaining 00:00:00:04"
     ]
    },
    {
     "name": "stdout",
     "output_type": "stream",
     "text": [
      "\r",
      " [******** 34%           ] Elapsed 2.25s / Remaining 00:00:00:04"
     ]
    },
    {
     "name": "stdout",
     "output_type": "stream",
     "text": [
      "\r",
      " [******** 34%           ] Elapsed 2.26s / Remaining 00:00:00:04"
     ]
    },
    {
     "name": "stdout",
     "output_type": "stream",
     "text": [
      "\r",
      " [******** 34%           ] Elapsed 2.27s / Remaining 00:00:00:04"
     ]
    },
    {
     "name": "stdout",
     "output_type": "stream",
     "text": [
      "\r",
      " [******** 34%           ] Elapsed 2.27s / Remaining 00:00:00:04"
     ]
    },
    {
     "name": "stdout",
     "output_type": "stream",
     "text": [
      "\r",
      " [******** 35%           ] Elapsed 2.28s / Remaining 00:00:00:04"
     ]
    },
    {
     "name": "stdout",
     "output_type": "stream",
     "text": [
      "\r",
      " [******** 35%           ] Elapsed 2.28s / Remaining 00:00:00:04"
     ]
    },
    {
     "name": "stdout",
     "output_type": "stream",
     "text": [
      "\r",
      " [******** 35%           ] Elapsed 2.29s / Remaining 00:00:00:04"
     ]
    },
    {
     "name": "stdout",
     "output_type": "stream",
     "text": [
      "\r",
      " [******** 35%           ] Elapsed 2.29s / Remaining 00:00:00:04"
     ]
    },
    {
     "name": "stdout",
     "output_type": "stream",
     "text": [
      "\r",
      " [******** 35%           ] Elapsed 2.30s / Remaining 00:00:00:04"
     ]
    },
    {
     "name": "stdout",
     "output_type": "stream",
     "text": [
      "\r",
      " [******** 35%           ] Elapsed 2.30s / Remaining 00:00:00:04"
     ]
    },
    {
     "name": "stdout",
     "output_type": "stream",
     "text": [
      "\r",
      " [******** 35%           ] Elapsed 2.32s / Remaining 00:00:00:04"
     ]
    },
    {
     "name": "stdout",
     "output_type": "stream",
     "text": [
      "\r",
      " [******** 35%           ] Elapsed 2.32s / Remaining 00:00:00:04"
     ]
    },
    {
     "name": "stdout",
     "output_type": "stream",
     "text": [
      "\r",
      " [******** 35%           ] Elapsed 2.33s / Remaining 00:00:00:04"
     ]
    },
    {
     "name": "stdout",
     "output_type": "stream",
     "text": [
      "\r",
      " [******** 35%           ] Elapsed 2.33s / Remaining 00:00:00:04"
     ]
    },
    {
     "name": "stdout",
     "output_type": "stream",
     "text": [
      "\r",
      " [******** 36%           ] Elapsed 2.34s / Remaining 00:00:00:04"
     ]
    },
    {
     "name": "stdout",
     "output_type": "stream",
     "text": [
      "\r",
      " [******** 36%           ] Elapsed 2.34s / Remaining 00:00:00:04"
     ]
    },
    {
     "name": "stdout",
     "output_type": "stream",
     "text": [
      "\r",
      " [******** 36%           ] Elapsed 2.35s / Remaining 00:00:00:04"
     ]
    },
    {
     "name": "stdout",
     "output_type": "stream",
     "text": [
      "\r",
      " [******** 36%           ] Elapsed 2.35s / Remaining 00:00:00:04"
     ]
    },
    {
     "name": "stdout",
     "output_type": "stream",
     "text": [
      "\r",
      " [******** 36%           ] Elapsed 2.36s / Remaining 00:00:00:04"
     ]
    },
    {
     "name": "stdout",
     "output_type": "stream",
     "text": [
      "\r",
      " [******** 36%           ] Elapsed 2.37s / Remaining 00:00:00:04"
     ]
    },
    {
     "name": "stdout",
     "output_type": "stream",
     "text": [
      "\r",
      " [******** 36%           ] Elapsed 2.37s / Remaining 00:00:00:04"
     ]
    },
    {
     "name": "stdout",
     "output_type": "stream",
     "text": [
      "\r",
      " [******** 36%           ] Elapsed 2.38s / Remaining 00:00:00:04"
     ]
    },
    {
     "name": "stdout",
     "output_type": "stream",
     "text": [
      "\r",
      " [******** 36%           ] Elapsed 2.38s / Remaining 00:00:00:04"
     ]
    },
    {
     "name": "stdout",
     "output_type": "stream",
     "text": [
      "\r",
      " [******** 36%           ] Elapsed 2.39s / Remaining 00:00:00:04"
     ]
    },
    {
     "name": "stdout",
     "output_type": "stream",
     "text": [
      "\r",
      " [*********37%           ] Elapsed 2.39s / Remaining 00:00:00:04"
     ]
    },
    {
     "name": "stdout",
     "output_type": "stream",
     "text": [
      "\r",
      " [*********37%           ] Elapsed 2.40s / Remaining 00:00:00:04"
     ]
    },
    {
     "name": "stdout",
     "output_type": "stream",
     "text": [
      "\r"
     ]
    },
    {
     "name": "stdout",
     "output_type": "stream",
     "text": [
      " [*********37%           ] Elapsed 2.41s / Remaining 00:00:00:04"
     ]
    },
    {
     "name": "stdout",
     "output_type": "stream",
     "text": [
      "\r",
      " [*********37%           ] Elapsed 2.41s / Remaining 00:00:00:04"
     ]
    },
    {
     "name": "stdout",
     "output_type": "stream",
     "text": [
      "\r",
      " [*********37%           ] Elapsed 2.42s / Remaining 00:00:00:04"
     ]
    },
    {
     "name": "stdout",
     "output_type": "stream",
     "text": [
      "\r",
      " [*********37%           ] Elapsed 2.42s / Remaining 00:00:00:04"
     ]
    },
    {
     "name": "stdout",
     "output_type": "stream",
     "text": [
      "\r",
      " [*********37%           ] Elapsed 2.43s / Remaining 00:00:00:04"
     ]
    },
    {
     "name": "stdout",
     "output_type": "stream",
     "text": [
      "\r",
      " [*********37%           ] Elapsed 2.43s / Remaining 00:00:00:04"
     ]
    },
    {
     "name": "stdout",
     "output_type": "stream",
     "text": [
      "\r",
      " [*********37%           ] Elapsed 2.44s / Remaining 00:00:00:04"
     ]
    },
    {
     "name": "stdout",
     "output_type": "stream",
     "text": [
      "\r",
      " [*********37%           ] Elapsed 2.44s / Remaining 00:00:00:04"
     ]
    },
    {
     "name": "stdout",
     "output_type": "stream",
     "text": [
      "\r",
      " [*********38%           ] Elapsed 2.46s / Remaining 00:00:00:04"
     ]
    },
    {
     "name": "stdout",
     "output_type": "stream",
     "text": [
      "\r",
      " [*********38%           ] Elapsed 2.46s / Remaining 00:00:00:04"
     ]
    },
    {
     "name": "stdout",
     "output_type": "stream",
     "text": [
      "\r",
      " [*********38%           ] Elapsed 2.47s / Remaining 00:00:00:04"
     ]
    },
    {
     "name": "stdout",
     "output_type": "stream",
     "text": [
      "\r",
      " [*********38%           ] Elapsed 2.47s / Remaining 00:00:00:04"
     ]
    },
    {
     "name": "stdout",
     "output_type": "stream",
     "text": [
      "\r",
      " [*********38%           ] Elapsed 2.48s / Remaining 00:00:00:04"
     ]
    },
    {
     "name": "stdout",
     "output_type": "stream",
     "text": [
      "\r",
      " [*********38%           ] Elapsed 2.48s / Remaining 00:00:00:04"
     ]
    },
    {
     "name": "stdout",
     "output_type": "stream",
     "text": [
      "\r",
      " [*********38%           ] Elapsed 2.49s / Remaining 00:00:00:04"
     ]
    },
    {
     "name": "stdout",
     "output_type": "stream",
     "text": [
      "\r",
      " [*********38%           ] Elapsed 2.49s / Remaining 00:00:00:04"
     ]
    },
    {
     "name": "stdout",
     "output_type": "stream",
     "text": [
      "\r",
      " [*********38%           ] Elapsed 2.50s / Remaining 00:00:00:04"
     ]
    },
    {
     "name": "stdout",
     "output_type": "stream",
     "text": [
      "\r",
      " [*********38%           ] Elapsed 2.51s / Remaining 00:00:00:04"
     ]
    },
    {
     "name": "stdout",
     "output_type": "stream",
     "text": [
      "\r",
      " [*********39%           ] Elapsed 2.51s / Remaining 00:00:00:03"
     ]
    },
    {
     "name": "stdout",
     "output_type": "stream",
     "text": [
      "\r",
      " [*********39%           ] Elapsed 2.52s / Remaining 00:00:00:03"
     ]
    },
    {
     "name": "stdout",
     "output_type": "stream",
     "text": [
      "\r",
      " [*********39%           ] Elapsed 2.52s / Remaining 00:00:00:03"
     ]
    },
    {
     "name": "stdout",
     "output_type": "stream",
     "text": [
      "\r",
      " [*********39%           ] Elapsed 2.53s / Remaining 00:00:00:03"
     ]
    },
    {
     "name": "stdout",
     "output_type": "stream",
     "text": [
      "\r",
      " [*********39%           ] Elapsed 2.53s / Remaining 00:00:00:03"
     ]
    },
    {
     "name": "stdout",
     "output_type": "stream",
     "text": [
      "\r",
      " [*********39%           ] Elapsed 2.54s / Remaining 00:00:00:03"
     ]
    },
    {
     "name": "stdout",
     "output_type": "stream",
     "text": [
      "\r",
      " [*********39%           ] Elapsed 2.55s / Remaining 00:00:00:03"
     ]
    },
    {
     "name": "stdout",
     "output_type": "stream",
     "text": [
      "\r",
      " [*********39%           ] Elapsed 2.56s / Remaining 00:00:00:03"
     ]
    },
    {
     "name": "stdout",
     "output_type": "stream",
     "text": [
      "\r",
      " [*********39%           ] Elapsed 2.56s / Remaining 00:00:00:04"
     ]
    },
    {
     "name": "stdout",
     "output_type": "stream",
     "text": [
      "\r",
      " [*********39%           ] Elapsed 2.57s / Remaining 00:00:00:04"
     ]
    },
    {
     "name": "stdout",
     "output_type": "stream",
     "text": [
      "\r",
      " [*********40%           ] Elapsed 2.57s / Remaining 00:00:00:03"
     ]
    },
    {
     "name": "stdout",
     "output_type": "stream",
     "text": [
      "\r",
      " [*********40%           ] Elapsed 2.58s / Remaining 00:00:00:03"
     ]
    },
    {
     "name": "stdout",
     "output_type": "stream",
     "text": [
      "\r",
      " [*********40%           ] Elapsed 2.58s / Remaining 00:00:00:03"
     ]
    },
    {
     "name": "stdout",
     "output_type": "stream",
     "text": [
      "\r",
      " [*********40%           ] Elapsed 2.59s / Remaining 00:00:00:03"
     ]
    },
    {
     "name": "stdout",
     "output_type": "stream",
     "text": [
      "\r",
      " [*********40%           ] Elapsed 2.59s / Remaining 00:00:00:03"
     ]
    },
    {
     "name": "stdout",
     "output_type": "stream",
     "text": [
      "\r",
      " [*********40%           ] Elapsed 2.60s / Remaining 00:00:00:03"
     ]
    },
    {
     "name": "stdout",
     "output_type": "stream",
     "text": [
      "\r",
      " [*********40%           ] Elapsed 2.61s / Remaining 00:00:00:03"
     ]
    },
    {
     "name": "stdout",
     "output_type": "stream",
     "text": [
      "\r",
      " [*********40%           ] Elapsed 2.61s / Remaining 00:00:00:03"
     ]
    },
    {
     "name": "stdout",
     "output_type": "stream",
     "text": [
      "\r",
      " [*********40%           ] Elapsed 2.62s / Remaining 00:00:00:03"
     ]
    },
    {
     "name": "stdout",
     "output_type": "stream",
     "text": [
      "\r",
      " [*********40%           ] Elapsed 2.62s / Remaining 00:00:00:03"
     ]
    },
    {
     "name": "stdout",
     "output_type": "stream",
     "text": [
      "\r",
      " [*********41%           ] Elapsed 2.63s / Remaining 00:00:00:03"
     ]
    },
    {
     "name": "stdout",
     "output_type": "stream",
     "text": [
      "\r",
      " [*********41%           ] Elapsed 2.63s / Remaining 00:00:00:03"
     ]
    },
    {
     "name": "stdout",
     "output_type": "stream",
     "text": [
      "\r",
      " [*********41%           ] Elapsed 2.64s / Remaining 00:00:00:03"
     ]
    },
    {
     "name": "stdout",
     "output_type": "stream",
     "text": [
      "\r",
      " [*********41%           ] Elapsed 2.64s / Remaining 00:00:00:03"
     ]
    },
    {
     "name": "stdout",
     "output_type": "stream",
     "text": [
      "\r",
      " [*********41%           ] Elapsed 2.65s / Remaining 00:00:00:03"
     ]
    },
    {
     "name": "stdout",
     "output_type": "stream",
     "text": [
      "\r",
      " [*********41%           ] Elapsed 2.66s / Remaining 00:00:00:03"
     ]
    },
    {
     "name": "stdout",
     "output_type": "stream",
     "text": [
      "\r",
      " [*********41%           ] Elapsed 2.66s / Remaining 00:00:00:03"
     ]
    },
    {
     "name": "stdout",
     "output_type": "stream",
     "text": [
      "\r",
      " [*********41%           ] Elapsed 2.67s / Remaining 00:00:00:03"
     ]
    },
    {
     "name": "stdout",
     "output_type": "stream",
     "text": [
      "\r",
      " [*********41%           ] Elapsed 2.67s / Remaining 00:00:00:03"
     ]
    },
    {
     "name": "stdout",
     "output_type": "stream",
     "text": [
      "\r",
      " [*********41%           ] Elapsed 2.68s / Remaining 00:00:00:03"
     ]
    },
    {
     "name": "stdout",
     "output_type": "stream",
     "text": [
      "\r",
      " [*********42%           ] Elapsed 2.68s / Remaining 00:00:00:03"
     ]
    },
    {
     "name": "stdout",
     "output_type": "stream",
     "text": [
      "\r",
      " [*********42%           ] Elapsed 2.69s / Remaining 00:00:00:03"
     ]
    },
    {
     "name": "stdout",
     "output_type": "stream",
     "text": [
      "\r",
      " [*********42%           ] Elapsed 2.69s / Remaining 00:00:00:03"
     ]
    },
    {
     "name": "stdout",
     "output_type": "stream",
     "text": [
      "\r",
      " [*********42%           ] Elapsed 2.71s / Remaining 00:00:00:03"
     ]
    },
    {
     "name": "stdout",
     "output_type": "stream",
     "text": [
      "\r",
      " [*********42%           ] Elapsed 2.71s / Remaining 00:00:00:03"
     ]
    },
    {
     "name": "stdout",
     "output_type": "stream",
     "text": [
      "\r",
      " [*********42%           ] Elapsed 2.72s / Remaining 00:00:00:03"
     ]
    },
    {
     "name": "stdout",
     "output_type": "stream",
     "text": [
      "\r",
      " [*********42%           ] Elapsed 2.72s / Remaining 00:00:00:03"
     ]
    },
    {
     "name": "stdout",
     "output_type": "stream",
     "text": [
      "\r",
      " [*********42%           ] Elapsed 2.72s / Remaining 00:00:00:03"
     ]
    },
    {
     "name": "stdout",
     "output_type": "stream",
     "text": [
      "\r",
      " [*********42%           ] Elapsed 2.73s / Remaining 00:00:00:03"
     ]
    },
    {
     "name": "stdout",
     "output_type": "stream",
     "text": [
      "\r",
      " [*********42%           ] Elapsed 2.73s / Remaining 00:00:00:03"
     ]
    },
    {
     "name": "stdout",
     "output_type": "stream",
     "text": [
      "\r",
      " [*********43%           ] Elapsed 2.74s / Remaining 00:00:00:03"
     ]
    },
    {
     "name": "stdout",
     "output_type": "stream",
     "text": [
      "\r",
      " [*********43%           ] Elapsed 2.74s / Remaining 00:00:00:03"
     ]
    },
    {
     "name": "stdout",
     "output_type": "stream",
     "text": [
      "\r",
      " [*********43%           ] Elapsed 2.75s / Remaining 00:00:00:03"
     ]
    },
    {
     "name": "stdout",
     "output_type": "stream",
     "text": [
      "\r",
      " [*********43%           ] Elapsed 2.76s / Remaining 00:00:00:03"
     ]
    },
    {
     "name": "stdout",
     "output_type": "stream",
     "text": [
      "\r",
      " [*********43%           ] Elapsed 2.77s / Remaining 00:00:00:03"
     ]
    },
    {
     "name": "stdout",
     "output_type": "stream",
     "text": [
      "\r",
      " [*********43%           ] Elapsed 2.77s / Remaining 00:00:00:03"
     ]
    },
    {
     "name": "stdout",
     "output_type": "stream",
     "text": [
      "\r",
      " [*********43%           ] Elapsed 2.78s / Remaining 00:00:00:03"
     ]
    },
    {
     "name": "stdout",
     "output_type": "stream",
     "text": [
      "\r",
      " [*********43%           ] Elapsed 2.78s / Remaining 00:00:00:03"
     ]
    },
    {
     "name": "stdout",
     "output_type": "stream",
     "text": [
      "\r",
      " [*********43%           ] Elapsed 2.79s / Remaining 00:00:00:03"
     ]
    },
    {
     "name": "stdout",
     "output_type": "stream",
     "text": [
      "\r",
      " [*********43%           ] Elapsed 2.79s / Remaining 00:00:00:03"
     ]
    },
    {
     "name": "stdout",
     "output_type": "stream",
     "text": [
      "\r",
      " [*********44%           ] Elapsed 2.80s / Remaining 00:00:00:03"
     ]
    },
    {
     "name": "stdout",
     "output_type": "stream",
     "text": [
      "\r",
      " [*********44%           ] Elapsed 2.80s / Remaining 00:00:00:03"
     ]
    },
    {
     "name": "stdout",
     "output_type": "stream",
     "text": [
      "\r",
      " [*********44%           ] Elapsed 2.81s / Remaining 00:00:00:03"
     ]
    },
    {
     "name": "stdout",
     "output_type": "stream",
     "text": [
      "\r",
      " [*********44%           ] Elapsed 2.82s / Remaining 00:00:00:03"
     ]
    },
    {
     "name": "stdout",
     "output_type": "stream",
     "text": [
      "\r",
      " [*********44%           ] Elapsed 2.82s / Remaining 00:00:00:03"
     ]
    },
    {
     "name": "stdout",
     "output_type": "stream",
     "text": [
      "\r",
      " [*********44%           ] Elapsed 2.83s / Remaining 00:00:00:03"
     ]
    },
    {
     "name": "stdout",
     "output_type": "stream",
     "text": [
      "\r",
      " [*********44%           ] Elapsed 2.83s / Remaining 00:00:00:03"
     ]
    },
    {
     "name": "stdout",
     "output_type": "stream",
     "text": [
      "\r",
      " [*********44%           ] Elapsed 2.84s / Remaining 00:00:00:03"
     ]
    },
    {
     "name": "stdout",
     "output_type": "stream",
     "text": [
      "\r",
      " [*********44%           ] Elapsed 2.84s / Remaining 00:00:00:03"
     ]
    },
    {
     "name": "stdout",
     "output_type": "stream",
     "text": [
      "\r",
      " [*********44%           ] Elapsed 2.85s / Remaining 00:00:00:03"
     ]
    },
    {
     "name": "stdout",
     "output_type": "stream",
     "text": [
      "\r",
      " [*********45%           ] Elapsed 2.85s / Remaining 00:00:00:03"
     ]
    },
    {
     "name": "stdout",
     "output_type": "stream",
     "text": [
      "\r",
      " [*********45%           ] Elapsed 2.86s / Remaining 00:00:00:03"
     ]
    },
    {
     "name": "stdout",
     "output_type": "stream",
     "text": [
      "\r",
      " [*********45%           ] Elapsed 2.86s / Remaining 00:00:00:03"
     ]
    },
    {
     "name": "stdout",
     "output_type": "stream",
     "text": [
      "\r",
      " [*********45%           ] Elapsed 2.88s / Remaining 00:00:00:03"
     ]
    },
    {
     "name": "stdout",
     "output_type": "stream",
     "text": [
      "\r",
      " [*********45%           ] Elapsed 2.88s / Remaining 00:00:00:03"
     ]
    },
    {
     "name": "stdout",
     "output_type": "stream",
     "text": [
      "\r",
      " [*********45%           ] Elapsed 2.88s / Remaining 00:00:00:03"
     ]
    },
    {
     "name": "stdout",
     "output_type": "stream",
     "text": [
      "\r",
      " [*********45%           ] Elapsed 2.89s / Remaining 00:00:00:03"
     ]
    },
    {
     "name": "stdout",
     "output_type": "stream",
     "text": [
      "\r",
      " [*********45%           ] Elapsed 2.89s / Remaining 00:00:00:03"
     ]
    },
    {
     "name": "stdout",
     "output_type": "stream",
     "text": [
      "\r",
      " [*********45%           ] Elapsed 2.90s / Remaining 00:00:00:03"
     ]
    },
    {
     "name": "stdout",
     "output_type": "stream",
     "text": [
      "\r",
      " [*********45%           ] Elapsed 2.90s / Remaining 00:00:00:03"
     ]
    },
    {
     "name": "stdout",
     "output_type": "stream",
     "text": [
      "\r",
      " [*********46%           ] Elapsed 2.91s / Remaining 00:00:00:03"
     ]
    },
    {
     "name": "stdout",
     "output_type": "stream",
     "text": [
      "\r",
      " [*********46%           ] Elapsed 2.91s / Remaining 00:00:00:03"
     ]
    },
    {
     "name": "stdout",
     "output_type": "stream",
     "text": [
      "\r",
      " [*********46%           ] Elapsed 2.92s / Remaining 00:00:00:03"
     ]
    },
    {
     "name": "stdout",
     "output_type": "stream",
     "text": [
      "\r",
      " [*********46%           ] Elapsed 2.93s / Remaining 00:00:00:03"
     ]
    },
    {
     "name": "stdout",
     "output_type": "stream",
     "text": [
      "\r",
      " [*********46%           ] Elapsed 2.94s / Remaining 00:00:00:03"
     ]
    },
    {
     "name": "stdout",
     "output_type": "stream",
     "text": [
      "\r",
      " [*********46%           ] Elapsed 2.94s / Remaining 00:00:00:03"
     ]
    },
    {
     "name": "stdout",
     "output_type": "stream",
     "text": [
      "\r",
      " [*********46%           ] Elapsed 2.95s / Remaining 00:00:00:03"
     ]
    },
    {
     "name": "stdout",
     "output_type": "stream",
     "text": [
      "\r",
      " [*********46%           ] Elapsed 2.95s / Remaining 00:00:00:03"
     ]
    },
    {
     "name": "stdout",
     "output_type": "stream",
     "text": [
      "\r",
      " [*********46%           ] Elapsed 2.96s / Remaining 00:00:00:03"
     ]
    },
    {
     "name": "stdout",
     "output_type": "stream",
     "text": [
      "\r",
      " [*********46%           ] Elapsed 2.96s / Remaining 00:00:00:03"
     ]
    },
    {
     "name": "stdout",
     "output_type": "stream",
     "text": [
      "\r",
      " [*********47%           ] Elapsed 2.97s / Remaining 00:00:00:03"
     ]
    },
    {
     "name": "stdout",
     "output_type": "stream",
     "text": [
      "\r",
      " [*********47%           ] Elapsed 2.97s / Remaining 00:00:00:03"
     ]
    },
    {
     "name": "stdout",
     "output_type": "stream",
     "text": [
      "\r",
      " [*********47%           ] Elapsed 2.98s / Remaining 00:00:00:03"
     ]
    },
    {
     "name": "stdout",
     "output_type": "stream",
     "text": [
      "\r",
      " [*********47%           ] Elapsed 2.98s / Remaining 00:00:00:03"
     ]
    },
    {
     "name": "stdout",
     "output_type": "stream",
     "text": [
      "\r",
      " [*********47%           ] Elapsed 2.99s / Remaining 00:00:00:03"
     ]
    },
    {
     "name": "stdout",
     "output_type": "stream",
     "text": [
      "\r",
      " [*********47%           ] Elapsed 3.00s / Remaining 00:00:00:03"
     ]
    },
    {
     "name": "stdout",
     "output_type": "stream",
     "text": [
      "\r",
      " [*********47%           ] Elapsed 3.00s / Remaining 00:00:00:03"
     ]
    },
    {
     "name": "stdout",
     "output_type": "stream",
     "text": [
      "\r",
      " [*********47%           ] Elapsed 3.01s / Remaining 00:00:00:03"
     ]
    },
    {
     "name": "stdout",
     "output_type": "stream",
     "text": [
      "\r",
      " [*********47%           ] Elapsed 3.01s / Remaining 00:00:00:03"
     ]
    },
    {
     "name": "stdout",
     "output_type": "stream",
     "text": [
      "\r",
      " [*********47%           ] Elapsed 3.02s / Remaining 00:00:00:03"
     ]
    },
    {
     "name": "stdout",
     "output_type": "stream",
     "text": [
      "\r",
      " [*********48%           ] Elapsed 3.02s / Remaining 00:00:00:03"
     ]
    },
    {
     "name": "stdout",
     "output_type": "stream",
     "text": [
      "\r",
      " [*********48%           ] Elapsed 3.03s / Remaining 00:00:00:03"
     ]
    },
    {
     "name": "stdout",
     "output_type": "stream",
     "text": [
      "\r",
      " [*********48%           ] Elapsed 3.03s / Remaining 00:00:00:03"
     ]
    },
    {
     "name": "stdout",
     "output_type": "stream",
     "text": [
      "\r",
      " [*********48%           ] Elapsed 3.04s / Remaining 00:00:00:03"
     ]
    },
    {
     "name": "stdout",
     "output_type": "stream",
     "text": [
      "\r",
      " [*********48%           ] Elapsed 3.04s / Remaining 00:00:00:03"
     ]
    },
    {
     "name": "stdout",
     "output_type": "stream",
     "text": [
      "\r",
      " [*********48%           ] Elapsed 3.05s / Remaining 00:00:00:03"
     ]
    },
    {
     "name": "stdout",
     "output_type": "stream",
     "text": [
      "\r",
      " [*********48%           ] Elapsed 3.06s / Remaining 00:00:00:03"
     ]
    },
    {
     "name": "stdout",
     "output_type": "stream",
     "text": [
      "\r",
      " [*********48%           ] Elapsed 3.06s / Remaining 00:00:00:03"
     ]
    },
    {
     "name": "stdout",
     "output_type": "stream",
     "text": [
      "\r",
      " [*********48%           ] Elapsed 3.07s / Remaining 00:00:00:03"
     ]
    },
    {
     "name": "stdout",
     "output_type": "stream",
     "text": [
      "\r",
      " [*********48%           ] Elapsed 3.07s / Remaining 00:00:00:03"
     ]
    },
    {
     "name": "stdout",
     "output_type": "stream",
     "text": [
      "\r",
      " [*********49%           ] Elapsed 3.08s / Remaining 00:00:00:03"
     ]
    },
    {
     "name": "stdout",
     "output_type": "stream",
     "text": [
      "\r",
      " [*********49%           ] Elapsed 3.08s / Remaining 00:00:00:03"
     ]
    },
    {
     "name": "stdout",
     "output_type": "stream",
     "text": [
      "\r",
      " [*********49%           ] Elapsed 3.09s / Remaining 00:00:00:03"
     ]
    },
    {
     "name": "stdout",
     "output_type": "stream",
     "text": [
      "\r",
      " [*********49%           ] Elapsed 3.09s / Remaining 00:00:00:03"
     ]
    },
    {
     "name": "stdout",
     "output_type": "stream",
     "text": [
      "\r",
      " [*********49%           ] Elapsed 3.10s / Remaining 00:00:00:03"
     ]
    },
    {
     "name": "stdout",
     "output_type": "stream",
     "text": [
      "\r",
      " [*********49%           ] Elapsed 3.10s / Remaining 00:00:00:03"
     ]
    },
    {
     "name": "stdout",
     "output_type": "stream",
     "text": [
      "\r",
      " [*********49%           ] Elapsed 3.12s / Remaining 00:00:00:03"
     ]
    },
    {
     "name": "stdout",
     "output_type": "stream",
     "text": [
      "\r",
      " [*********49%           ] Elapsed 3.12s / Remaining 00:00:00:03"
     ]
    },
    {
     "name": "stdout",
     "output_type": "stream",
     "text": [
      "\r",
      " [*********49%           ] Elapsed 3.13s / Remaining 00:00:00:03"
     ]
    },
    {
     "name": "stdout",
     "output_type": "stream",
     "text": [
      "\r",
      " [*********49%           ] Elapsed 3.13s / Remaining 00:00:00:03"
     ]
    },
    {
     "name": "stdout",
     "output_type": "stream",
     "text": [
      "\r",
      " [*********50%           ] Elapsed 3.13s / Remaining 00:00:00:03"
     ]
    },
    {
     "name": "stdout",
     "output_type": "stream",
     "text": [
      "\r",
      " [*********50%           ] Elapsed 3.14s / Remaining 00:00:00:03"
     ]
    },
    {
     "name": "stdout",
     "output_type": "stream",
     "text": [
      "\r",
      " [*********50%           ] Elapsed 3.14s / Remaining 00:00:00:03"
     ]
    },
    {
     "name": "stdout",
     "output_type": "stream",
     "text": [
      "\r",
      " [*********50%           ] Elapsed 3.15s / Remaining 00:00:00:03"
     ]
    },
    {
     "name": "stdout",
     "output_type": "stream",
     "text": [
      "\r",
      " [*********50%           ] Elapsed 3.15s / Remaining 00:00:00:03"
     ]
    },
    {
     "name": "stdout",
     "output_type": "stream",
     "text": [
      "\r",
      " [*********50%           ] Elapsed 3.16s / Remaining 00:00:00:03"
     ]
    },
    {
     "name": "stdout",
     "output_type": "stream",
     "text": [
      "\r",
      " [*********50%           ] Elapsed 3.16s / Remaining 00:00:00:03"
     ]
    },
    {
     "name": "stdout",
     "output_type": "stream",
     "text": [
      "\r",
      " [*********50%           ] Elapsed 3.17s / Remaining 00:00:00:03"
     ]
    },
    {
     "name": "stdout",
     "output_type": "stream",
     "text": [
      "\r",
      " [*********50%           ] Elapsed 3.18s / Remaining 00:00:00:03"
     ]
    },
    {
     "name": "stdout",
     "output_type": "stream",
     "text": [
      "\r",
      " [*********50%           ] Elapsed 3.19s / Remaining 00:00:00:03"
     ]
    },
    {
     "name": "stdout",
     "output_type": "stream",
     "text": [
      "\r",
      " [*********51%           ] Elapsed 3.19s / Remaining 00:00:00:03"
     ]
    },
    {
     "name": "stdout",
     "output_type": "stream",
     "text": [
      "\r",
      " [*********51%           ] Elapsed 3.20s / Remaining 00:00:00:03"
     ]
    },
    {
     "name": "stdout",
     "output_type": "stream",
     "text": [
      "\r",
      " [*********51%           ] Elapsed 3.20s / Remaining 00:00:00:03"
     ]
    },
    {
     "name": "stdout",
     "output_type": "stream",
     "text": [
      "\r",
      " [*********51%           ] Elapsed 3.21s / Remaining 00:00:00:03"
     ]
    },
    {
     "name": "stdout",
     "output_type": "stream",
     "text": [
      "\r",
      " [*********51%           ] Elapsed 3.21s / Remaining 00:00:00:03"
     ]
    },
    {
     "name": "stdout",
     "output_type": "stream",
     "text": [
      "\r",
      " [*********51%           ] Elapsed 3.22s / Remaining 00:00:00:03"
     ]
    },
    {
     "name": "stdout",
     "output_type": "stream",
     "text": [
      "\r",
      " [*********51%           ] Elapsed 3.22s / Remaining 00:00:00:03"
     ]
    },
    {
     "name": "stdout",
     "output_type": "stream",
     "text": [
      "\r",
      " [*********51%           ] Elapsed 3.23s / Remaining 00:00:00:03"
     ]
    },
    {
     "name": "stdout",
     "output_type": "stream",
     "text": [
      "\r",
      " [*********51%           ] Elapsed 3.23s / Remaining 00:00:00:03"
     ]
    },
    {
     "name": "stdout",
     "output_type": "stream",
     "text": [
      "\r",
      " [*********51%           ] Elapsed 3.24s / Remaining 00:00:00:03"
     ]
    },
    {
     "name": "stdout",
     "output_type": "stream",
     "text": [
      "\r",
      " [*********52%           ] Elapsed 3.25s / Remaining 00:00:00:02"
     ]
    },
    {
     "name": "stdout",
     "output_type": "stream",
     "text": [
      "\r",
      " [*********52%           ] Elapsed 3.25s / Remaining 00:00:00:03"
     ]
    },
    {
     "name": "stdout",
     "output_type": "stream",
     "text": [
      "\r",
      " [*********52%           ] Elapsed 3.26s / Remaining 00:00:00:03"
     ]
    },
    {
     "name": "stdout",
     "output_type": "stream",
     "text": [
      "\r",
      " [*********52%           ] Elapsed 3.26s / Remaining 00:00:00:03"
     ]
    },
    {
     "name": "stdout",
     "output_type": "stream",
     "text": [
      "\r",
      " [*********52%           ] Elapsed 3.27s / Remaining 00:00:00:03"
     ]
    },
    {
     "name": "stdout",
     "output_type": "stream",
     "text": [
      "\r",
      " [*********52%           ] Elapsed 3.27s / Remaining 00:00:00:03"
     ]
    },
    {
     "name": "stdout",
     "output_type": "stream",
     "text": [
      "\r",
      " [*********52%           ] Elapsed 3.28s / Remaining 00:00:00:03"
     ]
    },
    {
     "name": "stdout",
     "output_type": "stream",
     "text": [
      "\r",
      " [*********52%           ] Elapsed 3.28s / Remaining 00:00:00:03"
     ]
    },
    {
     "name": "stdout",
     "output_type": "stream",
     "text": [
      "\r",
      " [*********52%           ] Elapsed 3.29s / Remaining 00:00:00:03"
     ]
    },
    {
     "name": "stdout",
     "output_type": "stream",
     "text": [
      "\r",
      " [*********52%           ] Elapsed 3.29s / Remaining 00:00:00:03"
     ]
    },
    {
     "name": "stdout",
     "output_type": "stream",
     "text": [
      "\r",
      " [*********53%           ] Elapsed 3.30s / Remaining 00:00:00:02"
     ]
    },
    {
     "name": "stdout",
     "output_type": "stream",
     "text": [
      "\r",
      " [*********53%           ] Elapsed 3.30s / Remaining 00:00:00:02"
     ]
    },
    {
     "name": "stdout",
     "output_type": "stream",
     "text": [
      "\r",
      " [*********53%           ] Elapsed 3.31s / Remaining 00:00:00:02"
     ]
    },
    {
     "name": "stdout",
     "output_type": "stream",
     "text": [
      "\r",
      " [*********53%           ] Elapsed 3.32s / Remaining 00:00:00:02"
     ]
    },
    {
     "name": "stdout",
     "output_type": "stream",
     "text": [
      "\r",
      " [*********53%           ] Elapsed 3.32s / Remaining 00:00:00:02"
     ]
    },
    {
     "name": "stdout",
     "output_type": "stream",
     "text": [
      "\r",
      " [*********53%           ] Elapsed 3.33s / Remaining 00:00:00:02"
     ]
    },
    {
     "name": "stdout",
     "output_type": "stream",
     "text": [
      "\r",
      " [*********53%           ] Elapsed 3.33s / Remaining 00:00:00:02"
     ]
    },
    {
     "name": "stdout",
     "output_type": "stream",
     "text": [
      "\r",
      " [*********53%           ] Elapsed 3.34s / Remaining 00:00:00:02"
     ]
    },
    {
     "name": "stdout",
     "output_type": "stream",
     "text": [
      "\r",
      " [*********53%           ] Elapsed 3.35s / Remaining 00:00:00:02"
     ]
    },
    {
     "name": "stdout",
     "output_type": "stream",
     "text": [
      "\r",
      " [*********53%           ] Elapsed 3.35s / Remaining 00:00:00:02"
     ]
    },
    {
     "name": "stdout",
     "output_type": "stream",
     "text": [
      "\r",
      " [*********54%           ] Elapsed 3.36s / Remaining 00:00:00:02"
     ]
    },
    {
     "name": "stdout",
     "output_type": "stream",
     "text": [
      "\r",
      " [*********54%           ] Elapsed 3.36s / Remaining 00:00:00:02"
     ]
    },
    {
     "name": "stdout",
     "output_type": "stream",
     "text": [
      "\r",
      " [*********54%           ] Elapsed 3.37s / Remaining 00:00:00:02"
     ]
    },
    {
     "name": "stdout",
     "output_type": "stream",
     "text": [
      "\r",
      " [*********54%           ] Elapsed 3.37s / Remaining 00:00:00:02"
     ]
    },
    {
     "name": "stdout",
     "output_type": "stream",
     "text": [
      "\r",
      " [*********54%           ] Elapsed 3.38s / Remaining 00:00:00:02"
     ]
    },
    {
     "name": "stdout",
     "output_type": "stream",
     "text": [
      "\r",
      " [*********54%           ] Elapsed 3.38s / Remaining 00:00:00:02"
     ]
    },
    {
     "name": "stdout",
     "output_type": "stream",
     "text": [
      "\r",
      " [*********54%           ] Elapsed 3.39s / Remaining 00:00:00:02"
     ]
    },
    {
     "name": "stdout",
     "output_type": "stream",
     "text": [
      "\r",
      " [*********54%           ] Elapsed 3.40s / Remaining 00:00:00:02"
     ]
    },
    {
     "name": "stdout",
     "output_type": "stream",
     "text": [
      "\r",
      " [*********54%           ] Elapsed 3.40s / Remaining 00:00:00:02"
     ]
    },
    {
     "name": "stdout",
     "output_type": "stream",
     "text": [
      "\r",
      " [*********54%           ] Elapsed 3.41s / Remaining 00:00:00:02"
     ]
    },
    {
     "name": "stdout",
     "output_type": "stream",
     "text": [
      "\r",
      " [*********55%*          ] Elapsed 3.41s / Remaining 00:00:00:02"
     ]
    },
    {
     "name": "stdout",
     "output_type": "stream",
     "text": [
      "\r",
      " [*********55%*          ] Elapsed 3.42s / Remaining 00:00:00:02"
     ]
    },
    {
     "name": "stdout",
     "output_type": "stream",
     "text": [
      "\r",
      " [*********55%*          ] Elapsed 3.42s / Remaining 00:00:00:02"
     ]
    },
    {
     "name": "stdout",
     "output_type": "stream",
     "text": [
      "\r",
      " [*********55%*          ] Elapsed 3.43s / Remaining 00:00:00:02"
     ]
    },
    {
     "name": "stdout",
     "output_type": "stream",
     "text": [
      "\r",
      " [*********55%*          ] Elapsed 3.43s / Remaining 00:00:00:02"
     ]
    },
    {
     "name": "stdout",
     "output_type": "stream",
     "text": [
      "\r",
      " [*********55%*          ] Elapsed 3.44s / Remaining 00:00:00:02"
     ]
    },
    {
     "name": "stdout",
     "output_type": "stream",
     "text": [
      "\r",
      " [*********55%*          ] Elapsed 3.44s / Remaining 00:00:00:02"
     ]
    },
    {
     "name": "stdout",
     "output_type": "stream",
     "text": [
      "\r",
      " [*********55%*          ] Elapsed 3.45s / Remaining 00:00:00:02"
     ]
    },
    {
     "name": "stdout",
     "output_type": "stream",
     "text": [
      "\r",
      " [*********55%*          ] Elapsed 3.45s / Remaining 00:00:00:02"
     ]
    },
    {
     "name": "stdout",
     "output_type": "stream",
     "text": [
      "\r",
      " [*********55%*          ] Elapsed 3.46s / Remaining 00:00:00:02"
     ]
    },
    {
     "name": "stdout",
     "output_type": "stream",
     "text": [
      "\r",
      " [*********56%*          ] Elapsed 3.47s / Remaining 00:00:00:02"
     ]
    },
    {
     "name": "stdout",
     "output_type": "stream",
     "text": [
      "\r",
      " [*********56%*          ] Elapsed 3.47s / Remaining 00:00:00:02"
     ]
    },
    {
     "name": "stdout",
     "output_type": "stream",
     "text": [
      "\r",
      " [*********56%*          ] Elapsed 3.48s / Remaining 00:00:00:02"
     ]
    },
    {
     "name": "stdout",
     "output_type": "stream",
     "text": [
      "\r",
      " [*********56%*          ] Elapsed 3.48s / Remaining 00:00:00:02"
     ]
    },
    {
     "name": "stdout",
     "output_type": "stream",
     "text": [
      "\r",
      " [*********56%*          ] Elapsed 3.49s / Remaining 00:00:00:02"
     ]
    },
    {
     "name": "stdout",
     "output_type": "stream",
     "text": [
      "\r",
      " [*********56%*          ] Elapsed 3.49s / Remaining 00:00:00:02"
     ]
    },
    {
     "name": "stdout",
     "output_type": "stream",
     "text": [
      "\r",
      " [*********56%*          ] Elapsed 3.50s / Remaining 00:00:00:02"
     ]
    },
    {
     "name": "stdout",
     "output_type": "stream",
     "text": [
      "\r",
      " [*********56%*          ] Elapsed 3.50s / Remaining 00:00:00:02"
     ]
    },
    {
     "name": "stdout",
     "output_type": "stream",
     "text": [
      "\r",
      " [*********56%*          ] Elapsed 3.51s / Remaining 00:00:00:02"
     ]
    },
    {
     "name": "stdout",
     "output_type": "stream",
     "text": [
      "\r",
      " [*********56%*          ] Elapsed 3.51s / Remaining 00:00:00:02"
     ]
    },
    {
     "name": "stdout",
     "output_type": "stream",
     "text": [
      "\r",
      " [*********57%*          ] Elapsed 3.52s / Remaining 00:00:00:02"
     ]
    },
    {
     "name": "stdout",
     "output_type": "stream",
     "text": [
      "\r",
      " [*********57%*          ] Elapsed 3.52s / Remaining 00:00:00:02"
     ]
    },
    {
     "name": "stdout",
     "output_type": "stream",
     "text": [
      "\r",
      " [*********57%*          ] Elapsed 3.53s / Remaining 00:00:00:02"
     ]
    },
    {
     "name": "stdout",
     "output_type": "stream",
     "text": [
      "\r",
      " [*********57%*          ] Elapsed 3.53s / Remaining 00:00:00:02"
     ]
    },
    {
     "name": "stdout",
     "output_type": "stream",
     "text": [
      "\r",
      " [*********57%*          ] Elapsed 3.55s / Remaining 00:00:00:02"
     ]
    },
    {
     "name": "stdout",
     "output_type": "stream",
     "text": [
      "\r",
      " [*********57%*          ] Elapsed 3.55s / Remaining 00:00:00:02"
     ]
    },
    {
     "name": "stdout",
     "output_type": "stream",
     "text": [
      "\r",
      " [*********57%*          ] Elapsed 3.56s / Remaining 00:00:00:02"
     ]
    },
    {
     "name": "stdout",
     "output_type": "stream",
     "text": [
      "\r",
      " [*********57%*          ] Elapsed 3.56s / Remaining 00:00:00:02"
     ]
    },
    {
     "name": "stdout",
     "output_type": "stream",
     "text": [
      "\r",
      " [*********57%*          ] Elapsed 3.57s / Remaining 00:00:00:02"
     ]
    },
    {
     "name": "stdout",
     "output_type": "stream",
     "text": [
      "\r",
      " [*********57%*          ] Elapsed 3.57s / Remaining 00:00:00:02"
     ]
    },
    {
     "name": "stdout",
     "output_type": "stream",
     "text": [
      "\r",
      " [*********58%*          ] Elapsed 3.58s / Remaining 00:00:00:02"
     ]
    },
    {
     "name": "stdout",
     "output_type": "stream",
     "text": [
      "\r",
      " [*********58%*          ] Elapsed 3.58s / Remaining 00:00:00:02"
     ]
    },
    {
     "name": "stdout",
     "output_type": "stream",
     "text": [
      "\r",
      " [*********58%*          ] Elapsed 3.59s / Remaining 00:00:00:02"
     ]
    },
    {
     "name": "stdout",
     "output_type": "stream",
     "text": [
      "\r",
      " [*********58%*          ] Elapsed 3.59s / Remaining 00:00:00:02"
     ]
    },
    {
     "name": "stdout",
     "output_type": "stream",
     "text": [
      "\r",
      " [*********58%*          ] Elapsed 3.60s / Remaining 00:00:00:02"
     ]
    },
    {
     "name": "stdout",
     "output_type": "stream",
     "text": [
      "\r",
      " [*********58%*          ] Elapsed 3.60s / Remaining 00:00:00:02"
     ]
    },
    {
     "name": "stdout",
     "output_type": "stream",
     "text": [
      "\r",
      " [*********58%*          ] Elapsed 3.61s / Remaining 00:00:00:02"
     ]
    },
    {
     "name": "stdout",
     "output_type": "stream",
     "text": [
      "\r",
      " [*********58%*          ] Elapsed 3.61s / Remaining 00:00:00:02"
     ]
    },
    {
     "name": "stdout",
     "output_type": "stream",
     "text": [
      "\r",
      " [*********58%*          ] Elapsed 3.62s / Remaining 00:00:00:02"
     ]
    },
    {
     "name": "stdout",
     "output_type": "stream",
     "text": [
      "\r",
      " [*********58%*          ] Elapsed 3.63s / Remaining 00:00:00:02"
     ]
    },
    {
     "name": "stdout",
     "output_type": "stream",
     "text": [
      "\r",
      " [*********59%**         ] Elapsed 3.63s / Remaining 00:00:00:02"
     ]
    },
    {
     "name": "stdout",
     "output_type": "stream",
     "text": [
      "\r",
      " [*********59%**         ] Elapsed 3.64s / Remaining 00:00:00:02"
     ]
    },
    {
     "name": "stdout",
     "output_type": "stream",
     "text": [
      "\r",
      " [*********59%**         ] Elapsed 3.64s / Remaining 00:00:00:02"
     ]
    },
    {
     "name": "stdout",
     "output_type": "stream",
     "text": [
      "\r",
      " [*********59%**         ] Elapsed 3.65s / Remaining 00:00:00:02"
     ]
    },
    {
     "name": "stdout",
     "output_type": "stream",
     "text": [
      "\r",
      " [*********59%**         ] Elapsed 3.65s / Remaining 00:00:00:02"
     ]
    },
    {
     "name": "stdout",
     "output_type": "stream",
     "text": [
      "\r",
      " [*********59%**         ] Elapsed 3.66s / Remaining 00:00:00:02"
     ]
    },
    {
     "name": "stdout",
     "output_type": "stream",
     "text": [
      "\r",
      " [*********59%**         ] Elapsed 3.66s / Remaining 00:00:00:02"
     ]
    },
    {
     "name": "stdout",
     "output_type": "stream",
     "text": [
      "\r",
      " [*********59%**         ] Elapsed 3.67s / Remaining 00:00:00:02"
     ]
    },
    {
     "name": "stdout",
     "output_type": "stream",
     "text": [
      "\r",
      " [*********59%**         ] Elapsed 3.67s / Remaining 00:00:00:02"
     ]
    },
    {
     "name": "stdout",
     "output_type": "stream",
     "text": [
      "\r",
      " [*********59%**         ] Elapsed 3.68s / Remaining 00:00:00:02"
     ]
    },
    {
     "name": "stdout",
     "output_type": "stream",
     "text": [
      "\r",
      " [*********60%**         ] Elapsed 3.68s / Remaining 00:00:00:02"
     ]
    },
    {
     "name": "stdout",
     "output_type": "stream",
     "text": [
      "\r",
      " [*********60%**         ] Elapsed 3.69s / Remaining 00:00:00:02"
     ]
    },
    {
     "name": "stdout",
     "output_type": "stream",
     "text": [
      "\r",
      " [*********60%**         ] Elapsed 3.69s / Remaining 00:00:00:02"
     ]
    },
    {
     "name": "stdout",
     "output_type": "stream",
     "text": [
      "\r",
      " [*********60%**         ] Elapsed 3.70s / Remaining 00:00:00:02"
     ]
    },
    {
     "name": "stdout",
     "output_type": "stream",
     "text": [
      "\r",
      " [*********60%**         ] Elapsed 3.71s / Remaining 00:00:00:02"
     ]
    },
    {
     "name": "stdout",
     "output_type": "stream",
     "text": [
      "\r",
      " [*********60%**         ] Elapsed 3.71s / Remaining 00:00:00:02"
     ]
    },
    {
     "name": "stdout",
     "output_type": "stream",
     "text": [
      "\r",
      " [*********60%**         ] Elapsed 3.72s / Remaining 00:00:00:02"
     ]
    },
    {
     "name": "stdout",
     "output_type": "stream",
     "text": [
      "\r",
      " [*********60%**         ] Elapsed 3.72s / Remaining 00:00:00:02"
     ]
    },
    {
     "name": "stdout",
     "output_type": "stream",
     "text": [
      "\r",
      " [*********60%**         ] Elapsed 3.73s / Remaining 00:00:00:02"
     ]
    },
    {
     "name": "stdout",
     "output_type": "stream",
     "text": [
      "\r",
      " [*********60%**         ] Elapsed 3.73s / Remaining 00:00:00:02"
     ]
    },
    {
     "name": "stdout",
     "output_type": "stream",
     "text": [
      "\r",
      " [*********61%**         ] Elapsed 3.74s / Remaining 00:00:00:02"
     ]
    },
    {
     "name": "stdout",
     "output_type": "stream",
     "text": [
      "\r",
      " [*********61%**         ] Elapsed 3.74s / Remaining 00:00:00:02"
     ]
    },
    {
     "name": "stdout",
     "output_type": "stream",
     "text": [
      "\r",
      " [*********61%**         ] Elapsed 3.75s / Remaining 00:00:00:02"
     ]
    },
    {
     "name": "stdout",
     "output_type": "stream",
     "text": [
      "\r",
      " [*********61%**         ] Elapsed 3.75s / Remaining 00:00:00:02"
     ]
    },
    {
     "name": "stdout",
     "output_type": "stream",
     "text": [
      "\r",
      " [*********61%**         ] Elapsed 3.76s / Remaining 00:00:00:02"
     ]
    },
    {
     "name": "stdout",
     "output_type": "stream",
     "text": [
      "\r",
      " [*********61%**         ] Elapsed 3.76s / Remaining 00:00:00:02"
     ]
    },
    {
     "name": "stdout",
     "output_type": "stream",
     "text": [
      "\r",
      " [*********61%**         ] Elapsed 3.77s / Remaining 00:00:00:02"
     ]
    },
    {
     "name": "stdout",
     "output_type": "stream",
     "text": [
      "\r",
      " [*********61%**         ] Elapsed 3.77s / Remaining 00:00:00:02"
     ]
    },
    {
     "name": "stdout",
     "output_type": "stream",
     "text": [
      "\r",
      " [*********61%**         ] Elapsed 3.78s / Remaining 00:00:00:02"
     ]
    },
    {
     "name": "stdout",
     "output_type": "stream",
     "text": [
      "\r",
      " [*********61%**         ] Elapsed 3.78s / Remaining 00:00:00:02"
     ]
    },
    {
     "name": "stdout",
     "output_type": "stream",
     "text": [
      "\r",
      " [*********62%**         ] Elapsed 3.80s / Remaining 00:00:00:02"
     ]
    },
    {
     "name": "stdout",
     "output_type": "stream",
     "text": [
      "\r",
      " [*********62%**         ] Elapsed 3.80s / Remaining 00:00:00:02"
     ]
    },
    {
     "name": "stdout",
     "output_type": "stream",
     "text": [
      "\r",
      " [*********62%**         ] Elapsed 3.81s / Remaining 00:00:00:02"
     ]
    },
    {
     "name": "stdout",
     "output_type": "stream",
     "text": [
      "\r",
      " [*********62%**         ] Elapsed 3.81s / Remaining 00:00:00:02"
     ]
    },
    {
     "name": "stdout",
     "output_type": "stream",
     "text": [
      "\r",
      " [*********62%**         ] Elapsed 3.82s / Remaining 00:00:00:02"
     ]
    },
    {
     "name": "stdout",
     "output_type": "stream",
     "text": [
      "\r",
      " [*********62%**         ] Elapsed 3.82s / Remaining 00:00:00:02"
     ]
    },
    {
     "name": "stdout",
     "output_type": "stream",
     "text": [
      "\r",
      " [*********62%**         ] Elapsed 3.83s / Remaining 00:00:00:02"
     ]
    },
    {
     "name": "stdout",
     "output_type": "stream",
     "text": [
      "\r",
      " [*********62%**         ] Elapsed 3.83s / Remaining 00:00:00:02"
     ]
    },
    {
     "name": "stdout",
     "output_type": "stream",
     "text": [
      "\r",
      " [*********62%**         ] Elapsed 3.84s / Remaining 00:00:00:02"
     ]
    },
    {
     "name": "stdout",
     "output_type": "stream",
     "text": [
      "\r",
      " [*********62%**         ] Elapsed 3.84s / Remaining 00:00:00:02"
     ]
    },
    {
     "name": "stdout",
     "output_type": "stream",
     "text": [
      "\r",
      " [*********63%**         ] Elapsed 3.85s / Remaining 00:00:00:02"
     ]
    },
    {
     "name": "stdout",
     "output_type": "stream",
     "text": [
      "\r",
      " [*********63%**         ] Elapsed 3.85s / Remaining 00:00:00:02"
     ]
    },
    {
     "name": "stdout",
     "output_type": "stream",
     "text": [
      "\r",
      " [*********63%**         ] Elapsed 3.86s / Remaining 00:00:00:02"
     ]
    },
    {
     "name": "stdout",
     "output_type": "stream",
     "text": [
      "\r",
      " [*********63%**         ] Elapsed 3.86s / Remaining 00:00:00:02"
     ]
    },
    {
     "name": "stdout",
     "output_type": "stream",
     "text": [
      "\r",
      " [*********63%**         ] Elapsed 3.86s / Remaining 00:00:00:02"
     ]
    },
    {
     "name": "stdout",
     "output_type": "stream",
     "text": [
      "\r",
      " [*********63%**         ] Elapsed 3.87s / Remaining 00:00:00:02"
     ]
    },
    {
     "name": "stdout",
     "output_type": "stream",
     "text": [
      "\r",
      " [*********63%**         ] Elapsed 3.88s / Remaining 00:00:00:02"
     ]
    },
    {
     "name": "stdout",
     "output_type": "stream",
     "text": [
      "\r",
      " [*********63%**         ] Elapsed 3.89s / Remaining 00:00:00:02"
     ]
    },
    {
     "name": "stdout",
     "output_type": "stream",
     "text": [
      "\r",
      " [*********63%**         ] Elapsed 3.89s / Remaining 00:00:00:02"
     ]
    },
    {
     "name": "stdout",
     "output_type": "stream",
     "text": [
      "\r",
      " [*********63%**         ] Elapsed 3.90s / Remaining 00:00:00:02"
     ]
    },
    {
     "name": "stdout",
     "output_type": "stream",
     "text": [
      "\r",
      " [*********64%***        ] Elapsed 3.90s / Remaining 00:00:00:02"
     ]
    },
    {
     "name": "stdout",
     "output_type": "stream",
     "text": [
      "\r",
      " [*********64%***        ] Elapsed 3.91s / Remaining 00:00:00:02"
     ]
    },
    {
     "name": "stdout",
     "output_type": "stream",
     "text": [
      "\r",
      " [*********64%***        ] Elapsed 3.91s / Remaining 00:00:00:02"
     ]
    },
    {
     "name": "stdout",
     "output_type": "stream",
     "text": [
      "\r",
      " [*********64%***        ] Elapsed 3.92s / Remaining 00:00:00:02"
     ]
    },
    {
     "name": "stdout",
     "output_type": "stream",
     "text": [
      "\r",
      " [*********64%***        ] Elapsed 3.92s / Remaining 00:00:00:02"
     ]
    },
    {
     "name": "stdout",
     "output_type": "stream",
     "text": [
      "\r",
      " [*********64%***        ] Elapsed 3.93s / Remaining 00:00:00:02"
     ]
    },
    {
     "name": "stdout",
     "output_type": "stream",
     "text": [
      "\r",
      " [*********64%***        ] Elapsed 3.93s / Remaining 00:00:00:02"
     ]
    },
    {
     "name": "stdout",
     "output_type": "stream",
     "text": [
      "\r",
      " [*********64%***        ] Elapsed 3.94s / Remaining 00:00:00:02"
     ]
    },
    {
     "name": "stdout",
     "output_type": "stream",
     "text": [
      "\r",
      " [*********64%***        ] Elapsed 3.94s / Remaining 00:00:00:02"
     ]
    },
    {
     "name": "stdout",
     "output_type": "stream",
     "text": [
      "\r",
      " [*********64%***        ] Elapsed 3.95s / Remaining 00:00:00:02"
     ]
    },
    {
     "name": "stdout",
     "output_type": "stream",
     "text": [
      "\r",
      " [*********65%***        ] Elapsed 3.95s / Remaining 00:00:00:02"
     ]
    },
    {
     "name": "stdout",
     "output_type": "stream",
     "text": [
      "\r",
      " [*********65%***        ] Elapsed 3.96s / Remaining 00:00:00:02"
     ]
    },
    {
     "name": "stdout",
     "output_type": "stream",
     "text": [
      "\r",
      " [*********65%***        ] Elapsed 3.96s / Remaining 00:00:00:02"
     ]
    },
    {
     "name": "stdout",
     "output_type": "stream",
     "text": [
      "\r",
      " [*********65%***        ] Elapsed 3.97s / Remaining 00:00:00:02"
     ]
    },
    {
     "name": "stdout",
     "output_type": "stream",
     "text": [
      "\r",
      " [*********65%***        ] Elapsed 3.98s / Remaining 00:00:00:02"
     ]
    },
    {
     "name": "stdout",
     "output_type": "stream",
     "text": [
      "\r",
      " [*********65%***        ] Elapsed 3.98s / Remaining 00:00:00:02"
     ]
    },
    {
     "name": "stdout",
     "output_type": "stream",
     "text": [
      "\r",
      " [*********65%***        ] Elapsed 3.99s / Remaining 00:00:00:02"
     ]
    },
    {
     "name": "stdout",
     "output_type": "stream",
     "text": [
      "\r",
      " [*********65%***        ] Elapsed 3.99s / Remaining 00:00:00:02"
     ]
    },
    {
     "name": "stdout",
     "output_type": "stream",
     "text": [
      "\r",
      " [*********65%***        ] Elapsed 4.00s / Remaining 00:00:00:02"
     ]
    },
    {
     "name": "stdout",
     "output_type": "stream",
     "text": [
      "\r",
      " [*********65%***        ] Elapsed 4.00s / Remaining 00:00:00:02"
     ]
    },
    {
     "name": "stdout",
     "output_type": "stream",
     "text": [
      "\r",
      " [*********66%***        ] Elapsed 4.01s / Remaining 00:00:00:02"
     ]
    },
    {
     "name": "stdout",
     "output_type": "stream",
     "text": [
      "\r",
      " [*********66%***        ] Elapsed 4.01s / Remaining 00:00:00:02"
     ]
    },
    {
     "name": "stdout",
     "output_type": "stream",
     "text": [
      "\r",
      " [*********66%***        ] Elapsed 4.02s / Remaining 00:00:00:02"
     ]
    },
    {
     "name": "stdout",
     "output_type": "stream",
     "text": [
      "\r",
      " [*********66%***        ] Elapsed 4.02s / Remaining 00:00:00:02"
     ]
    },
    {
     "name": "stdout",
     "output_type": "stream",
     "text": [
      "\r",
      " [*********66%***        ] Elapsed 4.03s / Remaining 00:00:00:02"
     ]
    },
    {
     "name": "stdout",
     "output_type": "stream",
     "text": [
      "\r",
      " [*********66%***        ] Elapsed 4.03s / Remaining 00:00:00:02"
     ]
    },
    {
     "name": "stdout",
     "output_type": "stream",
     "text": [
      "\r",
      " [*********66%***        ] Elapsed 4.04s / Remaining 00:00:00:02"
     ]
    },
    {
     "name": "stdout",
     "output_type": "stream",
     "text": [
      "\r",
      " [*********66%***        ] Elapsed 4.04s / Remaining 00:00:00:02"
     ]
    },
    {
     "name": "stdout",
     "output_type": "stream",
     "text": [
      "\r",
      " [*********66%***        ] Elapsed 4.05s / Remaining 00:00:00:02"
     ]
    },
    {
     "name": "stdout",
     "output_type": "stream",
     "text": [
      "\r",
      " [*********66%***        ] Elapsed 4.05s / Remaining 00:00:00:02"
     ]
    },
    {
     "name": "stdout",
     "output_type": "stream",
     "text": [
      "\r",
      " [*********67%***        ] Elapsed 4.06s / Remaining 00:00:00:01"
     ]
    },
    {
     "name": "stdout",
     "output_type": "stream",
     "text": [
      "\r",
      " [*********67%***        ] Elapsed 4.06s / Remaining 00:00:00:02"
     ]
    },
    {
     "name": "stdout",
     "output_type": "stream",
     "text": [
      "\r",
      " [*********67%***        ] Elapsed 4.07s / Remaining 00:00:00:02"
     ]
    },
    {
     "name": "stdout",
     "output_type": "stream",
     "text": [
      "\r",
      " [*********67%***        ] Elapsed 4.08s / Remaining 00:00:00:02"
     ]
    },
    {
     "name": "stdout",
     "output_type": "stream",
     "text": [
      "\r",
      " [*********67%***        ] Elapsed 4.09s / Remaining 00:00:00:02"
     ]
    },
    {
     "name": "stdout",
     "output_type": "stream",
     "text": [
      "\r",
      " [*********67%***        ] Elapsed 4.09s / Remaining 00:00:00:02"
     ]
    },
    {
     "name": "stdout",
     "output_type": "stream",
     "text": [
      "\r",
      " [*********67%***        ] Elapsed 4.10s / Remaining 00:00:00:02"
     ]
    },
    {
     "name": "stdout",
     "output_type": "stream",
     "text": [
      "\r",
      " [*********67%***        ] Elapsed 4.10s / Remaining 00:00:00:02"
     ]
    },
    {
     "name": "stdout",
     "output_type": "stream",
     "text": [
      "\r",
      " [*********67%***        ] Elapsed 4.11s / Remaining 00:00:00:02"
     ]
    },
    {
     "name": "stdout",
     "output_type": "stream",
     "text": [
      "\r",
      " [*********67%***        ] Elapsed 4.11s / Remaining 00:00:00:02"
     ]
    },
    {
     "name": "stdout",
     "output_type": "stream",
     "text": [
      "\r",
      " [*********68%****       ] Elapsed 4.12s / Remaining 00:00:00:01"
     ]
    },
    {
     "name": "stdout",
     "output_type": "stream",
     "text": [
      "\r",
      " [*********68%****       ] Elapsed 4.12s / Remaining 00:00:00:01"
     ]
    },
    {
     "name": "stdout",
     "output_type": "stream",
     "text": [
      "\r",
      " [*********68%****       ] Elapsed 4.13s / Remaining 00:00:00:01"
     ]
    },
    {
     "name": "stdout",
     "output_type": "stream",
     "text": [
      "\r",
      " [*********68%****       ] Elapsed 4.13s / Remaining 00:00:00:01"
     ]
    },
    {
     "name": "stdout",
     "output_type": "stream",
     "text": [
      "\r",
      " [*********68%****       ] Elapsed 4.14s / Remaining 00:00:00:01"
     ]
    },
    {
     "name": "stdout",
     "output_type": "stream",
     "text": [
      "\r",
      " [*********68%****       ] Elapsed 4.14s / Remaining 00:00:00:01"
     ]
    },
    {
     "name": "stdout",
     "output_type": "stream",
     "text": [
      "\r",
      " [*********68%****       ] Elapsed 4.15s / Remaining 00:00:00:01"
     ]
    },
    {
     "name": "stdout",
     "output_type": "stream",
     "text": [
      "\r",
      " [*********68%****       ] Elapsed 4.15s / Remaining 00:00:00:01"
     ]
    },
    {
     "name": "stdout",
     "output_type": "stream",
     "text": [
      "\r",
      " [*********68%****       ] Elapsed 4.16s / Remaining 00:00:00:01"
     ]
    },
    {
     "name": "stdout",
     "output_type": "stream",
     "text": [
      "\r",
      " [*********68%****       ] Elapsed 4.16s / Remaining 00:00:00:01"
     ]
    },
    {
     "name": "stdout",
     "output_type": "stream",
     "text": [
      "\r",
      " [*********69%****       ] Elapsed 4.16s / Remaining 00:00:00:01"
     ]
    },
    {
     "name": "stdout",
     "output_type": "stream",
     "text": [
      "\r",
      " [*********69%****       ] Elapsed 4.17s / Remaining 00:00:00:01"
     ]
    },
    {
     "name": "stdout",
     "output_type": "stream",
     "text": [
      "\r",
      " [*********69%****       ] Elapsed 4.17s / Remaining 00:00:00:01"
     ]
    },
    {
     "name": "stdout",
     "output_type": "stream",
     "text": [
      "\r",
      " [*********69%****       ] Elapsed 4.19s / Remaining 00:00:00:01"
     ]
    },
    {
     "name": "stdout",
     "output_type": "stream",
     "text": [
      "\r",
      " [*********69%****       ] Elapsed 4.19s / Remaining 00:00:00:01"
     ]
    },
    {
     "name": "stdout",
     "output_type": "stream",
     "text": [
      "\r",
      " [*********69%****       ] Elapsed 4.20s / Remaining 00:00:00:01"
     ]
    },
    {
     "name": "stdout",
     "output_type": "stream",
     "text": [
      "\r",
      " [*********69%****       ] Elapsed 4.20s / Remaining 00:00:00:01"
     ]
    },
    {
     "name": "stdout",
     "output_type": "stream",
     "text": [
      "\r",
      " [*********69%****       ] Elapsed 4.21s / Remaining 00:00:00:01"
     ]
    },
    {
     "name": "stdout",
     "output_type": "stream",
     "text": [
      "\r",
      " [*********69%****       ] Elapsed 4.21s / Remaining 00:00:00:01"
     ]
    },
    {
     "name": "stdout",
     "output_type": "stream",
     "text": [
      "\r",
      " [*********69%****       ] Elapsed 4.22s / Remaining 00:00:00:01"
     ]
    },
    {
     "name": "stdout",
     "output_type": "stream",
     "text": [
      "\r",
      " [*********70%****       ] Elapsed 4.22s / Remaining 00:00:00:01"
     ]
    },
    {
     "name": "stdout",
     "output_type": "stream",
     "text": [
      "\r",
      " [*********70%****       ] Elapsed 4.23s / Remaining 00:00:00:01"
     ]
    },
    {
     "name": "stdout",
     "output_type": "stream",
     "text": [
      "\r",
      " [*********70%****       ] Elapsed 4.23s / Remaining 00:00:00:01"
     ]
    },
    {
     "name": "stdout",
     "output_type": "stream",
     "text": [
      "\r",
      " [*********70%****       ] Elapsed 4.24s / Remaining 00:00:00:01"
     ]
    },
    {
     "name": "stdout",
     "output_type": "stream",
     "text": [
      "\r",
      " [*********70%****       ] Elapsed 4.24s / Remaining 00:00:00:01"
     ]
    },
    {
     "name": "stdout",
     "output_type": "stream",
     "text": [
      "\r",
      " [*********70%****       ] Elapsed 4.25s / Remaining 00:00:00:01"
     ]
    },
    {
     "name": "stdout",
     "output_type": "stream",
     "text": [
      "\r",
      " [*********70%****       ] Elapsed 4.25s / Remaining 00:00:00:01"
     ]
    },
    {
     "name": "stdout",
     "output_type": "stream",
     "text": [
      "\r",
      " [*********70%****       ] Elapsed 4.26s / Remaining 00:00:00:01"
     ]
    },
    {
     "name": "stdout",
     "output_type": "stream",
     "text": [
      "\r",
      " [*********70%****       ] Elapsed 4.26s / Remaining 00:00:00:01"
     ]
    },
    {
     "name": "stdout",
     "output_type": "stream",
     "text": [
      "\r",
      " [*********70%****       ] Elapsed 4.27s / Remaining 00:00:00:01"
     ]
    },
    {
     "name": "stdout",
     "output_type": "stream",
     "text": [
      "\r",
      " [*********71%****       ] Elapsed 4.27s / Remaining 00:00:00:01"
     ]
    },
    {
     "name": "stdout",
     "output_type": "stream",
     "text": [
      "\r",
      " [*********71%****       ] Elapsed 4.28s / Remaining 00:00:00:01"
     ]
    },
    {
     "name": "stdout",
     "output_type": "stream",
     "text": [
      "\r",
      " [*********71%****       ] Elapsed 4.28s / Remaining 00:00:00:01"
     ]
    },
    {
     "name": "stdout",
     "output_type": "stream",
     "text": [
      "\r",
      " [*********71%****       ] Elapsed 4.29s / Remaining 00:00:00:01"
     ]
    },
    {
     "name": "stdout",
     "output_type": "stream",
     "text": [
      "\r",
      " [*********71%****       ] Elapsed 4.30s / Remaining 00:00:00:01"
     ]
    },
    {
     "name": "stdout",
     "output_type": "stream",
     "text": [
      "\r",
      " [*********71%****       ] Elapsed 4.30s / Remaining 00:00:00:01"
     ]
    },
    {
     "name": "stdout",
     "output_type": "stream",
     "text": [
      "\r",
      " [*********71%****       ] Elapsed 4.31s / Remaining 00:00:00:01"
     ]
    },
    {
     "name": "stdout",
     "output_type": "stream",
     "text": [
      "\r",
      " [*********71%****       ] Elapsed 4.31s / Remaining 00:00:00:01"
     ]
    },
    {
     "name": "stdout",
     "output_type": "stream",
     "text": [
      "\r",
      " [*********71%****       ] Elapsed 4.32s / Remaining 00:00:00:01"
     ]
    },
    {
     "name": "stdout",
     "output_type": "stream",
     "text": [
      "\r",
      " [*********71%****       ] Elapsed 4.32s / Remaining 00:00:00:01"
     ]
    },
    {
     "name": "stdout",
     "output_type": "stream",
     "text": [
      "\r",
      " [*********72%*****      ] Elapsed 4.33s / Remaining 00:00:00:01"
     ]
    },
    {
     "name": "stdout",
     "output_type": "stream",
     "text": [
      "\r",
      " [*********72%*****      ] Elapsed 4.33s / Remaining 00:00:00:01"
     ]
    },
    {
     "name": "stdout",
     "output_type": "stream",
     "text": [
      "\r",
      " [*********72%*****      ] Elapsed 4.34s / Remaining 00:00:00:01"
     ]
    },
    {
     "name": "stdout",
     "output_type": "stream",
     "text": [
      "\r",
      " [*********72%*****      ] Elapsed 4.34s / Remaining 00:00:00:01"
     ]
    },
    {
     "name": "stdout",
     "output_type": "stream",
     "text": [
      "\r",
      " [*********72%*****      ] Elapsed 4.35s / Remaining 00:00:00:01"
     ]
    },
    {
     "name": "stdout",
     "output_type": "stream",
     "text": [
      "\r",
      " [*********72%*****      ] Elapsed 4.35s / Remaining 00:00:00:01"
     ]
    },
    {
     "name": "stdout",
     "output_type": "stream",
     "text": [
      "\r",
      " [*********72%*****      ] Elapsed 4.36s / Remaining 00:00:00:01"
     ]
    },
    {
     "name": "stdout",
     "output_type": "stream",
     "text": [
      "\r",
      " [*********72%*****      ] Elapsed 4.36s / Remaining 00:00:00:01"
     ]
    },
    {
     "name": "stdout",
     "output_type": "stream",
     "text": [
      "\r",
      " [*********72%*****      ] Elapsed 4.37s / Remaining 00:00:00:01"
     ]
    },
    {
     "name": "stdout",
     "output_type": "stream",
     "text": [
      "\r",
      " [*********72%*****      ] Elapsed 4.37s / Remaining 00:00:00:01"
     ]
    },
    {
     "name": "stdout",
     "output_type": "stream",
     "text": [
      "\r",
      " [*********73%*****      ] Elapsed 4.38s / Remaining 00:00:00:01"
     ]
    },
    {
     "name": "stdout",
     "output_type": "stream",
     "text": [
      "\r",
      " [*********73%*****      ] Elapsed 4.38s / Remaining 00:00:00:01"
     ]
    },
    {
     "name": "stdout",
     "output_type": "stream",
     "text": [
      "\r",
      " [*********73%*****      ] Elapsed 4.39s / Remaining 00:00:00:01"
     ]
    },
    {
     "name": "stdout",
     "output_type": "stream",
     "text": [
      "\r",
      " [*********73%*****      ] Elapsed 4.39s / Remaining 00:00:00:01"
     ]
    },
    {
     "name": "stdout",
     "output_type": "stream",
     "text": [
      "\r",
      " [*********73%*****      ] Elapsed 4.40s / Remaining 00:00:00:01"
     ]
    },
    {
     "name": "stdout",
     "output_type": "stream",
     "text": [
      "\r",
      " [*********73%*****      ] Elapsed 4.41s / Remaining 00:00:00:01"
     ]
    },
    {
     "name": "stdout",
     "output_type": "stream",
     "text": [
      "\r",
      " [*********73%*****      ] Elapsed 4.42s / Remaining 00:00:00:01"
     ]
    },
    {
     "name": "stdout",
     "output_type": "stream",
     "text": [
      "\r",
      " [*********73%*****      ] Elapsed 4.42s / Remaining 00:00:00:01"
     ]
    },
    {
     "name": "stdout",
     "output_type": "stream",
     "text": [
      "\r",
      " [*********73%*****      ] Elapsed 4.43s / Remaining 00:00:00:01"
     ]
    },
    {
     "name": "stdout",
     "output_type": "stream",
     "text": [
      "\r",
      " [*********73%*****      ] Elapsed 4.43s / Remaining 00:00:00:01"
     ]
    },
    {
     "name": "stdout",
     "output_type": "stream",
     "text": [
      "\r",
      " [*********74%*****      ] Elapsed 4.44s / Remaining 00:00:00:01"
     ]
    },
    {
     "name": "stdout",
     "output_type": "stream",
     "text": [
      "\r",
      " [*********74%*****      ] Elapsed 4.44s / Remaining 00:00:00:01"
     ]
    },
    {
     "name": "stdout",
     "output_type": "stream",
     "text": [
      "\r",
      " [*********74%*****      ] Elapsed 4.45s / Remaining 00:00:00:01"
     ]
    },
    {
     "name": "stdout",
     "output_type": "stream",
     "text": [
      "\r",
      " [*********74%*****      ] Elapsed 4.45s / Remaining 00:00:00:01"
     ]
    },
    {
     "name": "stdout",
     "output_type": "stream",
     "text": [
      "\r",
      " [*********74%*****      ] Elapsed 4.46s / Remaining 00:00:00:01"
     ]
    },
    {
     "name": "stdout",
     "output_type": "stream",
     "text": [
      "\r",
      " [*********74%*****      ] Elapsed 4.46s / Remaining 00:00:00:01"
     ]
    },
    {
     "name": "stdout",
     "output_type": "stream",
     "text": [
      "\r",
      " [*********74%*****      ] Elapsed 4.47s / Remaining 00:00:00:01"
     ]
    },
    {
     "name": "stdout",
     "output_type": "stream",
     "text": [
      "\r",
      " [*********74%*****      ] Elapsed 4.47s / Remaining 00:00:00:01"
     ]
    },
    {
     "name": "stdout",
     "output_type": "stream",
     "text": [
      "\r",
      " [*********74%*****      ] Elapsed 4.48s / Remaining 00:00:00:01"
     ]
    },
    {
     "name": "stdout",
     "output_type": "stream",
     "text": [
      "\r",
      " [*********74%*****      ] Elapsed 4.48s / Remaining 00:00:00:01"
     ]
    },
    {
     "name": "stdout",
     "output_type": "stream",
     "text": [
      "\r",
      " [*********75%*****      ] Elapsed 4.49s / Remaining 00:00:00:01"
     ]
    },
    {
     "name": "stdout",
     "output_type": "stream",
     "text": [
      "\r",
      " [*********75%*****      ] Elapsed 4.49s / Remaining 00:00:00:01"
     ]
    },
    {
     "name": "stdout",
     "output_type": "stream",
     "text": [
      "\r",
      " [*********75%*****      ] Elapsed 4.50s / Remaining 00:00:00:01"
     ]
    },
    {
     "name": "stdout",
     "output_type": "stream",
     "text": [
      "\r",
      " [*********75%*****      ] Elapsed 4.50s / Remaining 00:00:00:01"
     ]
    },
    {
     "name": "stdout",
     "output_type": "stream",
     "text": [
      "\r",
      " [*********75%*****      ] Elapsed 4.51s / Remaining 00:00:00:01"
     ]
    },
    {
     "name": "stdout",
     "output_type": "stream",
     "text": [
      "\r",
      " [*********75%*****      ] Elapsed 4.51s / Remaining 00:00:00:01"
     ]
    },
    {
     "name": "stdout",
     "output_type": "stream",
     "text": [
      "\r",
      " [*********75%*****      ] Elapsed 4.52s / Remaining 00:00:00:01"
     ]
    },
    {
     "name": "stdout",
     "output_type": "stream",
     "text": [
      "\r",
      " [*********75%*****      ] Elapsed 4.52s / Remaining 00:00:00:01"
     ]
    },
    {
     "name": "stdout",
     "output_type": "stream",
     "text": [
      "\r",
      " [*********75%*****      ] Elapsed 4.53s / Remaining 00:00:00:01"
     ]
    },
    {
     "name": "stdout",
     "output_type": "stream",
     "text": [
      "\r",
      " [*********75%*****      ] Elapsed 4.54s / Remaining 00:00:00:01"
     ]
    },
    {
     "name": "stdout",
     "output_type": "stream",
     "text": [
      "\r",
      " [*********76%*****      ] Elapsed 4.54s / Remaining 00:00:00:01"
     ]
    },
    {
     "name": "stdout",
     "output_type": "stream",
     "text": [
      "\r",
      " [*********76%*****      ] Elapsed 4.55s / Remaining 00:00:00:01"
     ]
    },
    {
     "name": "stdout",
     "output_type": "stream",
     "text": [
      "\r",
      " [*********76%*****      ] Elapsed 4.55s / Remaining 00:00:00:01"
     ]
    },
    {
     "name": "stdout",
     "output_type": "stream",
     "text": [
      "\r",
      " [*********76%*****      ] Elapsed 4.56s / Remaining 00:00:00:01"
     ]
    },
    {
     "name": "stdout",
     "output_type": "stream",
     "text": [
      "\r",
      " [*********76%*****      ] Elapsed 4.56s / Remaining 00:00:00:01"
     ]
    },
    {
     "name": "stdout",
     "output_type": "stream",
     "text": [
      "\r",
      " [*********76%*****      ] Elapsed 4.57s / Remaining 00:00:00:01"
     ]
    },
    {
     "name": "stdout",
     "output_type": "stream",
     "text": [
      "\r",
      " [*********76%*****      ] Elapsed 4.57s / Remaining 00:00:00:01"
     ]
    },
    {
     "name": "stdout",
     "output_type": "stream",
     "text": [
      "\r",
      " [*********76%*****      ] Elapsed 4.58s / Remaining 00:00:00:01"
     ]
    },
    {
     "name": "stdout",
     "output_type": "stream",
     "text": [
      "\r",
      " [*********76%*****      ] Elapsed 4.58s / Remaining 00:00:00:01"
     ]
    },
    {
     "name": "stdout",
     "output_type": "stream",
     "text": [
      "\r",
      " [*********76%*****      ] Elapsed 4.59s / Remaining 00:00:00:01"
     ]
    },
    {
     "name": "stdout",
     "output_type": "stream",
     "text": [
      "\r",
      " [*********77%******     ] Elapsed 4.59s / Remaining 00:00:00:01"
     ]
    },
    {
     "name": "stdout",
     "output_type": "stream",
     "text": [
      "\r",
      " [*********77%******     ] Elapsed 4.60s / Remaining 00:00:00:01"
     ]
    },
    {
     "name": "stdout",
     "output_type": "stream",
     "text": [
      "\r",
      " [*********77%******     ] Elapsed 4.60s / Remaining 00:00:00:01"
     ]
    },
    {
     "name": "stdout",
     "output_type": "stream",
     "text": [
      "\r",
      " [*********77%******     ] Elapsed 4.61s / Remaining 00:00:00:01"
     ]
    },
    {
     "name": "stdout",
     "output_type": "stream",
     "text": [
      "\r",
      " [*********77%******     ] Elapsed 4.61s / Remaining 00:00:00:01"
     ]
    },
    {
     "name": "stdout",
     "output_type": "stream",
     "text": [
      "\r",
      " [*********77%******     ] Elapsed 4.62s / Remaining 00:00:00:01"
     ]
    },
    {
     "name": "stdout",
     "output_type": "stream",
     "text": [
      "\r",
      " [*********77%******     ] Elapsed 4.62s / Remaining 00:00:00:01"
     ]
    },
    {
     "name": "stdout",
     "output_type": "stream",
     "text": [
      "\r",
      " [*********77%******     ] Elapsed 4.63s / Remaining 00:00:00:01"
     ]
    },
    {
     "name": "stdout",
     "output_type": "stream",
     "text": [
      "\r",
      " [*********77%******     ] Elapsed 4.63s / Remaining 00:00:00:01"
     ]
    },
    {
     "name": "stdout",
     "output_type": "stream",
     "text": [
      "\r",
      " [*********77%******     ] Elapsed 4.64s / Remaining 00:00:00:01"
     ]
    },
    {
     "name": "stdout",
     "output_type": "stream",
     "text": [
      "\r",
      " [*********78%******     ] Elapsed 4.64s / Remaining 00:00:00:01"
     ]
    },
    {
     "name": "stdout",
     "output_type": "stream",
     "text": [
      "\r",
      " [*********78%******     ] Elapsed 4.65s / Remaining 00:00:00:01"
     ]
    },
    {
     "name": "stdout",
     "output_type": "stream",
     "text": [
      "\r",
      " [*********78%******     ] Elapsed 4.65s / Remaining 00:00:00:01"
     ]
    },
    {
     "name": "stdout",
     "output_type": "stream",
     "text": [
      "\r",
      " [*********78%******     ] Elapsed 4.66s / Remaining 00:00:00:01"
     ]
    },
    {
     "name": "stdout",
     "output_type": "stream",
     "text": [
      "\r",
      " [*********78%******     ] Elapsed 4.67s / Remaining 00:00:00:01"
     ]
    },
    {
     "name": "stdout",
     "output_type": "stream",
     "text": [
      "\r",
      " [*********78%******     ] Elapsed 4.67s / Remaining 00:00:00:01"
     ]
    },
    {
     "name": "stdout",
     "output_type": "stream",
     "text": [
      "\r",
      " [*********78%******     ] Elapsed 4.68s / Remaining 00:00:00:01"
     ]
    },
    {
     "name": "stdout",
     "output_type": "stream",
     "text": [
      "\r",
      " [*********78%******     ] Elapsed 4.68s / Remaining 00:00:00:01"
     ]
    },
    {
     "name": "stdout",
     "output_type": "stream",
     "text": [
      "\r",
      " [*********78%******     ] Elapsed 4.69s / Remaining 00:00:00:01"
     ]
    },
    {
     "name": "stdout",
     "output_type": "stream",
     "text": [
      "\r",
      " [*********78%******     ] Elapsed 4.69s / Remaining 00:00:00:01"
     ]
    },
    {
     "name": "stdout",
     "output_type": "stream",
     "text": [
      "\r",
      " [*********79%******     ] Elapsed 4.70s / Remaining 00:00:00:01"
     ]
    },
    {
     "name": "stdout",
     "output_type": "stream",
     "text": [
      "\r",
      " [*********79%******     ] Elapsed 4.70s / Remaining 00:00:00:01"
     ]
    },
    {
     "name": "stdout",
     "output_type": "stream",
     "text": [
      "\r",
      " [*********79%******     ] Elapsed 4.71s / Remaining 00:00:00:01"
     ]
    },
    {
     "name": "stdout",
     "output_type": "stream",
     "text": [
      "\r",
      " [*********79%******     ] Elapsed 4.71s / Remaining 00:00:00:01"
     ]
    },
    {
     "name": "stdout",
     "output_type": "stream",
     "text": [
      "\r",
      " [*********79%******     ] Elapsed 4.72s / Remaining 00:00:00:01"
     ]
    },
    {
     "name": "stdout",
     "output_type": "stream",
     "text": [
      "\r",
      " [*********79%******     ] Elapsed 4.72s / Remaining 00:00:00:01"
     ]
    },
    {
     "name": "stdout",
     "output_type": "stream",
     "text": [
      "\r",
      " [*********79%******     ] Elapsed 4.73s / Remaining 00:00:00:01"
     ]
    },
    {
     "name": "stdout",
     "output_type": "stream",
     "text": [
      "\r",
      " [*********79%******     ] Elapsed 4.73s / Remaining 00:00:00:01"
     ]
    },
    {
     "name": "stdout",
     "output_type": "stream",
     "text": [
      "\r",
      " [*********79%******     ] Elapsed 4.74s / Remaining 00:00:00:01"
     ]
    },
    {
     "name": "stdout",
     "output_type": "stream",
     "text": [
      "\r",
      " [*********79%******     ] Elapsed 4.74s / Remaining 00:00:00:01"
     ]
    },
    {
     "name": "stdout",
     "output_type": "stream",
     "text": [
      "\r",
      " [*********80%******     ] Elapsed 4.75s / Remaining 00:00:00:01"
     ]
    },
    {
     "name": "stdout",
     "output_type": "stream",
     "text": [
      "\r",
      " [*********80%******     ] Elapsed 4.76s / Remaining 00:00:00:01"
     ]
    },
    {
     "name": "stdout",
     "output_type": "stream",
     "text": [
      "\r",
      " [*********80%******     ] Elapsed 4.76s / Remaining 00:00:00:01"
     ]
    },
    {
     "name": "stdout",
     "output_type": "stream",
     "text": [
      "\r",
      " [*********80%******     ] Elapsed 4.77s / Remaining 00:00:00:01"
     ]
    },
    {
     "name": "stdout",
     "output_type": "stream",
     "text": [
      "\r",
      " [*********80%******     ] Elapsed 4.77s / Remaining 00:00:00:01"
     ]
    },
    {
     "name": "stdout",
     "output_type": "stream",
     "text": [
      "\r",
      " [*********80%******     ] Elapsed 4.78s / Remaining 00:00:00:01"
     ]
    },
    {
     "name": "stdout",
     "output_type": "stream",
     "text": [
      "\r",
      " [*********80%******     ] Elapsed 4.78s / Remaining 00:00:00:01"
     ]
    },
    {
     "name": "stdout",
     "output_type": "stream",
     "text": [
      "\r",
      " [*********80%******     ] Elapsed 4.79s / Remaining 00:00:00:01"
     ]
    },
    {
     "name": "stdout",
     "output_type": "stream",
     "text": [
      "\r",
      " [*********80%******     ] Elapsed 4.79s / Remaining 00:00:00:01"
     ]
    },
    {
     "name": "stdout",
     "output_type": "stream",
     "text": [
      "\r",
      " [*********80%******     ] Elapsed 4.81s / Remaining 00:00:00:01"
     ]
    },
    {
     "name": "stdout",
     "output_type": "stream",
     "text": [
      "\r",
      " [*********81%*******    ] Elapsed 4.81s / Remaining 00:00:00:01"
     ]
    },
    {
     "name": "stdout",
     "output_type": "stream",
     "text": [
      "\r",
      " [*********81%*******    ] Elapsed 4.82s / Remaining 00:00:00:01"
     ]
    },
    {
     "name": "stdout",
     "output_type": "stream",
     "text": [
      "\r",
      " [*********81%*******    ] Elapsed 4.83s / Remaining 00:00:00:01"
     ]
    },
    {
     "name": "stdout",
     "output_type": "stream",
     "text": [
      "\r",
      " [*********81%*******    ] Elapsed 4.84s / Remaining 00:00:00:01"
     ]
    },
    {
     "name": "stdout",
     "output_type": "stream",
     "text": [
      "\r",
      " [*********81%*******    ] Elapsed 4.84s / Remaining 00:00:00:01"
     ]
    },
    {
     "name": "stdout",
     "output_type": "stream",
     "text": [
      "\r",
      " [*********81%*******    ] Elapsed 4.85s / Remaining 00:00:00:01"
     ]
    },
    {
     "name": "stdout",
     "output_type": "stream",
     "text": [
      "\r",
      " [*********81%*******    ] Elapsed 4.85s / Remaining 00:00:00:01"
     ]
    },
    {
     "name": "stdout",
     "output_type": "stream",
     "text": [
      "\r",
      " [*********81%*******    ] Elapsed 4.86s / Remaining 00:00:00:01"
     ]
    },
    {
     "name": "stdout",
     "output_type": "stream",
     "text": [
      "\r",
      " [*********81%*******    ] Elapsed 4.86s / Remaining 00:00:00:01"
     ]
    },
    {
     "name": "stdout",
     "output_type": "stream",
     "text": [
      "\r",
      " [*********81%*******    ] Elapsed 4.87s / Remaining 00:00:00:01"
     ]
    },
    {
     "name": "stdout",
     "output_type": "stream",
     "text": [
      "\r",
      " [*********82%*******    ] Elapsed 4.87s / Remaining 00:00:00:01"
     ]
    },
    {
     "name": "stdout",
     "output_type": "stream",
     "text": [
      "\r",
      " [*********82%*******    ] Elapsed 4.88s / Remaining 00:00:00:01"
     ]
    },
    {
     "name": "stdout",
     "output_type": "stream",
     "text": [
      "\r",
      " [*********82%*******    ] Elapsed 4.88s / Remaining 00:00:00:01"
     ]
    },
    {
     "name": "stdout",
     "output_type": "stream",
     "text": [
      "\r",
      " [*********82%*******    ] Elapsed 4.89s / Remaining 00:00:00:01"
     ]
    },
    {
     "name": "stdout",
     "output_type": "stream",
     "text": [
      "\r",
      " [*********82%*******    ] Elapsed 4.89s / Remaining 00:00:00:01"
     ]
    },
    {
     "name": "stdout",
     "output_type": "stream",
     "text": [
      "\r",
      " [*********82%*******    ] Elapsed 4.90s / Remaining 00:00:00:01"
     ]
    },
    {
     "name": "stdout",
     "output_type": "stream",
     "text": [
      "\r",
      " [*********82%*******    ] Elapsed 4.90s / Remaining 00:00:00:01"
     ]
    },
    {
     "name": "stdout",
     "output_type": "stream",
     "text": [
      "\r",
      " [*********82%*******    ] Elapsed 4.91s / Remaining 00:00:00:01"
     ]
    },
    {
     "name": "stdout",
     "output_type": "stream",
     "text": [
      "\r",
      " [*********82%*******    ] Elapsed 4.91s / Remaining 00:00:00:01"
     ]
    },
    {
     "name": "stdout",
     "output_type": "stream",
     "text": [
      "\r",
      " [*********82%*******    ] Elapsed 4.92s / Remaining 00:00:00:01"
     ]
    },
    {
     "name": "stdout",
     "output_type": "stream",
     "text": [
      "\r",
      " [*********83%*******    ] Elapsed 4.92s / Remaining 00:00:00:01"
     ]
    },
    {
     "name": "stdout",
     "output_type": "stream",
     "text": [
      "\r",
      " [*********83%*******    ] Elapsed 4.93s / Remaining 00:00:00:01"
     ]
    },
    {
     "name": "stdout",
     "output_type": "stream",
     "text": [
      "\r",
      " [*********83%*******    ] Elapsed 4.93s / Remaining 00:00:00:01"
     ]
    },
    {
     "name": "stdout",
     "output_type": "stream",
     "text": [
      "\r",
      " [*********83%*******    ] Elapsed 4.94s / Remaining 00:00:00:01"
     ]
    },
    {
     "name": "stdout",
     "output_type": "stream",
     "text": [
      "\r",
      " [*********83%*******    ] Elapsed 4.94s / Remaining 00:00:00:01"
     ]
    },
    {
     "name": "stdout",
     "output_type": "stream",
     "text": [
      "\r",
      " [*********83%*******    ] Elapsed 4.95s / Remaining 00:00:00:01"
     ]
    },
    {
     "name": "stdout",
     "output_type": "stream",
     "text": [
      "\r",
      " [*********83%*******    ] Elapsed 4.95s / Remaining 00:00:00:01"
     ]
    },
    {
     "name": "stdout",
     "output_type": "stream",
     "text": [
      "\r",
      " [*********83%*******    ] Elapsed 4.97s / Remaining 00:00:00:01"
     ]
    },
    {
     "name": "stdout",
     "output_type": "stream",
     "text": [
      "\r",
      " [*********83%*******    ] Elapsed 4.97s / Remaining 00:00:00:01"
     ]
    },
    {
     "name": "stdout",
     "output_type": "stream",
     "text": [
      "\r",
      " [*********83%*******    ] Elapsed 4.98s / Remaining 00:00:00:01"
     ]
    },
    {
     "name": "stdout",
     "output_type": "stream",
     "text": [
      "\r",
      " [*********84%*******    ] Elapsed 4.98s / Remaining 00:00:00:00"
     ]
    },
    {
     "name": "stdout",
     "output_type": "stream",
     "text": [
      "\r",
      " [*********84%*******    ] Elapsed 4.99s / Remaining 00:00:00:00"
     ]
    },
    {
     "name": "stdout",
     "output_type": "stream",
     "text": [
      "\r",
      " [*********84%*******    ] Elapsed 4.99s / Remaining 00:00:00:00"
     ]
    },
    {
     "name": "stdout",
     "output_type": "stream",
     "text": [
      "\r",
      " [*********84%*******    ] Elapsed 5.00s / Remaining 00:00:00:00"
     ]
    },
    {
     "name": "stdout",
     "output_type": "stream",
     "text": [
      "\r",
      " [*********84%*******    ] Elapsed 5.00s / Remaining 00:00:00:00"
     ]
    },
    {
     "name": "stdout",
     "output_type": "stream",
     "text": [
      "\r",
      " [*********84%*******    ] Elapsed 5.01s / Remaining 00:00:00:00"
     ]
    },
    {
     "name": "stdout",
     "output_type": "stream",
     "text": [
      "\r",
      " [*********84%*******    ] Elapsed 5.01s / Remaining 00:00:00:00"
     ]
    },
    {
     "name": "stdout",
     "output_type": "stream",
     "text": [
      "\r",
      " [*********84%*******    ] Elapsed 5.02s / Remaining 00:00:00:00"
     ]
    },
    {
     "name": "stdout",
     "output_type": "stream",
     "text": [
      "\r",
      " [*********84%*******    ] Elapsed 5.02s / Remaining 00:00:00:00"
     ]
    },
    {
     "name": "stdout",
     "output_type": "stream",
     "text": [
      "\r",
      " [*********84%*******    ] Elapsed 5.03s / Remaining 00:00:00:00"
     ]
    },
    {
     "name": "stdout",
     "output_type": "stream",
     "text": [
      "\r",
      " [*********85%********   ] Elapsed 5.03s / Remaining 00:00:00:00"
     ]
    },
    {
     "name": "stdout",
     "output_type": "stream",
     "text": [
      "\r",
      " [*********85%********   ] Elapsed 5.04s / Remaining 00:00:00:00"
     ]
    },
    {
     "name": "stdout",
     "output_type": "stream",
     "text": [
      "\r",
      " [*********85%********   ] Elapsed 5.04s / Remaining 00:00:00:00"
     ]
    },
    {
     "name": "stdout",
     "output_type": "stream",
     "text": [
      "\r",
      " [*********85%********   ] Elapsed 5.05s / Remaining 00:00:00:00"
     ]
    },
    {
     "name": "stdout",
     "output_type": "stream",
     "text": [
      "\r",
      " [*********85%********   ] Elapsed 5.05s / Remaining 00:00:00:00"
     ]
    },
    {
     "name": "stdout",
     "output_type": "stream",
     "text": [
      "\r",
      " [*********85%********   ] Elapsed 5.06s / Remaining 00:00:00:00"
     ]
    },
    {
     "name": "stdout",
     "output_type": "stream",
     "text": [
      "\r",
      " [*********85%********   ] Elapsed 5.06s / Remaining 00:00:00:00"
     ]
    },
    {
     "name": "stdout",
     "output_type": "stream",
     "text": [
      "\r",
      " [*********85%********   ] Elapsed 5.07s / Remaining 00:00:00:00"
     ]
    },
    {
     "name": "stdout",
     "output_type": "stream",
     "text": [
      "\r",
      " [*********85%********   ] Elapsed 5.07s / Remaining 00:00:00:00"
     ]
    },
    {
     "name": "stdout",
     "output_type": "stream",
     "text": [
      "\r",
      " [*********85%********   ] Elapsed 5.08s / Remaining 00:00:00:00"
     ]
    },
    {
     "name": "stdout",
     "output_type": "stream",
     "text": [
      "\r",
      " [*********86%********   ] Elapsed 5.08s / Remaining 00:00:00:00"
     ]
    },
    {
     "name": "stdout",
     "output_type": "stream",
     "text": [
      "\r",
      " [*********86%********   ] Elapsed 5.09s / Remaining 00:00:00:00"
     ]
    },
    {
     "name": "stdout",
     "output_type": "stream",
     "text": [
      "\r",
      " [*********86%********   ] Elapsed 5.09s / Remaining 00:00:00:00"
     ]
    },
    {
     "name": "stdout",
     "output_type": "stream",
     "text": [
      "\r",
      " [*********86%********   ] Elapsed 5.10s / Remaining 00:00:00:00"
     ]
    },
    {
     "name": "stdout",
     "output_type": "stream",
     "text": [
      "\r",
      " [*********86%********   ] Elapsed 5.10s / Remaining 00:00:00:00"
     ]
    },
    {
     "name": "stdout",
     "output_type": "stream",
     "text": [
      "\r",
      " [*********86%********   ] Elapsed 5.11s / Remaining 00:00:00:00"
     ]
    },
    {
     "name": "stdout",
     "output_type": "stream",
     "text": [
      "\r",
      " [*********86%********   ] Elapsed 5.11s / Remaining 00:00:00:00"
     ]
    },
    {
     "name": "stdout",
     "output_type": "stream",
     "text": [
      "\r",
      " [*********86%********   ] Elapsed 5.12s / Remaining 00:00:00:00"
     ]
    },
    {
     "name": "stdout",
     "output_type": "stream",
     "text": [
      "\r",
      " [*********86%********   ] Elapsed 5.13s / Remaining 00:00:00:00"
     ]
    },
    {
     "name": "stdout",
     "output_type": "stream",
     "text": [
      "\r",
      " [*********86%********   ] Elapsed 5.13s / Remaining 00:00:00:00"
     ]
    },
    {
     "name": "stdout",
     "output_type": "stream",
     "text": [
      "\r",
      " [*********87%********   ] Elapsed 5.14s / Remaining 00:00:00:00"
     ]
    },
    {
     "name": "stdout",
     "output_type": "stream",
     "text": [
      "\r",
      " [*********87%********   ] Elapsed 5.14s / Remaining 00:00:00:00"
     ]
    },
    {
     "name": "stdout",
     "output_type": "stream",
     "text": [
      "\r",
      " [*********87%********   ] Elapsed 5.15s / Remaining 00:00:00:00"
     ]
    },
    {
     "name": "stdout",
     "output_type": "stream",
     "text": [
      "\r",
      " [*********87%********   ] Elapsed 5.15s / Remaining 00:00:00:00"
     ]
    },
    {
     "name": "stdout",
     "output_type": "stream",
     "text": [
      "\r",
      " [*********87%********   ] Elapsed 5.16s / Remaining 00:00:00:00"
     ]
    },
    {
     "name": "stdout",
     "output_type": "stream",
     "text": [
      "\r",
      " [*********87%********   ] Elapsed 5.16s / Remaining 00:00:00:00"
     ]
    },
    {
     "name": "stdout",
     "output_type": "stream",
     "text": [
      "\r",
      " [*********87%********   ] Elapsed 5.17s / Remaining 00:00:00:00"
     ]
    },
    {
     "name": "stdout",
     "output_type": "stream",
     "text": [
      "\r",
      " [*********87%********   ] Elapsed 5.17s / Remaining 00:00:00:00"
     ]
    },
    {
     "name": "stdout",
     "output_type": "stream",
     "text": [
      "\r",
      " [*********87%********   ] Elapsed 5.18s / Remaining 00:00:00:00"
     ]
    },
    {
     "name": "stdout",
     "output_type": "stream",
     "text": [
      "\r",
      " [*********87%********   ] Elapsed 5.18s / Remaining 00:00:00:00"
     ]
    },
    {
     "name": "stdout",
     "output_type": "stream",
     "text": [
      "\r",
      " [*********88%********   ] Elapsed 5.19s / Remaining 00:00:00:00"
     ]
    },
    {
     "name": "stdout",
     "output_type": "stream",
     "text": [
      "\r",
      " [*********88%********   ] Elapsed 5.19s / Remaining 00:00:00:00"
     ]
    },
    {
     "name": "stdout",
     "output_type": "stream",
     "text": [
      "\r",
      " [*********88%********   ] Elapsed 5.20s / Remaining 00:00:00:00"
     ]
    },
    {
     "name": "stdout",
     "output_type": "stream",
     "text": [
      "\r",
      " [*********88%********   ] Elapsed 5.20s / Remaining 00:00:00:00"
     ]
    },
    {
     "name": "stdout",
     "output_type": "stream",
     "text": [
      "\r",
      " [*********88%********   ] Elapsed 5.21s / Remaining 00:00:00:00"
     ]
    },
    {
     "name": "stdout",
     "output_type": "stream",
     "text": [
      "\r",
      " [*********88%********   ] Elapsed 5.21s / Remaining 00:00:00:00"
     ]
    },
    {
     "name": "stdout",
     "output_type": "stream",
     "text": [
      "\r",
      " [*********88%********   ] Elapsed 5.22s / Remaining 00:00:00:00"
     ]
    },
    {
     "name": "stdout",
     "output_type": "stream",
     "text": [
      "\r",
      " [*********88%********   ] Elapsed 5.22s / Remaining 00:00:00:00"
     ]
    },
    {
     "name": "stdout",
     "output_type": "stream",
     "text": [
      "\r",
      " [*********88%********   ] Elapsed 5.23s / Remaining 00:00:00:00"
     ]
    },
    {
     "name": "stdout",
     "output_type": "stream",
     "text": [
      "\r",
      " [*********88%********   ] Elapsed 5.23s / Remaining 00:00:00:00"
     ]
    },
    {
     "name": "stdout",
     "output_type": "stream",
     "text": [
      "\r",
      " [*********89%********   ] Elapsed 5.24s / Remaining 00:00:00:00"
     ]
    },
    {
     "name": "stdout",
     "output_type": "stream",
     "text": [
      "\r",
      " [*********89%********   ] Elapsed 5.25s / Remaining 00:00:00:00"
     ]
    },
    {
     "name": "stdout",
     "output_type": "stream",
     "text": [
      "\r",
      " [*********89%********   ] Elapsed 5.25s / Remaining 00:00:00:00"
     ]
    },
    {
     "name": "stdout",
     "output_type": "stream",
     "text": [
      "\r",
      " [*********89%********   ] Elapsed 5.26s / Remaining 00:00:00:00"
     ]
    },
    {
     "name": "stdout",
     "output_type": "stream",
     "text": [
      "\r",
      " [*********89%********   ] Elapsed 5.26s / Remaining 00:00:00:00"
     ]
    },
    {
     "name": "stdout",
     "output_type": "stream",
     "text": [
      "\r",
      " [*********89%********   ] Elapsed 5.27s / Remaining 00:00:00:00"
     ]
    },
    {
     "name": "stdout",
     "output_type": "stream",
     "text": [
      "\r",
      " [*********89%********   ] Elapsed 5.27s / Remaining 00:00:00:00"
     ]
    },
    {
     "name": "stdout",
     "output_type": "stream",
     "text": [
      "\r",
      " [*********89%********   ] Elapsed 5.28s / Remaining 00:00:00:00"
     ]
    },
    {
     "name": "stdout",
     "output_type": "stream",
     "text": [
      "\r",
      " [*********89%********   ] Elapsed 5.28s / Remaining 00:00:00:00"
     ]
    },
    {
     "name": "stdout",
     "output_type": "stream",
     "text": [
      "\r",
      " [*********89%********   ] Elapsed 5.29s / Remaining 00:00:00:00"
     ]
    },
    {
     "name": "stdout",
     "output_type": "stream",
     "text": [
      "\r",
      " [*********90%*********  ] Elapsed 5.30s / Remaining 00:00:00:00"
     ]
    },
    {
     "name": "stdout",
     "output_type": "stream",
     "text": [
      "\r",
      " [*********90%*********  ] Elapsed 5.30s / Remaining 00:00:00:00"
     ]
    },
    {
     "name": "stdout",
     "output_type": "stream",
     "text": [
      "\r",
      " [*********90%*********  ] Elapsed 5.31s / Remaining 00:00:00:00"
     ]
    },
    {
     "name": "stdout",
     "output_type": "stream",
     "text": [
      "\r",
      " [*********90%*********  ] Elapsed 5.31s / Remaining 00:00:00:00"
     ]
    },
    {
     "name": "stdout",
     "output_type": "stream",
     "text": [
      "\r",
      " [*********90%*********  ] Elapsed 5.32s / Remaining 00:00:00:00"
     ]
    },
    {
     "name": "stdout",
     "output_type": "stream",
     "text": [
      "\r",
      " [*********90%*********  ] Elapsed 5.32s / Remaining 00:00:00:00"
     ]
    },
    {
     "name": "stdout",
     "output_type": "stream",
     "text": [
      "\r",
      " [*********90%*********  ] Elapsed 5.33s / Remaining 00:00:00:00"
     ]
    },
    {
     "name": "stdout",
     "output_type": "stream",
     "text": [
      "\r",
      " [*********90%*********  ] Elapsed 5.33s / Remaining 00:00:00:00"
     ]
    },
    {
     "name": "stdout",
     "output_type": "stream",
     "text": [
      "\r",
      " [*********90%*********  ] Elapsed 5.34s / Remaining 00:00:00:00"
     ]
    },
    {
     "name": "stdout",
     "output_type": "stream",
     "text": [
      "\r",
      " [*********90%*********  ] Elapsed 5.34s / Remaining 00:00:00:00"
     ]
    },
    {
     "name": "stdout",
     "output_type": "stream",
     "text": [
      "\r",
      " [*********91%*********  ] Elapsed 5.35s / Remaining 00:00:00:00"
     ]
    },
    {
     "name": "stdout",
     "output_type": "stream",
     "text": [
      "\r",
      " [*********91%*********  ] Elapsed 5.35s / Remaining 00:00:00:00"
     ]
    },
    {
     "name": "stdout",
     "output_type": "stream",
     "text": [
      "\r",
      " [*********91%*********  ] Elapsed 5.36s / Remaining 00:00:00:00"
     ]
    },
    {
     "name": "stdout",
     "output_type": "stream",
     "text": [
      "\r",
      " [*********91%*********  ] Elapsed 5.36s / Remaining 00:00:00:00"
     ]
    },
    {
     "name": "stdout",
     "output_type": "stream",
     "text": [
      "\r",
      " [*********91%*********  ] Elapsed 5.37s / Remaining 00:00:00:00"
     ]
    },
    {
     "name": "stdout",
     "output_type": "stream",
     "text": [
      "\r",
      " [*********91%*********  ] Elapsed 5.37s / Remaining 00:00:00:00"
     ]
    },
    {
     "name": "stdout",
     "output_type": "stream",
     "text": [
      "\r",
      " [*********91%*********  ] Elapsed 5.38s / Remaining 00:00:00:00"
     ]
    },
    {
     "name": "stdout",
     "output_type": "stream",
     "text": [
      "\r",
      " [*********91%*********  ] Elapsed 5.38s / Remaining 00:00:00:00"
     ]
    },
    {
     "name": "stdout",
     "output_type": "stream",
     "text": [
      "\r",
      " [*********91%*********  ] Elapsed 5.38s / Remaining 00:00:00:00"
     ]
    },
    {
     "name": "stdout",
     "output_type": "stream",
     "text": [
      "\r",
      " [*********91%*********  ] Elapsed 5.39s / Remaining 00:00:00:00"
     ]
    },
    {
     "name": "stdout",
     "output_type": "stream",
     "text": [
      "\r",
      " [*********92%*********  ] Elapsed 5.40s / Remaining 00:00:00:00"
     ]
    },
    {
     "name": "stdout",
     "output_type": "stream",
     "text": [
      "\r",
      " [*********92%*********  ] Elapsed 5.40s / Remaining 00:00:00:00"
     ]
    },
    {
     "name": "stdout",
     "output_type": "stream",
     "text": [
      "\r",
      " [*********92%*********  ] Elapsed 5.41s / Remaining 00:00:00:00"
     ]
    },
    {
     "name": "stdout",
     "output_type": "stream",
     "text": [
      "\r",
      " [*********92%*********  ] Elapsed 5.41s / Remaining 00:00:00:00"
     ]
    },
    {
     "name": "stdout",
     "output_type": "stream",
     "text": [
      "\r",
      " [*********92%*********  ] Elapsed 5.42s / Remaining 00:00:00:00"
     ]
    },
    {
     "name": "stdout",
     "output_type": "stream",
     "text": [
      "\r",
      " [*********92%*********  ] Elapsed 5.42s / Remaining 00:00:00:00"
     ]
    },
    {
     "name": "stdout",
     "output_type": "stream",
     "text": [
      "\r",
      " [*********92%*********  ] Elapsed 5.43s / Remaining 00:00:00:00"
     ]
    },
    {
     "name": "stdout",
     "output_type": "stream",
     "text": [
      "\r",
      " [*********92%*********  ] Elapsed 5.43s / Remaining 00:00:00:00"
     ]
    },
    {
     "name": "stdout",
     "output_type": "stream",
     "text": [
      "\r",
      " [*********92%*********  ] Elapsed 5.43s / Remaining 00:00:00:00"
     ]
    },
    {
     "name": "stdout",
     "output_type": "stream",
     "text": [
      "\r",
      " [*********92%*********  ] Elapsed 5.44s / Remaining 00:00:00:00"
     ]
    },
    {
     "name": "stdout",
     "output_type": "stream",
     "text": [
      "\r",
      " [*********93%*********  ] Elapsed 5.44s / Remaining 00:00:00:00"
     ]
    },
    {
     "name": "stdout",
     "output_type": "stream",
     "text": [
      "\r",
      " [*********93%*********  ] Elapsed 5.45s / Remaining 00:00:00:00"
     ]
    },
    {
     "name": "stdout",
     "output_type": "stream",
     "text": [
      "\r",
      " [*********93%*********  ] Elapsed 5.45s / Remaining 00:00:00:00"
     ]
    },
    {
     "name": "stdout",
     "output_type": "stream",
     "text": [
      "\r",
      " [*********93%*********  ] Elapsed 5.46s / Remaining 00:00:00:00"
     ]
    },
    {
     "name": "stdout",
     "output_type": "stream",
     "text": [
      "\r",
      " [*********93%*********  ] Elapsed 5.46s / Remaining 00:00:00:00"
     ]
    },
    {
     "name": "stdout",
     "output_type": "stream",
     "text": [
      "\r",
      " [*********93%*********  ] Elapsed 5.47s / Remaining 00:00:00:00"
     ]
    },
    {
     "name": "stdout",
     "output_type": "stream",
     "text": [
      "\r",
      " [*********93%*********  ] Elapsed 5.48s / Remaining 00:00:00:00"
     ]
    },
    {
     "name": "stdout",
     "output_type": "stream",
     "text": [
      "\r",
      " [*********93%*********  ] Elapsed 5.49s / Remaining 00:00:00:00"
     ]
    },
    {
     "name": "stdout",
     "output_type": "stream",
     "text": [
      "\r",
      " [*********93%*********  ] Elapsed 5.49s / Remaining 00:00:00:00"
     ]
    },
    {
     "name": "stdout",
     "output_type": "stream",
     "text": [
      "\r",
      " [*********93%*********  ] Elapsed 5.50s / Remaining 00:00:00:00"
     ]
    },
    {
     "name": "stdout",
     "output_type": "stream",
     "text": [
      "\r",
      " [*********94%********** ] Elapsed 5.50s / Remaining 00:00:00:00"
     ]
    },
    {
     "name": "stdout",
     "output_type": "stream",
     "text": [
      "\r",
      " [*********94%********** ] Elapsed 5.51s / Remaining 00:00:00:00"
     ]
    },
    {
     "name": "stdout",
     "output_type": "stream",
     "text": [
      "\r",
      " [*********94%********** ] Elapsed 5.51s / Remaining 00:00:00:00"
     ]
    },
    {
     "name": "stdout",
     "output_type": "stream",
     "text": [
      "\r",
      " [*********94%********** ] Elapsed 5.52s / Remaining 00:00:00:00"
     ]
    },
    {
     "name": "stdout",
     "output_type": "stream",
     "text": [
      "\r",
      " [*********94%********** ] Elapsed 5.52s / Remaining 00:00:00:00"
     ]
    },
    {
     "name": "stdout",
     "output_type": "stream",
     "text": [
      "\r",
      " [*********94%********** ] Elapsed 5.53s / Remaining 00:00:00:00"
     ]
    },
    {
     "name": "stdout",
     "output_type": "stream",
     "text": [
      "\r",
      " [*********94%********** ] Elapsed 5.53s / Remaining 00:00:00:00"
     ]
    },
    {
     "name": "stdout",
     "output_type": "stream",
     "text": [
      "\r",
      " [*********94%********** ] Elapsed 5.54s / Remaining 00:00:00:00"
     ]
    },
    {
     "name": "stdout",
     "output_type": "stream",
     "text": [
      "\r",
      " [*********94%********** ] Elapsed 5.54s / Remaining 00:00:00:00"
     ]
    },
    {
     "name": "stdout",
     "output_type": "stream",
     "text": [
      "\r",
      " [*********94%********** ] Elapsed 5.55s / Remaining 00:00:00:00"
     ]
    },
    {
     "name": "stdout",
     "output_type": "stream",
     "text": [
      "\r",
      " [*********95%********** ] Elapsed 5.55s / Remaining 00:00:00:00"
     ]
    },
    {
     "name": "stdout",
     "output_type": "stream",
     "text": [
      "\r",
      " [*********95%********** ] Elapsed 5.56s / Remaining 00:00:00:00"
     ]
    },
    {
     "name": "stdout",
     "output_type": "stream",
     "text": [
      "\r",
      " [*********95%********** ] Elapsed 5.56s / Remaining 00:00:00:00"
     ]
    },
    {
     "name": "stdout",
     "output_type": "stream",
     "text": [
      "\r",
      " [*********95%********** ] Elapsed 5.57s / Remaining 00:00:00:00"
     ]
    },
    {
     "name": "stdout",
     "output_type": "stream",
     "text": [
      "\r",
      " [*********95%********** ] Elapsed 5.57s / Remaining 00:00:00:00"
     ]
    },
    {
     "name": "stdout",
     "output_type": "stream",
     "text": [
      "\r",
      " [*********95%********** ] Elapsed 5.58s / Remaining 00:00:00:00"
     ]
    },
    {
     "name": "stdout",
     "output_type": "stream",
     "text": [
      "\r",
      " [*********95%********** ] Elapsed 5.58s / Remaining 00:00:00:00"
     ]
    },
    {
     "name": "stdout",
     "output_type": "stream",
     "text": [
      "\r",
      " [*********95%********** ] Elapsed 5.59s / Remaining 00:00:00:00"
     ]
    },
    {
     "name": "stdout",
     "output_type": "stream",
     "text": [
      "\r",
      " [*********95%********** ] Elapsed 5.59s / Remaining 00:00:00:00"
     ]
    },
    {
     "name": "stdout",
     "output_type": "stream",
     "text": [
      "\r",
      " [*********95%********** ] Elapsed 5.60s / Remaining 00:00:00:00"
     ]
    },
    {
     "name": "stdout",
     "output_type": "stream",
     "text": [
      "\r",
      " [*********96%********** ] Elapsed 5.60s / Remaining 00:00:00:00"
     ]
    },
    {
     "name": "stdout",
     "output_type": "stream",
     "text": [
      "\r",
      " [*********96%********** ] Elapsed 5.61s / Remaining 00:00:00:00"
     ]
    },
    {
     "name": "stdout",
     "output_type": "stream",
     "text": [
      "\r",
      " [*********96%********** ] Elapsed 5.61s / Remaining 00:00:00:00"
     ]
    },
    {
     "name": "stdout",
     "output_type": "stream",
     "text": [
      "\r",
      " [*********96%********** ] Elapsed 5.62s / Remaining 00:00:00:00"
     ]
    },
    {
     "name": "stdout",
     "output_type": "stream",
     "text": [
      "\r",
      " [*********96%********** ] Elapsed 5.62s / Remaining 00:00:00:00"
     ]
    },
    {
     "name": "stdout",
     "output_type": "stream",
     "text": [
      "\r",
      " [*********96%********** ] Elapsed 5.63s / Remaining 00:00:00:00"
     ]
    },
    {
     "name": "stdout",
     "output_type": "stream",
     "text": [
      "\r",
      " [*********96%********** ] Elapsed 5.63s / Remaining 00:00:00:00"
     ]
    },
    {
     "name": "stdout",
     "output_type": "stream",
     "text": [
      "\r",
      " [*********96%********** ] Elapsed 5.64s / Remaining 00:00:00:00"
     ]
    },
    {
     "name": "stdout",
     "output_type": "stream",
     "text": [
      "\r",
      " [*********96%********** ] Elapsed 5.64s / Remaining 00:00:00:00"
     ]
    },
    {
     "name": "stdout",
     "output_type": "stream",
     "text": [
      "\r",
      " [*********96%********** ] Elapsed 5.65s / Remaining 00:00:00:00"
     ]
    },
    {
     "name": "stdout",
     "output_type": "stream",
     "text": [
      "\r",
      " [*********97%********** ] Elapsed 5.65s / Remaining 00:00:00:00"
     ]
    },
    {
     "name": "stdout",
     "output_type": "stream",
     "text": [
      "\r",
      " [*********97%********** ] Elapsed 5.66s / Remaining 00:00:00:00"
     ]
    },
    {
     "name": "stdout",
     "output_type": "stream",
     "text": [
      "\r",
      " [*********97%********** ] Elapsed 5.66s / Remaining 00:00:00:00"
     ]
    },
    {
     "name": "stdout",
     "output_type": "stream",
     "text": [
      "\r",
      " [*********97%********** ] Elapsed 5.67s / Remaining 00:00:00:00"
     ]
    },
    {
     "name": "stdout",
     "output_type": "stream",
     "text": [
      "\r",
      " [*********97%********** ] Elapsed 5.67s / Remaining 00:00:00:00"
     ]
    },
    {
     "name": "stdout",
     "output_type": "stream",
     "text": [
      "\r",
      " [*********97%********** ] Elapsed 5.68s / Remaining 00:00:00:00"
     ]
    },
    {
     "name": "stdout",
     "output_type": "stream",
     "text": [
      "\r",
      " [*********97%********** ] Elapsed 5.69s / Remaining 00:00:00:00"
     ]
    },
    {
     "name": "stdout",
     "output_type": "stream",
     "text": [
      "\r",
      " [*********97%********** ] Elapsed 5.69s / Remaining 00:00:00:00"
     ]
    },
    {
     "name": "stdout",
     "output_type": "stream",
     "text": [
      "\r",
      " [*********97%********** ] Elapsed 5.70s / Remaining 00:00:00:00"
     ]
    },
    {
     "name": "stdout",
     "output_type": "stream",
     "text": [
      "\r",
      " [*********97%********** ] Elapsed 5.70s / Remaining 00:00:00:00"
     ]
    },
    {
     "name": "stdout",
     "output_type": "stream",
     "text": [
      "\r",
      " [*********98%***********] Elapsed 5.71s / Remaining 00:00:00:00"
     ]
    },
    {
     "name": "stdout",
     "output_type": "stream",
     "text": [
      "\r",
      " [*********98%***********] Elapsed 5.71s / Remaining 00:00:00:00"
     ]
    },
    {
     "name": "stdout",
     "output_type": "stream",
     "text": [
      "\r",
      " [*********98%***********] Elapsed 5.72s / Remaining 00:00:00:00"
     ]
    },
    {
     "name": "stdout",
     "output_type": "stream",
     "text": [
      "\r",
      " [*********98%***********] Elapsed 5.72s / Remaining 00:00:00:00"
     ]
    },
    {
     "name": "stdout",
     "output_type": "stream",
     "text": [
      "\r",
      " [*********98%***********] Elapsed 5.73s / Remaining 00:00:00:00"
     ]
    },
    {
     "name": "stdout",
     "output_type": "stream",
     "text": [
      "\r",
      " [*********98%***********] Elapsed 5.73s / Remaining 00:00:00:00"
     ]
    },
    {
     "name": "stdout",
     "output_type": "stream",
     "text": [
      "\r",
      " [*********98%***********] Elapsed 5.74s / Remaining 00:00:00:00"
     ]
    },
    {
     "name": "stdout",
     "output_type": "stream",
     "text": [
      "\r",
      " [*********98%***********] Elapsed 5.74s / Remaining 00:00:00:00"
     ]
    },
    {
     "name": "stdout",
     "output_type": "stream",
     "text": [
      "\r",
      " [*********98%***********] Elapsed 5.75s / Remaining 00:00:00:00"
     ]
    },
    {
     "name": "stdout",
     "output_type": "stream",
     "text": [
      "\r",
      " [*********98%***********] Elapsed 5.75s / Remaining 00:00:00:00"
     ]
    },
    {
     "name": "stdout",
     "output_type": "stream",
     "text": [
      "\r",
      " [*********99%***********] Elapsed 5.76s / Remaining 00:00:00:00"
     ]
    },
    {
     "name": "stdout",
     "output_type": "stream",
     "text": [
      "\r",
      " [*********99%***********] Elapsed 5.76s / Remaining 00:00:00:00"
     ]
    },
    {
     "name": "stdout",
     "output_type": "stream",
     "text": [
      "\r",
      " [*********99%***********] Elapsed 5.77s / Remaining 00:00:00:00"
     ]
    },
    {
     "name": "stdout",
     "output_type": "stream",
     "text": [
      "\r",
      " [*********99%***********] Elapsed 5.77s / Remaining 00:00:00:00"
     ]
    },
    {
     "name": "stdout",
     "output_type": "stream",
     "text": [
      "\r",
      " [*********99%***********] Elapsed 5.78s / Remaining 00:00:00:00"
     ]
    },
    {
     "name": "stdout",
     "output_type": "stream",
     "text": [
      "\r",
      " [*********99%***********] Elapsed 5.78s / Remaining 00:00:00:00"
     ]
    },
    {
     "name": "stdout",
     "output_type": "stream",
     "text": [
      "\r",
      " [*********99%***********] Elapsed 5.79s / Remaining 00:00:00:00"
     ]
    },
    {
     "name": "stdout",
     "output_type": "stream",
     "text": [
      "\r",
      " [*********99%***********] Elapsed 5.79s / Remaining 00:00:00:00"
     ]
    },
    {
     "name": "stdout",
     "output_type": "stream",
     "text": [
      "\r",
      " [*********99%***********] Elapsed 5.79s / Remaining 00:00:00:00"
     ]
    },
    {
     "name": "stdout",
     "output_type": "stream",
     "text": [
      "\r",
      " [*********99%***********] Elapsed 5.80s / Remaining 00:00:00:00"
     ]
    },
    {
     "name": "stdout",
     "output_type": "stream",
     "text": [
      "\r",
      " [********100%***********] Elapsed 5.80s / Remaining 00:00:00:00"
     ]
    },
    {
     "name": "stdout",
     "output_type": "stream",
     "text": [
      "\r",
      " [********100%***********] Elapsed 5.81s / Remaining 00:00:00:00"
     ]
    },
    {
     "name": "stdout",
     "output_type": "stream",
     "text": [
      "\r",
      " [********100%***********] Elapsed 5.82s / Remaining 00:00:00:00"
     ]
    },
    {
     "name": "stdout",
     "output_type": "stream",
     "text": [
      "\r",
      " [********100%***********] Elapsed 5.82s / Remaining 00:00:00:00"
     ]
    },
    {
     "name": "stdout",
     "output_type": "stream",
     "text": [
      "\r",
      " [********100%***********] Elapsed 5.83s / Remaining 00:00:00:00"
     ]
    },
    {
     "name": "stdout",
     "output_type": "stream",
     "text": [
      "\r",
      " Total run time:   5.83s\n",
      "ODE solver time: 5.830590486526489\n"
     ]
    }
   ],
   "source": [
    "UD = (\n",
    "    f\"2 * {lam}**2 * {gamma} / ( {w0}**4 * {beta}) if (w==0)\"\n",
    "    \" else \"\n",
    "    f\"2 * ({lam}**2 * {gamma} * w / (({w0}**2 - w**2)**2 + {gamma}**2 * w**2))\"\n",
    "    f\" * ((1 / (exp(w * {beta}) - 1)) + 1)\"\n",
    ")\n",
    "\n",
    "with timer(\"ODE solver time\"):\n",
    "    resultBR = brmesolve(\n",
    "        Hsys, rho0, tlist,\n",
    "        a_ops=[[sigmaz(), UD]], options=options,\n",
    "    )"
   ]
  },
  {
   "cell_type": "code",
   "execution_count": 21,
   "id": "c9d9518c",
   "metadata": {
    "execution": {
     "iopub.execute_input": "2024-06-12T07:05:17.901184Z",
     "iopub.status.busy": "2024-06-12T07:05:17.901002Z",
     "iopub.status.idle": "2024-06-12T07:05:18.048959Z",
     "shell.execute_reply": "2024-06-12T07:05:18.048382Z"
    }
   },
   "outputs": [
    {
     "data": {
      "image/png": "[encoded data removed]",
      "text/plain": [
       "<Figure size 800x800 with 1 Axes>"
      ]
     },
     "metadata": {},
     "output_type": "display_data"
    }
   ],
   "source": [
    "plot_result_expectations([\n",
    "    (resultMats, P11p, 'b', \"P11 Mats\"),\n",
    "    (resultMats, P12p, 'r', \"P12 Mats\"),\n",
    "    (resultBR, P11p, 'g--', \"P11 Bloch Redfield\"),\n",
    "    (resultBR, P12p, 'g--', \"P12 Bloch Redfield\"),\n",
    "]);"
   ]
  },
  {
   "cell_type": "markdown",
   "id": "99562879",
   "metadata": {},
   "source": [
    "### Lastly, let us calculate the analytical steady-state result and compare all of the results:"
   ]
  },
  {
   "cell_type": "markdown",
   "id": "e58ce357",
   "metadata": {},
   "source": [
    "The thermal state of a reaction coordinate (treating the environment as a single damped mode) should, at high temperatures and small gamma, tell us the steady-state:"
   ]
  },
  {
   "cell_type": "code",
   "execution_count": 22,
   "id": "68d5820d",
   "metadata": {
    "execution": {
     "iopub.execute_input": "2024-06-12T07:05:18.050928Z",
     "iopub.status.busy": "2024-06-12T07:05:18.050750Z",
     "iopub.status.idle": "2024-06-12T07:05:18.059729Z",
     "shell.execute_reply": "2024-06-12T07:05:18.059273Z"
    }
   },
   "outputs": [],
   "source": [
    "dot_energy, dot_state = Hsys.eigenstates()\n",
    "deltaE = dot_energy[1] - dot_energy[0]\n",
    "\n",
    "gamma2 = gamma\n",
    "wa = w0  # reaction coordinate frequency\n",
    "g = lam / np.sqrt(2 * wa)  # coupling\n",
    "\n",
    "NRC = 10\n",
    "\n",
    "Hsys_exp = tensor(qeye(NRC), Hsys)\n",
    "Q_exp = tensor(qeye(NRC), Q)\n",
    "a = tensor(destroy(NRC), qeye(2))\n",
    "\n",
    "H0 = wa * a.dag() * a + Hsys_exp\n",
    "# interaction\n",
    "H1 = (g * (a.dag() + a) * Q_exp)\n",
    "\n",
    "H = H0 + H1\n",
    "\n",
    "energies, states = H.eigenstates()\n",
    "rhoss = 0 * states[0] * states[0].dag()\n",
    "for kk, energ in enumerate(energies):\n",
    "    rhoss += (states[kk] * states[kk].dag() * np.exp(-beta * energies[kk]))\n",
    "rhoss = rhoss / rhoss.norm()\n",
    "\n",
    "P12RC = tensor(qeye(NRC), basis(2, 0) * basis(2, 1).dag())\n",
    "P12RC = expect(rhoss, P12RC)\n",
    "\n",
    "P11RC = tensor(qeye(NRC), basis(2, 0) * basis(2, 0).dag())\n",
    "P11RC = expect(rhoss, P11RC)"
   ]
  },
  {
   "cell_type": "code",
   "execution_count": 23,
   "id": "802accd7",
   "metadata": {
    "execution": {
     "iopub.execute_input": "2024-06-12T07:05:18.061835Z",
     "iopub.status.busy": "2024-06-12T07:05:18.061662Z",
     "iopub.status.idle": "2024-06-12T07:05:18.064626Z",
     "shell.execute_reply": "2024-06-12T07:05:18.064056Z"
    }
   },
   "outputs": [],
   "source": [
    "rcParams = {\n",
    "    \"axes.titlesize\": 25,\n",
    "    \"axes.labelsize\": 30,\n",
    "    \"xtick.labelsize\": 28,\n",
    "    \"ytick.labelsize\": 28,\n",
    "    \"legend.fontsize\": 28,\n",
    "    \"axes.grid\": False,\n",
    "    \"savefig.bbox\": \"tight\",\n",
    "    \"lines.markersize\": 5,\n",
    "    \"font.family\": \"STIXgeneral\",\n",
    "    \"mathtext.fontset\": \"stix\",\n",
    "    \"font.serif\": \"STIX\",\n",
    "    \"text.usetex\": False,\n",
    "}"
   ]
  },
  {
   "cell_type": "code",
   "execution_count": 24,
   "id": "fb2d7a58",
   "metadata": {
    "execution": {
     "iopub.execute_input": "2024-06-12T07:05:18.066613Z",
     "iopub.status.busy": "2024-06-12T07:05:18.066440Z",
     "iopub.status.idle": "2024-06-12T07:05:18.256644Z",
     "shell.execute_reply": "2024-06-12T07:05:18.256109Z"
    }
   },
   "outputs": [
    {
     "data": {
      "image/png": "[encoded data removed]",
      "text/plain": [
       "<Figure size 1200x700 with 1 Axes>"
      ]
     },
     "metadata": {},
     "output_type": "display_data"
    }
   ],
   "source": [
    "fig, axes = plt.subplots(1, 1, sharex=True, figsize=(12, 7))\n",
    "\n",
    "with plt.rc_context(rcParams):\n",
    "    plt.yticks([P11RC, 0.6, 1.0], [0.38, 0.6, 1])\n",
    "\n",
    "    plot_result_expectations([\n",
    "        (resultBR, P11p, 'y-.', \"Bloch-Redfield\"),\n",
    "        (resultMats, P11p, 'b', \"Matsubara $N_k=3$\"),\n",
    "    ], axes=axes)\n",
    "    axes.plot(\n",
    "        tlist, [P11RC for t in tlist],\n",
    "        color='black', linestyle=\"-.\", linewidth=2,\n",
    "        label=\"Thermal state\",\n",
    "    )\n",
    "\n",
    "    axes.set_xlabel(r'$t \\Delta$', fontsize=30)\n",
    "    axes.set_ylabel(r'$\\rho_{11}$', fontsize=30)\n",
    "\n",
    "    axes.locator_params(axis='y', nbins=4)\n",
    "    axes.locator_params(axis='x', nbins=4)\n",
    "\n",
    "    axes.legend(loc=0)\n",
    "\n",
    "    fig.tight_layout()"
   ]
  },
  {
   "cell_type": "markdown",
   "id": "5a98fe75",
   "metadata": {},
   "source": [
    "## About"
   ]
  },
  {
   "cell_type": "code",
   "execution_count": 25,
   "id": "9d016c3f",
   "metadata": {
    "execution": {
     "iopub.execute_input": "2024-06-12T07:05:18.259209Z",
     "iopub.status.busy": "2024-06-12T07:05:18.258712Z",
     "iopub.status.idle": "2024-06-12T07:05:18.262163Z",
     "shell.execute_reply": "2024-06-12T07:05:18.261699Z"
    }
   },
   "outputs": [
    {
     "name": "stdout",
     "output_type": "stream",
     "text": [
      "\n",
      "QuTiP: Quantum Toolbox in Python\n",
      "================================\n",
      "Copyright (c) QuTiP team 2011 and later.\n",
      "Current admin team: Alexander Pitchford, Nathan Shammah, Shahnawaz Ahmed, Neill Lambert, Eric Giguère, Boxi Li, Jake Lishman, Simon Cross, Asier Galicia, Paul Menczel, and Patrick Hopf.\n",
      "Board members: Daniel Burgarth, Robert Johansson, Anton F. Kockum, Franco Nori and Will Zeng.\n",
      "Original developers: R. J. Johansson & P. D. Nation.\n",
      "Previous lead developers: Chris Granade & A. Grimsmo.\n",
      "Currently developed through wide collaboration. See https://github.com/qutip for details.\n",
      "\n",
      "QuTiP Version:      5.1.0.dev0+c874c4a\n",
      "Numpy Version:      1.22.4\n",
      "Scipy Version:      1.13.1\n",
      "Cython Version:     3.0.10\n",
      "Matplotlib Version: 3.5.2\n",
      "Python Version:     3.10.4\n",
      "Number of CPUs:     4\n",
      "BLAS Info:          Generic\n",
      "INTEL MKL Ext:      False\n",
      "Platform Info:      Linux (x86_64)\n",
      "Installation path:  /usr/share/miniconda3/envs/test-environment/lib/python3.10/site-packages/qutip\n",
      "================================================================================\n",
      "Please cite QuTiP in your publication.\n",
      "================================================================================\n",
      "For your convenience a bibtex reference can be easily generated using `qutip.cite()`\n"
     ]
    }
   ],
   "source": [
    "qutip.about()"
   ]
  },
  {
   "cell_type": "markdown",
   "id": "86de26a7",
   "metadata": {},
   "source": [
    "## Testing\n",
    "\n",
    "This section can include some tests to verify that the expected outputs are generated within the notebook. We put this section at the end of the notebook, so it's not interfering with the user experience. Please, define the tests using assert, so that the cell execution fails if a wrong output is generated."
   ]
  },
  {
   "cell_type": "code",
   "execution_count": 26,
   "id": "a43085ec",
   "metadata": {
    "execution": {
     "iopub.execute_input": "2024-06-12T07:05:18.264559Z",
     "iopub.status.busy": "2024-06-12T07:05:18.264009Z",
     "iopub.status.idle": "2024-06-12T07:05:18.268401Z",
     "shell.execute_reply": "2024-06-12T07:05:18.267886Z"
    }
   },
   "outputs": [],
   "source": [
    "assert np.allclose(\n",
    "    expect(P11p, resultMats.states[-100:]), P11RC, rtol=1e-2,\n",
    ")\n",
    "assert np.allclose(\n",
    "    expect(P11p, resultBR.states[-100:]), P11RC, rtol=1e-2,\n",
    ")"
   ]
  }
 ],
 "metadata": {
  "jupytext": {
   "formats": "ipynb,md:myst"
  },
  "kernelspec": {
   "display_name": "Python 3 (ipykernel)",
   "language": "python",
   "name": "python3"
  },
  "language_info": {
   "codemirror_mode": {
    "name": "ipython",
    "version": 3
   },
   "file_extension": ".py",
   "mimetype": "text/x-python",
   "name": "python",
   "nbconvert_exporter": "python",
   "pygments_lexer": "ipython3",
   "version": "3.10.4"
  }
 },
 "nbformat": 4,
 "nbformat_minor": 5
}
