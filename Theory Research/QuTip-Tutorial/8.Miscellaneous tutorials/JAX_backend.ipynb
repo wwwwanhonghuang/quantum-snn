{
 "cells": [
  {
   "cell_type": "markdown",
   "id": "59a45c33",
   "metadata": {},
   "source": [
    "# qutip-jax JAX backend for qutip\n",
    "\n",
    "JAX is a numpy like library that can run on a CPU, GPU and TPU and supports automatic differentiation.\n",
    "qutip-jax allows JAX array to be used to store `Qobj`'s data allowing qutip to run on GPU.\n",
    "\n",
    "This backend will work with all qutip functions, but some may convert data to other format without warning. For example using scipy ODE will convert the state to a numpy array.\n",
    "\n",
    "Support for `jit` and `grad` with qutip's functions is experimental. When using the right options, it is possible to run `mesolve` and `sesolve` on GPU with both compilation and auto-differentiation working. Many `Qobj` operations are also supported."
   ]
  },
  {
   "cell_type": "code",
   "execution_count": 1,
   "id": "35bc06ae",
   "metadata": {
    "execution": {
     "iopub.execute_input": "2024-06-12T07:11:26.573892Z",
     "iopub.status.busy": "2024-06-12T07:11:26.573725Z",
     "iopub.status.idle": "2024-06-12T07:11:27.845555Z",
     "shell.execute_reply": "2024-06-12T07:11:27.845015Z"
    }
   },
   "outputs": [],
   "source": [
    "import jax\n",
    "import qutip\n",
    "import qutip_jax  # noqa: F401"
   ]
  },
  {
   "cell_type": "markdown",
   "id": "1a843343",
   "metadata": {},
   "source": [
    "The JAX backend is activated by importing the `qutip_jax` module. \n",
    "Then the formats `jax` and `jaxdia` are added to know qutip data types.\n",
    "- `\"jax\"` stores the data as a dense Jax Array.\n",
    "- `\"jaxdia\"` represents sparse arrays in DIAgonal format."
   ]
  },
  {
   "cell_type": "code",
   "execution_count": 2,
   "id": "82bcb3f0",
   "metadata": {
    "execution": {
     "iopub.execute_input": "2024-06-12T07:11:27.847782Z",
     "iopub.status.busy": "2024-06-12T07:11:27.847548Z",
     "iopub.status.idle": "2024-06-12T07:11:27.941295Z",
     "shell.execute_reply": "2024-06-12T07:11:27.940766Z"
    }
   },
   "outputs": [
    {
     "data": {
      "text/plain": [
       "Array([[1.+0.j, 0.+0.j, 0.+0.j],\n",
       "       [0.+0.j, 1.+0.j, 0.+0.j],\n",
       "       [0.+0.j, 0.+0.j, 1.+0.j]], dtype=complex128)"
      ]
     },
     "execution_count": 2,
     "metadata": {},
     "output_type": "execute_result"
    }
   ],
   "source": [
    "# Creating jax Qobj using the dtype argument\n",
    "id_jax = qutip.qeye(3, dtype=\"jax\")\n",
    "id_jax.data_as(\"JaxArray\")"
   ]
  },
  {
   "cell_type": "code",
   "execution_count": 3,
   "id": "55f5f90e",
   "metadata": {
    "execution": {
     "iopub.execute_input": "2024-06-12T07:11:27.943443Z",
     "iopub.status.busy": "2024-06-12T07:11:27.943086Z",
     "iopub.status.idle": "2024-06-12T07:11:28.471457Z",
     "shell.execute_reply": "2024-06-12T07:11:28.470876Z"
    }
   },
   "outputs": [
    {
     "data": {
      "text/latex": [
       "Quantum object: dims=[[2, 3], [2, 3]], shape=(6, 6), type='oper', dtype=JaxDia, isherm=False$$\\left(\\begin{array}{cc}0 & 1 & 0 & 1 & 0 & 0\\\\0 & 0 & 1.414 & 0 & 1 & 0\\\\0 & 0 & 0 & 0 & 0 & 1\\\\1 & 0 & 0 & 0 & -1 & 0\\\\0 & 1 & 0 & 0 & 0 & -1.414\\\\0 & 0 & 1 & 0 & 0 & 0\\end{array}\\right)$$"
      ],
      "text/plain": [
       "Quantum object: dims=[[2, 3], [2, 3]], shape=(6, 6), type='oper', dtype=JaxDia, isherm=False\n",
       "Qobj data =\n",
       "[[ 0.          1.          0.          1.          0.          0.        ]\n",
       " [ 0.          0.          1.41421356  0.          1.          0.        ]\n",
       " [ 0.          0.          0.         -0.          0.          1.        ]\n",
       " [ 1.          0.          0.          0.         -1.          0.        ]\n",
       " [ 0.          1.          0.          0.          0.         -1.41421356]\n",
       " [ 0.          0.          1.          0.          0.          0.        ]]"
      ]
     },
     "execution_count": 3,
     "metadata": {},
     "output_type": "execute_result"
    }
   ],
   "source": [
    "# Creating jax Qobj using a context manager\n",
    "with qutip.CoreOptions(default_dtype=\"jaxdia\"):\n",
    "    id = qutip.qeye(3)\n",
    "    a = qutip.destroy(3)\n",
    "\n",
    "# Creating jax Qobj using manual conversion\n",
    "sz = qutip.sigmaz().to(\"jaxdia\")\n",
    "sx = qutip.sigmax().to(\"jaxdia\")\n",
    "\n",
    "# Once created, most operations will conserve the data format\n",
    "op = (sz & a) + (sx & id)\n",
    "op"
   ]
  },
  {
   "cell_type": "code",
   "execution_count": 4,
   "id": "5eee2a59",
   "metadata": {
    "execution": {
     "iopub.execute_input": "2024-06-12T07:11:28.473685Z",
     "iopub.status.busy": "2024-06-12T07:11:28.473316Z",
     "iopub.status.idle": "2024-06-12T07:11:28.542792Z",
     "shell.execute_reply": "2024-06-12T07:11:28.542227Z"
    }
   },
   "outputs": [
    {
     "data": {
      "text/plain": [
       "Array(0.08895882-0.13200356j, dtype=complex128)"
      ]
     },
     "execution_count": 4,
     "metadata": {},
     "output_type": "execute_result"
    }
   ],
   "source": [
    "# Many functions will do operations without converting its output to numpy\n",
    "qutip.expect(op, qutip.rand_dm([2, 3], dtype=\"jax\"))"
   ]
  },
  {
   "cell_type": "markdown",
   "id": "15bb9b64",
   "metadata": {},
   "source": [
    "`jit` can be used with most linear algebra functions:"
   ]
  },
  {
   "cell_type": "code",
   "execution_count": 5,
   "id": "e0c7255a",
   "metadata": {
    "execution": {
     "iopub.execute_input": "2024-06-12T07:11:28.544876Z",
     "iopub.status.busy": "2024-06-12T07:11:28.544574Z",
     "iopub.status.idle": "2024-06-12T07:11:50.122760Z",
     "shell.execute_reply": "2024-06-12T07:11:50.122155Z"
    }
   },
   "outputs": [
    {
     "name": "stdout",
     "output_type": "stream",
     "text": [
      "Quantum object: dims=[[3], [3]], shape=(3, 3), type='oper', dtype=JaxArray, isherm=True\n",
      "Qobj data =\n",
      "[[0.        +0.j         0.        +0.j         0.        +0.j        ]\n",
      " [0.        +0.j         0.0562946 +0.j         0.21669484-0.04908931j]\n",
      " [0.        +0.j         0.21669484+0.04908931j 2.13079604+0.j        ]]\n"
     ]
    },
    {
     "name": "stdout",
     "output_type": "stream",
     "text": [
      "105 μs ± 471 ns per loop (mean ± std. dev. of 7 runs, 10,000 loops each)\n"
     ]
    },
    {
     "name": "stdout",
     "output_type": "stream",
     "text": [
      "15.9 μs ± 40.6 ns per loop (mean ± std. dev. of 7 runs, 100,000 loops each)\n"
     ]
    }
   ],
   "source": [
    "op = qutip.num(3, dtype=\"jaxdia\")\n",
    "state = qutip.rand_dm(3, dtype=\"jax\")\n",
    "\n",
    "\n",
    "@jax.jit\n",
    "def f(op, state):\n",
    "    return op @ state @ op.dag()\n",
    "\n",
    "\n",
    "print(f(op, state))\n",
    "%timeit op @ state @ op.dag()\n",
    "%timeit f(op, state)"
   ]
  },
  {
   "cell_type": "markdown",
   "id": "6d47ec75",
   "metadata": {},
   "source": [
    "JAX can be used with `mesolve` and `sesolve` in a way that supports `jax.jit` and `jax.grad`, but specific options must be used:\n",
    "- The ODE solver from diffrax must be used instead of those provided by scipy.\n",
    "- `normalize_output` must be false\n",
    "- Coefficient for QobjEvo must be `jitted` function.\n",
    "- The isherm flag of e_ops must be pre-set.\n",
    "- The class interface must be used for `jit`\n",
    "- `e_data` must be used instead of expect for auto-differentiation.\n",
    "- All operators and states must use `jax` or `jaxdia` format."
   ]
  },
  {
   "cell_type": "code",
   "execution_count": 6,
   "id": "c7d1867c",
   "metadata": {
    "execution": {
     "iopub.execute_input": "2024-06-12T07:11:50.124834Z",
     "iopub.status.busy": "2024-06-12T07:11:50.124648Z",
     "iopub.status.idle": "2024-06-12T07:11:54.443990Z",
     "shell.execute_reply": "2024-06-12T07:11:54.443390Z"
    },
    "lines_to_next_cell": 2
   },
   "outputs": [
    {
     "name": "stderr",
     "output_type": "stream",
     "text": [
      "/usr/share/miniconda3/envs/test-environment/lib/python3.10/site-packages/equinox/_jit.py:49: UserWarning: Complex dtype support is work in progress, please read https://github.com/patrick-kidger/diffrax/pull/197 and proceed carefully.\n",
      "  out = fun(*args, **kwargs)\n"
     ]
    },
    {
     "data": {
      "text/plain": [
       "(Array(-9.6348726, dtype=float64, weak_type=True),)"
      ]
     },
     "execution_count": 6,
     "metadata": {},
     "output_type": "execute_result"
    }
   ],
   "source": [
    "@jax.jit\n",
    "def fp(t, w):\n",
    "    return jax.numpy.exp(1j * t * w)\n",
    "\n",
    "\n",
    "@jax.jit\n",
    "def fm(t, w):\n",
    "    return jax.numpy.exp(-1j * t * w)\n",
    "\n",
    "\n",
    "@jax.jit\n",
    "def cte(t, A):\n",
    "    return A\n",
    "\n",
    "\n",
    "with qutip.CoreOptions(default_dtype=\"jax\"):\n",
    "    H = qutip.num(10)\n",
    "    c_ops = [qutip.QobjEvo([qutip.destroy(10), fm], args={\"w\": 1.0})]\n",
    "\n",
    "H.isherm  # Precomputing the `isherm` flag\n",
    "\n",
    "solver = qutip.MESolver(\n",
    "    H, c_ops, options={\"method\": \"diffrax\", \"normalize_output\": False}\n",
    ")\n",
    "\n",
    "\n",
    "def final_expect(solver, rho0, t, w):\n",
    "    result = solver.run(rho0, [0, t], args={\"w\": w}, e_ops=H)\n",
    "    return result.e_data[0][-1].real\n",
    "\n",
    "\n",
    "dfinal_expect_dt = jax.jit(\n",
    "    jax.grad(final_expect, argnums=[2]), static_argnames=[\"solver\"]\n",
    ")\n",
    "\n",
    "# TODO: use dfinal_expect_dt instead of final_expect when qutip-jax bug-fix\n",
    "# dfinal_expect_dt(solver, qutip.basis(10, 8, dtype=\"jax\"), 0.1, 1.0)\n",
    "jax.grad(final_expect, argnums=[2])(solver, qutip.basis(10, 8, dtype=\"jax\"), 0.1, 1.0)"
   ]
  },
  {
   "cell_type": "code",
   "execution_count": 7,
   "id": "7d89a9c6",
   "metadata": {
    "execution": {
     "iopub.execute_input": "2024-06-12T07:11:54.446000Z",
     "iopub.status.busy": "2024-06-12T07:11:54.445813Z",
     "iopub.status.idle": "2024-06-12T07:11:54.449274Z",
     "shell.execute_reply": "2024-06-12T07:11:54.448799Z"
    },
    "lines_to_next_cell": 0
   },
   "outputs": [
    {
     "name": "stdout",
     "output_type": "stream",
     "text": [
      "\n",
      "QuTiP: Quantum Toolbox in Python\n",
      "================================\n",
      "Copyright (c) QuTiP team 2011 and later.\n",
      "Current admin team: Alexander Pitchford, Nathan Shammah, Shahnawaz Ahmed, Neill Lambert, Eric Giguère, Boxi Li, Jake Lishman, Simon Cross, Asier Galicia, Paul Menczel, and Patrick Hopf.\n",
      "Board members: Daniel Burgarth, Robert Johansson, Anton F. Kockum, Franco Nori and Will Zeng.\n",
      "Original developers: R. J. Johansson & P. D. Nation.\n",
      "Previous lead developers: Chris Granade & A. Grimsmo.\n",
      "Currently developed through wide collaboration. See https://github.com/qutip for details.\n",
      "\n",
      "QuTiP Version:      5.1.0.dev0+c874c4a\n",
      "Numpy Version:      1.22.4\n",
      "Scipy Version:      1.13.1\n",
      "Cython Version:     3.0.10\n",
      "Matplotlib Version: 3.5.2\n",
      "Python Version:     3.10.4\n",
      "Number of CPUs:     4\n",
      "BLAS Info:          Generic\n",
      "INTEL MKL Ext:      False\n",
      "Platform Info:      Linux (x86_64)\n",
      "Installation path:  /usr/share/miniconda3/envs/test-environment/lib/python3.10/site-packages/qutip\n",
      "================================================================================\n",
      "Please cite QuTiP in your publication.\n",
      "================================================================================\n",
      "For your convenience a bibtex reference can be easily generated using `qutip.cite()`\n"
     ]
    }
   ],
   "source": [
    "qutip.about()"
   ]
  },
  {
   "cell_type": "markdown",
   "id": "5b4cbdf7",
   "metadata": {},
   "source": []
  }
 ],
 "metadata": {
  "jupytext": {
   "cell_metadata_filter": "-all",
   "notebook_metadata_filter": "-jupytext.cell_metadata_filter,-jupytext.notebook_metadata_filter"
  },
  "kernelspec": {
   "display_name": "Python 3 (ipykernel)",
   "language": "python",
   "name": "python3"
  },
  "language_info": {
   "codemirror_mode": {
    "name": "ipython",
    "version": 3
   },
   "file_extension": ".py",
   "mimetype": "text/x-python",
   "name": "python",
   "nbconvert_exporter": "python",
   "pygments_lexer": "ipython3",
   "version": "3.10.4"
  }
 },
 "nbformat": 4,
 "nbformat_minor": 5
}
